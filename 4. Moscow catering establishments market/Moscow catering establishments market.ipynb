{
 "cells": [
  {
   "cell_type": "markdown",
   "metadata": {},
   "source": [
    "# Рынок заведений общественного питания Москвы"
   ]
  },
  {
   "cell_type": "markdown",
   "metadata": {},
   "source": [
    "**Содержание**\n",
    "\n",
    "[Описание проекта](#description)\n",
    "1. [Общая информация](#start)\n",
    "2. [Подготовка данных](#preprocessing)\n",
    "3. [Анализ данных](#analysis)   \n",
    "    3.1. [Соотношение видов объектов общественного питания по количеству](#1)     \n",
    "    3.2. [Соотношение сетевых и несетевых заведений по количеству](#2)    \n",
    "    3.3. [Для какого вида объекта общественного питания характерно сетевое распространение](#3)    \n",
    "    3.4. [Что характерно для сетевых заведений: много заведений с небольшим числом посадочных мест в каждом или мало заведений с большим количеством посадочных мест?](#4)  \n",
    "    3.5. [Какой вид объекта общественного питания предоставляет в среднем самое большое количество посадочных мест?](#5)  \n",
    "    3.6. [Топ-10 улиц по количеству объектов общественного питания](#6)  \n",
    "    3.7. [Число улиц с одним объектом общественного питания](#7)  \n",
    "    3.8. [Распределение количества посадочных мест для улиц с большим количеством объектов общественного питания](#8)  \n",
    "4. [Общие выводы](#conclusion)   "
   ]
  },
  {
   "cell_type": "markdown",
   "metadata": {},
   "source": [
    "## Описание проекта\n",
    "Вы решили открыть небольшое кафе в Москве. Оно оригинальное — гостей должны обслуживать роботы. Проект многообещающий, но дорогой. Вместе с партнёрами вы решились обратиться к инвесторам. Их интересует текущее положение дел на рынке — сможете ли вы снискать популярность на долгое время, когда все зеваки насмотрятся на роботов-официантов?  \n",
    "Вы — гуру аналитики, и партнёры просят вас подготовить исследование рынка. У вас есть открытые данные о заведениях общественного питания в Москве.  "
   ]
  },
  {
   "cell_type": "markdown",
   "metadata": {},
   "source": [
    "**План работ**\n",
    "\n",
    "**Шаг №1. Загрузить данные и подготовить их к анализу**  \n",
    "\n",
    "**Шаг №2. Анализ данных**  \n",
    "* Исследовать соотношение видов объектов общественного питания по количеству. Построить график.\n",
    "* Исследовать соотношение сетевых и несетевых заведений по количеству. Построить график.\n",
    "* Для какого вида объекта общественного питания характерно сетевое распространение?\n",
    "* Что характерно для сетевых заведений: много заведений с небольшим числом посадочных мест в каждом или мало заведений с большим количеством посадочных мест?\n",
    "* Для каждого вида объекта общественного питания описать среднее количество посадочных мест. Какой вид предоставляет в среднем самое большое количество посадочных мест? Построить графики.\n",
    "* Выделить в отдельный столбец информацию об улице из столбца `address`.\n",
    "* Построить график топ-10 улиц по количеству объектов общественного питания. Воспользоваться внешней информацией и ответить на вопрос — в каких районах Москвы находятся эти улицы?\n",
    "* Найти число улиц с одним объектом общественного питания. Воспользоваться внешней информацией и ответить на вопрос — в каких районах Москвы находятся эти улицы?\n",
    "* Посмотреть на распределение количества посадочных мест для улиц с большим количеством объектов общественного питания. Какие закономерности можно выявить?  \n",
    "\n",
    "Сделать общий вывод и дать рекомендации о виде заведения, количестве посадочных мест, а также районе расположения. Прокомментировать возможность развития сети. \n",
    "\n",
    "**Шаг №3. Подготовка презентации**  \n",
    "Подготовить презентацию исследования для инвесторов."
   ]
  },
  {
   "cell_type": "markdown",
   "metadata": {},
   "source": [
    "**Описание данных**\n",
    "\n",
    "Таблица `rest_data`:\n",
    "* `id` — идентификатор объекта;\n",
    "* `object_name` — название объекта общественного питания;\n",
    "* `chain` — сетевой ресторан;\n",
    "* `object_type` — тип объекта общественного питания;\n",
    "* `address` — адрес;\n",
    "* `number` — количество посадочных мест."
   ]
  },
  {
   "cell_type": "markdown",
   "metadata": {},
   "source": [
    "## 1. Общая информация <a id=\"start\"></a>"
   ]
  },
  {
   "cell_type": "code",
   "execution_count": 1,
   "metadata": {},
   "outputs": [],
   "source": [
    "import pandas as pd\n",
    "import numpy as np\n",
    "import matplotlib.pyplot as plt\n",
    "import seaborn as sns\n",
    "import re\n",
    "import requests\n",
    "from io import StringIO\n",
    "from collections import Counter\n",
    "\n",
    "plt.style.use('ggplot')\n",
    "sns.set_style(\"dark\") "
   ]
  },
  {
   "cell_type": "markdown",
   "metadata": {},
   "source": [
    "Загрузим данные об **объектах общественного питания** (далее - **ООП**) Москвы в таблицу и рассмотрим общую информацию о таблице."
   ]
  },
  {
   "cell_type": "code",
   "execution_count": 2,
   "metadata": {},
   "outputs": [
    {
     "data": {
      "text/html": [
       "<div>\n",
       "<style scoped>\n",
       "    .dataframe tbody tr th:only-of-type {\n",
       "        vertical-align: middle;\n",
       "    }\n",
       "\n",
       "    .dataframe tbody tr th {\n",
       "        vertical-align: top;\n",
       "    }\n",
       "\n",
       "    .dataframe thead th {\n",
       "        text-align: right;\n",
       "    }\n",
       "</style>\n",
       "<table border=\"1\" class=\"dataframe\">\n",
       "  <thead>\n",
       "    <tr style=\"text-align: right;\">\n",
       "      <th></th>\n",
       "      <th>id</th>\n",
       "      <th>object_name</th>\n",
       "      <th>chain</th>\n",
       "      <th>object_type</th>\n",
       "      <th>address</th>\n",
       "      <th>number</th>\n",
       "    </tr>\n",
       "  </thead>\n",
       "  <tbody>\n",
       "    <tr>\n",
       "      <td>0</td>\n",
       "      <td>151635</td>\n",
       "      <td>СМЕТАНА</td>\n",
       "      <td>нет</td>\n",
       "      <td>кафе</td>\n",
       "      <td>город Москва, улица Егора Абакумова, дом 9</td>\n",
       "      <td>48</td>\n",
       "    </tr>\n",
       "    <tr>\n",
       "      <td>1</td>\n",
       "      <td>77874</td>\n",
       "      <td>Родник</td>\n",
       "      <td>нет</td>\n",
       "      <td>кафе</td>\n",
       "      <td>город Москва, улица Талалихина, дом 2/1, корпус 1</td>\n",
       "      <td>35</td>\n",
       "    </tr>\n",
       "    <tr>\n",
       "      <td>2</td>\n",
       "      <td>24309</td>\n",
       "      <td>Кафе «Академия»</td>\n",
       "      <td>нет</td>\n",
       "      <td>кафе</td>\n",
       "      <td>город Москва, Абельмановская улица, дом 6</td>\n",
       "      <td>95</td>\n",
       "    </tr>\n",
       "    <tr>\n",
       "      <td>3</td>\n",
       "      <td>21894</td>\n",
       "      <td>ПИЦЦЕТОРИЯ</td>\n",
       "      <td>да</td>\n",
       "      <td>кафе</td>\n",
       "      <td>город Москва, Абрамцевская улица, дом 1</td>\n",
       "      <td>40</td>\n",
       "    </tr>\n",
       "    <tr>\n",
       "      <td>4</td>\n",
       "      <td>119365</td>\n",
       "      <td>Кафе «Вишневая метель»</td>\n",
       "      <td>нет</td>\n",
       "      <td>кафе</td>\n",
       "      <td>город Москва, Абрамцевская улица, дом 9, корпус 1</td>\n",
       "      <td>50</td>\n",
       "    </tr>\n",
       "    <tr>\n",
       "      <td>5</td>\n",
       "      <td>27429</td>\n",
       "      <td>СТОЛ. ПРИ ГОУ СОШ № 1051</td>\n",
       "      <td>нет</td>\n",
       "      <td>столовая</td>\n",
       "      <td>город Москва, Абрамцевская улица, дом 15, корпус 1</td>\n",
       "      <td>240</td>\n",
       "    </tr>\n",
       "    <tr>\n",
       "      <td>6</td>\n",
       "      <td>148815</td>\n",
       "      <td>Брусника</td>\n",
       "      <td>да</td>\n",
       "      <td>кафе</td>\n",
       "      <td>город Москва, переулок Сивцев Вражек, дом 6/2</td>\n",
       "      <td>10</td>\n",
       "    </tr>\n",
       "    <tr>\n",
       "      <td>7</td>\n",
       "      <td>20957</td>\n",
       "      <td>Буфет МТУСИ</td>\n",
       "      <td>нет</td>\n",
       "      <td>столовая</td>\n",
       "      <td>город Москва, Авиамоторная улица, дом 8, строение 1</td>\n",
       "      <td>90</td>\n",
       "    </tr>\n",
       "    <tr>\n",
       "      <td>8</td>\n",
       "      <td>20958</td>\n",
       "      <td>КПФ СЕМЬЯ-1</td>\n",
       "      <td>нет</td>\n",
       "      <td>столовая</td>\n",
       "      <td>город Москва, Авиамоторная улица, дом 8, строение 1</td>\n",
       "      <td>150</td>\n",
       "    </tr>\n",
       "    <tr>\n",
       "      <td>9</td>\n",
       "      <td>28858</td>\n",
       "      <td>Столовая МТУСИ</td>\n",
       "      <td>нет</td>\n",
       "      <td>столовая</td>\n",
       "      <td>город Москва, Авиамоторная улица, дом 8, строение 1</td>\n",
       "      <td>120</td>\n",
       "    </tr>\n",
       "  </tbody>\n",
       "</table>\n",
       "</div>"
      ],
      "text/plain": [
       "       id               object_name chain object_type  \\\n",
       "0  151635                   СМЕТАНА   нет        кафе   \n",
       "1   77874                    Родник   нет        кафе   \n",
       "2   24309           Кафе «Академия»   нет        кафе   \n",
       "3   21894                ПИЦЦЕТОРИЯ    да        кафе   \n",
       "4  119365    Кафе «Вишневая метель»   нет        кафе   \n",
       "5   27429  СТОЛ. ПРИ ГОУ СОШ № 1051   нет    столовая   \n",
       "6  148815                  Брусника    да        кафе   \n",
       "7   20957               Буфет МТУСИ   нет    столовая   \n",
       "8   20958               КПФ СЕМЬЯ-1   нет    столовая   \n",
       "9   28858            Столовая МТУСИ   нет    столовая   \n",
       "\n",
       "                                               address  number  \n",
       "0           город Москва, улица Егора Абакумова, дом 9      48  \n",
       "1    город Москва, улица Талалихина, дом 2/1, корпус 1      35  \n",
       "2            город Москва, Абельмановская улица, дом 6      95  \n",
       "3              город Москва, Абрамцевская улица, дом 1      40  \n",
       "4    город Москва, Абрамцевская улица, дом 9, корпус 1      50  \n",
       "5   город Москва, Абрамцевская улица, дом 15, корпус 1     240  \n",
       "6        город Москва, переулок Сивцев Вражек, дом 6/2      10  \n",
       "7  город Москва, Авиамоторная улица, дом 8, строение 1      90  \n",
       "8  город Москва, Авиамоторная улица, дом 8, строение 1     150  \n",
       "9  город Москва, Авиамоторная улица, дом 8, строение 1     120  "
      ]
     },
     "execution_count": 2,
     "metadata": {},
     "output_type": "execute_result"
    }
   ],
   "source": [
    "df = pd.read_csv('/datasets/rest_data.csv')\n",
    "pd.set_option('max_colwidth', 100)\n",
    "df.head(10)"
   ]
  },
  {
   "cell_type": "code",
   "execution_count": 3,
   "metadata": {},
   "outputs": [
    {
     "name": "stdout",
     "output_type": "stream",
     "text": [
      "<class 'pandas.core.frame.DataFrame'>\n",
      "RangeIndex: 15366 entries, 0 to 15365\n",
      "Data columns (total 6 columns):\n",
      "id             15366 non-null int64\n",
      "object_name    15366 non-null object\n",
      "chain          15366 non-null object\n",
      "object_type    15366 non-null object\n",
      "address        15366 non-null object\n",
      "number         15366 non-null int64\n",
      "dtypes: int64(2), object(4)\n",
      "memory usage: 720.4+ KB\n"
     ]
    }
   ],
   "source": [
    "df.info()"
   ]
  },
  {
   "cell_type": "code",
   "execution_count": 4,
   "metadata": {},
   "outputs": [
    {
     "data": {
      "text/html": [
       "<div>\n",
       "<style scoped>\n",
       "    .dataframe tbody tr th:only-of-type {\n",
       "        vertical-align: middle;\n",
       "    }\n",
       "\n",
       "    .dataframe tbody tr th {\n",
       "        vertical-align: top;\n",
       "    }\n",
       "\n",
       "    .dataframe thead th {\n",
       "        text-align: right;\n",
       "    }\n",
       "</style>\n",
       "<table border=\"1\" class=\"dataframe\">\n",
       "  <thead>\n",
       "    <tr style=\"text-align: right;\">\n",
       "      <th></th>\n",
       "      <th>id</th>\n",
       "      <th>number</th>\n",
       "    </tr>\n",
       "  </thead>\n",
       "  <tbody>\n",
       "    <tr>\n",
       "      <td>count</td>\n",
       "      <td>15366.000000</td>\n",
       "      <td>15366.000000</td>\n",
       "    </tr>\n",
       "    <tr>\n",
       "      <td>mean</td>\n",
       "      <td>119720.066901</td>\n",
       "      <td>59.547182</td>\n",
       "    </tr>\n",
       "    <tr>\n",
       "      <td>std</td>\n",
       "      <td>73036.130732</td>\n",
       "      <td>74.736833</td>\n",
       "    </tr>\n",
       "    <tr>\n",
       "      <td>min</td>\n",
       "      <td>838.000000</td>\n",
       "      <td>0.000000</td>\n",
       "    </tr>\n",
       "    <tr>\n",
       "      <td>25%</td>\n",
       "      <td>28524.000000</td>\n",
       "      <td>12.000000</td>\n",
       "    </tr>\n",
       "    <tr>\n",
       "      <td>50%</td>\n",
       "      <td>144974.500000</td>\n",
       "      <td>40.000000</td>\n",
       "    </tr>\n",
       "    <tr>\n",
       "      <td>75%</td>\n",
       "      <td>184262.250000</td>\n",
       "      <td>80.000000</td>\n",
       "    </tr>\n",
       "    <tr>\n",
       "      <td>max</td>\n",
       "      <td>223439.000000</td>\n",
       "      <td>1700.000000</td>\n",
       "    </tr>\n",
       "  </tbody>\n",
       "</table>\n",
       "</div>"
      ],
      "text/plain": [
       "                  id        number\n",
       "count   15366.000000  15366.000000\n",
       "mean   119720.066901     59.547182\n",
       "std     73036.130732     74.736833\n",
       "min       838.000000      0.000000\n",
       "25%     28524.000000     12.000000\n",
       "50%    144974.500000     40.000000\n",
       "75%    184262.250000     80.000000\n",
       "max    223439.000000   1700.000000"
      ]
     },
     "execution_count": 4,
     "metadata": {},
     "output_type": "execute_result"
    }
   ],
   "source": [
    "df.describe()"
   ]
  },
  {
   "cell_type": "markdown",
   "metadata": {},
   "source": [
    "Рассмотрим уникальные значения в столбцах `object_type` и `chain`."
   ]
  },
  {
   "cell_type": "code",
   "execution_count": 5,
   "metadata": {},
   "outputs": [
    {
     "data": {
      "text/plain": [
       "array(['кафе', 'столовая', 'закусочная',\n",
       "       'предприятие быстрого обслуживания', 'ресторан', 'кафетерий',\n",
       "       'буфет', 'бар', 'магазин (отдел кулинарии)'], dtype=object)"
      ]
     },
     "execution_count": 5,
     "metadata": {},
     "output_type": "execute_result"
    }
   ],
   "source": [
    "df['object_type'].unique()"
   ]
  },
  {
   "cell_type": "code",
   "execution_count": 6,
   "metadata": {},
   "outputs": [
    {
     "data": {
      "text/plain": [
       "array(['нет', 'да'], dtype=object)"
      ]
     },
     "execution_count": 6,
     "metadata": {},
     "output_type": "execute_result"
    }
   ],
   "source": [
    "df['chain'].unique()"
   ]
  },
  {
   "cell_type": "markdown",
   "metadata": {},
   "source": [
    "### Вывод\n",
    "В таблице отсутствуют пропуски и типы данных соответствуют содержимому.  \n",
    "Для поиска дубликатов необходимо привести названия объектов к нижнему регистру. Кроме того, названия некоторых заведений записаны в кавычках и с типом объекта, например, Кафе «Академия». Т.к. тип объекта может присутствовать в названии, как в Буфет МТУСИ и Столовая МТУСИ, то тип объекта в названии оставим, а кавычки удалим. \n",
    "\n",
    "План подготовки данных для анализа:  \n",
    "\n",
    "* привести названия и адрес к нижнему регистру,\n",
    "* удалить кавычки из названий объектов,\n",
    "* проверить наличие дубликатов."
   ]
  },
  {
   "cell_type": "markdown",
   "metadata": {},
   "source": [
    "## 2. Подготовка данных <a id=\"preprocessing\"></a>"
   ]
  },
  {
   "cell_type": "markdown",
   "metadata": {},
   "source": [
    "Приведем названия и адреса объектов к нижнему регистру и удалим кавычки из названий."
   ]
  },
  {
   "cell_type": "code",
   "execution_count": 7,
   "metadata": {},
   "outputs": [
    {
     "data": {
      "text/html": [
       "<div>\n",
       "<style scoped>\n",
       "    .dataframe tbody tr th:only-of-type {\n",
       "        vertical-align: middle;\n",
       "    }\n",
       "\n",
       "    .dataframe tbody tr th {\n",
       "        vertical-align: top;\n",
       "    }\n",
       "\n",
       "    .dataframe thead th {\n",
       "        text-align: right;\n",
       "    }\n",
       "</style>\n",
       "<table border=\"1\" class=\"dataframe\">\n",
       "  <thead>\n",
       "    <tr style=\"text-align: right;\">\n",
       "      <th></th>\n",
       "      <th>id</th>\n",
       "      <th>object_name</th>\n",
       "      <th>chain</th>\n",
       "      <th>object_type</th>\n",
       "      <th>address</th>\n",
       "      <th>number</th>\n",
       "      <th>object_name_lower</th>\n",
       "      <th>address_lower</th>\n",
       "    </tr>\n",
       "  </thead>\n",
       "  <tbody>\n",
       "    <tr>\n",
       "      <td>0</td>\n",
       "      <td>151635</td>\n",
       "      <td>СМЕТАНА</td>\n",
       "      <td>нет</td>\n",
       "      <td>кафе</td>\n",
       "      <td>город Москва, улица Егора Абакумова, дом 9</td>\n",
       "      <td>48</td>\n",
       "      <td>сметана</td>\n",
       "      <td>город москва, улица егора абакумова, дом 9</td>\n",
       "    </tr>\n",
       "    <tr>\n",
       "      <td>1</td>\n",
       "      <td>77874</td>\n",
       "      <td>Родник</td>\n",
       "      <td>нет</td>\n",
       "      <td>кафе</td>\n",
       "      <td>город Москва, улица Талалихина, дом 2/1, корпус 1</td>\n",
       "      <td>35</td>\n",
       "      <td>родник</td>\n",
       "      <td>город москва, улица талалихина, дом 2/1, корпус 1</td>\n",
       "    </tr>\n",
       "    <tr>\n",
       "      <td>2</td>\n",
       "      <td>24309</td>\n",
       "      <td>Кафе «Академия»</td>\n",
       "      <td>нет</td>\n",
       "      <td>кафе</td>\n",
       "      <td>город Москва, Абельмановская улица, дом 6</td>\n",
       "      <td>95</td>\n",
       "      <td>кафе академия</td>\n",
       "      <td>город москва, абельмановская улица, дом 6</td>\n",
       "    </tr>\n",
       "    <tr>\n",
       "      <td>3</td>\n",
       "      <td>21894</td>\n",
       "      <td>ПИЦЦЕТОРИЯ</td>\n",
       "      <td>да</td>\n",
       "      <td>кафе</td>\n",
       "      <td>город Москва, Абрамцевская улица, дом 1</td>\n",
       "      <td>40</td>\n",
       "      <td>пиццетория</td>\n",
       "      <td>город москва, абрамцевская улица, дом 1</td>\n",
       "    </tr>\n",
       "    <tr>\n",
       "      <td>4</td>\n",
       "      <td>119365</td>\n",
       "      <td>Кафе «Вишневая метель»</td>\n",
       "      <td>нет</td>\n",
       "      <td>кафе</td>\n",
       "      <td>город Москва, Абрамцевская улица, дом 9, корпус 1</td>\n",
       "      <td>50</td>\n",
       "      <td>кафе вишневая метель</td>\n",
       "      <td>город москва, абрамцевская улица, дом 9, корпус 1</td>\n",
       "    </tr>\n",
       "  </tbody>\n",
       "</table>\n",
       "</div>"
      ],
      "text/plain": [
       "       id             object_name chain object_type  \\\n",
       "0  151635                 СМЕТАНА   нет        кафе   \n",
       "1   77874                  Родник   нет        кафе   \n",
       "2   24309         Кафе «Академия»   нет        кафе   \n",
       "3   21894              ПИЦЦЕТОРИЯ    да        кафе   \n",
       "4  119365  Кафе «Вишневая метель»   нет        кафе   \n",
       "\n",
       "                                             address  number  \\\n",
       "0         город Москва, улица Егора Абакумова, дом 9      48   \n",
       "1  город Москва, улица Талалихина, дом 2/1, корпус 1      35   \n",
       "2          город Москва, Абельмановская улица, дом 6      95   \n",
       "3            город Москва, Абрамцевская улица, дом 1      40   \n",
       "4  город Москва, Абрамцевская улица, дом 9, корпус 1      50   \n",
       "\n",
       "      object_name_lower                                      address_lower  \n",
       "0               сметана         город москва, улица егора абакумова, дом 9  \n",
       "1                родник  город москва, улица талалихина, дом 2/1, корпус 1  \n",
       "2         кафе академия          город москва, абельмановская улица, дом 6  \n",
       "3            пиццетория            город москва, абрамцевская улица, дом 1  \n",
       "4  кафе вишневая метель  город москва, абрамцевская улица, дом 9, корпус 1  "
      ]
     },
     "execution_count": 7,
     "metadata": {},
     "output_type": "execute_result"
    }
   ],
   "source": [
    "df['object_name_lower'] = df['object_name'].str.lower()\n",
    "df['address_lower'] = df['address'].str.lower()\n",
    "\n",
    "df['object_name_lower'] = df['object_name_lower'].str.replace('«', '')\n",
    "df['object_name_lower'] = df['object_name_lower'].str.replace('»', '')\n",
    "\n",
    "df.head()"
   ]
  },
  {
   "cell_type": "markdown",
   "metadata": {},
   "source": [
    "Проверим наличие дубликатов."
   ]
  },
  {
   "cell_type": "code",
   "execution_count": 8,
   "metadata": {},
   "outputs": [
    {
     "data": {
      "text/plain": [
       "0"
      ]
     },
     "execution_count": 8,
     "metadata": {},
     "output_type": "execute_result"
    }
   ],
   "source": [
    "df.duplicated().sum()"
   ]
  },
  {
   "cell_type": "code",
   "execution_count": 9,
   "metadata": {},
   "outputs": [
    {
     "data": {
      "text/plain": [
       "85"
      ]
     },
     "execution_count": 9,
     "metadata": {},
     "output_type": "execute_result"
    }
   ],
   "source": [
    "df.duplicated(subset=['object_name_lower', 'chain', 'object_type', 'address_lower', 'number']).sum()"
   ]
  },
  {
   "cell_type": "markdown",
   "metadata": {},
   "source": [
    "Удалим дубликаты объектов."
   ]
  },
  {
   "cell_type": "code",
   "execution_count": 10,
   "metadata": {},
   "outputs": [
    {
     "name": "stdout",
     "output_type": "stream",
     "text": [
      "<class 'pandas.core.frame.DataFrame'>\n",
      "Int64Index: 15281 entries, 0 to 15365\n",
      "Data columns (total 8 columns):\n",
      "id                   15281 non-null int64\n",
      "object_name          15281 non-null object\n",
      "chain                15281 non-null object\n",
      "object_type          15281 non-null object\n",
      "address              15281 non-null object\n",
      "number               15281 non-null int64\n",
      "object_name_lower    15281 non-null object\n",
      "address_lower        15281 non-null object\n",
      "dtypes: int64(2), object(6)\n",
      "memory usage: 1.0+ MB\n"
     ]
    }
   ],
   "source": [
    "df = df.drop_duplicates(subset = ['object_name_lower', 'chain', 'object_type', 'address_lower', 'number'])\n",
    "df.info()"
   ]
  },
  {
   "cell_type": "markdown",
   "metadata": {},
   "source": [
    "### Вывод\n",
    "Из таблицы удалены 85 дубликатов объектов общественного питания."
   ]
  },
  {
   "cell_type": "markdown",
   "metadata": {},
   "source": [
    "## 3. Анализ данных <a id=\"analysis\"></a>"
   ]
  },
  {
   "cell_type": "markdown",
   "metadata": {},
   "source": [
    "### 3.1. Соотношение видов объектов общественного питания по количеству <a id=\"1\"></a>"
   ]
  },
  {
   "cell_type": "markdown",
   "metadata": {},
   "source": [
    "Сосчитаем количество объектов по типам ООП."
   ]
  },
  {
   "cell_type": "code",
   "execution_count": 11,
   "metadata": {},
   "outputs": [
    {
     "data": {
      "text/html": [
       "<div>\n",
       "<style scoped>\n",
       "    .dataframe tbody tr th:only-of-type {\n",
       "        vertical-align: middle;\n",
       "    }\n",
       "\n",
       "    .dataframe tbody tr th {\n",
       "        vertical-align: top;\n",
       "    }\n",
       "\n",
       "    .dataframe thead th {\n",
       "        text-align: right;\n",
       "    }\n",
       "</style>\n",
       "<table border=\"1\" class=\"dataframe\">\n",
       "  <thead>\n",
       "    <tr style=\"text-align: right;\">\n",
       "      <th></th>\n",
       "      <th>object_type</th>\n",
       "      <th>id</th>\n",
       "    </tr>\n",
       "  </thead>\n",
       "  <tbody>\n",
       "    <tr>\n",
       "      <td>0</td>\n",
       "      <td>кафе</td>\n",
       "      <td>6071</td>\n",
       "    </tr>\n",
       "    <tr>\n",
       "      <td>1</td>\n",
       "      <td>столовая</td>\n",
       "      <td>2584</td>\n",
       "    </tr>\n",
       "    <tr>\n",
       "      <td>2</td>\n",
       "      <td>ресторан</td>\n",
       "      <td>2282</td>\n",
       "    </tr>\n",
       "    <tr>\n",
       "      <td>3</td>\n",
       "      <td>предприятие быстрого обслуживания</td>\n",
       "      <td>1897</td>\n",
       "    </tr>\n",
       "    <tr>\n",
       "      <td>4</td>\n",
       "      <td>бар</td>\n",
       "      <td>855</td>\n",
       "    </tr>\n",
       "    <tr>\n",
       "      <td>5</td>\n",
       "      <td>буфет</td>\n",
       "      <td>576</td>\n",
       "    </tr>\n",
       "    <tr>\n",
       "      <td>6</td>\n",
       "      <td>кафетерий</td>\n",
       "      <td>395</td>\n",
       "    </tr>\n",
       "    <tr>\n",
       "      <td>7</td>\n",
       "      <td>закусочная</td>\n",
       "      <td>348</td>\n",
       "    </tr>\n",
       "    <tr>\n",
       "      <td>8</td>\n",
       "      <td>магазин (отдел кулинарии)</td>\n",
       "      <td>273</td>\n",
       "    </tr>\n",
       "  </tbody>\n",
       "</table>\n",
       "</div>"
      ],
      "text/plain": [
       "                         object_type    id\n",
       "0                               кафе  6071\n",
       "1                           столовая  2584\n",
       "2                           ресторан  2282\n",
       "3  предприятие быстрого обслуживания  1897\n",
       "4                                бар   855\n",
       "5                              буфет   576\n",
       "6                          кафетерий   395\n",
       "7                         закусочная   348\n",
       "8          магазин (отдел кулинарии)   273"
      ]
     },
     "execution_count": 11,
     "metadata": {},
     "output_type": "execute_result"
    }
   ],
   "source": [
    "objects_count_by_type = df.groupby('object_type')['id'].count().sort_values(ascending=False)\n",
    "objects_count_by_type.reset_index()"
   ]
  },
  {
   "cell_type": "code",
   "execution_count": 12,
   "metadata": {},
   "outputs": [
    {
     "data": {
      "image/png": "[encoded data removed]",
      "text/plain": [
       "<Figure size 864x504 with 1 Axes>"
      ]
     },
     "metadata": {},
     "output_type": "display_data"
    }
   ],
   "source": [
    "plt.figure(figsize=(12, 7))\n",
    "\n",
    "ax=sns.barplot(x = 'id', y = 'object_type', data = objects_count_by_type.reset_index())\n",
    "\n",
    "plt.title('Количество объектов общественного питания по типам', fontsize = 15)\n",
    "plt.xlabel('Количество объектов', fontsize=12)\n",
    "plt.ylabel('Тип объекта общественного питания', fontsize=12)\n",
    "labels = ['кафе', 'столовая', 'ресторан',\n",
    "       'предприятие\\nбыстрого обслуживания', 'бар', 'буфет', 'кафетерий',\n",
    "       'закусочная', 'магазин\\n(отдел кулинарии)']\n",
    "ax.set_yticklabels(labels,\n",
    "                   fontsize = 11)\n",
    "\n",
    "\n",
    "plt.show()"
   ]
  },
  {
   "cell_type": "code",
   "execution_count": 13,
   "metadata": {},
   "outputs": [
    {
     "data": {
      "image/png": "[encoded data removed]",
      "text/plain": [
       "<Figure size 576x576 with 1 Axes>"
      ]
     },
     "metadata": {},
     "output_type": "display_data"
    }
   ],
   "source": [
    "objects_count_by_type.plot(kind = 'pie', subplots = True, figsize = (8, 8), autopct = '%1.1f%%')\n",
    "\n",
    "plt.title('Соотношение типов объектов общественного питания по количеству', fontsize = 15)\n",
    "plt.ylabel('')\n",
    "\n",
    "plt.show()"
   ]
  },
  {
   "cell_type": "markdown",
   "metadata": {},
   "source": [
    "#### Вывод\n",
    "Количество объектов с типом  \"кафе\" - 6071, почти 40% от общего числа объектов в Москве. На втором месте по количеству объектов тип \"столовая\" - 17%, на третьем - \"ресторан\" - 15%. Возможно кафе занимают большую долю рынка за счет популярности таких заведений у большего числа потребителей, а также большей прибыльностью по сравнению с другими типами ООП."
   ]
  },
  {
   "cell_type": "markdown",
   "metadata": {},
   "source": [
    "### 3.2. Соотношение сетевых и несетевых заведений по количеству <a id=\"2\"></a>"
   ]
  },
  {
   "cell_type": "markdown",
   "metadata": {},
   "source": [
    "Рассмотрим количество сетевых и несетевых объектов."
   ]
  },
  {
   "cell_type": "code",
   "execution_count": 14,
   "metadata": {},
   "outputs": [
    {
     "data": {
      "image/png": "[encoded data removed]",
      "text/plain": [
       "<Figure size 792x360 with 1 Axes>"
      ]
     },
     "metadata": {},
     "output_type": "display_data"
    }
   ],
   "source": [
    "plt.figure(figsize = (11, 5))\n",
    "\n",
    "ax = sns.countplot(y = 'chain', data = df)\n",
    "\n",
    "plt.title('Количество сетевых и несетевых заведений', fontsize = 15)\n",
    "plt.xlabel('Количество объектов', fontsize = 12)\n",
    "plt.ylabel('Типы заведений', fontsize = 12)\n",
    "ax.set_yticklabels(['Несетевые', 'Сетевые'], fontsize = 11)\n",
    "\n",
    "plt.show()"
   ]
  },
  {
   "cell_type": "code",
   "execution_count": 15,
   "metadata": {},
   "outputs": [
    {
     "data": {
      "text/plain": [
       "chain\n",
       "нет    12317\n",
       "да      2964\n",
       "Name: id, dtype: int64"
      ]
     },
     "execution_count": 15,
     "metadata": {},
     "output_type": "execute_result"
    }
   ],
   "source": [
    "objects_count_by_chain = df.groupby('chain')['id'].count().sort_values(ascending = False)\n",
    "objects_count_by_chain"
   ]
  },
  {
   "cell_type": "code",
   "execution_count": 16,
   "metadata": {},
   "outputs": [
    {
     "data": {
      "image/png": "[encoded data removed]",
      "text/plain": [
       "<Figure size 576x576 with 1 Axes>"
      ]
     },
     "metadata": {},
     "output_type": "display_data"
    }
   ],
   "source": [
    "labels = ['Несетевые', 'Сетевые']\n",
    "\n",
    "objects_count_by_chain.plot(kind = 'pie', subplots = True, figsize = (8, 8), autopct = '%1.1f%%', labels = labels)\n",
    "\n",
    "plt.title('Соотношение сетевых и несетевых заведений по количеству', fontsize = 15)\n",
    "plt.ylabel('')\n",
    "\n",
    "plt.show()"
   ]
  },
  {
   "cell_type": "markdown",
   "metadata": {},
   "source": [
    "#### Вывод\n",
    "К несетевым ООП относятся 12317 объектов, или 80,6%. Сетевых объектов в 4 раза меньше - 2964 объекта. Скорее всего открытие сетевых объектов более сложное и затратное предприятие, на которое решаются малое количество предпринимателей."
   ]
  },
  {
   "cell_type": "markdown",
   "metadata": {},
   "source": [
    "### 3.3. Для какого вида объекта общественного питания характерно сетевое распространение <a id=\"3\"></a>"
   ]
  },
  {
   "cell_type": "markdown",
   "metadata": {},
   "source": [
    "Рассмотрим количество сетевых и несетевых объектов по типам и рассмотрим, какую долю занимают сетевые объекты среди заведений каждого типа."
   ]
  },
  {
   "cell_type": "code",
   "execution_count": 17,
   "metadata": {},
   "outputs": [
    {
     "data": {
      "text/html": [
       "<div>\n",
       "<style scoped>\n",
       "    .dataframe tbody tr th:only-of-type {\n",
       "        vertical-align: middle;\n",
       "    }\n",
       "\n",
       "    .dataframe tbody tr th {\n",
       "        vertical-align: top;\n",
       "    }\n",
       "\n",
       "    .dataframe thead th {\n",
       "        text-align: right;\n",
       "    }\n",
       "</style>\n",
       "<table border=\"1\" class=\"dataframe\">\n",
       "  <thead>\n",
       "    <tr style=\"text-align: right;\">\n",
       "      <th></th>\n",
       "      <th>object_type</th>\n",
       "      <th>chain</th>\n",
       "      <th>count</th>\n",
       "      <th>total</th>\n",
       "      <th>ratio</th>\n",
       "    </tr>\n",
       "  </thead>\n",
       "  <tbody>\n",
       "    <tr>\n",
       "      <td>0</td>\n",
       "      <td>бар</td>\n",
       "      <td>да</td>\n",
       "      <td>37</td>\n",
       "      <td>855</td>\n",
       "      <td>0.043275</td>\n",
       "    </tr>\n",
       "    <tr>\n",
       "      <td>1</td>\n",
       "      <td>бар</td>\n",
       "      <td>нет</td>\n",
       "      <td>818</td>\n",
       "      <td>855</td>\n",
       "      <td>0.956725</td>\n",
       "    </tr>\n",
       "    <tr>\n",
       "      <td>2</td>\n",
       "      <td>буфет</td>\n",
       "      <td>да</td>\n",
       "      <td>11</td>\n",
       "      <td>576</td>\n",
       "      <td>0.019097</td>\n",
       "    </tr>\n",
       "    <tr>\n",
       "      <td>3</td>\n",
       "      <td>буфет</td>\n",
       "      <td>нет</td>\n",
       "      <td>565</td>\n",
       "      <td>576</td>\n",
       "      <td>0.980903</td>\n",
       "    </tr>\n",
       "    <tr>\n",
       "      <td>4</td>\n",
       "      <td>закусочная</td>\n",
       "      <td>да</td>\n",
       "      <td>56</td>\n",
       "      <td>348</td>\n",
       "      <td>0.160920</td>\n",
       "    </tr>\n",
       "    <tr>\n",
       "      <td>5</td>\n",
       "      <td>закусочная</td>\n",
       "      <td>нет</td>\n",
       "      <td>292</td>\n",
       "      <td>348</td>\n",
       "      <td>0.839080</td>\n",
       "    </tr>\n",
       "    <tr>\n",
       "      <td>6</td>\n",
       "      <td>кафе</td>\n",
       "      <td>да</td>\n",
       "      <td>1396</td>\n",
       "      <td>6071</td>\n",
       "      <td>0.229946</td>\n",
       "    </tr>\n",
       "    <tr>\n",
       "      <td>7</td>\n",
       "      <td>кафе</td>\n",
       "      <td>нет</td>\n",
       "      <td>4675</td>\n",
       "      <td>6071</td>\n",
       "      <td>0.770054</td>\n",
       "    </tr>\n",
       "    <tr>\n",
       "      <td>8</td>\n",
       "      <td>кафетерий</td>\n",
       "      <td>да</td>\n",
       "      <td>52</td>\n",
       "      <td>395</td>\n",
       "      <td>0.131646</td>\n",
       "    </tr>\n",
       "    <tr>\n",
       "      <td>9</td>\n",
       "      <td>кафетерий</td>\n",
       "      <td>нет</td>\n",
       "      <td>343</td>\n",
       "      <td>395</td>\n",
       "      <td>0.868354</td>\n",
       "    </tr>\n",
       "    <tr>\n",
       "      <td>10</td>\n",
       "      <td>магазин (отдел кулинарии)</td>\n",
       "      <td>да</td>\n",
       "      <td>78</td>\n",
       "      <td>273</td>\n",
       "      <td>0.285714</td>\n",
       "    </tr>\n",
       "    <tr>\n",
       "      <td>11</td>\n",
       "      <td>магазин (отдел кулинарии)</td>\n",
       "      <td>нет</td>\n",
       "      <td>195</td>\n",
       "      <td>273</td>\n",
       "      <td>0.714286</td>\n",
       "    </tr>\n",
       "    <tr>\n",
       "      <td>12</td>\n",
       "      <td>предприятие быстрого обслуживания</td>\n",
       "      <td>да</td>\n",
       "      <td>788</td>\n",
       "      <td>1897</td>\n",
       "      <td>0.415393</td>\n",
       "    </tr>\n",
       "    <tr>\n",
       "      <td>13</td>\n",
       "      <td>предприятие быстрого обслуживания</td>\n",
       "      <td>нет</td>\n",
       "      <td>1109</td>\n",
       "      <td>1897</td>\n",
       "      <td>0.584607</td>\n",
       "    </tr>\n",
       "    <tr>\n",
       "      <td>14</td>\n",
       "      <td>ресторан</td>\n",
       "      <td>да</td>\n",
       "      <td>543</td>\n",
       "      <td>2282</td>\n",
       "      <td>0.237949</td>\n",
       "    </tr>\n",
       "    <tr>\n",
       "      <td>15</td>\n",
       "      <td>ресторан</td>\n",
       "      <td>нет</td>\n",
       "      <td>1739</td>\n",
       "      <td>2282</td>\n",
       "      <td>0.762051</td>\n",
       "    </tr>\n",
       "    <tr>\n",
       "      <td>16</td>\n",
       "      <td>столовая</td>\n",
       "      <td>да</td>\n",
       "      <td>3</td>\n",
       "      <td>2584</td>\n",
       "      <td>0.001161</td>\n",
       "    </tr>\n",
       "    <tr>\n",
       "      <td>17</td>\n",
       "      <td>столовая</td>\n",
       "      <td>нет</td>\n",
       "      <td>2581</td>\n",
       "      <td>2584</td>\n",
       "      <td>0.998839</td>\n",
       "    </tr>\n",
       "  </tbody>\n",
       "</table>\n",
       "</div>"
      ],
      "text/plain": [
       "                          object_type chain  count  total     ratio\n",
       "0                                 бар    да     37    855  0.043275\n",
       "1                                 бар   нет    818    855  0.956725\n",
       "2                               буфет    да     11    576  0.019097\n",
       "3                               буфет   нет    565    576  0.980903\n",
       "4                          закусочная    да     56    348  0.160920\n",
       "5                          закусочная   нет    292    348  0.839080\n",
       "6                                кафе    да   1396   6071  0.229946\n",
       "7                                кафе   нет   4675   6071  0.770054\n",
       "8                           кафетерий    да     52    395  0.131646\n",
       "9                           кафетерий   нет    343    395  0.868354\n",
       "10          магазин (отдел кулинарии)    да     78    273  0.285714\n",
       "11          магазин (отдел кулинарии)   нет    195    273  0.714286\n",
       "12  предприятие быстрого обслуживания    да    788   1897  0.415393\n",
       "13  предприятие быстрого обслуживания   нет   1109   1897  0.584607\n",
       "14                           ресторан    да    543   2282  0.237949\n",
       "15                           ресторан   нет   1739   2282  0.762051\n",
       "16                           столовая    да      3   2584  0.001161\n",
       "17                           столовая   нет   2581   2584  0.998839"
      ]
     },
     "execution_count": 17,
     "metadata": {},
     "output_type": "execute_result"
    }
   ],
   "source": [
    "objects_count = df.groupby(['object_type', 'chain'])['id'].count().reset_index()\n",
    "objects_count = objects_count.merge(objects_count_by_type, left_on='object_type', right_on='object_type')\n",
    "objects_count.columns = ['object_type', 'chain', 'count', 'total']\n",
    "objects_count['ratio'] = objects_count['count'] / objects_count['total']\n",
    "objects_count"
   ]
  },
  {
   "cell_type": "code",
   "execution_count": 18,
   "metadata": {},
   "outputs": [
    {
     "data": {
      "image/png": "[encoded data removed]",
      "text/plain": [
       "<Figure size 864x504 with 1 Axes>"
      ]
     },
     "metadata": {},
     "output_type": "display_data"
    }
   ],
   "source": [
    "plt.figure(figsize = (12, 7))\n",
    "\n",
    "ax = sns.barplot(y = \"object_type\", x = 'ratio', hue = 'chain', data = objects_count.sort_values(\n",
    "    by = ['chain', 'ratio'], ascending = True))\n",
    "\n",
    "plt.title('Соотношение количества сетевых и несетевых объектов по типам', fontsize = 15)\n",
    "plt.ylabel('Тип объекта общественного питания', fontsize = 12)\n",
    "plt.xlabel('Доля объектов', fontsize = 12)\n",
    "plt.legend(title = 'Сетевые')\n",
    "\n",
    "plt.show()"
   ]
  },
  {
   "cell_type": "markdown",
   "metadata": {},
   "source": [
    "#### Вывод\n",
    "Сетевое распространение наиболее характерно для предприятий быстрого обслуживания и магазинов (отделов кулинарии). Сетевые предприятия быстрого обслуживания занимают 42% от общего числа всех объектов данного типа, а магазины - 29%.\n",
    "Доли сетевых ресторанов и кафе почти равны: 24% и 23% соответсвенно. Наименьшее сетевое распространение получили столовые, буфеты и бары."
   ]
  },
  {
   "cell_type": "markdown",
   "metadata": {},
   "source": [
    "### 3.4. Что характерно для сетевых заведений: много заведений с небольшим числом посадочных мест в каждом или мало заведений с большим количеством посадочных мест? <a id=\"4\"></a>"
   ]
  },
  {
   "cell_type": "markdown",
   "metadata": {},
   "source": [
    "Рассмотрим распределение посадочных мест."
   ]
  },
  {
   "cell_type": "code",
   "execution_count": 19,
   "metadata": {},
   "outputs": [
    {
     "data": {
      "text/plain": [
       "count    15281.000000\n",
       "mean        59.788234\n",
       "std         74.843042\n",
       "min          0.000000\n",
       "25%         14.000000\n",
       "50%         40.000000\n",
       "75%         80.000000\n",
       "max       1700.000000\n",
       "Name: number, dtype: float64"
      ]
     },
     "execution_count": 19,
     "metadata": {},
     "output_type": "execute_result"
    }
   ],
   "source": [
    "df['number'].describe()"
   ]
  },
  {
   "cell_type": "markdown",
   "metadata": {},
   "source": [
    "Среди объектов общественного питания есть объекты с аномально большим количеством посадочных мест - до 1700. Выберем границы для определения аномально больших количеств посадочных мест."
   ]
  },
  {
   "cell_type": "code",
   "execution_count": 20,
   "metadata": {},
   "outputs": [
    {
     "data": {
      "text/plain": [
       "array([215., 300.])"
      ]
     },
     "execution_count": 20,
     "metadata": {},
     "output_type": "execute_result"
    }
   ],
   "source": [
    "np.percentile(df['number'], [95, 99])"
   ]
  },
  {
   "cell_type": "markdown",
   "metadata": {},
   "source": [
    "Выберем 250 за верхнюю границу количества мест, и отсеем объекты с аномальным количеством мест. Определим количество объектов для каждого сетевого заведения и среднее количество посадочных мест."
   ]
  },
  {
   "cell_type": "code",
   "execution_count": 21,
   "metadata": {},
   "outputs": [
    {
     "data": {
      "text/html": [
       "<div>\n",
       "<style scoped>\n",
       "    .dataframe tbody tr th:only-of-type {\n",
       "        vertical-align: middle;\n",
       "    }\n",
       "\n",
       "    .dataframe tbody tr th {\n",
       "        vertical-align: top;\n",
       "    }\n",
       "\n",
       "    .dataframe thead th {\n",
       "        text-align: right;\n",
       "    }\n",
       "</style>\n",
       "<table border=\"1\" class=\"dataframe\">\n",
       "  <thead>\n",
       "    <tr style=\"text-align: right;\">\n",
       "      <th></th>\n",
       "      <th>chain_name_lower</th>\n",
       "      <th>object_count</th>\n",
       "      <th>mean_number</th>\n",
       "    </tr>\n",
       "  </thead>\n",
       "  <tbody>\n",
       "    <tr>\n",
       "      <td>0</td>\n",
       "      <td>beverly hills diner</td>\n",
       "      <td>1</td>\n",
       "      <td>88.000000</td>\n",
       "    </tr>\n",
       "    <tr>\n",
       "      <td>1</td>\n",
       "      <td>bierloga</td>\n",
       "      <td>1</td>\n",
       "      <td>75.000000</td>\n",
       "    </tr>\n",
       "    <tr>\n",
       "      <td>2</td>\n",
       "      <td>black &amp; white</td>\n",
       "      <td>1</td>\n",
       "      <td>40.000000</td>\n",
       "    </tr>\n",
       "    <tr>\n",
       "      <td>3</td>\n",
       "      <td>bocconcino</td>\n",
       "      <td>3</td>\n",
       "      <td>66.666667</td>\n",
       "    </tr>\n",
       "    <tr>\n",
       "      <td>4</td>\n",
       "      <td>boobo</td>\n",
       "      <td>1</td>\n",
       "      <td>46.000000</td>\n",
       "    </tr>\n",
       "  </tbody>\n",
       "</table>\n",
       "</div>"
      ],
      "text/plain": [
       "      chain_name_lower  object_count  mean_number\n",
       "0  beverly hills diner             1    88.000000\n",
       "1             bierloga             1    75.000000\n",
       "2        black & white             1    40.000000\n",
       "3           bocconcino             3    66.666667\n",
       "4                boobo             1    46.000000"
      ]
     },
     "execution_count": 21,
     "metadata": {},
     "output_type": "execute_result"
    }
   ],
   "source": [
    "chain = df.query('chain == \"да\" and number < 250').groupby('object_name_lower')['number'].agg(['count', 'mean']).reset_index()\n",
    "chain.columns = ['chain_name_lower', 'object_count', 'mean_number']\n",
    "chain.head()"
   ]
  },
  {
   "cell_type": "markdown",
   "metadata": {},
   "source": [
    "Рассмотрим распределения количества объектов и количества посадочных мест для сетей, в которых больше одного объекта."
   ]
  },
  {
   "cell_type": "code",
   "execution_count": 22,
   "metadata": {},
   "outputs": [
    {
     "data": {
      "text/plain": [
       "count    246.000000\n",
       "mean      10.650407\n",
       "std       22.487360\n",
       "min        2.000000\n",
       "25%        2.000000\n",
       "50%        3.500000\n",
       "75%        7.000000\n",
       "max      157.000000\n",
       "Name: object_count, dtype: float64"
      ]
     },
     "execution_count": 22,
     "metadata": {},
     "output_type": "execute_result"
    }
   ],
   "source": [
    "chain.query('object_count > 1')['object_count'].describe()"
   ]
  },
  {
   "cell_type": "code",
   "execution_count": 23,
   "metadata": {},
   "outputs": [
    {
     "data": {
      "text/plain": [
       "count    246.000000\n",
       "mean      54.759301\n",
       "std       41.815062\n",
       "min        0.000000\n",
       "25%       20.541667\n",
       "50%       43.500000\n",
       "75%       83.321429\n",
       "max      213.000000\n",
       "Name: mean_number, dtype: float64"
      ]
     },
     "execution_count": 23,
     "metadata": {},
     "output_type": "execute_result"
    }
   ],
   "source": [
    "chain.query('object_count > 1')['mean_number'].describe()"
   ]
  },
  {
   "cell_type": "code",
   "execution_count": 24,
   "metadata": {},
   "outputs": [
    {
     "data": {
      "image/png": "[encoded data removed]",
      "text/plain": [
       "<Figure size 720x720 with 3 Axes>"
      ]
     },
     "metadata": {},
     "output_type": "display_data"
    }
   ],
   "source": [
    "g = sns.jointplot(x = 'mean_number', y = 'object_count', data = chain.query('object_count > 1'), kind='reg', height=10) \n",
    "\n",
    "g.fig.suptitle('Диаграмма рассеяния количества объектов в сети и среднего количества посадочных мест', y = 1.01, fontsize = 15)\n",
    "plt.show()"
   ]
  },
  {
   "cell_type": "markdown",
   "metadata": {},
   "source": [
    "Получили отрицательную линейную корреляцию. Скорее всего, количество посадочных мест и количество объектов в сети зависят друг от друга. "
   ]
  },
  {
   "cell_type": "code",
   "execution_count": 25,
   "metadata": {},
   "outputs": [
    {
     "name": "stdout",
     "output_type": "stream",
     "text": [
      "Среднее количество посадочных мест в сетях с количеством объектов меньше или равно 10: 57\n",
      "Среднее количество посадочных мест в сетях с количеством объектов больше 10: 44\n"
     ]
    }
   ],
   "source": [
    "print('Среднее количество посадочных мест в сетях с количеством объектов меньше или равно 10: {:.0f}'.format(\n",
    "    chain.query('1 < object_count <= 10')['mean_number'].mean()))\n",
    "print('Среднее количество посадочных мест в сетях с количеством объектов больше 10: {:.0f}'.format(\n",
    "    chain.query('object_count > 10')['mean_number'].mean()))"
   ]
  },
  {
   "cell_type": "markdown",
   "metadata": {},
   "source": [
    "#### Выводы\n",
    "Для сетевых заведений характерно в среднем 11 объектов со средним количеством посадочных мест - 55. При этом 75% сетевых заведений включают в себя меньше 7 объектов общественного питания, медиана количества объектов в сети - 4. Среднее количество посадочных мест = 55. При этом количество посадочных мест в крупных сетях в среднем 44. Обычно сетевые заведения располагаются в местах с большой проходимостью людей, в которых наблюдается большая конкуренция и дефицит места, поэтому количество мест обычно небольшое."
   ]
  },
  {
   "cell_type": "markdown",
   "metadata": {},
   "source": [
    "### 3.5. Какой вид объекта общественного питания предоставляет в среднем самое большое количество посадочных мест? <a id=\"5\"></a>"
   ]
  },
  {
   "cell_type": "markdown",
   "metadata": {},
   "source": [
    "Для каждого типа ООП найдем среднее количество посадочных мест."
   ]
  },
  {
   "cell_type": "code",
   "execution_count": 26,
   "metadata": {},
   "outputs": [
    {
     "data": {
      "text/html": [
       "<div>\n",
       "<style scoped>\n",
       "    .dataframe tbody tr th:only-of-type {\n",
       "        vertical-align: middle;\n",
       "    }\n",
       "\n",
       "    .dataframe tbody tr th {\n",
       "        vertical-align: top;\n",
       "    }\n",
       "\n",
       "    .dataframe thead th {\n",
       "        text-align: right;\n",
       "    }\n",
       "</style>\n",
       "<table border=\"1\" class=\"dataframe\">\n",
       "  <thead>\n",
       "    <tr style=\"text-align: right;\">\n",
       "      <th></th>\n",
       "      <th>object_type</th>\n",
       "      <th>number</th>\n",
       "    </tr>\n",
       "  </thead>\n",
       "  <tbody>\n",
       "    <tr>\n",
       "      <td>0</td>\n",
       "      <td>столовая</td>\n",
       "      <td>130.337848</td>\n",
       "    </tr>\n",
       "    <tr>\n",
       "      <td>1</td>\n",
       "      <td>ресторан</td>\n",
       "      <td>96.884750</td>\n",
       "    </tr>\n",
       "    <tr>\n",
       "      <td>2</td>\n",
       "      <td>буфет</td>\n",
       "      <td>51.425347</td>\n",
       "    </tr>\n",
       "    <tr>\n",
       "      <td>3</td>\n",
       "      <td>бар</td>\n",
       "      <td>43.533333</td>\n",
       "    </tr>\n",
       "    <tr>\n",
       "      <td>4</td>\n",
       "      <td>кафе</td>\n",
       "      <td>39.785703</td>\n",
       "    </tr>\n",
       "    <tr>\n",
       "      <td>5</td>\n",
       "      <td>предприятие быстрого обслуживания</td>\n",
       "      <td>20.808645</td>\n",
       "    </tr>\n",
       "    <tr>\n",
       "      <td>6</td>\n",
       "      <td>кафетерий</td>\n",
       "      <td>9.184810</td>\n",
       "    </tr>\n",
       "    <tr>\n",
       "      <td>7</td>\n",
       "      <td>закусочная</td>\n",
       "      <td>7.847701</td>\n",
       "    </tr>\n",
       "    <tr>\n",
       "      <td>8</td>\n",
       "      <td>магазин (отдел кулинарии)</td>\n",
       "      <td>5.589744</td>\n",
       "    </tr>\n",
       "  </tbody>\n",
       "</table>\n",
       "</div>"
      ],
      "text/plain": [
       "                         object_type      number\n",
       "0                           столовая  130.337848\n",
       "1                           ресторан   96.884750\n",
       "2                              буфет   51.425347\n",
       "3                                бар   43.533333\n",
       "4                               кафе   39.785703\n",
       "5  предприятие быстрого обслуживания   20.808645\n",
       "6                          кафетерий    9.184810\n",
       "7                         закусочная    7.847701\n",
       "8          магазин (отдел кулинарии)    5.589744"
      ]
     },
     "execution_count": 26,
     "metadata": {},
     "output_type": "execute_result"
    }
   ],
   "source": [
    "number_of_seats = df.groupby('object_type')['number'].mean().sort_values(ascending = False).reset_index()\n",
    "number_of_seats"
   ]
  },
  {
   "cell_type": "code",
   "execution_count": 27,
   "metadata": {
    "scrolled": false
   },
   "outputs": [
    {
     "data": {
      "image/png": "[encoded data removed]",
      "text/plain": [
       "<Figure size 864x504 with 1 Axes>"
      ]
     },
     "metadata": {},
     "output_type": "display_data"
    }
   ],
   "source": [
    "plt.figure(figsize = (12, 7))\n",
    "\n",
    "ax = sns.barplot(y = 'object_type', x = 'number', data = number_of_seats)\n",
    "\n",
    "plt.title('Среднее количество посадочных мест для каждого типа объекта общественного питания', fontsize = 15)\n",
    "plt.ylabel('Тип объекта общественного питания', fontsize = 12)\n",
    "plt.xlabel('Количество посадочных мест', fontsize = 12)\n",
    "labels = ['столовая', 'ресторан', 'буфет', 'бар', 'кафе', 'предприятие\\nбыстрого обслуживания', 'кафетерий', 'закусочная', 'магазин\\n(отдел кулинарии)']\n",
    "ax.set_yticklabels(labels, fontsize = 11)\n",
    "plt.show()"
   ]
  },
  {
   "cell_type": "markdown",
   "metadata": {},
   "source": [
    "Рассмотрим, как отличается количество посадочных мест в сетевых и несетевых объектах. "
   ]
  },
  {
   "cell_type": "code",
   "execution_count": 28,
   "metadata": {},
   "outputs": [
    {
     "data": {
      "image/png": "[encoded data removed]",
      "text/plain": [
       "<Figure size 1224x648 with 1 Axes>"
      ]
     },
     "metadata": {},
     "output_type": "display_data"
    }
   ],
   "source": [
    "plt.figure(figsize=(17, 9))\n",
    "\n",
    "ax = sns.barplot(x = 'object_type', y = 'number', data = df, hue = 'chain') \n",
    "\n",
    "plt.title('Среднее количество посадочных мест для каждого типа объекта общественного питания', fontsize = 15)\n",
    "plt.xlabel('Тип объекта общественного питания', fontsize = 12)\n",
    "plt.ylabel('Количество посадочных мест', fontsize = 12)\n",
    "plt.xticks(rotation = 45)\n",
    "plt.legend(title = 'Сетевые')\n",
    "\n",
    "plt.show()"
   ]
  },
  {
   "cell_type": "markdown",
   "metadata": {},
   "source": [
    "#### Вывод\n",
    "Лидером по среднему количеству посадочных мест является тип объекта \"столовая\" - 130 мест, что характеризует основную цель данного заведения - накормить как можно больше людей в определенные часы, чаще всего в обеденное время. На втором месте \"рестораны\" - 97 посадочных мест. Остальные типы объектов общественного питания предоставляют значительно меньшее количество посадочных мест: в кафе в среднем 40 посадочных мест. При этом в сетевых объектах общественного питания в среднем больше посадочных мест, чем в несетевых, но не для столовых и буфетов."
   ]
  },
  {
   "cell_type": "markdown",
   "metadata": {},
   "source": [
    "### 3.6. Топ-10 улиц по количеству объектов общественного питания <a id=\"6\"></a>"
   ]
  },
  {
   "cell_type": "markdown",
   "metadata": {},
   "source": [
    "Выделим в отдельный столбец информацию об улице из столбца `address`. Для этого найдем часть адреса, содержащую один из видов улиц города Москвы. Виды улиц возьмем из <a href=\"https://data.mos.ru/classifier/7710168515-obshchemoskovskiy-klassifikator-ulits-moskvy-omk-001-2013-razdel-2/passport?versionNumber=1&releaseNumber=5\">Общемосковского классификатора улиц Москвы (ОМК 001-2013) Раздел 2.</a>"
   ]
  },
  {
   "cell_type": "code",
   "execution_count": 29,
   "metadata": {},
   "outputs": [
    {
     "data": {
      "text/html": [
       "<div>\n",
       "<style scoped>\n",
       "    .dataframe tbody tr th:only-of-type {\n",
       "        vertical-align: middle;\n",
       "    }\n",
       "\n",
       "    .dataframe tbody tr th {\n",
       "        vertical-align: top;\n",
       "    }\n",
       "\n",
       "    .dataframe thead th {\n",
       "        text-align: right;\n",
       "    }\n",
       "</style>\n",
       "<table border=\"1\" class=\"dataframe\">\n",
       "  <thead>\n",
       "    <tr style=\"text-align: right;\">\n",
       "      <th></th>\n",
       "      <th>id</th>\n",
       "      <th>object_name</th>\n",
       "      <th>chain</th>\n",
       "      <th>object_type</th>\n",
       "      <th>address</th>\n",
       "      <th>number</th>\n",
       "      <th>object_name_lower</th>\n",
       "      <th>address_lower</th>\n",
       "      <th>street</th>\n",
       "    </tr>\n",
       "  </thead>\n",
       "  <tbody>\n",
       "    <tr>\n",
       "      <td>0</td>\n",
       "      <td>151635</td>\n",
       "      <td>СМЕТАНА</td>\n",
       "      <td>нет</td>\n",
       "      <td>кафе</td>\n",
       "      <td>город Москва, улица Егора Абакумова, дом 9</td>\n",
       "      <td>48</td>\n",
       "      <td>сметана</td>\n",
       "      <td>город москва, улица егора абакумова, дом 9</td>\n",
       "      <td>улица Егора Абакумова</td>\n",
       "    </tr>\n",
       "    <tr>\n",
       "      <td>1</td>\n",
       "      <td>77874</td>\n",
       "      <td>Родник</td>\n",
       "      <td>нет</td>\n",
       "      <td>кафе</td>\n",
       "      <td>город Москва, улица Талалихина, дом 2/1, корпус 1</td>\n",
       "      <td>35</td>\n",
       "      <td>родник</td>\n",
       "      <td>город москва, улица талалихина, дом 2/1, корпус 1</td>\n",
       "      <td>улица Талалихина</td>\n",
       "    </tr>\n",
       "    <tr>\n",
       "      <td>2</td>\n",
       "      <td>24309</td>\n",
       "      <td>Кафе «Академия»</td>\n",
       "      <td>нет</td>\n",
       "      <td>кафе</td>\n",
       "      <td>город Москва, Абельмановская улица, дом 6</td>\n",
       "      <td>95</td>\n",
       "      <td>кафе академия</td>\n",
       "      <td>город москва, абельмановская улица, дом 6</td>\n",
       "      <td>Абельмановская улица</td>\n",
       "    </tr>\n",
       "    <tr>\n",
       "      <td>3</td>\n",
       "      <td>21894</td>\n",
       "      <td>ПИЦЦЕТОРИЯ</td>\n",
       "      <td>да</td>\n",
       "      <td>кафе</td>\n",
       "      <td>город Москва, Абрамцевская улица, дом 1</td>\n",
       "      <td>40</td>\n",
       "      <td>пиццетория</td>\n",
       "      <td>город москва, абрамцевская улица, дом 1</td>\n",
       "      <td>Абрамцевская улица</td>\n",
       "    </tr>\n",
       "    <tr>\n",
       "      <td>4</td>\n",
       "      <td>119365</td>\n",
       "      <td>Кафе «Вишневая метель»</td>\n",
       "      <td>нет</td>\n",
       "      <td>кафе</td>\n",
       "      <td>город Москва, Абрамцевская улица, дом 9, корпус 1</td>\n",
       "      <td>50</td>\n",
       "      <td>кафе вишневая метель</td>\n",
       "      <td>город москва, абрамцевская улица, дом 9, корпус 1</td>\n",
       "      <td>Абрамцевская улица</td>\n",
       "    </tr>\n",
       "  </tbody>\n",
       "</table>\n",
       "</div>"
      ],
      "text/plain": [
       "       id             object_name chain object_type  \\\n",
       "0  151635                 СМЕТАНА   нет        кафе   \n",
       "1   77874                  Родник   нет        кафе   \n",
       "2   24309         Кафе «Академия»   нет        кафе   \n",
       "3   21894              ПИЦЦЕТОРИЯ    да        кафе   \n",
       "4  119365  Кафе «Вишневая метель»   нет        кафе   \n",
       "\n",
       "                                             address  number  \\\n",
       "0         город Москва, улица Егора Абакумова, дом 9      48   \n",
       "1  город Москва, улица Талалихина, дом 2/1, корпус 1      35   \n",
       "2          город Москва, Абельмановская улица, дом 6      95   \n",
       "3            город Москва, Абрамцевская улица, дом 1      40   \n",
       "4  город Москва, Абрамцевская улица, дом 9, корпус 1      50   \n",
       "\n",
       "      object_name_lower                                      address_lower  \\\n",
       "0               сметана         город москва, улица егора абакумова, дом 9   \n",
       "1                родник  город москва, улица талалихина, дом 2/1, корпус 1   \n",
       "2         кафе академия          город москва, абельмановская улица, дом 6   \n",
       "3            пиццетория            город москва, абрамцевская улица, дом 1   \n",
       "4  кафе вишневая метель  город москва, абрамцевская улица, дом 9, корпус 1   \n",
       "\n",
       "                  street  \n",
       "0  улица Егора Абакумова  \n",
       "1       улица Талалихина  \n",
       "2   Абельмановская улица  \n",
       "3     Абрамцевская улица  \n",
       "4     Абрамцевская улица  "
      ]
     },
     "execution_count": 29,
     "metadata": {},
     "output_type": "execute_result"
    }
   ],
   "source": [
    "street_words = ['улица','переулок','проезд','площадь','набережная','шоссе', 'тупик','бульвар','аллея','проспект', 'мост', \n",
    "                'путепровод', 'эстакада', 'просека', 'линия', 'проектируемый проезд', 'тоннель', \n",
    "                'километровый участок автодороги']\n",
    "\n",
    "str_pat = r\".*,\\s*\\b([^,]*?(?:{})\\b[^,]*)[,$]+\".format(\"|\".join(street_words))\n",
    "\n",
    "df[\"street\"] = df[\"address\"].str.extract(str_pat, flags=re.I)\n",
    "\n",
    "df.head()"
   ]
  },
  {
   "cell_type": "code",
   "execution_count": 30,
   "metadata": {},
   "outputs": [
    {
     "name": "stdout",
     "output_type": "stream",
     "text": [
      "<class 'pandas.core.frame.DataFrame'>\n",
      "Int64Index: 15281 entries, 0 to 15365\n",
      "Data columns (total 9 columns):\n",
      "id                   15281 non-null int64\n",
      "object_name          15281 non-null object\n",
      "chain                15281 non-null object\n",
      "object_type          15281 non-null object\n",
      "address              15281 non-null object\n",
      "number               15281 non-null int64\n",
      "object_name_lower    15281 non-null object\n",
      "address_lower        15281 non-null object\n",
      "street               14823 non-null object\n",
      "dtypes: int64(2), object(7)\n",
      "memory usage: 1.8+ MB\n"
     ]
    }
   ],
   "source": [
    "df.info()"
   ]
  },
  {
   "cell_type": "code",
   "execution_count": 31,
   "metadata": {},
   "outputs": [
    {
     "name": "stdout",
     "output_type": "stream",
     "text": [
      "3.00% адресов без улиц\n"
     ]
    }
   ],
   "source": [
    "print('{:.2%} адресов без улиц'.format(len(df[df[\"street\"].isnull()])/len(df)))"
   ]
  },
  {
   "cell_type": "markdown",
   "metadata": {},
   "source": [
    "Определим 10 улиц с наибольшим количеством ООП."
   ]
  },
  {
   "cell_type": "code",
   "execution_count": 32,
   "metadata": {},
   "outputs": [
    {
     "data": {
      "text/html": [
       "<div>\n",
       "<style scoped>\n",
       "    .dataframe tbody tr th:only-of-type {\n",
       "        vertical-align: middle;\n",
       "    }\n",
       "\n",
       "    .dataframe tbody tr th {\n",
       "        vertical-align: top;\n",
       "    }\n",
       "\n",
       "    .dataframe thead th {\n",
       "        text-align: right;\n",
       "    }\n",
       "</style>\n",
       "<table border=\"1\" class=\"dataframe\">\n",
       "  <thead>\n",
       "    <tr style=\"text-align: right;\">\n",
       "      <th></th>\n",
       "      <th>street</th>\n",
       "      <th>id</th>\n",
       "    </tr>\n",
       "  </thead>\n",
       "  <tbody>\n",
       "    <tr>\n",
       "      <td>0</td>\n",
       "      <td>проспект Мира</td>\n",
       "      <td>203</td>\n",
       "    </tr>\n",
       "    <tr>\n",
       "      <td>1</td>\n",
       "      <td>Профсоюзная улица</td>\n",
       "      <td>181</td>\n",
       "    </tr>\n",
       "    <tr>\n",
       "      <td>2</td>\n",
       "      <td>Ленинградский проспект</td>\n",
       "      <td>170</td>\n",
       "    </tr>\n",
       "    <tr>\n",
       "      <td>3</td>\n",
       "      <td>Пресненская набережная</td>\n",
       "      <td>167</td>\n",
       "    </tr>\n",
       "    <tr>\n",
       "      <td>4</td>\n",
       "      <td>Варшавское шоссе</td>\n",
       "      <td>164</td>\n",
       "    </tr>\n",
       "    <tr>\n",
       "      <td>5</td>\n",
       "      <td>Ленинский проспект</td>\n",
       "      <td>147</td>\n",
       "    </tr>\n",
       "    <tr>\n",
       "      <td>6</td>\n",
       "      <td>проспект Вернадского</td>\n",
       "      <td>128</td>\n",
       "    </tr>\n",
       "    <tr>\n",
       "      <td>7</td>\n",
       "      <td>Кутузовский проспект</td>\n",
       "      <td>114</td>\n",
       "    </tr>\n",
       "    <tr>\n",
       "      <td>8</td>\n",
       "      <td>Каширское шоссе</td>\n",
       "      <td>111</td>\n",
       "    </tr>\n",
       "    <tr>\n",
       "      <td>9</td>\n",
       "      <td>Кировоградская улица</td>\n",
       "      <td>108</td>\n",
       "    </tr>\n",
       "  </tbody>\n",
       "</table>\n",
       "</div>"
      ],
      "text/plain": [
       "                   street   id\n",
       "0           проспект Мира  203\n",
       "1       Профсоюзная улица  181\n",
       "2  Ленинградский проспект  170\n",
       "3  Пресненская набережная  167\n",
       "4        Варшавское шоссе  164\n",
       "5      Ленинский проспект  147\n",
       "6    проспект Вернадского  128\n",
       "7    Кутузовский проспект  114\n",
       "8         Каширское шоссе  111\n",
       "9    Кировоградская улица  108"
      ]
     },
     "execution_count": 32,
     "metadata": {},
     "output_type": "execute_result"
    }
   ],
   "source": [
    "top_10_streets = df.groupby('street')['id'].count().sort_values(ascending=False).reset_index().head(10)\n",
    "top_10_streets"
   ]
  },
  {
   "cell_type": "code",
   "execution_count": 33,
   "metadata": {},
   "outputs": [
    {
     "data": {
      "image/png": "[encoded data removed]",
      "text/plain": [
       "<Figure size 864x504 with 1 Axes>"
      ]
     },
     "metadata": {},
     "output_type": "display_data"
    }
   ],
   "source": [
    "plt.figure(figsize = (12, 7))\n",
    "\n",
    "ax = sns.barplot(x='street', y='id', data=top_10_streets)\n",
    "\n",
    "plt.title('Топ-10 улиц по количеству объектов общественного питания', fontsize = 15)\n",
    "plt.ylabel('Количество объектов', fontsize = 12)\n",
    "plt.xlabel('Наименования улиц', fontsize = 12)\n",
    "plt.xticks(rotation = 45)\n",
    "plt.show()"
   ]
  },
  {
   "cell_type": "markdown",
   "metadata": {},
   "source": [
    "Рассмотрим, в каких районах Москвы находятся эти улицы. Для этого загрузим таблицы с данными об улицах (<a href=\"https://data.mos.ru/classifier/7710168515-obshchemoskovskiy-klassifikator-ulits-moskvy-omk-001-2013-razdel-1\">Общемосковский классификатор улиц Москвы (ОМК 001-2013) Раздел 1</a>) и районах Москвы (<a href=\"https://data.mos.ru/classifier/7710168515-obshchemoskovskiy-klassifikator-territorialnyh-edinits-moskvy-omk-002-2013-razdel-1\">Общемосковский классификатор территориальных единиц Москвы (ОМК 002-2013) Раздел 1</a>)."
   ]
  },
  {
   "cell_type": "code",
   "execution_count": 34,
   "metadata": {},
   "outputs": [
    {
     "data": {
      "text/html": [
       "<div>\n",
       "<style scoped>\n",
       "    .dataframe tbody tr th:only-of-type {\n",
       "        vertical-align: middle;\n",
       "    }\n",
       "\n",
       "    .dataframe tbody tr th {\n",
       "        vertical-align: top;\n",
       "    }\n",
       "\n",
       "    .dataframe thead th {\n",
       "        text-align: right;\n",
       "    }\n",
       "</style>\n",
       "<table border=\"1\" class=\"dataframe\">\n",
       "  <thead>\n",
       "    <tr style=\"text-align: right;\">\n",
       "      <th></th>\n",
       "      <th>UM_CODE</th>\n",
       "      <th>UM_NAMEF</th>\n",
       "      <th>global_id</th>\n",
       "      <th>UM_NAMES</th>\n",
       "      <th>UM_TRANS</th>\n",
       "      <th>UM_TYPE</th>\n",
       "      <th>UM_TM</th>\n",
       "      <th>UM_TE</th>\n",
       "      <th>UM_KLADR</th>\n",
       "      <th>Unnamed: 9</th>\n",
       "    </tr>\n",
       "  </thead>\n",
       "  <tbody>\n",
       "    <tr>\n",
       "      <td>0</td>\n",
       "      <td>008880</td>\n",
       "      <td>1-й Ирининский переулок</td>\n",
       "      <td>58481065</td>\n",
       "      <td>1-й Ирининский пер.</td>\n",
       "      <td>Pervy'j Irininskij pereulok</td>\n",
       "      <td>002</td>\n",
       "      <td>NaN</td>\n",
       "      <td>0102</td>\n",
       "      <td>77000000000706300</td>\n",
       "      <td>NaN</td>\n",
       "    </tr>\n",
       "    <tr>\n",
       "      <td>1</td>\n",
       "      <td>008890</td>\n",
       "      <td>2-й Ирининский переулок</td>\n",
       "      <td>58481066</td>\n",
       "      <td>2-й Ирининский пер.</td>\n",
       "      <td>Vtoroj Irininskij pereulok</td>\n",
       "      <td>002</td>\n",
       "      <td>NaN</td>\n",
       "      <td>0102</td>\n",
       "      <td>77000000000362200</td>\n",
       "      <td>NaN</td>\n",
       "    </tr>\n",
       "    <tr>\n",
       "      <td>2</td>\n",
       "      <td>008891</td>\n",
       "      <td>3-й Ирининский переулок</td>\n",
       "      <td>58481067</td>\n",
       "      <td>3-й Ирининский пер.</td>\n",
       "      <td>Tretij Irininskij pereulok</td>\n",
       "      <td>002</td>\n",
       "      <td>NaN</td>\n",
       "      <td>0102</td>\n",
       "      <td>77000000000362300</td>\n",
       "      <td>NaN</td>\n",
       "    </tr>\n",
       "    <tr>\n",
       "      <td>3</td>\n",
       "      <td>008910</td>\n",
       "      <td>Иркутская улица</td>\n",
       "      <td>58481068</td>\n",
       "      <td>Иркутская ул.</td>\n",
       "      <td>Irkutskaya ulicza</td>\n",
       "      <td>001</td>\n",
       "      <td>NaN</td>\n",
       "      <td>0406</td>\n",
       "      <td>77000000000139700</td>\n",
       "      <td>NaN</td>\n",
       "    </tr>\n",
       "    <tr>\n",
       "      <td>4</td>\n",
       "      <td>008920</td>\n",
       "      <td>1-й Иртышский проезд</td>\n",
       "      <td>58481069</td>\n",
       "      <td>1-й Иртышский пр.</td>\n",
       "      <td>Pervy'j Irty'shskij proezd</td>\n",
       "      <td>003</td>\n",
       "      <td>NaN</td>\n",
       "      <td>0406</td>\n",
       "      <td>77000000000331600</td>\n",
       "      <td>NaN</td>\n",
       "    </tr>\n",
       "  </tbody>\n",
       "</table>\n",
       "</div>"
      ],
      "text/plain": [
       "  UM_CODE                 UM_NAMEF global_id             UM_NAMES  \\\n",
       "0  008880  1-й Ирининский переулок  58481065  1-й Ирининский пер.   \n",
       "1  008890  2-й Ирининский переулок  58481066  2-й Ирининский пер.   \n",
       "2  008891  3-й Ирининский переулок  58481067  3-й Ирининский пер.   \n",
       "3  008910          Иркутская улица  58481068        Иркутская ул.   \n",
       "4  008920     1-й Иртышский проезд  58481069    1-й Иртышский пр.   \n",
       "\n",
       "                      UM_TRANS UM_TYPE UM_TM UM_TE           UM_KLADR  \\\n",
       "0  Pervy'j Irininskij pereulok     002   NaN  0102  77000000000706300   \n",
       "1   Vtoroj Irininskij pereulok     002   NaN  0102  77000000000362200   \n",
       "2   Tretij Irininskij pereulok     002   NaN  0102  77000000000362300   \n",
       "3            Irkutskaya ulicza     001   NaN  0406  77000000000139700   \n",
       "4   Pervy'j Irty'shskij proezd     003   NaN  0406  77000000000331600   \n",
       "\n",
       "   Unnamed: 9  \n",
       "0         NaN  \n",
       "1         NaN  \n",
       "2         NaN  \n",
       "3         NaN  \n",
       "4         NaN  "
      ]
     },
     "execution_count": 34,
     "metadata": {},
     "output_type": "execute_result"
    }
   ],
   "source": [
    "id1='1T8vcS4EWTXlsCWNSLBvwUv0Ih2G-rE_n'\n",
    "id2='1JuyprkSm9EVheoydf-yIBI7PFdVCaHZc'\n",
    "\n",
    "r = requests.get(f'https://drive.google.com/u/0/uc?id={id2}&export=download')\n",
    "\n",
    "data = r.content.decode('cp1251')\n",
    "\n",
    "streets = pd.read_csv(StringIO(data), sep = ';')\n",
    "streets.head()"
   ]
  },
  {
   "cell_type": "code",
   "execution_count": 35,
   "metadata": {},
   "outputs": [
    {
     "name": "stdout",
     "output_type": "stream",
     "text": [
      "<class 'pandas.core.frame.DataFrame'>\n",
      "RangeIndex: 5273 entries, 0 to 5272\n",
      "Data columns (total 10 columns):\n",
      "UM_CODE       5273 non-null object\n",
      "UM_NAMEF      5273 non-null object\n",
      "global_id     5273 non-null object\n",
      "UM_NAMES      5273 non-null object\n",
      "UM_TRANS      5273 non-null object\n",
      "UM_TYPE       5273 non-null object\n",
      "UM_TM         1314 non-null object\n",
      "UM_TE         5273 non-null object\n",
      "UM_KLADR      5083 non-null object\n",
      "Unnamed: 9    0 non-null float64\n",
      "dtypes: float64(1), object(9)\n",
      "memory usage: 412.1+ KB\n"
     ]
    }
   ],
   "source": [
    "streets.info()"
   ]
  },
  {
   "cell_type": "code",
   "execution_count": 36,
   "metadata": {},
   "outputs": [
    {
     "data": {
      "text/html": [
       "<div>\n",
       "<style scoped>\n",
       "    .dataframe tbody tr th:only-of-type {\n",
       "        vertical-align: middle;\n",
       "    }\n",
       "\n",
       "    .dataframe tbody tr th {\n",
       "        vertical-align: top;\n",
       "    }\n",
       "\n",
       "    .dataframe thead th {\n",
       "        text-align: right;\n",
       "    }\n",
       "</style>\n",
       "<table border=\"1\" class=\"dataframe\">\n",
       "  <thead>\n",
       "    <tr style=\"text-align: right;\">\n",
       "      <th></th>\n",
       "      <th>Kod</th>\n",
       "      <th>Name</th>\n",
       "      <th>global_id</th>\n",
       "      <th>Latin_name</th>\n",
       "      <th>Type</th>\n",
       "      <th>Kod_okato</th>\n",
       "      <th>Unnamed: 6</th>\n",
       "    </tr>\n",
       "  </thead>\n",
       "  <tbody>\n",
       "    <tr>\n",
       "      <td>0</td>\n",
       "      <td>100</td>\n",
       "      <td>Центральный административный округ</td>\n",
       "      <td>58703558</td>\n",
       "      <td>Czentral`ny'j administrativny'j okrug</td>\n",
       "      <td>2</td>\n",
       "      <td>45286000</td>\n",
       "      <td>NaN</td>\n",
       "    </tr>\n",
       "    <tr>\n",
       "      <td>1</td>\n",
       "      <td>101</td>\n",
       "      <td>район Арбат</td>\n",
       "      <td>58703559</td>\n",
       "      <td>rajon Arbat</td>\n",
       "      <td>3</td>\n",
       "      <td>45286552</td>\n",
       "      <td>NaN</td>\n",
       "    </tr>\n",
       "    <tr>\n",
       "      <td>2</td>\n",
       "      <td>102</td>\n",
       "      <td>Басманный район</td>\n",
       "      <td>58703560</td>\n",
       "      <td>Basmanny'j rajon</td>\n",
       "      <td>3</td>\n",
       "      <td>45286555</td>\n",
       "      <td>NaN</td>\n",
       "    </tr>\n",
       "    <tr>\n",
       "      <td>3</td>\n",
       "      <td>103</td>\n",
       "      <td>район Замоскворечье</td>\n",
       "      <td>58703561</td>\n",
       "      <td>rajon Zamoskvorech`e</td>\n",
       "      <td>3</td>\n",
       "      <td>45286560</td>\n",
       "      <td>NaN</td>\n",
       "    </tr>\n",
       "    <tr>\n",
       "      <td>4</td>\n",
       "      <td>104</td>\n",
       "      <td>Красносельский район</td>\n",
       "      <td>58703562</td>\n",
       "      <td>Krasnosel`skij rajon</td>\n",
       "      <td>3</td>\n",
       "      <td>45286565</td>\n",
       "      <td>NaN</td>\n",
       "    </tr>\n",
       "  </tbody>\n",
       "</table>\n",
       "</div>"
      ],
      "text/plain": [
       "   Kod                                Name  global_id  \\\n",
       "0  100  Центральный административный округ   58703558   \n",
       "1  101                         район Арбат   58703559   \n",
       "2  102                     Басманный район   58703560   \n",
       "3  103                 район Замоскворечье   58703561   \n",
       "4  104                Красносельский район   58703562   \n",
       "\n",
       "                              Latin_name  Type  Kod_okato  Unnamed: 6  \n",
       "0  Czentral`ny'j administrativny'j okrug     2   45286000         NaN  \n",
       "1                            rajon Arbat     3   45286552         NaN  \n",
       "2                       Basmanny'j rajon     3   45286555         NaN  \n",
       "3                   rajon Zamoskvorech`e     3   45286560         NaN  \n",
       "4                   Krasnosel`skij rajon     3   45286565         NaN  "
      ]
     },
     "execution_count": 36,
     "metadata": {},
     "output_type": "execute_result"
    }
   ],
   "source": [
    "r = requests.get(f'https://drive.google.com/u/0/uc?id={id1}&export=download')\n",
    "\n",
    "data = r.content.decode('cp1251')\n",
    "\n",
    "districts = pd.read_csv(StringIO(data), sep = ';')\n",
    "districts.head()"
   ]
  },
  {
   "cell_type": "code",
   "execution_count": 37,
   "metadata": {},
   "outputs": [
    {
     "name": "stdout",
     "output_type": "stream",
     "text": [
      "<class 'pandas.core.frame.DataFrame'>\n",
      "RangeIndex: 158 entries, 0 to 157\n",
      "Data columns (total 7 columns):\n",
      "Kod           158 non-null int64\n",
      "Name          158 non-null object\n",
      "global_id     158 non-null int64\n",
      "Latin_name    158 non-null object\n",
      "Type          158 non-null int64\n",
      "Kod_okato     158 non-null int64\n",
      "Unnamed: 6    0 non-null float64\n",
      "dtypes: float64(1), int64(4), object(2)\n",
      "memory usage: 8.8+ KB\n"
     ]
    }
   ],
   "source": [
    "districts.info()"
   ]
  },
  {
   "cell_type": "markdown",
   "metadata": {},
   "source": [
    "Восстановим ведущий \"0\" в поле `Kod`, потерянный при загрузке. "
   ]
  },
  {
   "cell_type": "code",
   "execution_count": 38,
   "metadata": {},
   "outputs": [],
   "source": [
    "districts['Kod'] = districts['Kod'].astype('object')\n",
    "formatting = lambda x: '{:0>4}'.format(x)\n",
    "districts['Kod'] = districts['Kod'].apply(formatting)"
   ]
  },
  {
   "cell_type": "code",
   "execution_count": 39,
   "metadata": {},
   "outputs": [
    {
     "data": {
      "text/html": [
       "<div>\n",
       "<style scoped>\n",
       "    .dataframe tbody tr th:only-of-type {\n",
       "        vertical-align: middle;\n",
       "    }\n",
       "\n",
       "    .dataframe tbody tr th {\n",
       "        vertical-align: top;\n",
       "    }\n",
       "\n",
       "    .dataframe thead th {\n",
       "        text-align: right;\n",
       "    }\n",
       "</style>\n",
       "<table border=\"1\" class=\"dataframe\">\n",
       "  <thead>\n",
       "    <tr style=\"text-align: right;\">\n",
       "      <th></th>\n",
       "      <th>Kod</th>\n",
       "      <th>Name</th>\n",
       "      <th>global_id</th>\n",
       "      <th>Latin_name</th>\n",
       "      <th>Type</th>\n",
       "      <th>Kod_okato</th>\n",
       "      <th>Unnamed: 6</th>\n",
       "    </tr>\n",
       "  </thead>\n",
       "  <tbody>\n",
       "    <tr>\n",
       "      <td>0</td>\n",
       "      <td>0100</td>\n",
       "      <td>Центральный административный округ</td>\n",
       "      <td>58703558</td>\n",
       "      <td>Czentral`ny'j administrativny'j okrug</td>\n",
       "      <td>2</td>\n",
       "      <td>45286000</td>\n",
       "      <td>NaN</td>\n",
       "    </tr>\n",
       "    <tr>\n",
       "      <td>1</td>\n",
       "      <td>0101</td>\n",
       "      <td>район Арбат</td>\n",
       "      <td>58703559</td>\n",
       "      <td>rajon Arbat</td>\n",
       "      <td>3</td>\n",
       "      <td>45286552</td>\n",
       "      <td>NaN</td>\n",
       "    </tr>\n",
       "    <tr>\n",
       "      <td>2</td>\n",
       "      <td>0102</td>\n",
       "      <td>Басманный район</td>\n",
       "      <td>58703560</td>\n",
       "      <td>Basmanny'j rajon</td>\n",
       "      <td>3</td>\n",
       "      <td>45286555</td>\n",
       "      <td>NaN</td>\n",
       "    </tr>\n",
       "    <tr>\n",
       "      <td>3</td>\n",
       "      <td>0103</td>\n",
       "      <td>район Замоскворечье</td>\n",
       "      <td>58703561</td>\n",
       "      <td>rajon Zamoskvorech`e</td>\n",
       "      <td>3</td>\n",
       "      <td>45286560</td>\n",
       "      <td>NaN</td>\n",
       "    </tr>\n",
       "    <tr>\n",
       "      <td>4</td>\n",
       "      <td>0104</td>\n",
       "      <td>Красносельский район</td>\n",
       "      <td>58703562</td>\n",
       "      <td>Krasnosel`skij rajon</td>\n",
       "      <td>3</td>\n",
       "      <td>45286565</td>\n",
       "      <td>NaN</td>\n",
       "    </tr>\n",
       "  </tbody>\n",
       "</table>\n",
       "</div>"
      ],
      "text/plain": [
       "    Kod                                Name  global_id  \\\n",
       "0  0100  Центральный административный округ   58703558   \n",
       "1  0101                         район Арбат   58703559   \n",
       "2  0102                     Басманный район   58703560   \n",
       "3  0103                 район Замоскворечье   58703561   \n",
       "4  0104                Красносельский район   58703562   \n",
       "\n",
       "                              Latin_name  Type  Kod_okato  Unnamed: 6  \n",
       "0  Czentral`ny'j administrativny'j okrug     2   45286000         NaN  \n",
       "1                            rajon Arbat     3   45286552         NaN  \n",
       "2                       Basmanny'j rajon     3   45286555         NaN  \n",
       "3                   rajon Zamoskvorech`e     3   45286560         NaN  \n",
       "4                   Krasnosel`skij rajon     3   45286565         NaN  "
      ]
     },
     "execution_count": 39,
     "metadata": {},
     "output_type": "execute_result"
    }
   ],
   "source": [
    "districts.head()"
   ]
  },
  {
   "cell_type": "markdown",
   "metadata": {},
   "source": [
    "Добавим коды районов для улиц из таблицы `top_10_streets`."
   ]
  },
  {
   "cell_type": "code",
   "execution_count": 40,
   "metadata": {},
   "outputs": [
    {
     "data": {
      "text/html": [
       "<div>\n",
       "<style scoped>\n",
       "    .dataframe tbody tr th:only-of-type {\n",
       "        vertical-align: middle;\n",
       "    }\n",
       "\n",
       "    .dataframe tbody tr th {\n",
       "        vertical-align: top;\n",
       "    }\n",
       "\n",
       "    .dataframe thead th {\n",
       "        text-align: right;\n",
       "    }\n",
       "</style>\n",
       "<table border=\"1\" class=\"dataframe\">\n",
       "  <thead>\n",
       "    <tr style=\"text-align: right;\">\n",
       "      <th></th>\n",
       "      <th>street</th>\n",
       "      <th>id</th>\n",
       "      <th>UM_TE</th>\n",
       "    </tr>\n",
       "  </thead>\n",
       "  <tbody>\n",
       "    <tr>\n",
       "      <td>0</td>\n",
       "      <td>проспект Мира</td>\n",
       "      <td>203</td>\n",
       "      <td>0105;0301;0309;0310;0312;0313;0317</td>\n",
       "    </tr>\n",
       "    <tr>\n",
       "      <td>1</td>\n",
       "      <td>Профсоюзная улица</td>\n",
       "      <td>181</td>\n",
       "      <td>0701;0704;0707;0709;0710;0712</td>\n",
       "    </tr>\n",
       "    <tr>\n",
       "      <td>2</td>\n",
       "      <td>Ленинградский проспект</td>\n",
       "      <td>170</td>\n",
       "      <td>0201;0202;0214;0217</td>\n",
       "    </tr>\n",
       "    <tr>\n",
       "      <td>3</td>\n",
       "      <td>Пресненская набережная</td>\n",
       "      <td>167</td>\n",
       "      <td>0106</td>\n",
       "    </tr>\n",
       "    <tr>\n",
       "      <td>4</td>\n",
       "      <td>Варшавское шоссе</td>\n",
       "      <td>164</td>\n",
       "      <td>0610;0613;0615;0619;0620;0621;0708;0711;1111</td>\n",
       "    </tr>\n",
       "    <tr>\n",
       "      <td>5</td>\n",
       "      <td>Ленинский проспект</td>\n",
       "      <td>147</td>\n",
       "      <td>0110;0610;0702;0706;0707;0709;0814;0817</td>\n",
       "    </tr>\n",
       "    <tr>\n",
       "      <td>6</td>\n",
       "      <td>проспект Вернадского</td>\n",
       "      <td>128</td>\n",
       "      <td>0702;0706;0814;0815;0817</td>\n",
       "    </tr>\n",
       "    <tr>\n",
       "      <td>7</td>\n",
       "      <td>Кутузовский проспект</td>\n",
       "      <td>114</td>\n",
       "      <td>0805;0819</td>\n",
       "    </tr>\n",
       "    <tr>\n",
       "      <td>8</td>\n",
       "      <td>Каширское шоссе</td>\n",
       "      <td>111</td>\n",
       "      <td>0612;0613;0616;0617</td>\n",
       "    </tr>\n",
       "    <tr>\n",
       "      <td>9</td>\n",
       "      <td>Кировоградская улица</td>\n",
       "      <td>108</td>\n",
       "      <td>0619;0620;0621</td>\n",
       "    </tr>\n",
       "  </tbody>\n",
       "</table>\n",
       "</div>"
      ],
      "text/plain": [
       "                   street   id                                         UM_TE\n",
       "0           проспект Мира  203            0105;0301;0309;0310;0312;0313;0317\n",
       "1       Профсоюзная улица  181                 0701;0704;0707;0709;0710;0712\n",
       "2  Ленинградский проспект  170                           0201;0202;0214;0217\n",
       "3  Пресненская набережная  167                                          0106\n",
       "4        Варшавское шоссе  164  0610;0613;0615;0619;0620;0621;0708;0711;1111\n",
       "5      Ленинский проспект  147       0110;0610;0702;0706;0707;0709;0814;0817\n",
       "6    проспект Вернадского  128                      0702;0706;0814;0815;0817\n",
       "7    Кутузовский проспект  114                                     0805;0819\n",
       "8         Каширское шоссе  111                           0612;0613;0616;0617\n",
       "9    Кировоградская улица  108                                0619;0620;0621"
      ]
     },
     "execution_count": 40,
     "metadata": {},
     "output_type": "execute_result"
    }
   ],
   "source": [
    "top_10_streets = top_10_streets.merge(streets, left_on = 'street', right_on = 'UM_NAMEF')\n",
    "top_10_streets = top_10_streets[['street', 'id', 'UM_TE']]\n",
    "top_10_streets"
   ]
  },
  {
   "cell_type": "markdown",
   "metadata": {},
   "source": [
    "Найдем уникальные районы, по которым проходят топ-10 улиц."
   ]
  },
  {
   "cell_type": "code",
   "execution_count": 41,
   "metadata": {},
   "outputs": [
    {
     "data": {
      "text/plain": [
       "['Мещанский район',\n",
       " 'Пресненский район',\n",
       " 'район Якиманка',\n",
       " 'район Аэропорт',\n",
       " 'район Беговой',\n",
       " 'район Сокол',\n",
       " 'Хорошёвский район',\n",
       " 'Алексеевский район',\n",
       " 'район Марьина Роща',\n",
       " 'Останкинский район',\n",
       " 'район Ростокино',\n",
       " 'район Свиблово',\n",
       " 'Ярославский район',\n",
       " 'Донской район',\n",
       " 'район Москворечье-Сабурово',\n",
       " 'район Нагатино-Садовники',\n",
       " 'Нагорный район',\n",
       " 'район Орехово-Борисово Северное',\n",
       " 'район Орехово-Борисово Южное',\n",
       " 'район Чертаново Северное',\n",
       " 'район Чертаново Центральное',\n",
       " 'район Чертаново Южное',\n",
       " 'Академический район',\n",
       " 'Гагаринский район',\n",
       " 'район Коньково',\n",
       " 'Ломоносовский район',\n",
       " 'Обручевский район',\n",
       " 'район Северное Бутово',\n",
       " 'район Тёплый Стан',\n",
       " 'район Черёмушки',\n",
       " 'район Южное Бутово',\n",
       " 'район Ясенево',\n",
       " 'район Дорогомилово',\n",
       " 'район Проспект Вернадского',\n",
       " 'район Раменки',\n",
       " 'район Тропарёво-Никулино',\n",
       " 'район Фили-Давыдково',\n",
       " 'поселение Щербинка']"
      ]
     },
     "execution_count": 41,
     "metadata": {},
     "output_type": "execute_result"
    }
   ],
   "source": [
    "from itertools import chain\n",
    "\n",
    "get_district = lambda x: x.split(sep = ';')\n",
    "\n",
    "codes_by_top_10_streets = set(chain(*top_10_streets['UM_TE'].apply(get_district).tolist())) #собираем уникальные коды в set \n",
    "districts_by_top_10_streets = districts.query('Kod in @codes_by_top_10_streets')['Name'].tolist()\n",
    "districts_by_top_10_streets"
   ]
  },
  {
   "cell_type": "code",
   "execution_count": 42,
   "metadata": {},
   "outputs": [
    {
     "name": "stdout",
     "output_type": "stream",
     "text": [
      "Всего районов: 38\n"
     ]
    }
   ],
   "source": [
    "print('Всего районов:', len(districts_by_top_10_streets))"
   ]
  },
  {
   "cell_type": "markdown",
   "metadata": {},
   "source": [
    "#### Вывод\n",
    "Самое большое количество ООП находится на проспекте Мира - 203 объекта, второе и третье место по количесту  занимают Профсоюзная улица - 181 объект и Ленинградский проспект - 170 объектов. Почти все улицы из списка топ-10 расположены сразу в нескольких районах Москвы (для 10 улиц - 38 районов), т.е. эти улицы отличаются большой протяженностью. Вероятнее всего, этот фактор повлиял на наличие большого количества ООП на них. Исключением является небольшая улица - Пресненская набережная со 167 объектами. Наличие большого количества объектов на данной улице связано с расположенным на ней Московским международным деловым центром «Москва-Сити»."
   ]
  },
  {
   "cell_type": "markdown",
   "metadata": {},
   "source": [
    "### 3.7. Число улиц с одним объектом общественного питания <a id=\"7\"></a>"
   ]
  },
  {
   "cell_type": "markdown",
   "metadata": {},
   "source": [
    "Найдем количество улиц с одним ООП."
   ]
  },
  {
   "cell_type": "code",
   "execution_count": 43,
   "metadata": {},
   "outputs": [
    {
     "data": {
      "text/plain": [
       "550"
      ]
     },
     "execution_count": 43,
     "metadata": {},
     "output_type": "execute_result"
    }
   ],
   "source": [
    "streets_with_one_object = df.groupby('street')['id'].count().reset_index().query('id == 1')\n",
    "len(streets_with_one_object)"
   ]
  },
  {
   "cell_type": "markdown",
   "metadata": {},
   "source": [
    "Определим, в каких районах расположены такие улицы."
   ]
  },
  {
   "cell_type": "code",
   "execution_count": 44,
   "metadata": {},
   "outputs": [
    {
     "data": {
      "text/html": [
       "<div>\n",
       "<style scoped>\n",
       "    .dataframe tbody tr th:only-of-type {\n",
       "        vertical-align: middle;\n",
       "    }\n",
       "\n",
       "    .dataframe tbody tr th {\n",
       "        vertical-align: top;\n",
       "    }\n",
       "\n",
       "    .dataframe thead th {\n",
       "        text-align: right;\n",
       "    }\n",
       "</style>\n",
       "<table border=\"1\" class=\"dataframe\">\n",
       "  <thead>\n",
       "    <tr style=\"text-align: right;\">\n",
       "      <th></th>\n",
       "      <th>street</th>\n",
       "      <th>id</th>\n",
       "      <th>UM_TE</th>\n",
       "    </tr>\n",
       "  </thead>\n",
       "  <tbody>\n",
       "    <tr>\n",
       "      <td>0</td>\n",
       "      <td>1-й Балтийский переулок</td>\n",
       "      <td>1</td>\n",
       "      <td>0201</td>\n",
       "    </tr>\n",
       "    <tr>\n",
       "      <td>1</td>\n",
       "      <td>1-й Басманный переулок</td>\n",
       "      <td>1</td>\n",
       "      <td>0102;0104</td>\n",
       "    </tr>\n",
       "    <tr>\n",
       "      <td>2</td>\n",
       "      <td>1-й Ботанический проезд</td>\n",
       "      <td>1</td>\n",
       "      <td>0313</td>\n",
       "    </tr>\n",
       "    <tr>\n",
       "      <td>3</td>\n",
       "      <td>1-й Вешняковский проезд</td>\n",
       "      <td>1</td>\n",
       "      <td>0513</td>\n",
       "    </tr>\n",
       "    <tr>\n",
       "      <td>4</td>\n",
       "      <td>1-й Голутвинский переулок</td>\n",
       "      <td>1</td>\n",
       "      <td>0110</td>\n",
       "    </tr>\n",
       "  </tbody>\n",
       "</table>\n",
       "</div>"
      ],
      "text/plain": [
       "                      street  id      UM_TE\n",
       "0    1-й Балтийский переулок   1       0201\n",
       "1     1-й Басманный переулок   1  0102;0104\n",
       "2    1-й Ботанический проезд   1       0313\n",
       "3    1-й Вешняковский проезд   1       0513\n",
       "4  1-й Голутвинский переулок   1       0110"
      ]
     },
     "execution_count": 44,
     "metadata": {},
     "output_type": "execute_result"
    }
   ],
   "source": [
    "streets_with_one_object = streets_with_one_object.merge(streets, left_on = 'street', right_on = 'UM_NAMEF')\n",
    "streets_with_one_object = streets_with_one_object[['street', 'id', 'UM_TE']]\n",
    "streets_with_one_object.head()"
   ]
  },
  {
   "cell_type": "code",
   "execution_count": 45,
   "metadata": {},
   "outputs": [
    {
     "data": {
      "text/plain": [
       "Counter({'0201': 8,\n",
       "         '0102': 25,\n",
       "         '0104': 10,\n",
       "         '0313': 4,\n",
       "         '0513': 5,\n",
       "         '0110': 12,\n",
       "         '1206': 8,\n",
       "         '0109': 26,\n",
       "         '0417': 12,\n",
       "         '0609': 11,\n",
       "         '0105': 17,\n",
       "         '0107': 28,\n",
       "         '0507': 12,\n",
       "         '0511': 4,\n",
       "         '0103': 14,\n",
       "         '0217': 5,\n",
       "         '0101': 17,\n",
       "         '0301': 7,\n",
       "         '0514': 2,\n",
       "         '0312': 5,\n",
       "         '0815': 3,\n",
       "         '0906': 7,\n",
       "         '0903': 3,\n",
       "         '0309': 18,\n",
       "         '0418': 11,\n",
       "         '1103': 5,\n",
       "         '0403': 10,\n",
       "         '0510': 9,\n",
       "         '0108': 20,\n",
       "         '0307': 7,\n",
       "         '0415': 7,\n",
       "         '0811': 5,\n",
       "         '0405': 2,\n",
       "         '0408': 6,\n",
       "         '0416': 2,\n",
       "         '0202': 3,\n",
       "         '0610': 6,\n",
       "         '0406': 4,\n",
       "         '0205': 2,\n",
       "         '0213': 6,\n",
       "         '1111': 10,\n",
       "         '0818': 1,\n",
       "         '0413': 3,\n",
       "         '1104': 6,\n",
       "         '0621': 1,\n",
       "         '0515': 5,\n",
       "         '0207': 5,\n",
       "         '0711': 10,\n",
       "         '0310': 3,\n",
       "         '0214': 4,\n",
       "         '0212': 2,\n",
       "         '0315': 2,\n",
       "         '0807': 6,\n",
       "         '0508': 8,\n",
       "         '0215': 7,\n",
       "         '0813': 9,\n",
       "         '0203': 2,\n",
       "         '1209': 11,\n",
       "         '0703': 4,\n",
       "         '0106': 19,\n",
       "         '0816': 6,\n",
       "         '0208': 6,\n",
       "         '0410': 1,\n",
       "         '1102': 6,\n",
       "         '1106': 6,\n",
       "         '1207': 17,\n",
       "         '0902': 5,\n",
       "         '0809': 8,\n",
       "         '0820': 2,\n",
       "         '0506': 4,\n",
       "         '0710': 2,\n",
       "         '1107': 1,\n",
       "         '0409': 4,\n",
       "         '1203': 1,\n",
       "         '0210': 4,\n",
       "         '0504': 5,\n",
       "         '0901': 2,\n",
       "         '0317': 3,\n",
       "         '0606': 3,\n",
       "         '0702': 1,\n",
       "         '1202': 3,\n",
       "         '1105': 13,\n",
       "         '1108': 6,\n",
       "         '0705': 2,\n",
       "         '0908': 5,\n",
       "         '0905': 1,\n",
       "         '0311': 4,\n",
       "         '1010': 2,\n",
       "         '1012': 2,\n",
       "         '0303': 4,\n",
       "         '1208': 2,\n",
       "         '0805': 4,\n",
       "         '0509': 1,\n",
       "         '1101': 4,\n",
       "         '1204': 7,\n",
       "         '1205': 1,\n",
       "         '0211': 1,\n",
       "         '0407': 1,\n",
       "         '0209': 1,\n",
       "         '0314': 3,\n",
       "         '0615': 4,\n",
       "         '0411': 3,\n",
       "         '0618': 2,\n",
       "         '0302': 1,\n",
       "         '0619': 1,\n",
       "         '0712': 5,\n",
       "         '0708': 2,\n",
       "         '1109': 2,\n",
       "         '1201': 2,\n",
       "         '1009': 1,\n",
       "         '0316': 1,\n",
       "         '0305': 3,\n",
       "         '0414': 1,\n",
       "         '0704': 2,\n",
       "         '0308': 1,\n",
       "         '0707': 1,\n",
       "         '1005': 1,\n",
       "         '0907': 5,\n",
       "         '1210': 1,\n",
       "         '0505': 1,\n",
       "         '0819': 2,\n",
       "         '0612': 1,\n",
       "         '0512': 2})"
      ]
     },
     "execution_count": 45,
     "metadata": {},
     "output_type": "execute_result"
    }
   ],
   "source": [
    "codes_streets_with_one_object = streets_with_one_object['UM_TE'].apply(get_district).sum()\n",
    "count_streets_with_one_object = Counter(codes_streets_with_one_object)\n",
    "count_streets_with_one_object"
   ]
  },
  {
   "cell_type": "code",
   "execution_count": 46,
   "metadata": {},
   "outputs": [
    {
     "data": {
      "text/html": [
       "<div>\n",
       "<style scoped>\n",
       "    .dataframe tbody tr th:only-of-type {\n",
       "        vertical-align: middle;\n",
       "    }\n",
       "\n",
       "    .dataframe tbody tr th {\n",
       "        vertical-align: top;\n",
       "    }\n",
       "\n",
       "    .dataframe thead th {\n",
       "        text-align: right;\n",
       "    }\n",
       "</style>\n",
       "<table border=\"1\" class=\"dataframe\">\n",
       "  <thead>\n",
       "    <tr style=\"text-align: right;\">\n",
       "      <th></th>\n",
       "      <th>index</th>\n",
       "      <th>Name</th>\n",
       "      <th>streets_count</th>\n",
       "    </tr>\n",
       "  </thead>\n",
       "  <tbody>\n",
       "    <tr>\n",
       "      <td>0</td>\n",
       "      <td>0107</td>\n",
       "      <td>Таганский район</td>\n",
       "      <td>28</td>\n",
       "    </tr>\n",
       "    <tr>\n",
       "      <td>1</td>\n",
       "      <td>0109</td>\n",
       "      <td>район Хамовники</td>\n",
       "      <td>26</td>\n",
       "    </tr>\n",
       "    <tr>\n",
       "      <td>2</td>\n",
       "      <td>0102</td>\n",
       "      <td>Басманный район</td>\n",
       "      <td>25</td>\n",
       "    </tr>\n",
       "    <tr>\n",
       "      <td>3</td>\n",
       "      <td>0108</td>\n",
       "      <td>Тверской район</td>\n",
       "      <td>20</td>\n",
       "    </tr>\n",
       "    <tr>\n",
       "      <td>4</td>\n",
       "      <td>0106</td>\n",
       "      <td>Пресненский район</td>\n",
       "      <td>19</td>\n",
       "    </tr>\n",
       "  </tbody>\n",
       "</table>\n",
       "</div>"
      ],
      "text/plain": [
       "  index               Name  streets_count\n",
       "0  0107    Таганский район             28\n",
       "1  0109    район Хамовники             26\n",
       "2  0102    Басманный район             25\n",
       "3  0108     Тверской район             20\n",
       "4  0106  Пресненский район             19"
      ]
     },
     "execution_count": 46,
     "metadata": {},
     "output_type": "execute_result"
    }
   ],
   "source": [
    "districts_by_streets_with_one_object = pd.DataFrame.from_dict(\n",
    "    count_streets_with_one_object, \n",
    "    orient='index', \n",
    "    columns=['streets_count']\n",
    ").sort_values(by = 'streets_count', ascending=False).reset_index()\n",
    "districts_by_streets_with_one_object = districts_by_streets_with_one_object.merge(districts, left_on='index', right_on='Kod')\n",
    "districts_by_streets_with_one_object = districts_by_streets_with_one_object[['index', 'Name', 'streets_count']]\n",
    "districts_by_streets_with_one_object.head()"
   ]
  },
  {
   "cell_type": "code",
   "execution_count": 47,
   "metadata": {},
   "outputs": [
    {
     "data": {
      "text/html": [
       "<div>\n",
       "<style scoped>\n",
       "    .dataframe tbody tr th:only-of-type {\n",
       "        vertical-align: middle;\n",
       "    }\n",
       "\n",
       "    .dataframe tbody tr th {\n",
       "        vertical-align: top;\n",
       "    }\n",
       "\n",
       "    .dataframe thead th {\n",
       "        text-align: right;\n",
       "    }\n",
       "</style>\n",
       "<table border=\"1\" class=\"dataframe\">\n",
       "  <thead>\n",
       "    <tr style=\"text-align: right;\">\n",
       "      <th></th>\n",
       "      <th>index</th>\n",
       "      <th>Name</th>\n",
       "      <th>streets_count</th>\n",
       "    </tr>\n",
       "  </thead>\n",
       "  <tbody>\n",
       "    <tr>\n",
       "      <td>0</td>\n",
       "      <td>0107</td>\n",
       "      <td>Таганский район</td>\n",
       "      <td>28</td>\n",
       "    </tr>\n",
       "    <tr>\n",
       "      <td>1</td>\n",
       "      <td>0109</td>\n",
       "      <td>район Хамовники</td>\n",
       "      <td>26</td>\n",
       "    </tr>\n",
       "    <tr>\n",
       "      <td>2</td>\n",
       "      <td>0102</td>\n",
       "      <td>Басманный район</td>\n",
       "      <td>25</td>\n",
       "    </tr>\n",
       "    <tr>\n",
       "      <td>3</td>\n",
       "      <td>0108</td>\n",
       "      <td>Тверской район</td>\n",
       "      <td>20</td>\n",
       "    </tr>\n",
       "    <tr>\n",
       "      <td>4</td>\n",
       "      <td>0106</td>\n",
       "      <td>Пресненский район</td>\n",
       "      <td>19</td>\n",
       "    </tr>\n",
       "    <tr>\n",
       "      <td>5</td>\n",
       "      <td>0309</td>\n",
       "      <td>район Марьина Роща</td>\n",
       "      <td>18</td>\n",
       "    </tr>\n",
       "    <tr>\n",
       "      <td>6</td>\n",
       "      <td>1207</td>\n",
       "      <td>поселение Первомайское</td>\n",
       "      <td>17</td>\n",
       "    </tr>\n",
       "    <tr>\n",
       "      <td>7</td>\n",
       "      <td>0101</td>\n",
       "      <td>район Арбат</td>\n",
       "      <td>17</td>\n",
       "    </tr>\n",
       "    <tr>\n",
       "      <td>8</td>\n",
       "      <td>0105</td>\n",
       "      <td>Мещанский район</td>\n",
       "      <td>17</td>\n",
       "    </tr>\n",
       "    <tr>\n",
       "      <td>9</td>\n",
       "      <td>0103</td>\n",
       "      <td>район Замоскворечье</td>\n",
       "      <td>14</td>\n",
       "    </tr>\n",
       "    <tr>\n",
       "      <td>10</td>\n",
       "      <td>1105</td>\n",
       "      <td>поселение Марушкинское</td>\n",
       "      <td>13</td>\n",
       "    </tr>\n",
       "    <tr>\n",
       "      <td>11</td>\n",
       "      <td>0507</td>\n",
       "      <td>район Лефортово</td>\n",
       "      <td>12</td>\n",
       "    </tr>\n",
       "    <tr>\n",
       "      <td>12</td>\n",
       "      <td>0417</td>\n",
       "      <td>район Соколиная Гора</td>\n",
       "      <td>12</td>\n",
       "    </tr>\n",
       "    <tr>\n",
       "      <td>13</td>\n",
       "      <td>0110</td>\n",
       "      <td>район Якиманка</td>\n",
       "      <td>12</td>\n",
       "    </tr>\n",
       "    <tr>\n",
       "      <td>14</td>\n",
       "      <td>0418</td>\n",
       "      <td>район Сокольники</td>\n",
       "      <td>11</td>\n",
       "    </tr>\n",
       "  </tbody>\n",
       "</table>\n",
       "</div>"
      ],
      "text/plain": [
       "   index                    Name  streets_count\n",
       "0   0107         Таганский район             28\n",
       "1   0109         район Хамовники             26\n",
       "2   0102         Басманный район             25\n",
       "3   0108          Тверской район             20\n",
       "4   0106       Пресненский район             19\n",
       "5   0309      район Марьина Роща             18\n",
       "6   1207  поселение Первомайское             17\n",
       "7   0101             район Арбат             17\n",
       "8   0105         Мещанский район             17\n",
       "9   0103     район Замоскворечье             14\n",
       "10  1105  поселение Марушкинское             13\n",
       "11  0507         район Лефортово             12\n",
       "12  0417    район Соколиная Гора             12\n",
       "13  0110          район Якиманка             12\n",
       "14  0418        район Сокольники             11"
      ]
     },
     "execution_count": 47,
     "metadata": {},
     "output_type": "execute_result"
    }
   ],
   "source": [
    "districts_by_streets_with_one_object.head(15)"
   ]
  },
  {
   "cell_type": "markdown",
   "metadata": {},
   "source": [
    "Есть ли районы, в которых расположены одновременно и улицы с большим количеством ООП, и улицы с одним объектом?"
   ]
  },
  {
   "cell_type": "code",
   "execution_count": 48,
   "metadata": {},
   "outputs": [
    {
     "data": {
      "text/plain": [
       "5                 Мещанский район\n",
       "6               Пресненский район\n",
       "10                 район Якиманка\n",
       "12                 район Аэропорт\n",
       "13                  район Беговой\n",
       "24                    район Сокол\n",
       "27              Хорошёвский район\n",
       "29             Алексеевский район\n",
       "37             район Марьина Роща\n",
       "38             Останкинский район\n",
       "40                район Ростокино\n",
       "41                 район Свиблово\n",
       "45              Ярославский район\n",
       "81                  Донской район\n",
       "83     район Москворечье-Сабурово\n",
       "86                 Нагорный район\n",
       "90       район Чертаново Северное\n",
       "92          район Чертаново Южное\n",
       "95              Гагаринский район\n",
       "97                 район Коньково\n",
       "100             Обручевский район\n",
       "101         район Северное Бутово\n",
       "103               район Черёмушки\n",
       "104            район Южное Бутово\n",
       "105                 район Ясенево\n",
       "107            район Дорогомилово\n",
       "114                 район Раменки\n",
       "118          район Фили-Давыдково\n",
       "146            поселение Щербинка\n",
       "Name: Name, dtype: object"
      ]
     },
     "execution_count": 48,
     "metadata": {},
     "output_type": "execute_result"
    }
   ],
   "source": [
    "districts.query('Kod in @codes_streets_with_one_object and Kod in @codes_by_top_10_streets')['Name']"
   ]
  },
  {
   "cell_type": "code",
   "execution_count": 49,
   "metadata": {},
   "outputs": [
    {
     "name": "stdout",
     "output_type": "stream",
     "text": [
      "Всего районов: 29\n"
     ]
    }
   ],
   "source": [
    "print('Всего районов:',\n",
    "      len(districts.query('Kod in @codes_streets_with_one_object and Kod in @codes_by_top_10_streets')['Name'].tolist()))"
   ]
  },
  {
   "cell_type": "markdown",
   "metadata": {},
   "source": [
    "#### Вывод\n",
    "На 550 улицах Москвы расположено по одному ООП. Данные улицы проходят через 123 района Москвы. При этом 29 районов из них содержат и улицы с большим количеством объектов общественного питания. \n",
    "Топ-5 районов с наибольшим числом улиц, на которых расположен только один ООП, находятся в центре Москвы, а в топ 15 входят уже 9 из 10 районов Центрального административного округа Москвы. Возможно в историческом центре города очень много маленьких улиц, тупиков, поэтому на них расположено всего по одному заведению. Не рекомендую принимать решение о выборе района расположения объекта общественного питания по наличию или отсутствию улиц с одним ООП, необходимо рассматривать каждую интересующую улицу отдельно."
   ]
  },
  {
   "cell_type": "markdown",
   "metadata": {},
   "source": [
    "### 3.8. Распределение количества посадочных мест для улиц с большим количеством объектов общественного питания <a id=\"8\"></a>"
   ]
  },
  {
   "cell_type": "markdown",
   "metadata": {},
   "source": [
    "Рассмотрим распределение количества посадочных мест в объектах, расположенных на улицах из `top_10_streets`."
   ]
  },
  {
   "cell_type": "code",
   "execution_count": 50,
   "metadata": {
    "scrolled": false
   },
   "outputs": [
    {
     "data": {
      "image/png": "[encoded data removed]",
      "text/plain": [
       "<Figure size 1080x576 with 1 Axes>"
      ]
     },
     "metadata": {},
     "output_type": "display_data"
    }
   ],
   "source": [
    "streets_list = top_10_streets['street'].tolist()\n",
    "top_10_streets_objects = df.query('street in @streets_list')\n",
    "\n",
    "plt.figure(figsize = (15, 8))\n",
    "ax = sns.distplot(top_10_streets_objects['number'])\n",
    "\n",
    "plt.title('Распределение количества посадочных мест для улиц с большим количеством объектов общественного питания', \n",
    "          fontsize = 15)\n",
    "plt.ylabel('Плотность распределения', fontsize = 12)\n",
    "plt.xlabel('Количество посадочных мест', fontsize = 12)\n",
    "\n",
    "plt.show()"
   ]
  },
  {
   "cell_type": "code",
   "execution_count": 51,
   "metadata": {},
   "outputs": [
    {
     "data": {
      "text/plain": [
       "count    1493.000000\n",
       "mean       58.219022\n",
       "std        90.183093\n",
       "min         0.000000\n",
       "25%        12.000000\n",
       "50%        40.000000\n",
       "75%        75.000000\n",
       "max      1700.000000\n",
       "Name: number, dtype: float64"
      ]
     },
     "execution_count": 51,
     "metadata": {},
     "output_type": "execute_result"
    }
   ],
   "source": [
    "top_10_streets_objects['number'].describe()"
   ]
  },
  {
   "cell_type": "code",
   "execution_count": 52,
   "metadata": {},
   "outputs": [
    {
     "data": {
      "image/png": "[encoded data removed]",
      "text/plain": [
       "<Figure size 1080x576 with 1 Axes>"
      ]
     },
     "metadata": {},
     "output_type": "display_data"
    }
   ],
   "source": [
    "plt.figure(figsize = (15, 8))\n",
    "ax = sns.boxplot(x = 'number', y = 'chain', data = top_10_streets_objects)\n",
    "\n",
    "plt.title('Распределение количества посадочных мест для улиц с большим количеством объектов общественного питания', \n",
    "          fontsize = 15)\n",
    "plt.ylabel('Сетевые', fontsize = 12)\n",
    "plt.xlabel('Количество посадочных мест', fontsize = 12)\n",
    "\n",
    "plt.show()"
   ]
  },
  {
   "cell_type": "markdown",
   "metadata": {},
   "source": [
    "Рассмотрим распределение количества посадочных мест для улиц из списка топ-10."
   ]
  },
  {
   "cell_type": "code",
   "execution_count": 53,
   "metadata": {},
   "outputs": [
    {
     "data": {
      "image/png": "[encoded data removed]",
      "text/plain": [
       "<Figure size 1080x576 with 1 Axes>"
      ]
     },
     "metadata": {},
     "output_type": "display_data"
    }
   ],
   "source": [
    "plt.figure(figsize = (15, 8))\n",
    "ax = sns.boxplot(y = 'number', x = 'street', data = top_10_streets_objects)\n",
    "\n",
    "plt.title('Распределение количества посадочных мест по улицам с большим количеством объектов общественного питания', \n",
    "          fontsize = 15)\n",
    "plt.ylabel('Количество посадочных мест', fontsize = 12)\n",
    "plt.xlabel('Наименование улицы', fontsize = 12)\n",
    "plt.xticks(rotation = 45)\n",
    "\n",
    "plt.show()"
   ]
  },
  {
   "cell_type": "code",
   "execution_count": 54,
   "metadata": {},
   "outputs": [
    {
     "data": {
      "text/html": [
       "<div>\n",
       "<style scoped>\n",
       "    .dataframe tbody tr th:only-of-type {\n",
       "        vertical-align: middle;\n",
       "    }\n",
       "\n",
       "    .dataframe tbody tr th {\n",
       "        vertical-align: top;\n",
       "    }\n",
       "\n",
       "    .dataframe thead th {\n",
       "        text-align: right;\n",
       "    }\n",
       "</style>\n",
       "<table border=\"1\" class=\"dataframe\">\n",
       "  <thead>\n",
       "    <tr style=\"text-align: right;\">\n",
       "      <th></th>\n",
       "      <th>count</th>\n",
       "      <th>mean</th>\n",
       "      <th>std</th>\n",
       "      <th>min</th>\n",
       "      <th>25%</th>\n",
       "      <th>50%</th>\n",
       "      <th>75%</th>\n",
       "      <th>max</th>\n",
       "    </tr>\n",
       "    <tr>\n",
       "      <th>street</th>\n",
       "      <th></th>\n",
       "      <th></th>\n",
       "      <th></th>\n",
       "      <th></th>\n",
       "      <th></th>\n",
       "      <th></th>\n",
       "      <th></th>\n",
       "      <th></th>\n",
       "    </tr>\n",
       "  </thead>\n",
       "  <tbody>\n",
       "    <tr>\n",
       "      <td>Варшавское шоссе</td>\n",
       "      <td>164.0</td>\n",
       "      <td>52.475610</td>\n",
       "      <td>74.530387</td>\n",
       "      <td>0.0</td>\n",
       "      <td>8.0</td>\n",
       "      <td>30.0</td>\n",
       "      <td>64.25</td>\n",
       "      <td>500.0</td>\n",
       "    </tr>\n",
       "    <tr>\n",
       "      <td>Каширское шоссе</td>\n",
       "      <td>111.0</td>\n",
       "      <td>55.504505</td>\n",
       "      <td>87.962376</td>\n",
       "      <td>0.0</td>\n",
       "      <td>7.0</td>\n",
       "      <td>25.0</td>\n",
       "      <td>77.50</td>\n",
       "      <td>680.0</td>\n",
       "    </tr>\n",
       "    <tr>\n",
       "      <td>Кировоградская улица</td>\n",
       "      <td>108.0</td>\n",
       "      <td>59.787037</td>\n",
       "      <td>79.480327</td>\n",
       "      <td>0.0</td>\n",
       "      <td>6.0</td>\n",
       "      <td>30.0</td>\n",
       "      <td>65.50</td>\n",
       "      <td>300.0</td>\n",
       "    </tr>\n",
       "    <tr>\n",
       "      <td>Кутузовский проспект</td>\n",
       "      <td>114.0</td>\n",
       "      <td>85.061404</td>\n",
       "      <td>194.464196</td>\n",
       "      <td>0.0</td>\n",
       "      <td>20.0</td>\n",
       "      <td>40.0</td>\n",
       "      <td>96.00</td>\n",
       "      <td>1700.0</td>\n",
       "    </tr>\n",
       "    <tr>\n",
       "      <td>Ленинградский проспект</td>\n",
       "      <td>170.0</td>\n",
       "      <td>52.764706</td>\n",
       "      <td>63.361020</td>\n",
       "      <td>0.0</td>\n",
       "      <td>15.0</td>\n",
       "      <td>40.0</td>\n",
       "      <td>70.00</td>\n",
       "      <td>625.0</td>\n",
       "    </tr>\n",
       "    <tr>\n",
       "      <td>Ленинский проспект</td>\n",
       "      <td>147.0</td>\n",
       "      <td>63.469388</td>\n",
       "      <td>67.969706</td>\n",
       "      <td>0.0</td>\n",
       "      <td>20.0</td>\n",
       "      <td>45.0</td>\n",
       "      <td>80.00</td>\n",
       "      <td>495.0</td>\n",
       "    </tr>\n",
       "    <tr>\n",
       "      <td>Пресненская набережная</td>\n",
       "      <td>167.0</td>\n",
       "      <td>45.844311</td>\n",
       "      <td>65.316834</td>\n",
       "      <td>0.0</td>\n",
       "      <td>8.5</td>\n",
       "      <td>30.0</td>\n",
       "      <td>50.00</td>\n",
       "      <td>478.0</td>\n",
       "    </tr>\n",
       "    <tr>\n",
       "      <td>Профсоюзная улица</td>\n",
       "      <td>181.0</td>\n",
       "      <td>46.668508</td>\n",
       "      <td>56.195201</td>\n",
       "      <td>0.0</td>\n",
       "      <td>5.0</td>\n",
       "      <td>24.0</td>\n",
       "      <td>65.00</td>\n",
       "      <td>240.0</td>\n",
       "    </tr>\n",
       "    <tr>\n",
       "      <td>проспект Вернадского</td>\n",
       "      <td>128.0</td>\n",
       "      <td>68.804688</td>\n",
       "      <td>123.295181</td>\n",
       "      <td>0.0</td>\n",
       "      <td>20.0</td>\n",
       "      <td>40.0</td>\n",
       "      <td>80.00</td>\n",
       "      <td>1288.0</td>\n",
       "    </tr>\n",
       "    <tr>\n",
       "      <td>проспект Мира</td>\n",
       "      <td>203.0</td>\n",
       "      <td>63.004926</td>\n",
       "      <td>58.952615</td>\n",
       "      <td>0.0</td>\n",
       "      <td>20.0</td>\n",
       "      <td>48.0</td>\n",
       "      <td>90.00</td>\n",
       "      <td>326.0</td>\n",
       "    </tr>\n",
       "  </tbody>\n",
       "</table>\n",
       "</div>"
      ],
      "text/plain": [
       "                        count       mean         std  min   25%   50%    75%  \\\n",
       "street                                                                         \n",
       "Варшавское шоссе        164.0  52.475610   74.530387  0.0   8.0  30.0  64.25   \n",
       "Каширское шоссе         111.0  55.504505   87.962376  0.0   7.0  25.0  77.50   \n",
       "Кировоградская улица    108.0  59.787037   79.480327  0.0   6.0  30.0  65.50   \n",
       "Кутузовский проспект    114.0  85.061404  194.464196  0.0  20.0  40.0  96.00   \n",
       "Ленинградский проспект  170.0  52.764706   63.361020  0.0  15.0  40.0  70.00   \n",
       "Ленинский проспект      147.0  63.469388   67.969706  0.0  20.0  45.0  80.00   \n",
       "Пресненская набережная  167.0  45.844311   65.316834  0.0   8.5  30.0  50.00   \n",
       "Профсоюзная улица       181.0  46.668508   56.195201  0.0   5.0  24.0  65.00   \n",
       "проспект Вернадского    128.0  68.804688  123.295181  0.0  20.0  40.0  80.00   \n",
       "проспект Мира           203.0  63.004926   58.952615  0.0  20.0  48.0  90.00   \n",
       "\n",
       "                           max  \n",
       "street                          \n",
       "Варшавское шоссе         500.0  \n",
       "Каширское шоссе          680.0  \n",
       "Кировоградская улица     300.0  \n",
       "Кутузовский проспект    1700.0  \n",
       "Ленинградский проспект   625.0  \n",
       "Ленинский проспект       495.0  \n",
       "Пресненская набережная   478.0  \n",
       "Профсоюзная улица        240.0  \n",
       "проспект Вернадского    1288.0  \n",
       "проспект Мира            326.0  "
      ]
     },
     "execution_count": 54,
     "metadata": {},
     "output_type": "execute_result"
    }
   ],
   "source": [
    "top_10_streets_objects.groupby('street')['number'].describe()"
   ]
  },
  {
   "cell_type": "markdown",
   "metadata": {},
   "source": [
    "#### Вывод\n",
    "Для ООП, расположенных на улицах с большим количеством объектов, характерно наличие меньшего количества посадочных мест, чем в общем по городу. У 75% объектов не больше 75 посадочных мест. В среднем 37 - 59 мест. Наименьшее среднее количество мест у объектов, расположенных на Пресненской набережной, которая отличается от остальных улиц большой плотностью расположения ООП.  "
   ]
  },
  {
   "cell_type": "markdown",
   "metadata": {},
   "source": [
    "## 4. Общие выводы <a id=\"conclusion\"></a>"
   ]
  },
  {
   "cell_type": "markdown",
   "metadata": {},
   "source": [
    "«Кафе» - самый распространенный тип объекта общественного питания в Москве: 40% объектов данного типа. На втором месте по количеству объектов тип \"столовая\" - 17%, на третьем - \"ресторан\" - 15%.\n",
    "\n",
    "Сетевые заведения занимают лишь пятую часть от общего числа ООП. Сетевое распространение ниболее характерно для предприятий быстрого обслуживания и магазинов (отделов кулинарии). Наименьшее сетевое распространение получили столовые, буфеты и бары.\n",
    "\n",
    "Для сетевых заведений характерно в среднем 11 объектов со средним количеством посадочных мест - 55. При этом количество посадочных мест в крупных сетях меньше - в среднем 44.\n",
    "\n",
    "Самое большое количество посадочных мест в среднем предоставляет «столовая» - 130 мест. На втором месте \"рестораны\" - 97 посадочных мест.\n",
    "\n",
    "10% всех объектов общественного питания находятся на 10 улицах Москвы, отличающиеся большой протяженностью. Исключением является небольшая улица - Пресненская набережная со 167 объектами. Наличие большого количества объектов на данной улице связано с расположенным на ней Московским международным деловым центром «Москва-Сити». \n",
    "\n",
    "Для заведений, расположенных на улицах с большим количеством объектов общественного питания, характерно наличие меньшего количества посадочных мест, чем в общем по городу. Наименьшее среднее количество мест у объектов, расположенных на Пресненской набережной, которая отличается от остальных улиц большой плотностью расположения ООП - 37 мест.\n",
    "\n",
    "Самое большое количество улиц с одним ООП находятся в центральных районах Москвы. Возможно это связано с наличием в историческом центре города большого количества маленьких улиц.\n",
    "\n",
    "\n",
    "**Рекомендации:**\n",
    "1. Вид заведения - **кафе**. Данный тип объекта общественного питания является наиболее распространенным, а значит и наиболее жизнеспособным. Доля объектов с типом \"кафе\" - 40%. При успешности заведения и последующем открытии сети заведений тип объекта \"кафе\" также будет востребованным: доля сетевых кафе среди всех заведений данного типа - 23%.\n",
    "2. Количество посадочных мест - **40**. В среднем в кафе 40 посадочных мест. Это оптимальное количество и для сетевых и несетевых заведений, подходящее и для расположения в районах с большим количеством объектов общественного питания.\n",
    "3. Район расположения - **Пресненская набережная**. Данное расположение обеспечит большое скопление потенциальных клиентов, стабильный трафик, т.к. на данной территории большое количество офисов и близко расположены станции метро. На данный момент на небольшой улице расположено 167 объектов общественного питания. За счет нового формата кафе заведение может выиграть в высокой конкурентной борьбе.\n",
    "4. Возможность развития сети. Закономерным путем развития будет открытие сети кафе, в которых будут обслуживать роботы. Для сетевых заведений характерно небольшое количество объектов в сети (в 75% сетей до 7 объектов) с количеством посадочных мест  в среднем - 55. "
   ]
  },
  {
   "cell_type": "markdown",
   "metadata": {},
   "source": [
    "Презентация: <https://yadi.sk/i/S2ord7L4L7RCJQ>"
   ]
  },
  {
   "cell_type": "code",
   "execution_count": null,
   "metadata": {},
   "outputs": [],
   "source": []
  }
 ],
 "metadata": {
  "kernelspec": {
   "display_name": "Python 3",
   "language": "python",
   "name": "python3"
  },
  "language_info": {
   "codemirror_mode": {
    "name": "ipython",
    "version": 3
   },
   "file_extension": ".py",
   "mimetype": "text/x-python",
   "name": "python",
   "nbconvert_exporter": "python",
   "pygments_lexer": "ipython3",
   "version": "3.8.5"
  },
  "toc": {
   "base_numbering": 1,
   "nav_menu": {},
   "number_sections": true,
   "sideBar": true,
   "skip_h1_title": false,
   "title_cell": "Table of Contents",
   "title_sidebar": "Contents",
   "toc_cell": false,
   "toc_position": {},
   "toc_section_display": true,
   "toc_window_display": false
  }
 },
 "nbformat": 4,
 "nbformat_minor": 2
}
