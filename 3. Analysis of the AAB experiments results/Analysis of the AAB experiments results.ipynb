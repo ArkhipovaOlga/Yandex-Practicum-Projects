{
 "cells": [
  {
   "cell_type": "markdown",
   "metadata": {},
   "source": [
    "# Анализ результатов А/А/В-эксперимента"
   ]
  },
  {
   "cell_type": "markdown",
   "metadata": {},
   "source": [
    "**Содержание**\n",
    "\n",
    "[Описание проекта](#description)\n",
    "1. [Общая информация](#start)\n",
    "2. [Подготовка данных](#preprocessing)\n",
    "3. [Изучение и проверка данных](#analysis)   \n",
    "    3.1. [Сколько всего событий в логе?](#1)     \n",
    "    3.2. [Сколько всего пользователей в логе?](#2)    \n",
    "    3.3. [Сколько в среднем событий приходится на пользователя?](#3)    \n",
    "    3.4. [Определение временного периода](#4)  \n",
    "    3.5. [Проверка наличия пользователей во всех экспериментальных группах](#5)\n",
    "4. [Воронка событий](#funnel) \n",
    "5. [Результаты A/A/B-эксперимента](#experiment)\n",
    "6. [Общий вывод](#conclusion)   "
   ]
  },
  {
   "cell_type": "markdown",
   "metadata": {},
   "source": [
    "## Описание проекта <a id=\"description\"></a>"
   ]
  },
  {
   "cell_type": "markdown",
   "metadata": {},
   "source": [
    "Стартап продаёт продукты питания. Нужно разобраться, как ведут себя пользователи вашего мобильного приложения:  \n",
    "Изучить воронку продаж. Узнать, как пользователи доходят до покупки. Сколько пользователей доходит до покупки, а сколько — «застревает» на предыдущих шагах? На каких именно?  \n",
    "После этого исследовать результаты A/A/B-эксперимента. Дизайнеры захотели поменять шрифты во всём приложении, а менеджеры испугались, что пользователям будет непривычно. Договорились принять решение по результатам A/A/B-теста. Пользователей разбили на 3 группы: 2 контрольные со старыми шрифтами и одну экспериментальную — с новыми. Необходимо выяснить, какой шрифт лучше.   "
   ]
  },
  {
   "cell_type": "markdown",
   "metadata": {},
   "source": [
    "**План работ**\n",
    "\n",
    "**Шаг 1. Открыть файл с данными и изучить общую информацию**  \n",
    "Путь к файлу: /datasets/logs_exp.csv.\n",
    "\n",
    "**Шаг 2. Подготовить данные**  \n",
    "* Заменить названия столбцов на удобные;\n",
    "* Проверить пропуски и типы данных. Откорректировать, если нужно;\n",
    "* Добавить столбец даты и времени, а также отдельный столбец дат;\n",
    "\n",
    "**Шаг 3. Изучить и проверить данные**  \n",
    "* Сколько всего событий в логе?\n",
    "* Сколько всего пользователей в логе?\n",
    "* Сколько в среднем событий приходится на пользователя?\n",
    "* Данными за какой период мы располагаем? Найти максимальную и минимальную дату. Построить гистограмму по дате и времени. Можно ли быть уверенным, что у нас одинаково полные данные за весь период? Технически в логи новых дней по некоторым пользователям могут «доезжать» события из прошлого — это может «перекашивать данные». Определить, с какого момента данные полные и отбросить более старые. Данными за какой период времени мы располагаем на самом деле?\n",
    "* Много ли событий и пользователей потеряли, отбросив старые данные?\n",
    "* Проверить, что есть пользователи из всех трёх экспериментальных групп.\n",
    "\n",
    "**Шаг 4. Изучить воронку событий**  \n",
    "* Посмотреть, какие события есть в логах, как часто они встречаются. Отсортировать события по частоте.\n",
    "* Посчитать, сколько пользователей совершали каждое из этих событий. Отсортировать события по числу пользователей. Посчитать долю пользователей, которые хоть раз совершали событие.\n",
    "* Предположить, в каком порядке происходят события. Все ли они выстраиваются в последовательную цепочку? Их не нужно учитывать при расчёте воронки.\n",
    "* По воронке событий посчитать, какая доля пользователей проходит на следующий шаг воронки (от числа пользователей на предыдущем). То есть для последовательности событий A → B → C посчитать отношение числа пользователей с событием B к количеству пользователей с событием A, а также отношение числа пользователей с событием C к количеству пользователей с событием B.\n",
    "* На каком шаге теряется больше всего пользователей?\n",
    "* Какая доля пользователей доходит от первого события до оплаты?\n",
    "\n",
    "**Шаг 5. Изучить результаты эксперимента**  \n",
    "* Сколько пользователей в каждой экспериментальной группе?\n",
    "* Есть 2 контрольные группы для А/А-эксперимента, чтобы проверить корректность всех механизмов и расчётов. Проверить, находят ли статистические критерии разницу между выборками 246 и 247.\n",
    "* Выбрать самое популярное событие. Посчитать число пользователей, совершивших это событие в каждой из контрольных групп. Посчитать долю пользователей, совершивших это событие. Проверить, будет ли отличие между группами статистически достоверным. Проделать то же самое для всех других событий (удобно обернуть проверку в отдельную функцию). Можно ли сказать, что разбиение на группы работает корректно?\n",
    "* Аналогично поступить с группой с изменённым шрифтом. Сравнить результаты с каждой из контрольных групп в отдельности по каждому событию. Сравнить результаты с объединённой контрольной группой. Какие выводы из эксперимента можно сделать?\n",
    "* Какой уровень значимости был выбран при проверке статистических гипотез выше? Посчитать, сколько проверок статистических гипотез сделали. При уровне значимости 0.1 каждый десятый раз можно получать ложный результат. Какой уровень значимости стоит применить? При желании изменить его проделать предыдущие пункты и проверить выводы."
   ]
  },
  {
   "cell_type": "markdown",
   "metadata": {},
   "source": [
    "**Описание данных**  \n",
    "Каждая запись в логе — это действие пользователя, или событие.\n",
    "* `EventName` — название события;\n",
    "* `DeviceIDHash` — уникальный идентификатор пользователя;\n",
    "* `EventTimestamp` — время события;\n",
    "* `ExpId` — номер эксперимента: 246 и 247 — контрольные группы, а 248 — экспериментальная."
   ]
  },
  {
   "cell_type": "markdown",
   "metadata": {},
   "source": [
    "## 1. Общая информация <a id=\"start\"></a>"
   ]
  },
  {
   "cell_type": "code",
   "execution_count": 1,
   "metadata": {},
   "outputs": [],
   "source": [
    "import pandas as pd\n",
    "import numpy as np\n",
    "import matplotlib.pyplot as plt\n",
    "import seaborn as sns\n",
    "from scipy import stats as st\n",
    "import math as mth\n",
    "import warnings\n",
    "warnings.filterwarnings(\"ignore\")\n",
    "\n",
    "plt.style.use('ggplot')\n",
    "sns.set_style(\"dark\") "
   ]
  },
  {
   "cell_type": "markdown",
   "metadata": {},
   "source": [
    "Загрузим лог и рассмотрим общую информацию о таблице."
   ]
  },
  {
   "cell_type": "code",
   "execution_count": 2,
   "metadata": {},
   "outputs": [
    {
     "data": {
      "text/html": [
       "<div>\n",
       "<style scoped>\n",
       "    .dataframe tbody tr th:only-of-type {\n",
       "        vertical-align: middle;\n",
       "    }\n",
       "\n",
       "    .dataframe tbody tr th {\n",
       "        vertical-align: top;\n",
       "    }\n",
       "\n",
       "    .dataframe thead th {\n",
       "        text-align: right;\n",
       "    }\n",
       "</style>\n",
       "<table border=\"1\" class=\"dataframe\">\n",
       "  <thead>\n",
       "    <tr style=\"text-align: right;\">\n",
       "      <th></th>\n",
       "      <th>EventName</th>\n",
       "      <th>DeviceIDHash</th>\n",
       "      <th>EventTimestamp</th>\n",
       "      <th>ExpId</th>\n",
       "    </tr>\n",
       "  </thead>\n",
       "  <tbody>\n",
       "    <tr>\n",
       "      <td>0</td>\n",
       "      <td>MainScreenAppear</td>\n",
       "      <td>4575588528974610257</td>\n",
       "      <td>1564029816</td>\n",
       "      <td>246</td>\n",
       "    </tr>\n",
       "    <tr>\n",
       "      <td>1</td>\n",
       "      <td>MainScreenAppear</td>\n",
       "      <td>7416695313311560658</td>\n",
       "      <td>1564053102</td>\n",
       "      <td>246</td>\n",
       "    </tr>\n",
       "    <tr>\n",
       "      <td>2</td>\n",
       "      <td>PaymentScreenSuccessful</td>\n",
       "      <td>3518123091307005509</td>\n",
       "      <td>1564054127</td>\n",
       "      <td>248</td>\n",
       "    </tr>\n",
       "    <tr>\n",
       "      <td>3</td>\n",
       "      <td>CartScreenAppear</td>\n",
       "      <td>3518123091307005509</td>\n",
       "      <td>1564054127</td>\n",
       "      <td>248</td>\n",
       "    </tr>\n",
       "    <tr>\n",
       "      <td>4</td>\n",
       "      <td>PaymentScreenSuccessful</td>\n",
       "      <td>6217807653094995999</td>\n",
       "      <td>1564055322</td>\n",
       "      <td>248</td>\n",
       "    </tr>\n",
       "    <tr>\n",
       "      <td>5</td>\n",
       "      <td>CartScreenAppear</td>\n",
       "      <td>6217807653094995999</td>\n",
       "      <td>1564055323</td>\n",
       "      <td>248</td>\n",
       "    </tr>\n",
       "    <tr>\n",
       "      <td>6</td>\n",
       "      <td>OffersScreenAppear</td>\n",
       "      <td>8351860793733343758</td>\n",
       "      <td>1564066242</td>\n",
       "      <td>246</td>\n",
       "    </tr>\n",
       "    <tr>\n",
       "      <td>7</td>\n",
       "      <td>MainScreenAppear</td>\n",
       "      <td>5682100281902512875</td>\n",
       "      <td>1564085677</td>\n",
       "      <td>246</td>\n",
       "    </tr>\n",
       "    <tr>\n",
       "      <td>8</td>\n",
       "      <td>MainScreenAppear</td>\n",
       "      <td>1850981295691852772</td>\n",
       "      <td>1564086702</td>\n",
       "      <td>247</td>\n",
       "    </tr>\n",
       "    <tr>\n",
       "      <td>9</td>\n",
       "      <td>MainScreenAppear</td>\n",
       "      <td>5407636962369102641</td>\n",
       "      <td>1564112112</td>\n",
       "      <td>246</td>\n",
       "    </tr>\n",
       "  </tbody>\n",
       "</table>\n",
       "</div>"
      ],
      "text/plain": [
       "                 EventName         DeviceIDHash  EventTimestamp  ExpId\n",
       "0         MainScreenAppear  4575588528974610257      1564029816    246\n",
       "1         MainScreenAppear  7416695313311560658      1564053102    246\n",
       "2  PaymentScreenSuccessful  3518123091307005509      1564054127    248\n",
       "3         CartScreenAppear  3518123091307005509      1564054127    248\n",
       "4  PaymentScreenSuccessful  6217807653094995999      1564055322    248\n",
       "5         CartScreenAppear  6217807653094995999      1564055323    248\n",
       "6       OffersScreenAppear  8351860793733343758      1564066242    246\n",
       "7         MainScreenAppear  5682100281902512875      1564085677    246\n",
       "8         MainScreenAppear  1850981295691852772      1564086702    247\n",
       "9         MainScreenAppear  5407636962369102641      1564112112    246"
      ]
     },
     "execution_count": 2,
     "metadata": {},
     "output_type": "execute_result"
    }
   ],
   "source": [
    "df = pd.read_csv('/datasets/logs_exp.csv', sep = '\\t')\n",
    "df.head(10)"
   ]
  },
  {
   "cell_type": "code",
   "execution_count": 3,
   "metadata": {},
   "outputs": [
    {
     "name": "stdout",
     "output_type": "stream",
     "text": [
      "<class 'pandas.core.frame.DataFrame'>\n",
      "RangeIndex: 244126 entries, 0 to 244125\n",
      "Data columns (total 4 columns):\n",
      "EventName         244126 non-null object\n",
      "DeviceIDHash      244126 non-null int64\n",
      "EventTimestamp    244126 non-null int64\n",
      "ExpId             244126 non-null int64\n",
      "dtypes: int64(3), object(1)\n",
      "memory usage: 7.5+ MB\n"
     ]
    }
   ],
   "source": [
    "df.info()"
   ]
  },
  {
   "cell_type": "markdown",
   "metadata": {},
   "source": [
    "### Вывод\n",
    "В таблице отсутствуют пропуски и типы данных соответствуют содержимому.\n",
    "План подготовки данных для анализа:\n",
    "* заменить названия столбцов на удобные,\n",
    "* проверить на наличие дубликатов,\n",
    "* добавить столбец даты и времени,\n",
    "* добавить столбец даты."
   ]
  },
  {
   "cell_type": "markdown",
   "metadata": {},
   "source": [
    "## 2. Подготовка данных <a id=\"preprocessing\"></a>"
   ]
  },
  {
   "cell_type": "markdown",
   "metadata": {},
   "source": [
    "Переименуем столбцы."
   ]
  },
  {
   "cell_type": "code",
   "execution_count": 4,
   "metadata": {},
   "outputs": [
    {
     "data": {
      "text/html": [
       "<div>\n",
       "<style scoped>\n",
       "    .dataframe tbody tr th:only-of-type {\n",
       "        vertical-align: middle;\n",
       "    }\n",
       "\n",
       "    .dataframe tbody tr th {\n",
       "        vertical-align: top;\n",
       "    }\n",
       "\n",
       "    .dataframe thead th {\n",
       "        text-align: right;\n",
       "    }\n",
       "</style>\n",
       "<table border=\"1\" class=\"dataframe\">\n",
       "  <thead>\n",
       "    <tr style=\"text-align: right;\">\n",
       "      <th></th>\n",
       "      <th>event_name</th>\n",
       "      <th>uid</th>\n",
       "      <th>event_ts</th>\n",
       "      <th>experiment_id</th>\n",
       "    </tr>\n",
       "  </thead>\n",
       "  <tbody>\n",
       "    <tr>\n",
       "      <td>0</td>\n",
       "      <td>MainScreenAppear</td>\n",
       "      <td>4575588528974610257</td>\n",
       "      <td>1564029816</td>\n",
       "      <td>246</td>\n",
       "    </tr>\n",
       "    <tr>\n",
       "      <td>1</td>\n",
       "      <td>MainScreenAppear</td>\n",
       "      <td>7416695313311560658</td>\n",
       "      <td>1564053102</td>\n",
       "      <td>246</td>\n",
       "    </tr>\n",
       "    <tr>\n",
       "      <td>2</td>\n",
       "      <td>PaymentScreenSuccessful</td>\n",
       "      <td>3518123091307005509</td>\n",
       "      <td>1564054127</td>\n",
       "      <td>248</td>\n",
       "    </tr>\n",
       "    <tr>\n",
       "      <td>3</td>\n",
       "      <td>CartScreenAppear</td>\n",
       "      <td>3518123091307005509</td>\n",
       "      <td>1564054127</td>\n",
       "      <td>248</td>\n",
       "    </tr>\n",
       "    <tr>\n",
       "      <td>4</td>\n",
       "      <td>PaymentScreenSuccessful</td>\n",
       "      <td>6217807653094995999</td>\n",
       "      <td>1564055322</td>\n",
       "      <td>248</td>\n",
       "    </tr>\n",
       "  </tbody>\n",
       "</table>\n",
       "</div>"
      ],
      "text/plain": [
       "                event_name                  uid    event_ts  experiment_id\n",
       "0         MainScreenAppear  4575588528974610257  1564029816            246\n",
       "1         MainScreenAppear  7416695313311560658  1564053102            246\n",
       "2  PaymentScreenSuccessful  3518123091307005509  1564054127            248\n",
       "3         CartScreenAppear  3518123091307005509  1564054127            248\n",
       "4  PaymentScreenSuccessful  6217807653094995999  1564055322            248"
      ]
     },
     "execution_count": 4,
     "metadata": {},
     "output_type": "execute_result"
    }
   ],
   "source": [
    "df = df.rename(columns={\n",
    "    \"EventName\": \"event_name\", \n",
    "    \"DeviceIDHash\": \"uid\",  \n",
    "    \"EventTimestamp\": \"event_ts\",  \n",
    "    \"ExpId\": \"experiment_id\"\n",
    "})\n",
    "df.head()"
   ]
  },
  {
   "cell_type": "markdown",
   "metadata": {},
   "source": [
    "Проверим, есть ли дубликаты в логе."
   ]
  },
  {
   "cell_type": "code",
   "execution_count": 5,
   "metadata": {},
   "outputs": [
    {
     "data": {
      "text/plain": [
       "413"
      ]
     },
     "execution_count": 5,
     "metadata": {},
     "output_type": "execute_result"
    }
   ],
   "source": [
    "df.duplicated().sum()"
   ]
  },
  {
   "cell_type": "code",
   "execution_count": 6,
   "metadata": {},
   "outputs": [
    {
     "data": {
      "text/html": [
       "<div>\n",
       "<style scoped>\n",
       "    .dataframe tbody tr th:only-of-type {\n",
       "        vertical-align: middle;\n",
       "    }\n",
       "\n",
       "    .dataframe tbody tr th {\n",
       "        vertical-align: top;\n",
       "    }\n",
       "\n",
       "    .dataframe thead th {\n",
       "        text-align: right;\n",
       "    }\n",
       "</style>\n",
       "<table border=\"1\" class=\"dataframe\">\n",
       "  <thead>\n",
       "    <tr style=\"text-align: right;\">\n",
       "      <th></th>\n",
       "      <th>event_name</th>\n",
       "      <th>uid</th>\n",
       "      <th>event_ts</th>\n",
       "      <th>experiment_id</th>\n",
       "    </tr>\n",
       "  </thead>\n",
       "  <tbody>\n",
       "    <tr>\n",
       "      <td>453</td>\n",
       "      <td>MainScreenAppear</td>\n",
       "      <td>5613408041324010552</td>\n",
       "      <td>1564474784</td>\n",
       "      <td>248</td>\n",
       "    </tr>\n",
       "    <tr>\n",
       "      <td>2350</td>\n",
       "      <td>CartScreenAppear</td>\n",
       "      <td>1694940645335807244</td>\n",
       "      <td>1564609899</td>\n",
       "      <td>248</td>\n",
       "    </tr>\n",
       "    <tr>\n",
       "      <td>3573</td>\n",
       "      <td>MainScreenAppear</td>\n",
       "      <td>434103746454591587</td>\n",
       "      <td>1564628377</td>\n",
       "      <td>248</td>\n",
       "    </tr>\n",
       "    <tr>\n",
       "      <td>4076</td>\n",
       "      <td>MainScreenAppear</td>\n",
       "      <td>3761373764179762633</td>\n",
       "      <td>1564631266</td>\n",
       "      <td>247</td>\n",
       "    </tr>\n",
       "    <tr>\n",
       "      <td>4803</td>\n",
       "      <td>MainScreenAppear</td>\n",
       "      <td>2835328739789306622</td>\n",
       "      <td>1564634641</td>\n",
       "      <td>248</td>\n",
       "    </tr>\n",
       "  </tbody>\n",
       "</table>\n",
       "</div>"
      ],
      "text/plain": [
       "            event_name                  uid    event_ts  experiment_id\n",
       "453   MainScreenAppear  5613408041324010552  1564474784            248\n",
       "2350  CartScreenAppear  1694940645335807244  1564609899            248\n",
       "3573  MainScreenAppear   434103746454591587  1564628377            248\n",
       "4076  MainScreenAppear  3761373764179762633  1564631266            247\n",
       "4803  MainScreenAppear  2835328739789306622  1564634641            248"
      ]
     },
     "execution_count": 6,
     "metadata": {},
     "output_type": "execute_result"
    }
   ],
   "source": [
    "df[df.duplicated()].head()"
   ]
  },
  {
   "cell_type": "markdown",
   "metadata": {},
   "source": [
    "Один и тот же пользователь совершает одновременно сразу несколько одинаковых событий. Стоит сообщить команде, возможно здесь нужна обработка одновременных событий. Удалим дубликаты."
   ]
  },
  {
   "cell_type": "code",
   "execution_count": 7,
   "metadata": {},
   "outputs": [
    {
     "name": "stdout",
     "output_type": "stream",
     "text": [
      "<class 'pandas.core.frame.DataFrame'>\n",
      "Int64Index: 243713 entries, 0 to 244125\n",
      "Data columns (total 4 columns):\n",
      "event_name       243713 non-null object\n",
      "uid              243713 non-null int64\n",
      "event_ts         243713 non-null int64\n",
      "experiment_id    243713 non-null int64\n",
      "dtypes: int64(3), object(1)\n",
      "memory usage: 9.3+ MB\n"
     ]
    }
   ],
   "source": [
    "df = df.drop_duplicates()\n",
    "df.info()"
   ]
  },
  {
   "cell_type": "markdown",
   "metadata": {},
   "source": [
    "Создадим столбец даты и времени и отдельный столбец даты."
   ]
  },
  {
   "cell_type": "code",
   "execution_count": 8,
   "metadata": {},
   "outputs": [
    {
     "data": {
      "text/html": [
       "<div>\n",
       "<style scoped>\n",
       "    .dataframe tbody tr th:only-of-type {\n",
       "        vertical-align: middle;\n",
       "    }\n",
       "\n",
       "    .dataframe tbody tr th {\n",
       "        vertical-align: top;\n",
       "    }\n",
       "\n",
       "    .dataframe thead th {\n",
       "        text-align: right;\n",
       "    }\n",
       "</style>\n",
       "<table border=\"1\" class=\"dataframe\">\n",
       "  <thead>\n",
       "    <tr style=\"text-align: right;\">\n",
       "      <th></th>\n",
       "      <th>event_name</th>\n",
       "      <th>uid</th>\n",
       "      <th>event_ts</th>\n",
       "      <th>experiment_id</th>\n",
       "      <th>datetime</th>\n",
       "      <th>date</th>\n",
       "    </tr>\n",
       "  </thead>\n",
       "  <tbody>\n",
       "    <tr>\n",
       "      <td>0</td>\n",
       "      <td>MainScreenAppear</td>\n",
       "      <td>4575588528974610257</td>\n",
       "      <td>1564029816</td>\n",
       "      <td>246</td>\n",
       "      <td>2019-07-25 04:43:36</td>\n",
       "      <td>2019-07-25</td>\n",
       "    </tr>\n",
       "    <tr>\n",
       "      <td>1</td>\n",
       "      <td>MainScreenAppear</td>\n",
       "      <td>7416695313311560658</td>\n",
       "      <td>1564053102</td>\n",
       "      <td>246</td>\n",
       "      <td>2019-07-25 11:11:42</td>\n",
       "      <td>2019-07-25</td>\n",
       "    </tr>\n",
       "    <tr>\n",
       "      <td>2</td>\n",
       "      <td>PaymentScreenSuccessful</td>\n",
       "      <td>3518123091307005509</td>\n",
       "      <td>1564054127</td>\n",
       "      <td>248</td>\n",
       "      <td>2019-07-25 11:28:47</td>\n",
       "      <td>2019-07-25</td>\n",
       "    </tr>\n",
       "    <tr>\n",
       "      <td>3</td>\n",
       "      <td>CartScreenAppear</td>\n",
       "      <td>3518123091307005509</td>\n",
       "      <td>1564054127</td>\n",
       "      <td>248</td>\n",
       "      <td>2019-07-25 11:28:47</td>\n",
       "      <td>2019-07-25</td>\n",
       "    </tr>\n",
       "    <tr>\n",
       "      <td>4</td>\n",
       "      <td>PaymentScreenSuccessful</td>\n",
       "      <td>6217807653094995999</td>\n",
       "      <td>1564055322</td>\n",
       "      <td>248</td>\n",
       "      <td>2019-07-25 11:48:42</td>\n",
       "      <td>2019-07-25</td>\n",
       "    </tr>\n",
       "  </tbody>\n",
       "</table>\n",
       "</div>"
      ],
      "text/plain": [
       "                event_name                  uid    event_ts  experiment_id  \\\n",
       "0         MainScreenAppear  4575588528974610257  1564029816            246   \n",
       "1         MainScreenAppear  7416695313311560658  1564053102            246   \n",
       "2  PaymentScreenSuccessful  3518123091307005509  1564054127            248   \n",
       "3         CartScreenAppear  3518123091307005509  1564054127            248   \n",
       "4  PaymentScreenSuccessful  6217807653094995999  1564055322            248   \n",
       "\n",
       "             datetime        date  \n",
       "0 2019-07-25 04:43:36  2019-07-25  \n",
       "1 2019-07-25 11:11:42  2019-07-25  \n",
       "2 2019-07-25 11:28:47  2019-07-25  \n",
       "3 2019-07-25 11:28:47  2019-07-25  \n",
       "4 2019-07-25 11:48:42  2019-07-25  "
      ]
     },
     "execution_count": 8,
     "metadata": {},
     "output_type": "execute_result"
    }
   ],
   "source": [
    "df['datetime'] = pd.to_datetime(df['event_ts'], unit='s')\n",
    "df['date'] = df['datetime'].dt.date\n",
    "df.head()"
   ]
  },
  {
   "cell_type": "markdown",
   "metadata": {},
   "source": [
    "### Вывод\n",
    "* Переименовали столбцы.\n",
    "* Удалили 413 дубликатов.\n",
    "* Создали столбцы `datetime` и `date`."
   ]
  },
  {
   "cell_type": "markdown",
   "metadata": {},
   "source": [
    "## 3. Изучение и проверка данных <a id=\"analysis\"></a>"
   ]
  },
  {
   "cell_type": "markdown",
   "metadata": {},
   "source": [
    "### 3.1. Сколько всего событий в логе? <a id=\"1\"></a>"
   ]
  },
  {
   "cell_type": "code",
   "execution_count": 9,
   "metadata": {},
   "outputs": [
    {
     "name": "stdout",
     "output_type": "stream",
     "text": [
      "Всего событий: 243713\n",
      "Уникальных событий: 5 ['MainScreenAppear', 'PaymentScreenSuccessful', 'CartScreenAppear', 'OffersScreenAppear', 'Tutorial']\n"
     ]
    }
   ],
   "source": [
    "events_count = len(df)\n",
    "print('Всего событий:', events_count)\n",
    "print('Уникальных событий:', len(df['event_name'].unique()), df['event_name'].unique().tolist())"
   ]
  },
  {
   "cell_type": "markdown",
   "metadata": {},
   "source": [
    "### 3.2. Сколько всего пользователей в логе? <a id=\"2\"></a>"
   ]
  },
  {
   "cell_type": "code",
   "execution_count": 10,
   "metadata": {},
   "outputs": [
    {
     "name": "stdout",
     "output_type": "stream",
     "text": [
      "Всего пользователей: 7551\n"
     ]
    }
   ],
   "source": [
    "users_count = len(df['uid'].unique())\n",
    "print('Всего пользователей:', users_count)"
   ]
  },
  {
   "cell_type": "markdown",
   "metadata": {},
   "source": [
    "### 3.3. Сколько в среднем событий приходится на пользователя? <a id=\"3\"></a>"
   ]
  },
  {
   "cell_type": "code",
   "execution_count": 11,
   "metadata": {},
   "outputs": [
    {
     "name": "stdout",
     "output_type": "stream",
     "text": [
      "Среднее количество событий на пользователя: 32\n"
     ]
    }
   ],
   "source": [
    "print('Среднее количество событий на пользователя: {:.0f}'.format(len(df) / len(df['uid'].unique())))"
   ]
  },
  {
   "cell_type": "markdown",
   "metadata": {},
   "source": [
    "### 3.4. Определение временного периода <a id=\"4\"></a>"
   ]
  },
  {
   "cell_type": "markdown",
   "metadata": {},
   "source": [
    "Найдем минимальную и максимальную дату."
   ]
  },
  {
   "cell_type": "code",
   "execution_count": 12,
   "metadata": {},
   "outputs": [
    {
     "data": {
      "text/plain": [
       "Timestamp('2019-07-25 04:43:36')"
      ]
     },
     "execution_count": 12,
     "metadata": {},
     "output_type": "execute_result"
    }
   ],
   "source": [
    "df['datetime'].min()"
   ]
  },
  {
   "cell_type": "code",
   "execution_count": 13,
   "metadata": {},
   "outputs": [
    {
     "data": {
      "text/plain": [
       "Timestamp('2019-08-07 21:15:17')"
      ]
     },
     "execution_count": 13,
     "metadata": {},
     "output_type": "execute_result"
    }
   ],
   "source": [
    "df['datetime'].max()"
   ]
  },
  {
   "cell_type": "markdown",
   "metadata": {},
   "source": [
    "Построим гистограмму по дате и времени."
   ]
  },
  {
   "cell_type": "code",
   "execution_count": 14,
   "metadata": {},
   "outputs": [
    {
     "data": {
      "image/png": "[encoded data removed]",
      "text/plain": [
       "<Figure size 1224x648 with 1 Axes>"
      ]
     },
     "metadata": {},
     "output_type": "display_data"
    }
   ],
   "source": [
    "plt.figure(figsize=(17, 9))\n",
    "df['datetime'].hist(bins=100)\n",
    "\n",
    "plt.title('Распределение событий по времени', fontsize = 15)\n",
    "plt.ylabel('Количество событий', fontsize = 12)\n",
    "plt.xlabel('Дата', fontsize = 12)\n",
    "plt.show()"
   ]
  },
  {
   "cell_type": "markdown",
   "metadata": {},
   "source": [
    "В логах присутствуют неполные данные.  С 01.08.2019 данные полные. Мы располагаем данными за период с 01.08.2019 00:00:00 по 07.08.2019 21:15:17. Отбросим старые данные."
   ]
  },
  {
   "cell_type": "code",
   "execution_count": 15,
   "metadata": {},
   "outputs": [
    {
     "name": "stdout",
     "output_type": "stream",
     "text": [
      "<class 'pandas.core.frame.DataFrame'>\n",
      "Int64Index: 240887 entries, 2828 to 244125\n",
      "Data columns (total 6 columns):\n",
      "event_name       240887 non-null object\n",
      "uid              240887 non-null int64\n",
      "event_ts         240887 non-null int64\n",
      "experiment_id    240887 non-null int64\n",
      "datetime         240887 non-null datetime64[ns]\n",
      "date             240887 non-null object\n",
      "dtypes: datetime64[ns](1), int64(3), object(2)\n",
      "memory usage: 12.9+ MB\n"
     ]
    }
   ],
   "source": [
    "df = df[df['datetime'] >= \"2019-08-01\"]\n",
    "df.info()"
   ]
  },
  {
   "cell_type": "code",
   "execution_count": 16,
   "metadata": {},
   "outputs": [
    {
     "name": "stdout",
     "output_type": "stream",
     "text": [
      "Осталось событий всего: 240887\n",
      "Всего событий потеряли: 2826 или 1.2%\n"
     ]
    }
   ],
   "source": [
    "print('Осталось событий всего:', len(df))\n",
    "print('Всего событий потеряли:', events_count - len(df), 'или', '{:.1%}'.format((events_count - len(df)) / events_count))"
   ]
  },
  {
   "cell_type": "code",
   "execution_count": 17,
   "metadata": {},
   "outputs": [
    {
     "name": "stdout",
     "output_type": "stream",
     "text": [
      "Осталось пользователей всего: 7534\n",
      "Всего пользователей потеряли: 17 или 0.2%\n"
     ]
    }
   ],
   "source": [
    "print('Осталось пользователей всего:', len(df['uid'].unique()))\n",
    "print('Всего пользователей потеряли:', \n",
    "      users_count - len(df['uid'].unique()), \n",
    "      'или', \n",
    "      '{:.1%}'.format((users_count - len(df['uid'].unique())) / users_count))"
   ]
  },
  {
   "cell_type": "markdown",
   "metadata": {},
   "source": [
    "### 3.5. Проверка наличия пользователей во всех экспериментальных группах <a id=\"5\"></a>"
   ]
  },
  {
   "cell_type": "code",
   "execution_count": 18,
   "metadata": {},
   "outputs": [
    {
     "data": {
      "text/html": [
       "<div>\n",
       "<style scoped>\n",
       "    .dataframe tbody tr th:only-of-type {\n",
       "        vertical-align: middle;\n",
       "    }\n",
       "\n",
       "    .dataframe tbody tr th {\n",
       "        vertical-align: top;\n",
       "    }\n",
       "\n",
       "    .dataframe thead th {\n",
       "        text-align: right;\n",
       "    }\n",
       "</style>\n",
       "<table border=\"1\" class=\"dataframe\">\n",
       "  <thead>\n",
       "    <tr style=\"text-align: right;\">\n",
       "      <th></th>\n",
       "      <th>experiment_id</th>\n",
       "      <th>uid</th>\n",
       "    </tr>\n",
       "  </thead>\n",
       "  <tbody>\n",
       "    <tr>\n",
       "      <td>0</td>\n",
       "      <td>246</td>\n",
       "      <td>2484</td>\n",
       "    </tr>\n",
       "    <tr>\n",
       "      <td>1</td>\n",
       "      <td>247</td>\n",
       "      <td>2513</td>\n",
       "    </tr>\n",
       "    <tr>\n",
       "      <td>2</td>\n",
       "      <td>248</td>\n",
       "      <td>2537</td>\n",
       "    </tr>\n",
       "  </tbody>\n",
       "</table>\n",
       "</div>"
      ],
      "text/plain": [
       "   experiment_id   uid\n",
       "0            246  2484\n",
       "1            247  2513\n",
       "2            248  2537"
      ]
     },
     "execution_count": 18,
     "metadata": {},
     "output_type": "execute_result"
    }
   ],
   "source": [
    "df.groupby('experiment_id')['uid'].nunique().reset_index()"
   ]
  },
  {
   "cell_type": "markdown",
   "metadata": {},
   "source": [
    "### Вывод\n",
    "Мы располагаем данными за период с 01.08.2019 00:00:00 по 07.08.2019 21:15:17. В логах за этот период всего 7534 пользователя и 240887 событий. На одного пользователя приходится в среднем по 32 события. Для каждой экспериментальной группы есть пользователи."
   ]
  },
  {
   "cell_type": "markdown",
   "metadata": {},
   "source": [
    "## 4. Воронка событий <a id=\"funnel\"></a>"
   ]
  },
  {
   "cell_type": "markdown",
   "metadata": {},
   "source": [
    "Рассмотрим, как часто встречаются события."
   ]
  },
  {
   "cell_type": "code",
   "execution_count": 19,
   "metadata": {},
   "outputs": [
    {
     "data": {
      "text/plain": [
       "MainScreenAppear           117328\n",
       "OffersScreenAppear          46333\n",
       "CartScreenAppear            42303\n",
       "PaymentScreenSuccessful     33918\n",
       "Tutorial                     1005\n",
       "Name: event_name, dtype: int64"
      ]
     },
     "execution_count": 19,
     "metadata": {},
     "output_type": "execute_result"
    }
   ],
   "source": [
    "df['event_name'].value_counts()"
   ]
  },
  {
   "cell_type": "code",
   "execution_count": 20,
   "metadata": {},
   "outputs": [
    {
     "data": {
      "text/plain": [
       "MainScreenAppear           0.487067\n",
       "OffersScreenAppear         0.192343\n",
       "CartScreenAppear           0.175613\n",
       "PaymentScreenSuccessful    0.140805\n",
       "Tutorial                   0.004172\n",
       "Name: event_name, dtype: float64"
      ]
     },
     "execution_count": 20,
     "metadata": {},
     "output_type": "execute_result"
    }
   ],
   "source": [
    "df['event_name'].value_counts(normalize=True)"
   ]
  },
  {
   "cell_type": "markdown",
   "metadata": {},
   "source": [
    "Самое частое событие - **MainScreenAppear**."
   ]
  },
  {
   "cell_type": "markdown",
   "metadata": {},
   "source": [
    "Посчитаем, сколько пользователей совершили каждое из событий."
   ]
  },
  {
   "cell_type": "code",
   "execution_count": 21,
   "metadata": {},
   "outputs": [
    {
     "data": {
      "text/html": [
       "<div>\n",
       "<style scoped>\n",
       "    .dataframe tbody tr th:only-of-type {\n",
       "        vertical-align: middle;\n",
       "    }\n",
       "\n",
       "    .dataframe tbody tr th {\n",
       "        vertical-align: top;\n",
       "    }\n",
       "\n",
       "    .dataframe thead th {\n",
       "        text-align: right;\n",
       "    }\n",
       "</style>\n",
       "<table border=\"1\" class=\"dataframe\">\n",
       "  <thead>\n",
       "    <tr style=\"text-align: right;\">\n",
       "      <th></th>\n",
       "      <th>event_name</th>\n",
       "      <th>users_count</th>\n",
       "    </tr>\n",
       "  </thead>\n",
       "  <tbody>\n",
       "    <tr>\n",
       "      <td>0</td>\n",
       "      <td>MainScreenAppear</td>\n",
       "      <td>7419</td>\n",
       "    </tr>\n",
       "    <tr>\n",
       "      <td>1</td>\n",
       "      <td>OffersScreenAppear</td>\n",
       "      <td>4593</td>\n",
       "    </tr>\n",
       "    <tr>\n",
       "      <td>2</td>\n",
       "      <td>CartScreenAppear</td>\n",
       "      <td>3734</td>\n",
       "    </tr>\n",
       "    <tr>\n",
       "      <td>3</td>\n",
       "      <td>PaymentScreenSuccessful</td>\n",
       "      <td>3539</td>\n",
       "    </tr>\n",
       "    <tr>\n",
       "      <td>4</td>\n",
       "      <td>Tutorial</td>\n",
       "      <td>840</td>\n",
       "    </tr>\n",
       "  </tbody>\n",
       "</table>\n",
       "</div>"
      ],
      "text/plain": [
       "                event_name  users_count\n",
       "0         MainScreenAppear         7419\n",
       "1       OffersScreenAppear         4593\n",
       "2         CartScreenAppear         3734\n",
       "3  PaymentScreenSuccessful         3539\n",
       "4                 Tutorial          840"
      ]
     },
     "execution_count": 21,
     "metadata": {},
     "output_type": "execute_result"
    }
   ],
   "source": [
    "users_count_by_event = df.groupby('event_name')['uid'].nunique().sort_values(ascending=False).reset_index()\n",
    "users_count_by_event.columns = ['event_name', 'users_count']\n",
    "users_count_by_event"
   ]
  },
  {
   "cell_type": "markdown",
   "metadata": {},
   "source": [
    "Посчитаем долю пользователей, которые хоть раз совершали событие."
   ]
  },
  {
   "cell_type": "code",
   "execution_count": 22,
   "metadata": {},
   "outputs": [
    {
     "data": {
      "text/html": [
       "<div>\n",
       "<style scoped>\n",
       "    .dataframe tbody tr th:only-of-type {\n",
       "        vertical-align: middle;\n",
       "    }\n",
       "\n",
       "    .dataframe tbody tr th {\n",
       "        vertical-align: top;\n",
       "    }\n",
       "\n",
       "    .dataframe thead th {\n",
       "        text-align: right;\n",
       "    }\n",
       "</style>\n",
       "<table border=\"1\" class=\"dataframe\">\n",
       "  <thead>\n",
       "    <tr style=\"text-align: right;\">\n",
       "      <th></th>\n",
       "      <th>event_name</th>\n",
       "      <th>users_count</th>\n",
       "      <th>users_ratio</th>\n",
       "    </tr>\n",
       "  </thead>\n",
       "  <tbody>\n",
       "    <tr>\n",
       "      <td>0</td>\n",
       "      <td>MainScreenAppear</td>\n",
       "      <td>7419</td>\n",
       "      <td>0.984736</td>\n",
       "    </tr>\n",
       "    <tr>\n",
       "      <td>1</td>\n",
       "      <td>OffersScreenAppear</td>\n",
       "      <td>4593</td>\n",
       "      <td>0.609636</td>\n",
       "    </tr>\n",
       "    <tr>\n",
       "      <td>2</td>\n",
       "      <td>CartScreenAppear</td>\n",
       "      <td>3734</td>\n",
       "      <td>0.495620</td>\n",
       "    </tr>\n",
       "    <tr>\n",
       "      <td>3</td>\n",
       "      <td>PaymentScreenSuccessful</td>\n",
       "      <td>3539</td>\n",
       "      <td>0.469737</td>\n",
       "    </tr>\n",
       "    <tr>\n",
       "      <td>4</td>\n",
       "      <td>Tutorial</td>\n",
       "      <td>840</td>\n",
       "      <td>0.111495</td>\n",
       "    </tr>\n",
       "  </tbody>\n",
       "</table>\n",
       "</div>"
      ],
      "text/plain": [
       "                event_name  users_count  users_ratio\n",
       "0         MainScreenAppear         7419     0.984736\n",
       "1       OffersScreenAppear         4593     0.609636\n",
       "2         CartScreenAppear         3734     0.495620\n",
       "3  PaymentScreenSuccessful         3539     0.469737\n",
       "4                 Tutorial          840     0.111495"
      ]
     },
     "execution_count": 22,
     "metadata": {},
     "output_type": "execute_result"
    }
   ],
   "source": [
    "users_count_by_event['users_ratio'] = users_count_by_event['users_count'] / len(df['uid'].unique())\n",
    "users_count_by_event"
   ]
  },
  {
   "cell_type": "markdown",
   "metadata": {},
   "source": [
    "Возможно события происходят в следующем порядке: *MainScreenAppear*, *OffersScreenAppear*, *CartScreenAppear*, *PaymentScreenSuccessful*. При этом между *MainScreenAppear* и *OffersScreenAppear* есть другие события, которые не логируются, например, ими могут быть - открытие каталога или открытие страницы товара. Событие *Tutorial*  не относится к покупке и может происходить в разных последовательностях, в зависимости от возможностей приложения. Это событие совершают 11% пользователей. Т.к. оно не является обязательным действием, при расчете воронки не будем учитывать событие *Tutorial*."
   ]
  },
  {
   "cell_type": "code",
   "execution_count": 23,
   "metadata": {},
   "outputs": [
    {
     "data": {
      "text/html": [
       "<div>\n",
       "<style scoped>\n",
       "    .dataframe tbody tr th:only-of-type {\n",
       "        vertical-align: middle;\n",
       "    }\n",
       "\n",
       "    .dataframe tbody tr th {\n",
       "        vertical-align: top;\n",
       "    }\n",
       "\n",
       "    .dataframe thead th {\n",
       "        text-align: right;\n",
       "    }\n",
       "</style>\n",
       "<table border=\"1\" class=\"dataframe\">\n",
       "  <thead>\n",
       "    <tr style=\"text-align: right;\">\n",
       "      <th></th>\n",
       "      <th>event_name</th>\n",
       "      <th>users_count</th>\n",
       "      <th>conversion_to_the_next_step</th>\n",
       "      <th>total_conversion</th>\n",
       "    </tr>\n",
       "  </thead>\n",
       "  <tbody>\n",
       "    <tr>\n",
       "      <td>0</td>\n",
       "      <td>MainScreenAppear</td>\n",
       "      <td>7419</td>\n",
       "      <td>1.000000</td>\n",
       "      <td>1.000000</td>\n",
       "    </tr>\n",
       "    <tr>\n",
       "      <td>1</td>\n",
       "      <td>OffersScreenAppear</td>\n",
       "      <td>4593</td>\n",
       "      <td>0.619086</td>\n",
       "      <td>0.619086</td>\n",
       "    </tr>\n",
       "    <tr>\n",
       "      <td>2</td>\n",
       "      <td>CartScreenAppear</td>\n",
       "      <td>3734</td>\n",
       "      <td>0.812976</td>\n",
       "      <td>0.503302</td>\n",
       "    </tr>\n",
       "    <tr>\n",
       "      <td>3</td>\n",
       "      <td>PaymentScreenSuccessful</td>\n",
       "      <td>3539</td>\n",
       "      <td>0.947777</td>\n",
       "      <td>0.477018</td>\n",
       "    </tr>\n",
       "  </tbody>\n",
       "</table>\n",
       "</div>"
      ],
      "text/plain": [
       "                event_name  users_count  conversion_to_the_next_step  \\\n",
       "0         MainScreenAppear         7419                     1.000000   \n",
       "1       OffersScreenAppear         4593                     0.619086   \n",
       "2         CartScreenAppear         3734                     0.812976   \n",
       "3  PaymentScreenSuccessful         3539                     0.947777   \n",
       "\n",
       "   total_conversion  \n",
       "0          1.000000  \n",
       "1          0.619086  \n",
       "2          0.503302  \n",
       "3          0.477018  "
      ]
     },
     "execution_count": 23,
     "metadata": {},
     "output_type": "execute_result"
    }
   ],
   "source": [
    "funnel = users_count_by_event.query('event_name != \"Tutorial\"')[['event_name', 'users_count']]\n",
    "\n",
    "OffersScreenAppear_ratio = users_count_by_event.loc[1,'users_count'] / users_count_by_event.loc[0,'users_count']\n",
    "CartScreenAppear_ratio = users_count_by_event.loc[2,'users_count'] / users_count_by_event.loc[1,'users_count']\n",
    "PaymentScreenSuccessful_ratio = users_count_by_event.loc[3,'users_count'] / users_count_by_event.loc[2,'users_count']\n",
    "funnel['conversion_to_the_next_step'] = [1, OffersScreenAppear_ratio, CartScreenAppear_ratio, PaymentScreenSuccessful_ratio]\n",
    "funnel['total_conversion'] = [1, \n",
    "                              users_count_by_event.loc[1,'users_count'] / users_count_by_event.loc[0,'users_count'], \n",
    "                              users_count_by_event.loc[2,'users_count'] / users_count_by_event.loc[0,'users_count'], \n",
    "                              users_count_by_event.loc[3,'users_count'] / users_count_by_event.loc[0,'users_count']\n",
    "                        ]\n",
    "funnel"
   ]
  },
  {
   "cell_type": "code",
   "execution_count": 24,
   "metadata": {},
   "outputs": [
    {
     "data": {
      "image/png": "[encoded data removed]",
      "text/plain": [
       "<Figure size 720x432 with 1 Axes>"
      ]
     },
     "metadata": {},
     "output_type": "display_data"
    }
   ],
   "source": [
    "plt.figure(figsize=(10,6))\n",
    "fig = sns.barplot(data = funnel, x='event_name', y='users_count')\n",
    "\n",
    "plt.title('Воронка событий', fontsize = 15)\n",
    "plt.ylabel('Количество пользователей', fontsize = 12)\n",
    "plt.xlabel('Событие', fontsize = 12)\n",
    "plt.show()"
   ]
  },
  {
   "cell_type": "markdown",
   "metadata": {},
   "source": [
    "### Вывод\n",
    "На первом шаге (переход от стартовой страницы к странице заказа) теряется больше всего пользователей - 38,1%. Это происходит потому, что во-первых, не все пользователи, открывают приложение, чтобы заказать товар, во-вторых, кто-то не находит подходящие товары, в-третьих, между открытием главной страницы и оформлением заказа пользователь совершает другие промежуточные шаги: открывает меню, страницы товара, переходит по ссылкам, эти события не представлены в логе. Необходимо провести анализ поведения пользователей перед оформлением заказа, чтобы понять, чтобы найти слабые места приложения.  \n",
    "На втором шаге (переход от страницы заказа к странице оплаты) теряется 18,7% пользователей. На третьем шаге (переход к странице об успешно проведенной оплате) потеряли 5,3% пользователей. Доля пользователей, которая доходит от страницы заказа до успешной оплаты: 47,7%.  \n",
    "Необходимо обратить внимание на страницу заказа. Все ли работает, отображается корректно на странице? Нет ли лишних с точки зрения пользователей полей для заполнения? Предложены ли удобные для пользователей способы доставки, оплаты? Возможно более детальное рассмотрение процесса оформления заказа, сможет подсказать пути для увеличения конверсии из оформления заказа в оплату."
   ]
  },
  {
   "cell_type": "markdown",
   "metadata": {},
   "source": [
    "## 5.  Результаты A/A/B-эксперимента <a id=\"experiment\"></a>"
   ]
  },
  {
   "cell_type": "markdown",
   "metadata": {},
   "source": [
    "Изучим результаты эксперимента. Рассмотрим количество пользователей в каждой группе."
   ]
  },
  {
   "cell_type": "code",
   "execution_count": 25,
   "metadata": {},
   "outputs": [
    {
     "data": {
      "text/html": [
       "<div>\n",
       "<style scoped>\n",
       "    .dataframe tbody tr th:only-of-type {\n",
       "        vertical-align: middle;\n",
       "    }\n",
       "\n",
       "    .dataframe tbody tr th {\n",
       "        vertical-align: top;\n",
       "    }\n",
       "\n",
       "    .dataframe thead th {\n",
       "        text-align: right;\n",
       "    }\n",
       "</style>\n",
       "<table border=\"1\" class=\"dataframe\">\n",
       "  <thead>\n",
       "    <tr style=\"text-align: right;\">\n",
       "      <th></th>\n",
       "      <th>experiment_id</th>\n",
       "      <th>users_count</th>\n",
       "    </tr>\n",
       "  </thead>\n",
       "  <tbody>\n",
       "    <tr>\n",
       "      <td>0</td>\n",
       "      <td>246</td>\n",
       "      <td>2484</td>\n",
       "    </tr>\n",
       "    <tr>\n",
       "      <td>1</td>\n",
       "      <td>247</td>\n",
       "      <td>2513</td>\n",
       "    </tr>\n",
       "    <tr>\n",
       "      <td>2</td>\n",
       "      <td>248</td>\n",
       "      <td>2537</td>\n",
       "    </tr>\n",
       "  </tbody>\n",
       "</table>\n",
       "</div>"
      ],
      "text/plain": [
       "   experiment_id  users_count\n",
       "0            246         2484\n",
       "1            247         2513\n",
       "2            248         2537"
      ]
     },
     "execution_count": 25,
     "metadata": {},
     "output_type": "execute_result"
    }
   ],
   "source": [
    "users_count_by_experiment = df.groupby('experiment_id')['uid'].nunique().reset_index()\n",
    "users_count_by_experiment = users_count_by_experiment.rename(columns={\"uid\": \"users_count\"})\n",
    "users_count_by_experiment"
   ]
  },
  {
   "cell_type": "markdown",
   "metadata": {},
   "source": [
    "Количество пользователей в различных группах различается не более, чем на 1%."
   ]
  },
  {
   "cell_type": "markdown",
   "metadata": {},
   "source": [
    "Проверим, что нет пересечений пользователей между группами 246 и 247."
   ]
  },
  {
   "cell_type": "code",
   "execution_count": 26,
   "metadata": {},
   "outputs": [
    {
     "data": {
      "text/plain": [
       "0"
      ]
     },
     "execution_count": 26,
     "metadata": {},
     "output_type": "execute_result"
    }
   ],
   "source": [
    "len(df.query('experiment_id == 246').set_index('uid').join(\n",
    "    df.query('experiment_id == 247').set_index('uid'), how='inner', lsuffix='_l', rsuffix='_r')\n",
    "   )"
   ]
  },
  {
   "cell_type": "markdown",
   "metadata": {},
   "source": [
    "Рассмотрим распределение пользователей в каждой группе по дням."
   ]
  },
  {
   "cell_type": "code",
   "execution_count": 27,
   "metadata": {},
   "outputs": [
    {
     "data": {
      "text/html": [
       "<div>\n",
       "<style scoped>\n",
       "    .dataframe tbody tr th:only-of-type {\n",
       "        vertical-align: middle;\n",
       "    }\n",
       "\n",
       "    .dataframe tbody tr th {\n",
       "        vertical-align: top;\n",
       "    }\n",
       "\n",
       "    .dataframe thead th {\n",
       "        text-align: right;\n",
       "    }\n",
       "</style>\n",
       "<table border=\"1\" class=\"dataframe\">\n",
       "  <thead>\n",
       "    <tr style=\"text-align: right;\">\n",
       "      <th></th>\n",
       "      <th>date</th>\n",
       "      <th>exp_246</th>\n",
       "      <th>exp_247</th>\n",
       "      <th>exp_248</th>\n",
       "    </tr>\n",
       "  </thead>\n",
       "  <tbody>\n",
       "    <tr>\n",
       "      <td>0</td>\n",
       "      <td>2019-08-01</td>\n",
       "      <td>1191</td>\n",
       "      <td>1282</td>\n",
       "      <td>1230</td>\n",
       "    </tr>\n",
       "    <tr>\n",
       "      <td>1</td>\n",
       "      <td>2019-08-02</td>\n",
       "      <td>1197</td>\n",
       "      <td>1221</td>\n",
       "      <td>1229</td>\n",
       "    </tr>\n",
       "    <tr>\n",
       "      <td>2</td>\n",
       "      <td>2019-08-03</td>\n",
       "      <td>1140</td>\n",
       "      <td>1176</td>\n",
       "      <td>1166</td>\n",
       "    </tr>\n",
       "    <tr>\n",
       "      <td>3</td>\n",
       "      <td>2019-08-04</td>\n",
       "      <td>1170</td>\n",
       "      <td>1169</td>\n",
       "      <td>1188</td>\n",
       "    </tr>\n",
       "    <tr>\n",
       "      <td>4</td>\n",
       "      <td>2019-08-05</td>\n",
       "      <td>1269</td>\n",
       "      <td>1263</td>\n",
       "      <td>1270</td>\n",
       "    </tr>\n",
       "    <tr>\n",
       "      <td>5</td>\n",
       "      <td>2019-08-06</td>\n",
       "      <td>1270</td>\n",
       "      <td>1320</td>\n",
       "      <td>1332</td>\n",
       "    </tr>\n",
       "    <tr>\n",
       "      <td>6</td>\n",
       "      <td>2019-08-07</td>\n",
       "      <td>1198</td>\n",
       "      <td>1212</td>\n",
       "      <td>1241</td>\n",
       "    </tr>\n",
       "  </tbody>\n",
       "</table>\n",
       "</div>"
      ],
      "text/plain": [
       "         date  exp_246  exp_247  exp_248\n",
       "0  2019-08-01     1191     1282     1230\n",
       "1  2019-08-02     1197     1221     1229\n",
       "2  2019-08-03     1140     1176     1166\n",
       "3  2019-08-04     1170     1169     1188\n",
       "4  2019-08-05     1269     1263     1270\n",
       "5  2019-08-06     1270     1320     1332\n",
       "6  2019-08-07     1198     1212     1241"
      ]
     },
     "execution_count": 27,
     "metadata": {},
     "output_type": "execute_result"
    }
   ],
   "source": [
    "experiment_table = df.pivot_table(\n",
    "    index = 'date', \n",
    "    columns = 'experiment_id', \n",
    "    values = 'uid', \n",
    "    aggfunc = 'nunique'\n",
    ").reset_index()\n",
    "experiment_table.columns = ['date', 'exp_246', 'exp_247', 'exp_248']\n",
    "experiment_table"
   ]
  },
  {
   "cell_type": "code",
   "execution_count": 28,
   "metadata": {},
   "outputs": [
    {
     "data": {
      "image/png": "[encoded data removed]",
      "text/plain": [
       "<Figure size 864x432 with 1 Axes>"
      ]
     },
     "metadata": {},
     "output_type": "display_data"
    }
   ],
   "source": [
    "experiment_table.plot(figsize=(12,6), rot=0, legend=True, grid=True, kind='kde')\n",
    "plt.title('Распределение количества пользователей в день по экспериментальным группам', fontsize = 15)\n",
    "plt.ylabel('Частота', fontsize=12)\n",
    "plt.xlabel('Количество пользователей в день', fontsize=12)\n",
    "plt.legend(title = 'Экспериментальная группа')\n",
    "plt.show()"
   ]
  },
  {
   "cell_type": "markdown",
   "metadata": {},
   "source": [
    "Проверим распределения на нормальность с помощью критерия Шапиро-Уилка.\n",
    "Нулевую гипотезу сформулируем следующим образом:  \n",
    "**H₀ - выборка распределена нормально.**  \n",
    "Альтернативная гипотеза будет звучать следующим образом:  \n",
    "**H₁ - выборка распределена не нормально.**  "
   ]
  },
  {
   "cell_type": "code",
   "execution_count": 29,
   "metadata": {},
   "outputs": [],
   "source": [
    "def test_shapiro(sample):\n",
    "    alpha = .05\n",
    "\n",
    "    results = st.shapiro(sample)\n",
    "    p_value = results[1] # второе значение в массиве результатов (с индексом 1) - p-value\n",
    "\n",
    "    print('p-значение: ', p_value)\n",
    "\n",
    "    if (p_value < alpha):\n",
    "        print(\"Отвергаем нулевую гипотезу: распределение не нормально\")\n",
    "    else:\n",
    "        print(\"Не получилось отвергнуть нулевую гипотезу, всё нормально\")"
   ]
  },
  {
   "cell_type": "code",
   "execution_count": 30,
   "metadata": {},
   "outputs": [],
   "source": [
    "sample_246 = experiment_table['exp_246'].tolist()\n",
    "sample_247 = experiment_table['exp_247'].tolist()\n",
    "sample_248 = experiment_table['exp_248'].tolist()"
   ]
  },
  {
   "cell_type": "code",
   "execution_count": 31,
   "metadata": {},
   "outputs": [
    {
     "name": "stdout",
     "output_type": "stream",
     "text": [
      "p-значение:  0.2786673605442047\n",
      "Не получилось отвергнуть нулевую гипотезу, всё нормально\n"
     ]
    }
   ],
   "source": [
    "test_shapiro(sample_246)"
   ]
  },
  {
   "cell_type": "code",
   "execution_count": 32,
   "metadata": {},
   "outputs": [
    {
     "name": "stdout",
     "output_type": "stream",
     "text": [
      "p-значение:  0.708777129650116\n",
      "Не получилось отвергнуть нулевую гипотезу, всё нормально\n"
     ]
    }
   ],
   "source": [
    "test_shapiro(sample_247)"
   ]
  },
  {
   "cell_type": "code",
   "execution_count": 33,
   "metadata": {},
   "outputs": [
    {
     "name": "stdout",
     "output_type": "stream",
     "text": [
      "p-значение:  0.7779155373573303\n",
      "Не получилось отвергнуть нулевую гипотезу, всё нормально\n"
     ]
    }
   ],
   "source": [
    "test_shapiro(sample_248)"
   ]
  },
  {
   "cell_type": "markdown",
   "metadata": {},
   "source": [
    "Проверим, находят ли статистические критерии разницу между выборками 246 и 247, применим метод scipy.stats.ttest_ind (array1, array2, equal_var).\n",
    "Нулевую гипотезу сформулируем следующим образом:  \n",
    "**H₀ - среднее количество пользователей в день в выборке 246 равно среднему количеству пользователей в день в выборке 247.**  \n",
    "Альтернативная гипотеза будет звучать следующим образом:  \n",
    "**H₁ - среднее количество пользователей в день в выборке 246 не равно среднему количеству пользователей в день в выборке 247.** "
   ]
  },
  {
   "cell_type": "code",
   "execution_count": 34,
   "metadata": {},
   "outputs": [
    {
     "name": "stdout",
     "output_type": "stream",
     "text": [
      "p-значение: 0.30899748048237163\n",
      "Не получилось отвергнуть нулевую гипотезу\n"
     ]
    }
   ],
   "source": [
    "sample_246 = experiment_table['exp_246'].tolist()\n",
    "sample_247 = experiment_table['exp_247'].tolist()\n",
    "\n",
    "alpha = .05\n",
    "\n",
    "results = st.ttest_ind(\n",
    "    sample_246, \n",
    "    sample_247,\n",
    "    equal_var = True\n",
    ")\n",
    "\n",
    "print('p-значение:', results.pvalue)\n",
    "\n",
    "if (results.pvalue < alpha):\n",
    "    print(\"Отвергаем нулевую гипотезу\")\n",
    "else:\n",
    "    print(\"Не получилось отвергнуть нулевую гипотезу\") "
   ]
  },
  {
   "cell_type": "markdown",
   "metadata": {},
   "source": [
    "Посчитаем число пользователей, совершивших каждое событие в каждой из контрольных групп, а также долю пользователей, совершивших эти события. "
   ]
  },
  {
   "cell_type": "code",
   "execution_count": 35,
   "metadata": {},
   "outputs": [
    {
     "data": {
      "text/html": [
       "<div>\n",
       "<style scoped>\n",
       "    .dataframe tbody tr th:only-of-type {\n",
       "        vertical-align: middle;\n",
       "    }\n",
       "\n",
       "    .dataframe tbody tr th {\n",
       "        vertical-align: top;\n",
       "    }\n",
       "\n",
       "    .dataframe thead th {\n",
       "        text-align: right;\n",
       "    }\n",
       "</style>\n",
       "<table border=\"1\" class=\"dataframe\">\n",
       "  <thead>\n",
       "    <tr style=\"text-align: right;\">\n",
       "      <th></th>\n",
       "      <th>event_name</th>\n",
       "      <th>exp_246</th>\n",
       "      <th>exp_247</th>\n",
       "      <th>exp_248</th>\n",
       "      <th>conversion_246</th>\n",
       "      <th>conversion_247</th>\n",
       "      <th>conversion_248</th>\n",
       "    </tr>\n",
       "  </thead>\n",
       "  <tbody>\n",
       "    <tr>\n",
       "      <td>0</td>\n",
       "      <td>MainScreenAppear</td>\n",
       "      <td>2450</td>\n",
       "      <td>2476</td>\n",
       "      <td>2493</td>\n",
       "      <td>0.986312</td>\n",
       "      <td>0.985277</td>\n",
       "      <td>0.982657</td>\n",
       "    </tr>\n",
       "    <tr>\n",
       "      <td>1</td>\n",
       "      <td>OffersScreenAppear</td>\n",
       "      <td>1542</td>\n",
       "      <td>1520</td>\n",
       "      <td>1531</td>\n",
       "      <td>0.620773</td>\n",
       "      <td>0.604855</td>\n",
       "      <td>0.603469</td>\n",
       "    </tr>\n",
       "    <tr>\n",
       "      <td>2</td>\n",
       "      <td>CartScreenAppear</td>\n",
       "      <td>1266</td>\n",
       "      <td>1238</td>\n",
       "      <td>1230</td>\n",
       "      <td>0.509662</td>\n",
       "      <td>0.492638</td>\n",
       "      <td>0.484825</td>\n",
       "    </tr>\n",
       "    <tr>\n",
       "      <td>3</td>\n",
       "      <td>PaymentScreenSuccessful</td>\n",
       "      <td>1200</td>\n",
       "      <td>1158</td>\n",
       "      <td>1181</td>\n",
       "      <td>0.483092</td>\n",
       "      <td>0.460804</td>\n",
       "      <td>0.465510</td>\n",
       "    </tr>\n",
       "    <tr>\n",
       "      <td>4</td>\n",
       "      <td>Tutorial</td>\n",
       "      <td>278</td>\n",
       "      <td>283</td>\n",
       "      <td>279</td>\n",
       "      <td>0.111916</td>\n",
       "      <td>0.112614</td>\n",
       "      <td>0.109972</td>\n",
       "    </tr>\n",
       "  </tbody>\n",
       "</table>\n",
       "</div>"
      ],
      "text/plain": [
       "                event_name  exp_246  exp_247  exp_248  conversion_246  \\\n",
       "0         MainScreenAppear     2450     2476     2493        0.986312   \n",
       "1       OffersScreenAppear     1542     1520     1531        0.620773   \n",
       "2         CartScreenAppear     1266     1238     1230        0.509662   \n",
       "3  PaymentScreenSuccessful     1200     1158     1181        0.483092   \n",
       "4                 Tutorial      278      283      279        0.111916   \n",
       "\n",
       "   conversion_247  conversion_248  \n",
       "0        0.985277        0.982657  \n",
       "1        0.604855        0.603469  \n",
       "2        0.492638        0.484825  \n",
       "3        0.460804        0.465510  \n",
       "4        0.112614        0.109972  "
      ]
     },
     "execution_count": 35,
     "metadata": {},
     "output_type": "execute_result"
    }
   ],
   "source": [
    "funnel_by_experiments = df.pivot_table(\n",
    "    index = 'event_name', columns = 'experiment_id', values = 'uid', aggfunc = 'nunique'\n",
    ").reset_index()\n",
    "funnel_by_experiments.columns = ['event_name', 'exp_246', 'exp_247', 'exp_248']\n",
    "funnel_by_experiments = funnel_by_experiments.sort_values(by='exp_246', ascending=False).reset_index(drop=True)\n",
    "funnel_by_experiments['conversion_246'] = funnel_by_experiments['exp_246'] / users_count_by_experiment.loc[0,'users_count'] \n",
    "funnel_by_experiments['conversion_247'] = funnel_by_experiments['exp_247'] / users_count_by_experiment.loc[1,'users_count']\n",
    "funnel_by_experiments['conversion_248'] = funnel_by_experiments['exp_248'] / users_count_by_experiment.loc[2,'users_count']\n",
    "funnel_by_experiments"
   ]
  },
  {
   "cell_type": "markdown",
   "metadata": {},
   "source": [
    "Проверим, будет ли отличие между группами статистически достоверным. Так как распределение статистики нормальное, вызовем метод cdf().  \n",
    "Нулевую гипотезу сформулируем следующим образом:  \n",
    "**H₀ - Пропорции выборок равны.**  \n",
    "Альтернативная гипотеза будет звучать следующим образом:  \n",
    "**H₁ - Пропорции выборок не равны.**"
   ]
  },
  {
   "cell_type": "code",
   "execution_count": 36,
   "metadata": {},
   "outputs": [],
   "source": [
    "def test_equality_of_shares(n1, n2, p1, p2):\n",
    "    alpha = .05 # критический уровень статистической значимости\n",
    "\n",
    "    successes = np.array([p1, p2])\n",
    "    trials = np.array([n1, n2])\n",
    "\n",
    "    # пропорция успехов в первой группе:\n",
    "    p1 = successes[0]/trials[0]\n",
    "\n",
    "    # пропорция успехов во второй группе:\n",
    "    p2 = successes[1]/trials[1]\n",
    "\n",
    "    # пропорция успехов в комбинированном датасете:\n",
    "    p_combined = (successes[0] + successes[1]) / (trials[0] + trials[1])\n",
    "\n",
    "    # разница пропорций в датасетах\n",
    "    difference = p1 - p2\n",
    "\n",
    "    # считаем статистику в ст.отклонениях стандартного нормального распределения\n",
    "    z_value = difference / mth.sqrt(p_combined * (1 - p_combined) * (1/trials[0] + 1/trials[1]))\n",
    "\n",
    "    # задаем стандартное нормальное распределение (среднее 0, ст.отклонение 1)\n",
    "    distr = st.norm(0, 1) \n",
    "    # считаем статистику в ст.отклонениях стандартного нормального распределения\n",
    "\n",
    "    p_value = (1 - distr.cdf(abs(z_value))) * 2\n",
    "\n",
    "    print('p-значение: ', p_value)\n",
    "\n",
    "    if (p_value < alpha):\n",
    "        print(\"Отвергаем нулевую гипотезу: между долями есть значимая разница\")\n",
    "    else:\n",
    "        print(\"Не получилось отвергнуть нулевую гипотезу, нет оснований считать доли разными\") "
   ]
  },
  {
   "cell_type": "code",
   "execution_count": 37,
   "metadata": {},
   "outputs": [
    {
     "data": {
      "text/html": [
       "<div>\n",
       "<style scoped>\n",
       "    .dataframe tbody tr th:only-of-type {\n",
       "        vertical-align: middle;\n",
       "    }\n",
       "\n",
       "    .dataframe tbody tr th {\n",
       "        vertical-align: top;\n",
       "    }\n",
       "\n",
       "    .dataframe thead th {\n",
       "        text-align: right;\n",
       "    }\n",
       "</style>\n",
       "<table border=\"1\" class=\"dataframe\">\n",
       "  <thead>\n",
       "    <tr style=\"text-align: right;\">\n",
       "      <th></th>\n",
       "      <th>experiment_id</th>\n",
       "      <th>users_count</th>\n",
       "    </tr>\n",
       "  </thead>\n",
       "  <tbody>\n",
       "    <tr>\n",
       "      <td>0</td>\n",
       "      <td>246</td>\n",
       "      <td>2484</td>\n",
       "    </tr>\n",
       "    <tr>\n",
       "      <td>1</td>\n",
       "      <td>247</td>\n",
       "      <td>2513</td>\n",
       "    </tr>\n",
       "    <tr>\n",
       "      <td>2</td>\n",
       "      <td>248</td>\n",
       "      <td>2537</td>\n",
       "    </tr>\n",
       "  </tbody>\n",
       "</table>\n",
       "</div>"
      ],
      "text/plain": [
       "   experiment_id  users_count\n",
       "0            246         2484\n",
       "1            247         2513\n",
       "2            248         2537"
      ]
     },
     "execution_count": 37,
     "metadata": {},
     "output_type": "execute_result"
    }
   ],
   "source": [
    "users_count_by_experiment"
   ]
  },
  {
   "cell_type": "code",
   "execution_count": 38,
   "metadata": {},
   "outputs": [
    {
     "data": {
      "text/html": [
       "<div>\n",
       "<style scoped>\n",
       "    .dataframe tbody tr th:only-of-type {\n",
       "        vertical-align: middle;\n",
       "    }\n",
       "\n",
       "    .dataframe tbody tr th {\n",
       "        vertical-align: top;\n",
       "    }\n",
       "\n",
       "    .dataframe thead th {\n",
       "        text-align: right;\n",
       "    }\n",
       "</style>\n",
       "<table border=\"1\" class=\"dataframe\">\n",
       "  <thead>\n",
       "    <tr style=\"text-align: right;\">\n",
       "      <th></th>\n",
       "      <th>event_name</th>\n",
       "      <th>exp_246</th>\n",
       "      <th>exp_247</th>\n",
       "      <th>exp_248</th>\n",
       "      <th>conversion_246</th>\n",
       "      <th>conversion_247</th>\n",
       "      <th>conversion_248</th>\n",
       "    </tr>\n",
       "  </thead>\n",
       "  <tbody>\n",
       "    <tr>\n",
       "      <td>0</td>\n",
       "      <td>MainScreenAppear</td>\n",
       "      <td>2450</td>\n",
       "      <td>2476</td>\n",
       "      <td>2493</td>\n",
       "      <td>0.986312</td>\n",
       "      <td>0.985277</td>\n",
       "      <td>0.982657</td>\n",
       "    </tr>\n",
       "    <tr>\n",
       "      <td>1</td>\n",
       "      <td>OffersScreenAppear</td>\n",
       "      <td>1542</td>\n",
       "      <td>1520</td>\n",
       "      <td>1531</td>\n",
       "      <td>0.620773</td>\n",
       "      <td>0.604855</td>\n",
       "      <td>0.603469</td>\n",
       "    </tr>\n",
       "    <tr>\n",
       "      <td>2</td>\n",
       "      <td>CartScreenAppear</td>\n",
       "      <td>1266</td>\n",
       "      <td>1238</td>\n",
       "      <td>1230</td>\n",
       "      <td>0.509662</td>\n",
       "      <td>0.492638</td>\n",
       "      <td>0.484825</td>\n",
       "    </tr>\n",
       "    <tr>\n",
       "      <td>3</td>\n",
       "      <td>PaymentScreenSuccessful</td>\n",
       "      <td>1200</td>\n",
       "      <td>1158</td>\n",
       "      <td>1181</td>\n",
       "      <td>0.483092</td>\n",
       "      <td>0.460804</td>\n",
       "      <td>0.465510</td>\n",
       "    </tr>\n",
       "    <tr>\n",
       "      <td>4</td>\n",
       "      <td>Tutorial</td>\n",
       "      <td>278</td>\n",
       "      <td>283</td>\n",
       "      <td>279</td>\n",
       "      <td>0.111916</td>\n",
       "      <td>0.112614</td>\n",
       "      <td>0.109972</td>\n",
       "    </tr>\n",
       "  </tbody>\n",
       "</table>\n",
       "</div>"
      ],
      "text/plain": [
       "                event_name  exp_246  exp_247  exp_248  conversion_246  \\\n",
       "0         MainScreenAppear     2450     2476     2493        0.986312   \n",
       "1       OffersScreenAppear     1542     1520     1531        0.620773   \n",
       "2         CartScreenAppear     1266     1238     1230        0.509662   \n",
       "3  PaymentScreenSuccessful     1200     1158     1181        0.483092   \n",
       "4                 Tutorial      278      283      279        0.111916   \n",
       "\n",
       "   conversion_247  conversion_248  \n",
       "0        0.985277        0.982657  \n",
       "1        0.604855        0.603469  \n",
       "2        0.492638        0.484825  \n",
       "3        0.460804        0.465510  \n",
       "4        0.112614        0.109972  "
      ]
     },
     "execution_count": 38,
     "metadata": {},
     "output_type": "execute_result"
    }
   ],
   "source": [
    "funnel_by_experiments"
   ]
  },
  {
   "cell_type": "code",
   "execution_count": 39,
   "metadata": {},
   "outputs": [
    {
     "name": "stdout",
     "output_type": "stream",
     "text": [
      "p-значение:  0.7570597232046099\n",
      "Не получилось отвергнуть нулевую гипотезу, нет оснований считать доли разными\n",
      "p-значение:  0.2480954578522181\n",
      "Не получилось отвергнуть нулевую гипотезу, нет оснований считать доли разными\n",
      "p-значение:  0.22883372237997213\n",
      "Не получилось отвергнуть нулевую гипотезу, нет оснований считать доли разными\n",
      "p-значение:  0.11456679313141849\n",
      "Не получилось отвергнуть нулевую гипотезу, нет оснований считать доли разными\n",
      "p-значение:  0.9376996189257114\n",
      "Не получилось отвергнуть нулевую гипотезу, нет оснований считать доли разными\n"
     ]
    }
   ],
   "source": [
    "test_equality_of_shares(users_count_by_experiment.loc[0,'users_count'], users_count_by_experiment.loc[1,'users_count'], funnel_by_experiments.loc[0,'exp_246'], funnel_by_experiments.loc[0,'exp_247'])\n",
    "test_equality_of_shares(users_count_by_experiment.loc[0,'users_count'], users_count_by_experiment.loc[1,'users_count'], funnel_by_experiments.loc[1,'exp_246'], funnel_by_experiments.loc[1,'exp_247'])\n",
    "test_equality_of_shares(users_count_by_experiment.loc[0,'users_count'], users_count_by_experiment.loc[1,'users_count'], funnel_by_experiments.loc[2,'exp_246'], funnel_by_experiments.loc[2,'exp_247'])\n",
    "test_equality_of_shares(users_count_by_experiment.loc[0,'users_count'], users_count_by_experiment.loc[1,'users_count'], funnel_by_experiments.loc[3,'exp_246'], funnel_by_experiments.loc[3,'exp_247'])\n",
    "test_equality_of_shares(users_count_by_experiment.loc[0,'users_count'], users_count_by_experiment.loc[1,'users_count'], funnel_by_experiments.loc[4,'exp_246'], funnel_by_experiments.loc[4,'exp_247'])"
   ]
  },
  {
   "cell_type": "markdown",
   "metadata": {},
   "source": [
    "Результаты А/А теста:\n",
    "* количество пользователей в группах 246 и 247 различается не более, чем на 1%; \n",
    "* для всех групп фиксируют и отправляют в системы аналитики данные об одном и том же;\n",
    "* различие конверсий по группам не имеет статистической значимости;\n",
    "* попавший в одну из групп посетитель остаётся в этой группе до конца теста. \n",
    "\n",
    "Можно сказать, что разбиение на группы работает корректно."
   ]
  },
  {
   "cell_type": "markdown",
   "metadata": {},
   "source": [
    "Аналогично поступим с группой с изменённым шрифтом. Сравним результаты с каждой из контрольных групп в отдельности по каждому событию. "
   ]
  },
  {
   "cell_type": "markdown",
   "metadata": {},
   "source": [
    "Сравнение групп 246 и 248."
   ]
  },
  {
   "cell_type": "code",
   "execution_count": 40,
   "metadata": {},
   "outputs": [
    {
     "name": "stdout",
     "output_type": "stream",
     "text": [
      "p-значение:  0.2949721933554552\n",
      "Не получилось отвергнуть нулевую гипотезу, нет оснований считать доли разными\n",
      "p-значение:  0.20836205402738917\n",
      "Не получилось отвергнуть нулевую гипотезу, нет оснований считать доли разными\n",
      "p-значение:  0.07842923237520116\n",
      "Не получилось отвергнуть нулевую гипотезу, нет оснований считать доли разными\n",
      "p-значение:  0.2122553275697796\n",
      "Не получилось отвергнуть нулевую гипотезу, нет оснований считать доли разными\n",
      "p-значение:  0.8264294010087645\n",
      "Не получилось отвергнуть нулевую гипотезу, нет оснований считать доли разными\n"
     ]
    }
   ],
   "source": [
    "test_equality_of_shares(users_count_by_experiment.loc[0,'users_count'], users_count_by_experiment.loc[2,'users_count'], funnel_by_experiments.loc[0,'exp_246'], funnel_by_experiments.loc[0,'exp_248'])\n",
    "test_equality_of_shares(users_count_by_experiment.loc[0,'users_count'], users_count_by_experiment.loc[2,'users_count'], funnel_by_experiments.loc[1,'exp_246'], funnel_by_experiments.loc[1,'exp_248'])\n",
    "test_equality_of_shares(users_count_by_experiment.loc[0,'users_count'], users_count_by_experiment.loc[2,'users_count'], funnel_by_experiments.loc[2,'exp_246'], funnel_by_experiments.loc[2,'exp_248'])\n",
    "test_equality_of_shares(users_count_by_experiment.loc[0,'users_count'], users_count_by_experiment.loc[2,'users_count'], funnel_by_experiments.loc[3,'exp_246'], funnel_by_experiments.loc[3,'exp_248'])\n",
    "test_equality_of_shares(users_count_by_experiment.loc[0,'users_count'], users_count_by_experiment.loc[2,'users_count'], funnel_by_experiments.loc[4,'exp_246'], funnel_by_experiments.loc[4,'exp_248'])"
   ]
  },
  {
   "cell_type": "markdown",
   "metadata": {},
   "source": [
    "Сравнение групп 247 и 248."
   ]
  },
  {
   "cell_type": "code",
   "execution_count": 41,
   "metadata": {},
   "outputs": [
    {
     "name": "stdout",
     "output_type": "stream",
     "text": [
      "p-значение:  0.4587053616621515\n",
      "Не получилось отвергнуть нулевую гипотезу, нет оснований считать доли разными\n",
      "p-значение:  0.9197817830592261\n",
      "Не получилось отвергнуть нулевую гипотезу, нет оснований считать доли разными\n",
      "p-значение:  0.5786197879539783\n",
      "Не получилось отвергнуть нулевую гипотезу, нет оснований считать доли разными\n",
      "p-значение:  0.7373415053803964\n",
      "Не получилось отвергнуть нулевую гипотезу, нет оснований считать доли разными\n",
      "p-значение:  0.765323922474501\n",
      "Не получилось отвергнуть нулевую гипотезу, нет оснований считать доли разными\n"
     ]
    }
   ],
   "source": [
    "test_equality_of_shares(users_count_by_experiment.loc[1,'users_count'], users_count_by_experiment.loc[2,'users_count'], funnel_by_experiments.loc[0,'exp_247'], funnel_by_experiments.loc[0,'exp_248'])\n",
    "test_equality_of_shares(users_count_by_experiment.loc[1,'users_count'], users_count_by_experiment.loc[2,'users_count'], funnel_by_experiments.loc[1,'exp_247'], funnel_by_experiments.loc[1,'exp_248'])\n",
    "test_equality_of_shares(users_count_by_experiment.loc[1,'users_count'], users_count_by_experiment.loc[2,'users_count'], funnel_by_experiments.loc[2,'exp_247'], funnel_by_experiments.loc[2,'exp_248'])\n",
    "test_equality_of_shares(users_count_by_experiment.loc[1,'users_count'], users_count_by_experiment.loc[2,'users_count'], funnel_by_experiments.loc[3,'exp_247'], funnel_by_experiments.loc[3,'exp_248'])\n",
    "test_equality_of_shares(users_count_by_experiment.loc[1,'users_count'], users_count_by_experiment.loc[2,'users_count'], funnel_by_experiments.loc[4,'exp_247'], funnel_by_experiments.loc[4,'exp_248'])"
   ]
  },
  {
   "cell_type": "markdown",
   "metadata": {},
   "source": [
    "Сравнение объединенной группы 246+247 и 248."
   ]
  },
  {
   "cell_type": "code",
   "execution_count": 42,
   "metadata": {},
   "outputs": [
    {
     "name": "stdout",
     "output_type": "stream",
     "text": [
      "p-значение:  0.29424526837179577\n",
      "Не получилось отвергнуть нулевую гипотезу, нет оснований считать доли разными\n",
      "p-значение:  0.43425549655188256\n",
      "Не получилось отвергнуть нулевую гипотезу, нет оснований считать доли разными\n",
      "p-значение:  0.18175875284404386\n",
      "Не получилось отвергнуть нулевую гипотезу, нет оснований считать доли разными\n",
      "p-значение:  0.6004294282308704\n",
      "Не получилось отвергнуть нулевую гипотезу, нет оснований считать доли разными\n",
      "p-значение:  0.764862472531507\n",
      "Не получилось отвергнуть нулевую гипотезу, нет оснований считать доли разными\n"
     ]
    }
   ],
   "source": [
    "test_equality_of_shares(\n",
    "    users_count_by_experiment.loc[0,'users_count']+users_count_by_experiment.loc[1,'users_count'], \n",
    "    users_count_by_experiment.loc[2,'users_count'], \n",
    "    funnel_by_experiments.loc[0,'exp_246']+funnel_by_experiments.loc[0,'exp_247'], \n",
    "    funnel_by_experiments.loc[0,'exp_248']\n",
    ")\n",
    "test_equality_of_shares(\n",
    "    users_count_by_experiment.loc[0,'users_count']+users_count_by_experiment.loc[1,'users_count'], \n",
    "    users_count_by_experiment.loc[2,'users_count'], \n",
    "    funnel_by_experiments.loc[1,'exp_246']+funnel_by_experiments.loc[1,'exp_247'], \n",
    "    funnel_by_experiments.loc[1,'exp_248']\n",
    ")\n",
    "test_equality_of_shares(\n",
    "    users_count_by_experiment.loc[0,'users_count']+users_count_by_experiment.loc[1,'users_count'], \n",
    "    users_count_by_experiment.loc[2,'users_count'], \n",
    "    funnel_by_experiments.loc[2,'exp_246']+funnel_by_experiments.loc[2,'exp_247'], \n",
    "    funnel_by_experiments.loc[2,'exp_248']\n",
    ")\n",
    "test_equality_of_shares(\n",
    "    users_count_by_experiment.loc[0,'users_count']+users_count_by_experiment.loc[1,'users_count'], \n",
    "    users_count_by_experiment.loc[2,'users_count'], \n",
    "    funnel_by_experiments.loc[3,'exp_246']+funnel_by_experiments.loc[3,'exp_247'], \n",
    "    funnel_by_experiments.loc[3,'exp_248']\n",
    ")\n",
    "test_equality_of_shares(\n",
    "    users_count_by_experiment.loc[0,'users_count']+users_count_by_experiment.loc[1,'users_count'], \n",
    "    users_count_by_experiment.loc[2,'users_count'], \n",
    "    funnel_by_experiments.loc[4,'exp_246']+funnel_by_experiments.loc[4,'exp_247'], \n",
    "    funnel_by_experiments.loc[4,'exp_248']\n",
    ")"
   ]
  },
  {
   "cell_type": "markdown",
   "metadata": {},
   "source": [
    "При проверках гипотез был выбран уровень значимости 0,05. Даже при изменении на 0,01 результаты не изменятся: р-значение намного больше уровня значимости. Нет различий между конверсиями в экспериментальных группах."
   ]
  },
  {
   "cell_type": "markdown",
   "metadata": {},
   "source": [
    "### Вывод\n",
    "Результаты A/A/B-эксперимента:\n",
    "* две контрольные группы 246 и 247 статистически равны, можно быть увереными в точности проведенного тестирования,\n",
    "* между долями пользователей, совершивших события, в контрольных группах нет статистически значимых различий,\n",
    "* между долями пользователей группы с измененными шрифтами и долями пользователей из контрольных групп нет статистически значимых различий,\n",
    "* нет различий между долями пользователей группы с измененными шрифтами и объединенной контрольной группы.\n",
    "\n",
    "Можно сделать вывод, что новые шрифты в приложении не повлияли на конверсии пользователей из оформления заказа на страницу оплату и из страницы оплаты к успешной оплате. Можно поменять шрифты в приложении, поведение пользователей не изменится."
   ]
  },
  {
   "cell_type": "markdown",
   "metadata": {},
   "source": [
    "### 6.  Общий вывод <a id=\"conclusion\"></a>"
   ]
  },
  {
   "cell_type": "markdown",
   "metadata": {},
   "source": [
    "Цель данного исследования - выяснить, изменится ли поведение пользователей после изменения шрифтов в приложении. В распоряжении лог событий за период с 01.08.2019 00:00:00 по 07.08.2019 21:15:17, в котором все пользователи в результате A/A/B-эксперимента разбиты на 3 группы: 2 контрольные со старыми шрифтами и одну экспериментальную — с новыми.\n",
    "Изучили воронку продаж, а также проверили гипотезы о равенстве конверсий между экспериментальными группами.\n",
    "\n",
    "Выяснили, что при покупке продуктов в мобильном приложении до успешной оплаты доходят 47,7% пользователей. На первом шаге (переход от стартовой страницы к странице заказа) теряется больше всего пользователей - 38,1%. Это происходит потому, что во-первых, не все пользователи, открывают приложение, чтобы заказать товар, во-вторых, кто-то не находит подходящие товары, в-третьих, между открытием главной страницы и оформлением заказа пользователь совершает другие промежуточные шаги: открывает меню, страницы товара, переходит по ссылкам, эти события не представлены в логе. Необходимо провести анализ поведения пользователей перед оформлением заказа, чтобы найти слабые места приложения.\n",
    "На втором шаге (переход от страницы заказа к странице оплаты) теряется 18,7% пользователей. На третьем шаге (переход к странице об успешно проведенной оплате) потеряли 5,3% пользователей.   \n",
    "Необходимо обратить внимание на страницу заказа. Все ли работает, отображается корректно на странице? Нет ли лишних, с точки зрения пользователей, полей для заполнения? Предложены ли удобные для пользователей способы доставки, оплаты? Возможно более детальное рассмотрение процесса оформления заказа, сможет подсказать пути для увеличения конверсии из оформления заказа в оплату.\n",
    "\n",
    "При анализе A/A/B-эксперимента были изучены две контрольные группы: они оказались равны, что указывает на точность проведенного тестирования. Выдвинули гипотезы: нулевая гипотеза - доли пользователей, совершивших событие, разных экспериментальных групп равны, альтернативная - доли пользователей, совершивших событие, разных экспериментальных групп не равны. Был выбран уровень значимости 0,05. Для проверки гипотез использовали z-критерий Фишера. Было проведено 15 проверок гипотез: сравнили доли пользователей 5 событий экспериментальной группы с каждной контрольной группой и с объединенной контрольной группой. Результатами всех проверок стало отсутствие статистически значимых различий между долями пользователей во всех группах.\n",
    " \n",
    "Можно сделать вывод, что изменение шрифтов в приложении не повлияет на поведение пользователей, конверсии пользователей не изменятся."
   ]
  }
 ],
 "metadata": {
  "kernelspec": {
   "display_name": "Python 3",
   "language": "python",
   "name": "python3"
  },
  "language_info": {
   "codemirror_mode": {
    "name": "ipython",
    "version": 3
   },
   "file_extension": ".py",
   "mimetype": "text/x-python",
   "name": "python",
   "nbconvert_exporter": "python",
   "pygments_lexer": "ipython3",
   "version": "3.8.5"
  },
  "toc": {
   "base_numbering": 1,
   "nav_menu": {},
   "number_sections": true,
   "sideBar": true,
   "skip_h1_title": false,
   "title_cell": "Table of Contents",
   "title_sidebar": "Contents",
   "toc_cell": false,
   "toc_position": {
    "height": "calc(100% - 180px)",
    "left": "10px",
    "top": "150px",
    "width": "366.391px"
   },
   "toc_section_display": true,
   "toc_window_display": true
  }
 },
 "nbformat": 4,
 "nbformat_minor": 2
}
