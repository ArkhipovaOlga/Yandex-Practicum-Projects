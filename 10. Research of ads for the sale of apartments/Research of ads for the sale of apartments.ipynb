{
 "cells": [
  {
   "cell_type": "markdown",
   "metadata": {},
   "source": [
    "# Исследование объявлений о продаже квартир\n",
    "\n",
    "В распоряжении имеются данные сервиса Яндекс.Недвижимость — архив объявлений о продаже квартир в Санкт-Петербурге и соседних населённых пунктов за несколько лет. Нужно научиться определять рыночную стоимость объектов недвижимости. Задача — установить параметры. Это позволит построить автоматизированную систему: она отследит аномалии и мошенническую деятельность. \n",
    "\n",
    "По каждой квартире на продажу доступны два вида данных. Первые вписаны пользователем, вторые — получены автоматически на основе картографических данных. Например, расстояние до центра, аэропорта, ближайшего парка и водоёма. "
   ]
  },
  {
   "cell_type": "markdown",
   "metadata": {},
   "source": [
    "### Шаг 1. Общая информация"
   ]
  },
  {
   "cell_type": "code",
   "execution_count": 1,
   "metadata": {},
   "outputs": [
    {
     "data": {
      "text/html": [
       "<div>\n",
       "<style scoped>\n",
       "    .dataframe tbody tr th:only-of-type {\n",
       "        vertical-align: middle;\n",
       "    }\n",
       "\n",
       "    .dataframe tbody tr th {\n",
       "        vertical-align: top;\n",
       "    }\n",
       "\n",
       "    .dataframe thead th {\n",
       "        text-align: right;\n",
       "    }\n",
       "</style>\n",
       "<table border=\"1\" class=\"dataframe\">\n",
       "  <thead>\n",
       "    <tr style=\"text-align: right;\">\n",
       "      <th></th>\n",
       "      <th>total_images</th>\n",
       "      <th>last_price</th>\n",
       "      <th>total_area</th>\n",
       "      <th>first_day_exposition</th>\n",
       "      <th>rooms</th>\n",
       "      <th>ceiling_height</th>\n",
       "      <th>floors_total</th>\n",
       "      <th>living_area</th>\n",
       "      <th>floor</th>\n",
       "      <th>is_apartment</th>\n",
       "      <th>...</th>\n",
       "      <th>kitchen_area</th>\n",
       "      <th>balcony</th>\n",
       "      <th>locality_name</th>\n",
       "      <th>airports_nearest</th>\n",
       "      <th>cityCenters_nearest</th>\n",
       "      <th>parks_around3000</th>\n",
       "      <th>parks_nearest</th>\n",
       "      <th>ponds_around3000</th>\n",
       "      <th>ponds_nearest</th>\n",
       "      <th>days_exposition</th>\n",
       "    </tr>\n",
       "  </thead>\n",
       "  <tbody>\n",
       "    <tr>\n",
       "      <td>0</td>\n",
       "      <td>20</td>\n",
       "      <td>13000000.0</td>\n",
       "      <td>108.00</td>\n",
       "      <td>2019-03-07T00:00:00</td>\n",
       "      <td>3</td>\n",
       "      <td>2.70</td>\n",
       "      <td>16.0</td>\n",
       "      <td>51.00</td>\n",
       "      <td>8</td>\n",
       "      <td>NaN</td>\n",
       "      <td>...</td>\n",
       "      <td>25.00</td>\n",
       "      <td>NaN</td>\n",
       "      <td>Санкт-Петербург</td>\n",
       "      <td>18863.0</td>\n",
       "      <td>16028.0</td>\n",
       "      <td>1.0</td>\n",
       "      <td>482.0</td>\n",
       "      <td>2.0</td>\n",
       "      <td>755.0</td>\n",
       "      <td>NaN</td>\n",
       "    </tr>\n",
       "    <tr>\n",
       "      <td>1</td>\n",
       "      <td>7</td>\n",
       "      <td>3350000.0</td>\n",
       "      <td>40.40</td>\n",
       "      <td>2018-12-04T00:00:00</td>\n",
       "      <td>1</td>\n",
       "      <td>NaN</td>\n",
       "      <td>11.0</td>\n",
       "      <td>18.60</td>\n",
       "      <td>1</td>\n",
       "      <td>NaN</td>\n",
       "      <td>...</td>\n",
       "      <td>11.00</td>\n",
       "      <td>2.0</td>\n",
       "      <td>посёлок Шушары</td>\n",
       "      <td>12817.0</td>\n",
       "      <td>18603.0</td>\n",
       "      <td>0.0</td>\n",
       "      <td>NaN</td>\n",
       "      <td>0.0</td>\n",
       "      <td>NaN</td>\n",
       "      <td>81.0</td>\n",
       "    </tr>\n",
       "    <tr>\n",
       "      <td>2</td>\n",
       "      <td>10</td>\n",
       "      <td>5196000.0</td>\n",
       "      <td>56.00</td>\n",
       "      <td>2015-08-20T00:00:00</td>\n",
       "      <td>2</td>\n",
       "      <td>NaN</td>\n",
       "      <td>5.0</td>\n",
       "      <td>34.30</td>\n",
       "      <td>4</td>\n",
       "      <td>NaN</td>\n",
       "      <td>...</td>\n",
       "      <td>8.30</td>\n",
       "      <td>0.0</td>\n",
       "      <td>Санкт-Петербург</td>\n",
       "      <td>21741.0</td>\n",
       "      <td>13933.0</td>\n",
       "      <td>1.0</td>\n",
       "      <td>90.0</td>\n",
       "      <td>2.0</td>\n",
       "      <td>574.0</td>\n",
       "      <td>558.0</td>\n",
       "    </tr>\n",
       "    <tr>\n",
       "      <td>3</td>\n",
       "      <td>0</td>\n",
       "      <td>64900000.0</td>\n",
       "      <td>159.00</td>\n",
       "      <td>2015-07-24T00:00:00</td>\n",
       "      <td>3</td>\n",
       "      <td>NaN</td>\n",
       "      <td>14.0</td>\n",
       "      <td>NaN</td>\n",
       "      <td>9</td>\n",
       "      <td>NaN</td>\n",
       "      <td>...</td>\n",
       "      <td>NaN</td>\n",
       "      <td>0.0</td>\n",
       "      <td>Санкт-Петербург</td>\n",
       "      <td>28098.0</td>\n",
       "      <td>6800.0</td>\n",
       "      <td>2.0</td>\n",
       "      <td>84.0</td>\n",
       "      <td>3.0</td>\n",
       "      <td>234.0</td>\n",
       "      <td>424.0</td>\n",
       "    </tr>\n",
       "    <tr>\n",
       "      <td>4</td>\n",
       "      <td>2</td>\n",
       "      <td>10000000.0</td>\n",
       "      <td>100.00</td>\n",
       "      <td>2018-06-19T00:00:00</td>\n",
       "      <td>2</td>\n",
       "      <td>3.03</td>\n",
       "      <td>14.0</td>\n",
       "      <td>32.00</td>\n",
       "      <td>13</td>\n",
       "      <td>NaN</td>\n",
       "      <td>...</td>\n",
       "      <td>41.00</td>\n",
       "      <td>NaN</td>\n",
       "      <td>Санкт-Петербург</td>\n",
       "      <td>31856.0</td>\n",
       "      <td>8098.0</td>\n",
       "      <td>2.0</td>\n",
       "      <td>112.0</td>\n",
       "      <td>1.0</td>\n",
       "      <td>48.0</td>\n",
       "      <td>121.0</td>\n",
       "    </tr>\n",
       "    <tr>\n",
       "      <td>5</td>\n",
       "      <td>10</td>\n",
       "      <td>2890000.0</td>\n",
       "      <td>30.40</td>\n",
       "      <td>2018-09-10T00:00:00</td>\n",
       "      <td>1</td>\n",
       "      <td>NaN</td>\n",
       "      <td>12.0</td>\n",
       "      <td>14.40</td>\n",
       "      <td>5</td>\n",
       "      <td>NaN</td>\n",
       "      <td>...</td>\n",
       "      <td>9.10</td>\n",
       "      <td>NaN</td>\n",
       "      <td>городской посёлок Янино-1</td>\n",
       "      <td>NaN</td>\n",
       "      <td>NaN</td>\n",
       "      <td>NaN</td>\n",
       "      <td>NaN</td>\n",
       "      <td>NaN</td>\n",
       "      <td>NaN</td>\n",
       "      <td>55.0</td>\n",
       "    </tr>\n",
       "    <tr>\n",
       "      <td>6</td>\n",
       "      <td>6</td>\n",
       "      <td>3700000.0</td>\n",
       "      <td>37.30</td>\n",
       "      <td>2017-11-02T00:00:00</td>\n",
       "      <td>1</td>\n",
       "      <td>NaN</td>\n",
       "      <td>26.0</td>\n",
       "      <td>10.60</td>\n",
       "      <td>6</td>\n",
       "      <td>NaN</td>\n",
       "      <td>...</td>\n",
       "      <td>14.40</td>\n",
       "      <td>1.0</td>\n",
       "      <td>посёлок Парголово</td>\n",
       "      <td>52996.0</td>\n",
       "      <td>19143.0</td>\n",
       "      <td>0.0</td>\n",
       "      <td>NaN</td>\n",
       "      <td>0.0</td>\n",
       "      <td>NaN</td>\n",
       "      <td>155.0</td>\n",
       "    </tr>\n",
       "    <tr>\n",
       "      <td>7</td>\n",
       "      <td>5</td>\n",
       "      <td>7915000.0</td>\n",
       "      <td>71.60</td>\n",
       "      <td>2019-04-18T00:00:00</td>\n",
       "      <td>2</td>\n",
       "      <td>NaN</td>\n",
       "      <td>24.0</td>\n",
       "      <td>NaN</td>\n",
       "      <td>22</td>\n",
       "      <td>NaN</td>\n",
       "      <td>...</td>\n",
       "      <td>18.90</td>\n",
       "      <td>2.0</td>\n",
       "      <td>Санкт-Петербург</td>\n",
       "      <td>23982.0</td>\n",
       "      <td>11634.0</td>\n",
       "      <td>0.0</td>\n",
       "      <td>NaN</td>\n",
       "      <td>0.0</td>\n",
       "      <td>NaN</td>\n",
       "      <td>NaN</td>\n",
       "    </tr>\n",
       "    <tr>\n",
       "      <td>8</td>\n",
       "      <td>20</td>\n",
       "      <td>2900000.0</td>\n",
       "      <td>33.16</td>\n",
       "      <td>2018-05-23T00:00:00</td>\n",
       "      <td>1</td>\n",
       "      <td>NaN</td>\n",
       "      <td>27.0</td>\n",
       "      <td>15.43</td>\n",
       "      <td>26</td>\n",
       "      <td>NaN</td>\n",
       "      <td>...</td>\n",
       "      <td>8.81</td>\n",
       "      <td>NaN</td>\n",
       "      <td>посёлок Мурино</td>\n",
       "      <td>NaN</td>\n",
       "      <td>NaN</td>\n",
       "      <td>NaN</td>\n",
       "      <td>NaN</td>\n",
       "      <td>NaN</td>\n",
       "      <td>NaN</td>\n",
       "      <td>189.0</td>\n",
       "    </tr>\n",
       "    <tr>\n",
       "      <td>9</td>\n",
       "      <td>18</td>\n",
       "      <td>5400000.0</td>\n",
       "      <td>61.00</td>\n",
       "      <td>2017-02-26T00:00:00</td>\n",
       "      <td>3</td>\n",
       "      <td>2.50</td>\n",
       "      <td>9.0</td>\n",
       "      <td>43.60</td>\n",
       "      <td>7</td>\n",
       "      <td>NaN</td>\n",
       "      <td>...</td>\n",
       "      <td>6.50</td>\n",
       "      <td>2.0</td>\n",
       "      <td>Санкт-Петербург</td>\n",
       "      <td>50898.0</td>\n",
       "      <td>15008.0</td>\n",
       "      <td>0.0</td>\n",
       "      <td>NaN</td>\n",
       "      <td>0.0</td>\n",
       "      <td>NaN</td>\n",
       "      <td>289.0</td>\n",
       "    </tr>\n",
       "  </tbody>\n",
       "</table>\n",
       "<p>10 rows × 22 columns</p>\n",
       "</div>"
      ],
      "text/plain": [
       "   total_images  last_price  total_area first_day_exposition  rooms  \\\n",
       "0            20  13000000.0      108.00  2019-03-07T00:00:00      3   \n",
       "1             7   3350000.0       40.40  2018-12-04T00:00:00      1   \n",
       "2            10   5196000.0       56.00  2015-08-20T00:00:00      2   \n",
       "3             0  64900000.0      159.00  2015-07-24T00:00:00      3   \n",
       "4             2  10000000.0      100.00  2018-06-19T00:00:00      2   \n",
       "5            10   2890000.0       30.40  2018-09-10T00:00:00      1   \n",
       "6             6   3700000.0       37.30  2017-11-02T00:00:00      1   \n",
       "7             5   7915000.0       71.60  2019-04-18T00:00:00      2   \n",
       "8            20   2900000.0       33.16  2018-05-23T00:00:00      1   \n",
       "9            18   5400000.0       61.00  2017-02-26T00:00:00      3   \n",
       "\n",
       "   ceiling_height  floors_total  living_area  floor is_apartment  ...  \\\n",
       "0            2.70          16.0        51.00      8          NaN  ...   \n",
       "1             NaN          11.0        18.60      1          NaN  ...   \n",
       "2             NaN           5.0        34.30      4          NaN  ...   \n",
       "3             NaN          14.0          NaN      9          NaN  ...   \n",
       "4            3.03          14.0        32.00     13          NaN  ...   \n",
       "5             NaN          12.0        14.40      5          NaN  ...   \n",
       "6             NaN          26.0        10.60      6          NaN  ...   \n",
       "7             NaN          24.0          NaN     22          NaN  ...   \n",
       "8             NaN          27.0        15.43     26          NaN  ...   \n",
       "9            2.50           9.0        43.60      7          NaN  ...   \n",
       "\n",
       "   kitchen_area  balcony              locality_name  airports_nearest  \\\n",
       "0         25.00      NaN            Санкт-Петербург           18863.0   \n",
       "1         11.00      2.0             посёлок Шушары           12817.0   \n",
       "2          8.30      0.0            Санкт-Петербург           21741.0   \n",
       "3           NaN      0.0            Санкт-Петербург           28098.0   \n",
       "4         41.00      NaN            Санкт-Петербург           31856.0   \n",
       "5          9.10      NaN  городской посёлок Янино-1               NaN   \n",
       "6         14.40      1.0          посёлок Парголово           52996.0   \n",
       "7         18.90      2.0            Санкт-Петербург           23982.0   \n",
       "8          8.81      NaN             посёлок Мурино               NaN   \n",
       "9          6.50      2.0            Санкт-Петербург           50898.0   \n",
       "\n",
       "  cityCenters_nearest  parks_around3000  parks_nearest  ponds_around3000  \\\n",
       "0             16028.0               1.0          482.0               2.0   \n",
       "1             18603.0               0.0            NaN               0.0   \n",
       "2             13933.0               1.0           90.0               2.0   \n",
       "3              6800.0               2.0           84.0               3.0   \n",
       "4              8098.0               2.0          112.0               1.0   \n",
       "5                 NaN               NaN            NaN               NaN   \n",
       "6             19143.0               0.0            NaN               0.0   \n",
       "7             11634.0               0.0            NaN               0.0   \n",
       "8                 NaN               NaN            NaN               NaN   \n",
       "9             15008.0               0.0            NaN               0.0   \n",
       "\n",
       "   ponds_nearest  days_exposition  \n",
       "0          755.0              NaN  \n",
       "1            NaN             81.0  \n",
       "2          574.0            558.0  \n",
       "3          234.0            424.0  \n",
       "4           48.0            121.0  \n",
       "5            NaN             55.0  \n",
       "6            NaN            155.0  \n",
       "7            NaN              NaN  \n",
       "8            NaN            189.0  \n",
       "9            NaN            289.0  \n",
       "\n",
       "[10 rows x 22 columns]"
      ]
     },
     "execution_count": 1,
     "metadata": {},
     "output_type": "execute_result"
    }
   ],
   "source": [
    "import pandas as pd\n",
    "import matplotlib.pyplot as plt\n",
    "from pymystem3 import Mystem\n",
    "m = Mystem()\n",
    "df = pd.read_csv('/datasets/real_estate_data.csv', sep='\\t')\n",
    "df.head(10)"
   ]
  },
  {
   "cell_type": "code",
   "execution_count": 2,
   "metadata": {},
   "outputs": [
    {
     "name": "stdout",
     "output_type": "stream",
     "text": [
      "<class 'pandas.core.frame.DataFrame'>\n",
      "RangeIndex: 23699 entries, 0 to 23698\n",
      "Data columns (total 22 columns):\n",
      "total_images            23699 non-null int64\n",
      "last_price              23699 non-null float64\n",
      "total_area              23699 non-null float64\n",
      "first_day_exposition    23699 non-null object\n",
      "rooms                   23699 non-null int64\n",
      "ceiling_height          14504 non-null float64\n",
      "floors_total            23613 non-null float64\n",
      "living_area             21796 non-null float64\n",
      "floor                   23699 non-null int64\n",
      "is_apartment            2775 non-null object\n",
      "studio                  23699 non-null bool\n",
      "open_plan               23699 non-null bool\n",
      "kitchen_area            21421 non-null float64\n",
      "balcony                 12180 non-null float64\n",
      "locality_name           23650 non-null object\n",
      "airports_nearest        18157 non-null float64\n",
      "cityCenters_nearest     18180 non-null float64\n",
      "parks_around3000        18181 non-null float64\n",
      "parks_nearest           8079 non-null float64\n",
      "ponds_around3000        18181 non-null float64\n",
      "ponds_nearest           9110 non-null float64\n",
      "days_exposition         20518 non-null float64\n",
      "dtypes: bool(2), float64(14), int64(3), object(3)\n",
      "memory usage: 3.7+ MB\n"
     ]
    }
   ],
   "source": [
    "df.info()"
   ]
  },
  {
   "cell_type": "markdown",
   "metadata": {},
   "source": [
    "В таблице 22 столбца:  \n",
    "* airports_nearest — расстояние до ближайшего аэропорта в метрах (м)\n",
    "* balcony — число балконов\n",
    "* ceiling_height — высота потолков (м)\n",
    "* cityCenters_nearest — расстояние до центра города (м)\n",
    "* days_exposition — сколько дней было размещено объявление (от публикации до снятия)\n",
    "* first_day_exposition — дата публикации\n",
    "* floor — этаж\n",
    "* floors_total — всего этажей в доме\n",
    "* is_apartment — апартаменты (булев тип)\n",
    "* kitchen_area — площадь кухни в квадратных метрах (м²)\n",
    "* last_price — цена на момент снятия с публикации\n",
    "* living_area — жилая площадь в квадратных метрах(м²)\n",
    "* locality_name — название населённого пункта\n",
    "* open_plan — свободная планировка (булев тип)\n",
    "* parks_around3000 — число парков в радиусе 3 км\n",
    "* parks_nearest — расстояние до ближайшего парка (м)\n",
    "* ponds_around3000 — число водоёмов в радиусе 3 км\n",
    "* ponds_nearest — расстояние до ближайшего водоёма (м)\n",
    "* rooms — число комнат\n",
    "* studio — квартира-студия (булев тип)\n",
    "* total_area — площадь квартиры в квадратных метрах (м²)\n",
    "* total_images — число фотографий квартиры в объявлении\n",
    "\n",
    "3 столбца содержат логические переменные: *is_apartment, open_plan, studio*, 1 столбец - качественные переменные: *locality_name*, 1 столбец содержит дату - *first_day_exposition*, все остальные - количественные переменные."
   ]
  },
  {
   "cell_type": "markdown",
   "metadata": {},
   "source": [
    "Типы данных следующих столбцов не соответствуют их содержимому: \n",
    "* *first_day_exposition* - значения в столбце необходимо перевести в формат даты, \n",
    "* *floors_total* - количество этажей должно быть целым числом,  \n",
    "* *is_apartment* - из описания столбец должен иметь булев тип данных, \n",
    "* *balcony* - число балконов должно быть целым числом, \n",
    "* *parks_around3000* - количество парков заменим на целые числа, \n",
    "* *ponds_around3000* - количество водоемов заменим на целые числа.  \n",
    "\n",
    "Копейки в цене квартиры, см в расстояниях до ближайшего парка, аэропорта, центра города нас не интересуют, поэтому в следующих столбцах можно заменить тип данных с вещественного на целочисленный: *last_price, airports_nearest, cityCenters_nearest, parks_nearest*. Это сэкономит место и время на обработку."
   ]
  },
  {
   "cell_type": "markdown",
   "metadata": {},
   "source": [
    "Во многих столбцах таблицы есть отсутствующие значения. Необходимо изучить и обработать эти пропуски."
   ]
  },
  {
   "cell_type": "markdown",
   "metadata": {},
   "source": [
    "### Вывод"
   ]
  },
  {
   "cell_type": "markdown",
   "metadata": {},
   "source": [
    "Таблица содержит 23699 строк - объявлений о продаже квартир. Перед изучением параметров, определяющих рыночную стоимость квартиры, необходимо:\n",
    "* обработать пропуски,\n",
    "* изменить типы данных."
   ]
  },
  {
   "cell_type": "markdown",
   "metadata": {},
   "source": [
    "### Шаг 2. Предобработка данных"
   ]
  },
  {
   "cell_type": "markdown",
   "metadata": {},
   "source": [
    "#### Обработка пропусков"
   ]
  },
  {
   "cell_type": "markdown",
   "metadata": {},
   "source": [
    "В следующих столбцах пояление пропусков можно объяснить не заполнением полей объявлений пользователями:\n",
    "* ceiling_height, \n",
    "* floors_total, \n",
    "* living_area, \n",
    "* is_apartment, \n",
    "* kitchen_area,\n",
    "* balcony,\n",
    "* locality_name.  \n",
    "\n",
    "Столбцы *living_area* и *kitchen_area* не участвуют в исследовании, поэтому оставим их неизменными.  \n",
    "Логичную замену можно предположить для столбца *balcony*: если человек не указал число балконов — скорее всего, их нет. Такие пропуски заменим на 0.   \n",
    "Пропуски в столбце *ceiling_height* можно заменить на среднее значение высоты потолка в домах определенной этажности. Высота потолка различается в квартирах старого фонда(обычно дома низкой этажности и высокими потолками до 4 метров), хрущевках(обычно 5 этажей) - высота 2,45 - 2,6 м, сталинках(6-12 этажей) - высота 2,9 - 3,2 м.  \n",
    "Для пропусков в столбцах *floors_total*, *is_apartment* нет подходящих значений на замену.  \n",
    "Т.к. исследование предполагает изучение расположения квартиры, а также пропуски в столбце *locality_name* составляют лишь 0,2%, то удалим строки с пропусками в этом столбце."
   ]
  },
  {
   "cell_type": "markdown",
   "metadata": {},
   "source": [
    "Заполним пропуски в столбце *balcony*."
   ]
  },
  {
   "cell_type": "code",
   "execution_count": 3,
   "metadata": {},
   "outputs": [
    {
     "name": "stdout",
     "output_type": "stream",
     "text": [
      "<class 'pandas.core.frame.DataFrame'>\n",
      "RangeIndex: 23699 entries, 0 to 23698\n",
      "Data columns (total 22 columns):\n",
      "total_images            23699 non-null int64\n",
      "last_price              23699 non-null float64\n",
      "total_area              23699 non-null float64\n",
      "first_day_exposition    23699 non-null object\n",
      "rooms                   23699 non-null int64\n",
      "ceiling_height          14504 non-null float64\n",
      "floors_total            23613 non-null float64\n",
      "living_area             21796 non-null float64\n",
      "floor                   23699 non-null int64\n",
      "is_apartment            2775 non-null object\n",
      "studio                  23699 non-null bool\n",
      "open_plan               23699 non-null bool\n",
      "kitchen_area            21421 non-null float64\n",
      "balcony                 23699 non-null float64\n",
      "locality_name           23650 non-null object\n",
      "airports_nearest        18157 non-null float64\n",
      "cityCenters_nearest     18180 non-null float64\n",
      "parks_around3000        18181 non-null float64\n",
      "parks_nearest           8079 non-null float64\n",
      "ponds_around3000        18181 non-null float64\n",
      "ponds_nearest           9110 non-null float64\n",
      "days_exposition         20518 non-null float64\n",
      "dtypes: bool(2), float64(14), int64(3), object(3)\n",
      "memory usage: 3.7+ MB\n"
     ]
    }
   ],
   "source": [
    "df['balcony'] = df['balcony'].fillna(0)\n",
    "df.info()"
   ]
  },
  {
   "cell_type": "markdown",
   "metadata": {},
   "source": [
    "Заполним пропуски в столбце *ceiling_height*."
   ]
  },
  {
   "cell_type": "code",
   "execution_count": 4,
   "metadata": {},
   "outputs": [
    {
     "data": {
      "text/plain": [
       "False    14504\n",
       "True      9195\n",
       "Name: ceiling_height, dtype: int64"
      ]
     },
     "execution_count": 4,
     "metadata": {},
     "output_type": "execute_result"
    }
   ],
   "source": [
    "df['ceiling_height'].isnull().value_counts()"
   ]
  },
  {
   "cell_type": "code",
   "execution_count": 5,
   "metadata": {},
   "outputs": [
    {
     "data": {
      "text/plain": [
       "count    14504.000000\n",
       "mean         2.771499\n",
       "std          1.261056\n",
       "min          1.000000\n",
       "25%          2.520000\n",
       "50%          2.650000\n",
       "75%          2.800000\n",
       "max        100.000000\n",
       "Name: ceiling_height, dtype: float64"
      ]
     },
     "execution_count": 5,
     "metadata": {},
     "output_type": "execute_result"
    }
   ],
   "source": [
    "df['ceiling_height'].describe()"
   ]
  },
  {
   "cell_type": "markdown",
   "metadata": {},
   "source": [
    "Высота потолка колеблется от 1 до 100 м. Здесь явно присутствует ошибка при вводе данных: необходимо добавить проверки заполнения данного поля при ручном вводе данных. Реалистичной кажется высота потолка от 2 до 4 метров. Этот диапазон возьмем для исследования средней высоты для разной этажности домов."
   ]
  },
  {
   "cell_type": "code",
   "execution_count": 6,
   "metadata": {},
   "outputs": [
    {
     "data": {
      "text/plain": [
       "floors_total\n",
       "1.0     2.740000\n",
       "2.0     2.781148\n",
       "3.0     2.855155\n",
       "4.0     2.927399\n",
       "5.0     2.696740\n",
       "6.0     3.049818\n",
       "7.0     2.917238\n",
       "8.0     2.840826\n",
       "9.0     2.580204\n",
       "10.0    2.652737\n",
       "11.0    2.782385\n",
       "12.0    2.642938\n",
       "13.0    2.715470\n",
       "14.0    2.640235\n",
       "15.0    2.718036\n",
       "16.0    2.726206\n",
       "17.0    2.713640\n",
       "18.0    2.707153\n",
       "19.0    2.778731\n",
       "20.0    2.756859\n",
       "21.0    2.711692\n",
       "22.0    2.731560\n",
       "23.0    2.753776\n",
       "24.0    2.737454\n",
       "25.0    2.730192\n",
       "26.0    2.671698\n",
       "27.0    2.675556\n",
       "28.0    2.594444\n",
       "29.0    2.600000\n",
       "34.0    2.650000\n",
       "35.0    2.710000\n",
       "36.0    2.700000\n",
       "52.0    2.650000\n",
       "60.0    2.880000\n",
       "Name: ceiling_height, dtype: float64"
      ]
     },
     "execution_count": 6,
     "metadata": {},
     "output_type": "execute_result"
    }
   ],
   "source": [
    "ceiling_height_groupped = df.query('2 < ceiling_height < 4').groupby('floors_total')['ceiling_height'].mean()\n",
    "ceiling_height_groupped"
   ]
  },
  {
   "cell_type": "markdown",
   "metadata": {},
   "source": [
    "Хорошо видна разница в 5 и 6 этажей, хрущевок и сталинок соответственно. Заменим пропуски на найденные средние значения."
   ]
  },
  {
   "cell_type": "code",
   "execution_count": 7,
   "metadata": {},
   "outputs": [
    {
     "name": "stdout",
     "output_type": "stream",
     "text": [
      "<class 'pandas.core.frame.DataFrame'>\n",
      "RangeIndex: 23699 entries, 0 to 23698\n",
      "Data columns (total 22 columns):\n",
      "total_images            23699 non-null int64\n",
      "last_price              23699 non-null float64\n",
      "total_area              23699 non-null float64\n",
      "first_day_exposition    23699 non-null object\n",
      "rooms                   23699 non-null int64\n",
      "ceiling_height          23621 non-null float64\n",
      "floors_total            23613 non-null float64\n",
      "living_area             21796 non-null float64\n",
      "floor                   23699 non-null int64\n",
      "is_apartment            2775 non-null object\n",
      "studio                  23699 non-null bool\n",
      "open_plan               23699 non-null bool\n",
      "kitchen_area            21421 non-null float64\n",
      "balcony                 23699 non-null float64\n",
      "locality_name           23650 non-null object\n",
      "airports_nearest        18157 non-null float64\n",
      "cityCenters_nearest     18180 non-null float64\n",
      "parks_around3000        18181 non-null float64\n",
      "parks_nearest           8079 non-null float64\n",
      "ponds_around3000        18181 non-null float64\n",
      "ponds_nearest           9110 non-null float64\n",
      "days_exposition         20518 non-null float64\n",
      "dtypes: bool(2), float64(14), int64(3), object(3)\n",
      "memory usage: 3.7+ MB\n"
     ]
    }
   ],
   "source": [
    "floors_total_index = ceiling_height_groupped.index.tolist()\n",
    "for floors in floors_total_index:\n",
    "    mask = (df['ceiling_height'].isnull()) & (df['floors_total'] == floors)\n",
    "    df.loc[mask, 'ceiling_height'] = ceiling_height_groupped[floors]\n",
    "df.info()"
   ]
  },
  {
   "cell_type": "code",
   "execution_count": 8,
   "metadata": {},
   "outputs": [
    {
     "data": {
      "text/html": [
       "<div>\n",
       "<style scoped>\n",
       "    .dataframe tbody tr th:only-of-type {\n",
       "        vertical-align: middle;\n",
       "    }\n",
       "\n",
       "    .dataframe tbody tr th {\n",
       "        vertical-align: top;\n",
       "    }\n",
       "\n",
       "    .dataframe thead th {\n",
       "        text-align: right;\n",
       "    }\n",
       "</style>\n",
       "<table border=\"1\" class=\"dataframe\">\n",
       "  <thead>\n",
       "    <tr style=\"text-align: right;\">\n",
       "      <th></th>\n",
       "      <th>total_images</th>\n",
       "      <th>last_price</th>\n",
       "      <th>total_area</th>\n",
       "      <th>first_day_exposition</th>\n",
       "      <th>rooms</th>\n",
       "      <th>ceiling_height</th>\n",
       "      <th>floors_total</th>\n",
       "      <th>living_area</th>\n",
       "      <th>floor</th>\n",
       "      <th>is_apartment</th>\n",
       "      <th>...</th>\n",
       "      <th>kitchen_area</th>\n",
       "      <th>balcony</th>\n",
       "      <th>locality_name</th>\n",
       "      <th>airports_nearest</th>\n",
       "      <th>cityCenters_nearest</th>\n",
       "      <th>parks_around3000</th>\n",
       "      <th>parks_nearest</th>\n",
       "      <th>ponds_around3000</th>\n",
       "      <th>ponds_nearest</th>\n",
       "      <th>days_exposition</th>\n",
       "    </tr>\n",
       "  </thead>\n",
       "  <tbody>\n",
       "    <tr>\n",
       "      <td>186</td>\n",
       "      <td>12</td>\n",
       "      <td>11640000.0</td>\n",
       "      <td>65.2</td>\n",
       "      <td>2018-10-02T00:00:00</td>\n",
       "      <td>2</td>\n",
       "      <td>NaN</td>\n",
       "      <td>NaN</td>\n",
       "      <td>30.80</td>\n",
       "      <td>4</td>\n",
       "      <td>NaN</td>\n",
       "      <td>...</td>\n",
       "      <td>12.00</td>\n",
       "      <td>0.0</td>\n",
       "      <td>Санкт-Петербург</td>\n",
       "      <td>39197.0</td>\n",
       "      <td>12373.0</td>\n",
       "      <td>1.0</td>\n",
       "      <td>123.0</td>\n",
       "      <td>0.0</td>\n",
       "      <td>NaN</td>\n",
       "      <td>49.0</td>\n",
       "    </tr>\n",
       "    <tr>\n",
       "      <td>237</td>\n",
       "      <td>4</td>\n",
       "      <td>2438033.0</td>\n",
       "      <td>28.1</td>\n",
       "      <td>2016-11-23T00:00:00</td>\n",
       "      <td>1</td>\n",
       "      <td>NaN</td>\n",
       "      <td>NaN</td>\n",
       "      <td>20.75</td>\n",
       "      <td>1</td>\n",
       "      <td>NaN</td>\n",
       "      <td>...</td>\n",
       "      <td>NaN</td>\n",
       "      <td>0.0</td>\n",
       "      <td>Санкт-Петербург</td>\n",
       "      <td>22041.0</td>\n",
       "      <td>17369.0</td>\n",
       "      <td>0.0</td>\n",
       "      <td>NaN</td>\n",
       "      <td>1.0</td>\n",
       "      <td>374.0</td>\n",
       "      <td>251.0</td>\n",
       "    </tr>\n",
       "    <tr>\n",
       "      <td>457</td>\n",
       "      <td>4</td>\n",
       "      <td>9788348.0</td>\n",
       "      <td>70.8</td>\n",
       "      <td>2015-08-01T00:00:00</td>\n",
       "      <td>2</td>\n",
       "      <td>NaN</td>\n",
       "      <td>NaN</td>\n",
       "      <td>38.40</td>\n",
       "      <td>12</td>\n",
       "      <td>NaN</td>\n",
       "      <td>...</td>\n",
       "      <td>10.63</td>\n",
       "      <td>0.0</td>\n",
       "      <td>Санкт-Петербург</td>\n",
       "      <td>37364.0</td>\n",
       "      <td>8322.0</td>\n",
       "      <td>2.0</td>\n",
       "      <td>309.0</td>\n",
       "      <td>2.0</td>\n",
       "      <td>706.0</td>\n",
       "      <td>727.0</td>\n",
       "    </tr>\n",
       "    <tr>\n",
       "      <td>671</td>\n",
       "      <td>4</td>\n",
       "      <td>6051191.0</td>\n",
       "      <td>93.6</td>\n",
       "      <td>2017-04-06T00:00:00</td>\n",
       "      <td>3</td>\n",
       "      <td>NaN</td>\n",
       "      <td>NaN</td>\n",
       "      <td>47.10</td>\n",
       "      <td>8</td>\n",
       "      <td>NaN</td>\n",
       "      <td>...</td>\n",
       "      <td>16.80</td>\n",
       "      <td>0.0</td>\n",
       "      <td>Санкт-Петербург</td>\n",
       "      <td>22041.0</td>\n",
       "      <td>17369.0</td>\n",
       "      <td>0.0</td>\n",
       "      <td>NaN</td>\n",
       "      <td>1.0</td>\n",
       "      <td>374.0</td>\n",
       "      <td>123.0</td>\n",
       "    </tr>\n",
       "    <tr>\n",
       "      <td>1757</td>\n",
       "      <td>5</td>\n",
       "      <td>3600000.0</td>\n",
       "      <td>39.0</td>\n",
       "      <td>2017-04-22T00:00:00</td>\n",
       "      <td>1</td>\n",
       "      <td>NaN</td>\n",
       "      <td>NaN</td>\n",
       "      <td>NaN</td>\n",
       "      <td>9</td>\n",
       "      <td>NaN</td>\n",
       "      <td>...</td>\n",
       "      <td>NaN</td>\n",
       "      <td>0.0</td>\n",
       "      <td>Санкт-Петербург</td>\n",
       "      <td>22735.0</td>\n",
       "      <td>11618.0</td>\n",
       "      <td>1.0</td>\n",
       "      <td>835.0</td>\n",
       "      <td>1.0</td>\n",
       "      <td>652.0</td>\n",
       "      <td>77.0</td>\n",
       "    </tr>\n",
       "  </tbody>\n",
       "</table>\n",
       "<p>5 rows × 22 columns</p>\n",
       "</div>"
      ],
      "text/plain": [
       "      total_images  last_price  total_area first_day_exposition  rooms  \\\n",
       "186             12  11640000.0        65.2  2018-10-02T00:00:00      2   \n",
       "237              4   2438033.0        28.1  2016-11-23T00:00:00      1   \n",
       "457              4   9788348.0        70.8  2015-08-01T00:00:00      2   \n",
       "671              4   6051191.0        93.6  2017-04-06T00:00:00      3   \n",
       "1757             5   3600000.0        39.0  2017-04-22T00:00:00      1   \n",
       "\n",
       "      ceiling_height  floors_total  living_area  floor is_apartment  ...  \\\n",
       "186              NaN           NaN        30.80      4          NaN  ...   \n",
       "237              NaN           NaN        20.75      1          NaN  ...   \n",
       "457              NaN           NaN        38.40     12          NaN  ...   \n",
       "671              NaN           NaN        47.10      8          NaN  ...   \n",
       "1757             NaN           NaN          NaN      9          NaN  ...   \n",
       "\n",
       "      kitchen_area  balcony    locality_name  airports_nearest  \\\n",
       "186          12.00      0.0  Санкт-Петербург           39197.0   \n",
       "237            NaN      0.0  Санкт-Петербург           22041.0   \n",
       "457          10.63      0.0  Санкт-Петербург           37364.0   \n",
       "671          16.80      0.0  Санкт-Петербург           22041.0   \n",
       "1757           NaN      0.0  Санкт-Петербург           22735.0   \n",
       "\n",
       "     cityCenters_nearest  parks_around3000  parks_nearest  ponds_around3000  \\\n",
       "186              12373.0               1.0          123.0               0.0   \n",
       "237              17369.0               0.0            NaN               1.0   \n",
       "457               8322.0               2.0          309.0               2.0   \n",
       "671              17369.0               0.0            NaN               1.0   \n",
       "1757             11618.0               1.0          835.0               1.0   \n",
       "\n",
       "      ponds_nearest  days_exposition  \n",
       "186             NaN             49.0  \n",
       "237           374.0            251.0  \n",
       "457           706.0            727.0  \n",
       "671           374.0            123.0  \n",
       "1757          652.0             77.0  \n",
       "\n",
       "[5 rows x 22 columns]"
      ]
     },
     "execution_count": 8,
     "metadata": {},
     "output_type": "execute_result"
    }
   ],
   "source": [
    "df[df['ceiling_height'].isnull()].head()"
   ]
  },
  {
   "cell_type": "markdown",
   "metadata": {},
   "source": [
    "Высота потолка не заполнилась в 78 строках с неизвестным количеством этажей в доме."
   ]
  },
  {
   "cell_type": "markdown",
   "metadata": {},
   "source": [
    "Удалим строки с пропусками в столбце *locality_name*."
   ]
  },
  {
   "cell_type": "code",
   "execution_count": 9,
   "metadata": {},
   "outputs": [
    {
     "name": "stdout",
     "output_type": "stream",
     "text": [
      "<class 'pandas.core.frame.DataFrame'>\n",
      "RangeIndex: 23650 entries, 0 to 23649\n",
      "Data columns (total 22 columns):\n",
      "total_images            23650 non-null int64\n",
      "last_price              23650 non-null float64\n",
      "total_area              23650 non-null float64\n",
      "first_day_exposition    23650 non-null object\n",
      "rooms                   23650 non-null int64\n",
      "ceiling_height          23573 non-null float64\n",
      "floors_total            23565 non-null float64\n",
      "living_area             21752 non-null float64\n",
      "floor                   23650 non-null int64\n",
      "is_apartment            2760 non-null object\n",
      "studio                  23650 non-null bool\n",
      "open_plan               23650 non-null bool\n",
      "kitchen_area            21381 non-null float64\n",
      "balcony                 23650 non-null float64\n",
      "locality_name           23650 non-null object\n",
      "airports_nearest        18116 non-null float64\n",
      "cityCenters_nearest     18139 non-null float64\n",
      "parks_around3000        18140 non-null float64\n",
      "parks_nearest           8064 non-null float64\n",
      "ponds_around3000        18140 non-null float64\n",
      "ponds_nearest           9085 non-null float64\n",
      "days_exposition         20470 non-null float64\n",
      "dtypes: bool(2), float64(14), int64(3), object(3)\n",
      "memory usage: 3.7+ MB\n"
     ]
    }
   ],
   "source": [
    "df = df.dropna(subset=['locality_name']).reset_index(drop=True)\n",
    "df.info()"
   ]
  },
  {
   "cell_type": "markdown",
   "metadata": {},
   "source": [
    "Пропуски есть во всех столбцах, данные которых получены автоматически на основе картографических данных:\n",
    "* airports_nearest,\n",
    "* cityCenters_nearest,\n",
    "* parks_around3000,\n",
    "* parks_nearest,\n",
    "* ponds_around3000,\n",
    "* ponds_nearest.\n",
    "\n",
    "Большое количество пропусков в столбцах *parks_around3000* и *ponds_around3000*: возможно поблизости нет парков и водоемов.  \n",
    "В *airports_nearest* и *cityCenters_nearest* близко количество пропущенных значений. Предположим, что подсчитано только для СПб и населенных пунктов, которые входят в состав СПб. Проверим на Сестрорецке (входит в СПб и далеко от аэропорта) и Коммунар(не входит в СПб и близко к аэропорту)."
   ]
  },
  {
   "cell_type": "code",
   "execution_count": 10,
   "metadata": {},
   "outputs": [
    {
     "data": {
      "text/plain": [
       "5510"
      ]
     },
     "execution_count": 10,
     "metadata": {},
     "output_type": "execute_result"
    }
   ],
   "source": [
    "df[df['airports_nearest'].isnull() & df['cityCenters_nearest'].isnull()]['total_area'].count()"
   ]
  },
  {
   "cell_type": "code",
   "execution_count": 11,
   "metadata": {
    "scrolled": true
   },
   "outputs": [
    {
     "data": {
      "text/html": [
       "<div>\n",
       "<style scoped>\n",
       "    .dataframe tbody tr th:only-of-type {\n",
       "        vertical-align: middle;\n",
       "    }\n",
       "\n",
       "    .dataframe tbody tr th {\n",
       "        vertical-align: top;\n",
       "    }\n",
       "\n",
       "    .dataframe thead th {\n",
       "        text-align: right;\n",
       "    }\n",
       "</style>\n",
       "<table border=\"1\" class=\"dataframe\">\n",
       "  <thead>\n",
       "    <tr style=\"text-align: right;\">\n",
       "      <th></th>\n",
       "      <th>total_images</th>\n",
       "      <th>last_price</th>\n",
       "      <th>total_area</th>\n",
       "      <th>first_day_exposition</th>\n",
       "      <th>rooms</th>\n",
       "      <th>ceiling_height</th>\n",
       "      <th>floors_total</th>\n",
       "      <th>living_area</th>\n",
       "      <th>floor</th>\n",
       "      <th>is_apartment</th>\n",
       "      <th>...</th>\n",
       "      <th>kitchen_area</th>\n",
       "      <th>balcony</th>\n",
       "      <th>locality_name</th>\n",
       "      <th>airports_nearest</th>\n",
       "      <th>cityCenters_nearest</th>\n",
       "      <th>parks_around3000</th>\n",
       "      <th>parks_nearest</th>\n",
       "      <th>ponds_around3000</th>\n",
       "      <th>ponds_nearest</th>\n",
       "      <th>days_exposition</th>\n",
       "    </tr>\n",
       "  </thead>\n",
       "  <tbody>\n",
       "    <tr>\n",
       "      <td>5</td>\n",
       "      <td>10</td>\n",
       "      <td>2890000.0</td>\n",
       "      <td>30.40</td>\n",
       "      <td>2018-09-10T00:00:00</td>\n",
       "      <td>1</td>\n",
       "      <td>2.642938</td>\n",
       "      <td>12.0</td>\n",
       "      <td>14.40</td>\n",
       "      <td>5</td>\n",
       "      <td>NaN</td>\n",
       "      <td>...</td>\n",
       "      <td>9.10</td>\n",
       "      <td>0.0</td>\n",
       "      <td>городской посёлок Янино-1</td>\n",
       "      <td>NaN</td>\n",
       "      <td>NaN</td>\n",
       "      <td>NaN</td>\n",
       "      <td>NaN</td>\n",
       "      <td>NaN</td>\n",
       "      <td>NaN</td>\n",
       "      <td>55.0</td>\n",
       "    </tr>\n",
       "    <tr>\n",
       "      <td>8</td>\n",
       "      <td>20</td>\n",
       "      <td>2900000.0</td>\n",
       "      <td>33.16</td>\n",
       "      <td>2018-05-23T00:00:00</td>\n",
       "      <td>1</td>\n",
       "      <td>2.675556</td>\n",
       "      <td>27.0</td>\n",
       "      <td>15.43</td>\n",
       "      <td>26</td>\n",
       "      <td>NaN</td>\n",
       "      <td>...</td>\n",
       "      <td>8.81</td>\n",
       "      <td>0.0</td>\n",
       "      <td>посёлок Мурино</td>\n",
       "      <td>NaN</td>\n",
       "      <td>NaN</td>\n",
       "      <td>NaN</td>\n",
       "      <td>NaN</td>\n",
       "      <td>NaN</td>\n",
       "      <td>NaN</td>\n",
       "      <td>189.0</td>\n",
       "    </tr>\n",
       "    <tr>\n",
       "      <td>12</td>\n",
       "      <td>10</td>\n",
       "      <td>3890000.0</td>\n",
       "      <td>54.00</td>\n",
       "      <td>2016-06-30T00:00:00</td>\n",
       "      <td>2</td>\n",
       "      <td>2.696740</td>\n",
       "      <td>5.0</td>\n",
       "      <td>30.00</td>\n",
       "      <td>5</td>\n",
       "      <td>NaN</td>\n",
       "      <td>...</td>\n",
       "      <td>9.00</td>\n",
       "      <td>0.0</td>\n",
       "      <td>Сертолово</td>\n",
       "      <td>NaN</td>\n",
       "      <td>NaN</td>\n",
       "      <td>NaN</td>\n",
       "      <td>NaN</td>\n",
       "      <td>NaN</td>\n",
       "      <td>NaN</td>\n",
       "      <td>90.0</td>\n",
       "    </tr>\n",
       "    <tr>\n",
       "      <td>22</td>\n",
       "      <td>20</td>\n",
       "      <td>5000000.0</td>\n",
       "      <td>58.00</td>\n",
       "      <td>2017-04-24T00:00:00</td>\n",
       "      <td>2</td>\n",
       "      <td>2.750000</td>\n",
       "      <td>25.0</td>\n",
       "      <td>30.00</td>\n",
       "      <td>15</td>\n",
       "      <td>NaN</td>\n",
       "      <td>...</td>\n",
       "      <td>11.00</td>\n",
       "      <td>2.0</td>\n",
       "      <td>деревня Кудрово</td>\n",
       "      <td>NaN</td>\n",
       "      <td>NaN</td>\n",
       "      <td>NaN</td>\n",
       "      <td>NaN</td>\n",
       "      <td>NaN</td>\n",
       "      <td>NaN</td>\n",
       "      <td>60.0</td>\n",
       "    </tr>\n",
       "    <tr>\n",
       "      <td>30</td>\n",
       "      <td>12</td>\n",
       "      <td>2200000.0</td>\n",
       "      <td>32.80</td>\n",
       "      <td>2018-02-19T00:00:00</td>\n",
       "      <td>1</td>\n",
       "      <td>2.580204</td>\n",
       "      <td>9.0</td>\n",
       "      <td>NaN</td>\n",
       "      <td>2</td>\n",
       "      <td>NaN</td>\n",
       "      <td>...</td>\n",
       "      <td>NaN</td>\n",
       "      <td>0.0</td>\n",
       "      <td>Коммунар</td>\n",
       "      <td>NaN</td>\n",
       "      <td>NaN</td>\n",
       "      <td>NaN</td>\n",
       "      <td>NaN</td>\n",
       "      <td>NaN</td>\n",
       "      <td>NaN</td>\n",
       "      <td>63.0</td>\n",
       "    </tr>\n",
       "    <tr>\n",
       "      <td>37</td>\n",
       "      <td>10</td>\n",
       "      <td>1990000.0</td>\n",
       "      <td>45.80</td>\n",
       "      <td>2017-10-28T00:00:00</td>\n",
       "      <td>2</td>\n",
       "      <td>2.500000</td>\n",
       "      <td>5.0</td>\n",
       "      <td>NaN</td>\n",
       "      <td>1</td>\n",
       "      <td>NaN</td>\n",
       "      <td>...</td>\n",
       "      <td>NaN</td>\n",
       "      <td>0.0</td>\n",
       "      <td>поселок городского типа Красный Бор</td>\n",
       "      <td>NaN</td>\n",
       "      <td>NaN</td>\n",
       "      <td>NaN</td>\n",
       "      <td>NaN</td>\n",
       "      <td>NaN</td>\n",
       "      <td>NaN</td>\n",
       "      <td>196.0</td>\n",
       "    </tr>\n",
       "    <tr>\n",
       "      <td>38</td>\n",
       "      <td>10</td>\n",
       "      <td>3150000.0</td>\n",
       "      <td>40.00</td>\n",
       "      <td>2018-03-29T00:00:00</td>\n",
       "      <td>1</td>\n",
       "      <td>2.750000</td>\n",
       "      <td>18.0</td>\n",
       "      <td>16.30</td>\n",
       "      <td>9</td>\n",
       "      <td>NaN</td>\n",
       "      <td>...</td>\n",
       "      <td>11.60</td>\n",
       "      <td>0.0</td>\n",
       "      <td>посёлок Мурино</td>\n",
       "      <td>NaN</td>\n",
       "      <td>NaN</td>\n",
       "      <td>NaN</td>\n",
       "      <td>NaN</td>\n",
       "      <td>NaN</td>\n",
       "      <td>NaN</td>\n",
       "      <td>103.0</td>\n",
       "    </tr>\n",
       "    <tr>\n",
       "      <td>47</td>\n",
       "      <td>17</td>\n",
       "      <td>3600000.0</td>\n",
       "      <td>56.10</td>\n",
       "      <td>2018-10-18T00:00:00</td>\n",
       "      <td>3</td>\n",
       "      <td>2.927399</td>\n",
       "      <td>4.0</td>\n",
       "      <td>42.50</td>\n",
       "      <td>3</td>\n",
       "      <td>NaN</td>\n",
       "      <td>...</td>\n",
       "      <td>5.70</td>\n",
       "      <td>1.0</td>\n",
       "      <td>Гатчина</td>\n",
       "      <td>NaN</td>\n",
       "      <td>NaN</td>\n",
       "      <td>NaN</td>\n",
       "      <td>NaN</td>\n",
       "      <td>NaN</td>\n",
       "      <td>NaN</td>\n",
       "      <td>179.0</td>\n",
       "    </tr>\n",
       "    <tr>\n",
       "      <td>60</td>\n",
       "      <td>3</td>\n",
       "      <td>2740000.0</td>\n",
       "      <td>35.00</td>\n",
       "      <td>2018-01-01T00:00:00</td>\n",
       "      <td>1</td>\n",
       "      <td>2.642938</td>\n",
       "      <td>12.0</td>\n",
       "      <td>NaN</td>\n",
       "      <td>8</td>\n",
       "      <td>NaN</td>\n",
       "      <td>...</td>\n",
       "      <td>NaN</td>\n",
       "      <td>0.0</td>\n",
       "      <td>посёлок Мурино</td>\n",
       "      <td>NaN</td>\n",
       "      <td>NaN</td>\n",
       "      <td>NaN</td>\n",
       "      <td>NaN</td>\n",
       "      <td>NaN</td>\n",
       "      <td>NaN</td>\n",
       "      <td>11.0</td>\n",
       "    </tr>\n",
       "    <tr>\n",
       "      <td>62</td>\n",
       "      <td>0</td>\n",
       "      <td>4800000.0</td>\n",
       "      <td>78.60</td>\n",
       "      <td>2017-09-17T00:00:00</td>\n",
       "      <td>3</td>\n",
       "      <td>2.800000</td>\n",
       "      <td>9.0</td>\n",
       "      <td>48.80</td>\n",
       "      <td>5</td>\n",
       "      <td>NaN</td>\n",
       "      <td>...</td>\n",
       "      <td>11.90</td>\n",
       "      <td>2.0</td>\n",
       "      <td>Сертолово</td>\n",
       "      <td>NaN</td>\n",
       "      <td>NaN</td>\n",
       "      <td>NaN</td>\n",
       "      <td>NaN</td>\n",
       "      <td>NaN</td>\n",
       "      <td>NaN</td>\n",
       "      <td>5.0</td>\n",
       "    </tr>\n",
       "  </tbody>\n",
       "</table>\n",
       "<p>10 rows × 22 columns</p>\n",
       "</div>"
      ],
      "text/plain": [
       "    total_images  last_price  total_area first_day_exposition  rooms  \\\n",
       "5             10   2890000.0       30.40  2018-09-10T00:00:00      1   \n",
       "8             20   2900000.0       33.16  2018-05-23T00:00:00      1   \n",
       "12            10   3890000.0       54.00  2016-06-30T00:00:00      2   \n",
       "22            20   5000000.0       58.00  2017-04-24T00:00:00      2   \n",
       "30            12   2200000.0       32.80  2018-02-19T00:00:00      1   \n",
       "37            10   1990000.0       45.80  2017-10-28T00:00:00      2   \n",
       "38            10   3150000.0       40.00  2018-03-29T00:00:00      1   \n",
       "47            17   3600000.0       56.10  2018-10-18T00:00:00      3   \n",
       "60             3   2740000.0       35.00  2018-01-01T00:00:00      1   \n",
       "62             0   4800000.0       78.60  2017-09-17T00:00:00      3   \n",
       "\n",
       "    ceiling_height  floors_total  living_area  floor is_apartment  ...  \\\n",
       "5         2.642938          12.0        14.40      5          NaN  ...   \n",
       "8         2.675556          27.0        15.43     26          NaN  ...   \n",
       "12        2.696740           5.0        30.00      5          NaN  ...   \n",
       "22        2.750000          25.0        30.00     15          NaN  ...   \n",
       "30        2.580204           9.0          NaN      2          NaN  ...   \n",
       "37        2.500000           5.0          NaN      1          NaN  ...   \n",
       "38        2.750000          18.0        16.30      9          NaN  ...   \n",
       "47        2.927399           4.0        42.50      3          NaN  ...   \n",
       "60        2.642938          12.0          NaN      8          NaN  ...   \n",
       "62        2.800000           9.0        48.80      5          NaN  ...   \n",
       "\n",
       "    kitchen_area  balcony                        locality_name  \\\n",
       "5           9.10      0.0            городской посёлок Янино-1   \n",
       "8           8.81      0.0                       посёлок Мурино   \n",
       "12          9.00      0.0                            Сертолово   \n",
       "22         11.00      2.0                      деревня Кудрово   \n",
       "30           NaN      0.0                             Коммунар   \n",
       "37           NaN      0.0  поселок городского типа Красный Бор   \n",
       "38         11.60      0.0                       посёлок Мурино   \n",
       "47          5.70      1.0                              Гатчина   \n",
       "60           NaN      0.0                       посёлок Мурино   \n",
       "62         11.90      2.0                            Сертолово   \n",
       "\n",
       "    airports_nearest cityCenters_nearest  parks_around3000  parks_nearest  \\\n",
       "5                NaN                 NaN               NaN            NaN   \n",
       "8                NaN                 NaN               NaN            NaN   \n",
       "12               NaN                 NaN               NaN            NaN   \n",
       "22               NaN                 NaN               NaN            NaN   \n",
       "30               NaN                 NaN               NaN            NaN   \n",
       "37               NaN                 NaN               NaN            NaN   \n",
       "38               NaN                 NaN               NaN            NaN   \n",
       "47               NaN                 NaN               NaN            NaN   \n",
       "60               NaN                 NaN               NaN            NaN   \n",
       "62               NaN                 NaN               NaN            NaN   \n",
       "\n",
       "    ponds_around3000  ponds_nearest  days_exposition  \n",
       "5                NaN            NaN             55.0  \n",
       "8                NaN            NaN            189.0  \n",
       "12               NaN            NaN             90.0  \n",
       "22               NaN            NaN             60.0  \n",
       "30               NaN            NaN             63.0  \n",
       "37               NaN            NaN            196.0  \n",
       "38               NaN            NaN            103.0  \n",
       "47               NaN            NaN            179.0  \n",
       "60               NaN            NaN             11.0  \n",
       "62               NaN            NaN              5.0  \n",
       "\n",
       "[10 rows x 22 columns]"
      ]
     },
     "execution_count": 11,
     "metadata": {},
     "output_type": "execute_result"
    }
   ],
   "source": [
    "df[df['airports_nearest'].isnull() & df['cityCenters_nearest'].isnull()].head(10)"
   ]
  },
  {
   "cell_type": "code",
   "execution_count": 12,
   "metadata": {},
   "outputs": [
    {
     "name": "stdout",
     "output_type": "stream",
     "text": [
      "Объявлений в Сестрорецке всего 183, из них с пропущенными значениями в геоданных - 0.\n",
      "Объявлений в Коммунар всего 89, из них с пропущенными значениями в геоданных - 89.\n"
     ]
    }
   ],
   "source": [
    "sestroreck_total = len(df[df['locality_name'] == 'Сестрорецк'])\n",
    "sestroreck_null = len(df[(df['locality_name'] == 'Сестрорецк') & (df['airports_nearest'].isnull())])\n",
    "kommunar_total = len(df[df['locality_name'] == 'Коммунар'])\n",
    "kommunar_null = len(df[(df['locality_name'] == 'Коммунар') & (df['airports_nearest'].isnull())])\n",
    "print('Объявлений в Сестрорецке всего {}, из них с пропущенными значениями в геоданных - {}.'.format(sestroreck_total, sestroreck_null))\n",
    "print('Объявлений в Коммунар всего {}, из них с пропущенными значениями в геоданных - {}.'.format(kommunar_total, kommunar_null))"
   ]
  },
  {
   "cell_type": "markdown",
   "metadata": {},
   "source": [
    "Возможно отсутствие геоданных связано также с некорректными названиями населенных пунктов, например, в срезе с пустыми значениями есть \"посёлок Мурино\", которого сейчас не существует(получил статус города в 2019 году). Проверим это при поиске дубликатов."
   ]
  },
  {
   "cell_type": "markdown",
   "metadata": {},
   "source": [
    "### Вывод"
   ]
  },
  {
   "cell_type": "markdown",
   "metadata": {},
   "source": [
    "Обработали пропуски в столбцах *balcony*: пропуски заменили на 0; *ceiling_height*: заменили на среднее значение высоты потолка в домах определенной этажности.  \n",
    "Удалили строки с пропусками в столбце *locality_name*."
   ]
  },
  {
   "cell_type": "markdown",
   "metadata": {},
   "source": [
    "#### Поиск дубликатов"
   ]
  },
  {
   "cell_type": "markdown",
   "metadata": {},
   "source": [
    "Найдем повторяющиеся значения в столбце *locality_name* с помощью лемматизации."
   ]
  },
  {
   "cell_type": "code",
   "execution_count": 13,
   "metadata": {},
   "outputs": [
    {
     "data": {
      "text/plain": [
       "array(['Санкт-Петербург', 'посёлок Шушары', 'городской посёлок Янино-1',\n",
       "       'посёлок Парголово', 'посёлок Мурино', 'Ломоносов', 'Сертолово',\n",
       "       'Петергоф', 'Пушкин', 'деревня Кудрово', 'Коммунар', 'Колпино',\n",
       "       'поселок городского типа Красный Бор', 'Гатчина', 'поселок Мурино',\n",
       "       'деревня Фёдоровское', 'Выборг', 'Кронштадт', 'Кировск',\n",
       "       'деревня Новое Девяткино', 'посёлок Металлострой',\n",
       "       'посёлок городского типа Лебяжье',\n",
       "       'посёлок городского типа Сиверский', 'поселок Молодцово',\n",
       "       'поселок городского типа Кузьмоловский',\n",
       "       'садовое товарищество Новая Ропша', 'Павловск',\n",
       "       'деревня Пикколово', 'Всеволожск', 'Волхов', 'Кингисепп',\n",
       "       'Приозерск', 'Сестрорецк', 'деревня Куттузи', 'посёлок Аннино',\n",
       "       'поселок городского типа Ефимовский', 'посёлок Плодовое',\n",
       "       'деревня Заклинье', 'поселок Торковичи', 'поселок Первомайское',\n",
       "       'Красное Село', 'посёлок Понтонный', 'Сясьстрой', 'деревня Старая',\n",
       "       'деревня Лесколово', 'посёлок Новый Свет', 'Сланцы',\n",
       "       'село Путилово', 'Ивангород', 'Мурино', 'Шлиссельбург',\n",
       "       'Никольское', 'Зеленогорск', 'Сосновый Бор', 'поселок Новый Свет',\n",
       "       'деревня Оржицы', 'деревня Кальтино', 'Кудрово',\n",
       "       'поселок Романовка', 'посёлок Бугры', 'поселок Бугры',\n",
       "       'поселок городского типа Рощино', 'Кириши', 'Луга', 'Волосово',\n",
       "       'Отрадное', 'село Павлово', 'поселок Оредеж', 'село Копорье',\n",
       "       'посёлок городского типа Красный Бор', 'посёлок Молодёжное',\n",
       "       'Тихвин', 'посёлок Победа', 'деревня Нурма',\n",
       "       'поселок городского типа Синявино', 'Тосно',\n",
       "       'посёлок городского типа Кузьмоловский', 'посёлок Стрельна',\n",
       "       'Бокситогорск', 'посёлок Александровская', 'деревня Лопухинка',\n",
       "       'Пикалёво', 'поселок Терволово',\n",
       "       'поселок городского типа Советский', 'Подпорожье',\n",
       "       'посёлок Петровское', 'посёлок городского типа Токсово',\n",
       "       'поселок Сельцо', 'посёлок городского типа Вырица',\n",
       "       'деревня Кипень', 'деревня Келози', 'деревня Вартемяги',\n",
       "       'посёлок Тельмана', 'поселок Севастьяново',\n",
       "       'городской поселок Большая Ижора', 'городской посёлок Павлово',\n",
       "       'деревня Агалатово', 'посёлок Новогорелово',\n",
       "       'городской посёлок Лесогорский', 'деревня Лаголово',\n",
       "       'поселок Цвелодубово', 'поселок городского типа Рахья',\n",
       "       'поселок городского типа Вырица', 'деревня Белогорка',\n",
       "       'поселок Заводской', 'городской посёлок Новоселье',\n",
       "       'деревня Большие Колпаны', 'деревня Горбунки', 'деревня Батово',\n",
       "       'деревня Заневка', 'деревня Иссад', 'Приморск',\n",
       "       'городской посёлок Фёдоровское', 'деревня Мистолово',\n",
       "       'Новая Ладога', 'поселок Зимитицы', 'поселок Барышево',\n",
       "       'деревня Разметелево', 'поселок городского типа имени Свердлова',\n",
       "       'деревня Пеники', 'поселок Рябово', 'деревня Пудомяги',\n",
       "       'поселок станции Корнево', 'деревня Низино', 'деревня Бегуницы',\n",
       "       'посёлок Поляны', 'городской посёлок Мга', 'поселок Елизаветино',\n",
       "       'посёлок городского типа Кузнечное', 'деревня Колтуши',\n",
       "       'поселок Запорожское', 'посёлок городского типа Рощино',\n",
       "       'деревня Гостилицы', 'деревня Малое Карлино',\n",
       "       'посёлок Мичуринское', 'посёлок городского типа имени Морозова',\n",
       "       'посёлок Песочный', 'посёлок Сосново', 'деревня Аро',\n",
       "       'поселок Ильичёво', 'посёлок городского типа Тайцы',\n",
       "       'деревня Малое Верево', 'деревня Извара', 'поселок станции Вещево',\n",
       "       'село Паша', 'деревня Калитино',\n",
       "       'посёлок городского типа Ульяновка', 'деревня Чудской Бор',\n",
       "       'поселок городского типа Дубровка', 'деревня Мины',\n",
       "       'поселок Войсковицы', 'посёлок городского типа имени Свердлова',\n",
       "       'деревня Коркино', 'посёлок Ропша',\n",
       "       'поселок городского типа Приладожский', 'посёлок Щеглово',\n",
       "       'посёлок Гаврилово', 'Лодейное Поле', 'деревня Рабитицы',\n",
       "       'поселок городского типа Никольский', 'деревня Кузьмолово',\n",
       "       'деревня Малые Колпаны', 'поселок Тельмана',\n",
       "       'посёлок Петро-Славянка', 'городской посёлок Назия',\n",
       "       'посёлок Репино', 'посёлок Ильичёво', 'поселок Углово',\n",
       "       'поселок Старая Малукса', 'садовое товарищество Рахья',\n",
       "       'поселок Аннино', 'поселок Победа', 'деревня Меньково',\n",
       "       'деревня Старые Бегуницы', 'посёлок Сапёрный', 'поселок Семрино',\n",
       "       'поселок Гаврилово', 'поселок Глажево', 'поселок Кобринское',\n",
       "       'деревня Гарболово', 'деревня Юкки',\n",
       "       'поселок станции Приветнинское', 'деревня Мануйлово',\n",
       "       'деревня Пчева', 'поселок Поляны', 'поселок Цвылёво',\n",
       "       'поселок Мельниково', 'посёлок Пудость', 'посёлок Усть-Луга',\n",
       "       'Светогорск', 'Любань', 'поселок Селезнёво',\n",
       "       'поселок городского типа Рябово', 'Каменногорск', 'деревня Кривко',\n",
       "       'поселок Глебычево', 'деревня Парицы', 'поселок Жилпосёлок',\n",
       "       'посёлок городского типа Мга', 'городской поселок Янино-1',\n",
       "       'посёлок Войскорово', 'село Никольское', 'посёлок Терволово',\n",
       "       'поселок Стеклянный', 'посёлок городского типа Важины',\n",
       "       'посёлок Мыза-Ивановка', 'село Русско-Высоцкое',\n",
       "       'поселок городского типа Лебяжье',\n",
       "       'поселок городского типа Форносово', 'село Старая Ладога',\n",
       "       'поселок Житково', 'городской посёлок Виллози', 'деревня Лампово',\n",
       "       'деревня Шпаньково', 'деревня Лаврики', 'посёлок Сумино',\n",
       "       'посёлок Возрождение', 'деревня Старосиверская',\n",
       "       'посёлок Кикерино', 'поселок Возрождение',\n",
       "       'деревня Старое Хинколово', 'посёлок Пригородный',\n",
       "       'посёлок Торфяное', 'городской посёлок Будогощь',\n",
       "       'поселок Суходолье', 'поселок Красная Долина', 'деревня Хапо-Ое',\n",
       "       'поселок городского типа Дружная Горка', 'поселок Лисий Нос',\n",
       "       'деревня Яльгелево', 'посёлок Стеклянный', 'село Рождествено',\n",
       "       'деревня Старополье', 'посёлок Левашово', 'деревня Сяськелево',\n",
       "       'деревня Камышовка',\n",
       "       'садоводческое некоммерческое товарищество Лесная Поляна',\n",
       "       'деревня Хязельки', 'поселок Жилгородок',\n",
       "       'посёлок городского типа Павлово', 'деревня Ялгино',\n",
       "       'поселок Новый Учхоз', 'городской посёлок Рощино',\n",
       "       'поселок Гончарово', 'поселок Почап', 'посёлок Сапёрное',\n",
       "       'посёлок Платформа 69-й километр', 'поселок Каложицы',\n",
       "       'деревня Фалилеево', 'деревня Пельгора',\n",
       "       'поселок городского типа Лесогорский', 'деревня Торошковичи',\n",
       "       'посёлок Белоостров', 'посёлок Алексеевка', 'поселок Серебрянский',\n",
       "       'поселок Лукаши', 'поселок Петровское', 'деревня Щеглово',\n",
       "       'поселок Мичуринское', 'деревня Тарасово', 'поселок Кингисеппский',\n",
       "       'посёлок при железнодорожной станции Вещево', 'поселок Ушаки',\n",
       "       'деревня Котлы', 'деревня Сижно', 'деревня Торосово',\n",
       "       'посёлок Форт Красная Горка', 'поселок городского типа Токсово',\n",
       "       'деревня Новолисино', 'посёлок станции Громово', 'деревня Глинка',\n",
       "       'посёлок Мельниково', 'поселок городского типа Назия',\n",
       "       'деревня Старая Пустошь', 'поселок Коммунары', 'поселок Починок',\n",
       "       'посёлок городского типа Вознесенье', 'деревня Разбегаево',\n",
       "       'посёлок городского типа Рябово', 'поселок Гладкое',\n",
       "       'посёлок при железнодорожной станции Приветнинское',\n",
       "       'поселок Тёсово-4', 'посёлок Жилгородок', 'деревня Бор',\n",
       "       'посёлок Коробицыно', 'деревня Большая Вруда', 'деревня Курковицы',\n",
       "       'посёлок Лисий Нос', 'городской посёлок Советский',\n",
       "       'посёлок Кобралово', 'деревня Суоранда', 'поселок Кобралово',\n",
       "       'поселок городского типа Кондратьево',\n",
       "       'коттеджный поселок Счастье', 'поселок Любань', 'деревня Реброво',\n",
       "       'деревня Зимитицы', 'деревня Тойворово', 'поселок Семиозерье',\n",
       "       'поселок Лесное', 'поселок Совхозный', 'поселок Усть-Луга',\n",
       "       'посёлок Ленинское', 'посёлок Суйда',\n",
       "       'посёлок городского типа Форносово', 'деревня Нижние Осельки',\n",
       "       'посёлок станции Свирь', 'поселок Перово', 'Высоцк',\n",
       "       'поселок Гарболово', 'село Шум', 'поселок Котельский',\n",
       "       'поселок станции Лужайка', 'деревня Большая Пустомержа',\n",
       "       'поселок Красносельское', 'деревня Вахнова Кара', 'деревня Пижма',\n",
       "       'коттеджный поселок Кивеннапа Север', 'поселок Коробицыно',\n",
       "       'поселок Ромашки', 'посёлок Перово', 'деревня Каськово',\n",
       "       'деревня Куровицы', 'посёлок Плоское', 'поселок Сумино',\n",
       "       'поселок городского типа Большая Ижора', 'поселок Кирпичное',\n",
       "       'деревня Ям-Тесово', 'деревня Раздолье', 'деревня Терпилицы',\n",
       "       'посёлок Шугозеро', 'деревня Ваганово', 'поселок Пушное',\n",
       "       'садовое товарищество Садко', 'посёлок Усть-Ижора',\n",
       "       'деревня Выскатка', 'городской посёлок Свирьстрой',\n",
       "       'поселок Громово', 'деревня Кисельня', 'посёлок Старая Малукса',\n",
       "       'деревня Трубников Бор', 'поселок Калитино',\n",
       "       'посёлок Высокоключевой', 'садовое товарищество Приладожский',\n",
       "       'посёлок Пансионат Зелёный Бор', 'деревня Ненимяки',\n",
       "       'поселок Пансионат Зелёный Бор', 'деревня Снегирёвка',\n",
       "       'деревня Рапполово', 'деревня Пустынка', 'поселок Рабитицы',\n",
       "       'деревня Большой Сабск', 'деревня Русско', 'деревня Лупполово',\n",
       "       'деревня Большое Рейзино', 'деревня Малая Романовка',\n",
       "       'поселок Дружноселье', 'поселок Пчевжа', 'поселок Володарское',\n",
       "       'деревня Нижняя', 'коттеджный посёлок Лесное', 'деревня Тихковицы',\n",
       "       'деревня Борисова Грива', 'посёлок Дзержинского'], dtype=object)"
      ]
     },
     "execution_count": 13,
     "metadata": {},
     "output_type": "execute_result"
    }
   ],
   "source": [
    "locality_n = df['locality_name'].unique()\n",
    "locality_n"
   ]
  },
  {
   "cell_type": "code",
   "execution_count": 14,
   "metadata": {
    "scrolled": true
   },
   "outputs": [
    {
     "data": {
      "text/plain": [
       "'Санкт-Петербург посёлок Шушары городской посёлок Янино-1 посёлок Парголово посёлок Мурино Ломоносов Сертолово Петергоф Пушкин деревня Кудрово Коммунар Колпино поселок городского типа Красный Бор Гатчина поселок Мурино деревня Фёдоровское Выборг Кронштадт Кировск деревня Новое Девяткино посёлок Металлострой посёлок городского типа Лебяжье посёлок городского типа Сиверский поселок Молодцово поселок городского типа Кузьмоловский садовое товарищество Новая Ропша Павловск деревня Пикколово Всеволожск Волхов Кингисепп Приозерск Сестрорецк деревня Куттузи посёлок Аннино поселок городского типа Ефимовский посёлок Плодовое деревня Заклинье поселок Торковичи поселок Первомайское Красное Село посёлок Понтонный Сясьстрой деревня Старая деревня Лесколово посёлок Новый Свет Сланцы село Путилово Ивангород Мурино Шлиссельбург Никольское Зеленогорск Сосновый Бор поселок Новый Свет деревня Оржицы деревня Кальтино Кудрово поселок Романовка посёлок Бугры поселок Бугры поселок городского типа Рощино Кириши Луга Волосово Отрадное село Павлово поселок Оредеж село Копорье посёлок городского типа Красный Бор посёлок Молодёжное Тихвин посёлок Победа деревня Нурма поселок городского типа Синявино Тосно посёлок городского типа Кузьмоловский посёлок Стрельна Бокситогорск посёлок Александровская деревня Лопухинка Пикалёво поселок Терволово поселок городского типа Советский Подпорожье посёлок Петровское посёлок городского типа Токсово поселок Сельцо посёлок городского типа Вырица деревня Кипень деревня Келози деревня Вартемяги посёлок Тельмана поселок Севастьяново городской поселок Большая Ижора городской посёлок Павлово деревня Агалатово посёлок Новогорелово городской посёлок Лесогорский деревня Лаголово поселок Цвелодубово поселок городского типа Рахья поселок городского типа Вырица деревня Белогорка поселок Заводской городской посёлок Новоселье деревня Большие Колпаны деревня Горбунки деревня Батово деревня Заневка деревня Иссад Приморск городской посёлок Фёдоровское деревня Мистолово Новая Ладога поселок Зимитицы поселок Барышево деревня Разметелево поселок городского типа имени Свердлова деревня Пеники поселок Рябово деревня Пудомяги поселок станции Корнево деревня Низино деревня Бегуницы посёлок Поляны городской посёлок Мга поселок Елизаветино посёлок городского типа Кузнечное деревня Колтуши поселок Запорожское посёлок городского типа Рощино деревня Гостилицы деревня Малое Карлино посёлок Мичуринское посёлок городского типа имени Морозова посёлок Песочный посёлок Сосново деревня Аро поселок Ильичёво посёлок городского типа Тайцы деревня Малое Верево деревня Извара поселок станции Вещево село Паша деревня Калитино посёлок городского типа Ульяновка деревня Чудской Бор поселок городского типа Дубровка деревня Мины поселок Войсковицы посёлок городского типа имени Свердлова деревня Коркино посёлок Ропша поселок городского типа Приладожский посёлок Щеглово посёлок Гаврилово Лодейное Поле деревня Рабитицы поселок городского типа Никольский деревня Кузьмолово деревня Малые Колпаны поселок Тельмана посёлок Петро-Славянка городской посёлок Назия посёлок Репино посёлок Ильичёво поселок Углово поселок Старая Малукса садовое товарищество Рахья поселок Аннино поселок Победа деревня Меньково деревня Старые Бегуницы посёлок Сапёрный поселок Семрино поселок Гаврилово поселок Глажево поселок Кобринское деревня Гарболово деревня Юкки поселок станции Приветнинское деревня Мануйлово деревня Пчева поселок Поляны поселок Цвылёво поселок Мельниково посёлок Пудость посёлок Усть-Луга Светогорск Любань поселок Селезнёво поселок городского типа Рябово Каменногорск деревня Кривко поселок Глебычево деревня Парицы поселок Жилпосёлок посёлок городского типа Мга городской поселок Янино-1 посёлок Войскорово село Никольское посёлок Терволово поселок Стеклянный посёлок городского типа Важины посёлок Мыза-Ивановка село Русско-Высоцкое поселок городского типа Лебяжье поселок городского типа Форносово село Старая Ладога поселок Житково городской посёлок Виллози деревня Лампово деревня Шпаньково деревня Лаврики посёлок Сумино посёлок Возрождение деревня Старосиверская посёлок Кикерино поселок Возрождение деревня Старое Хинколово посёлок Пригородный посёлок Торфяное городской посёлок Будогощь поселок Суходолье поселок Красная Долина деревня Хапо-Ое поселок городского типа Дружная Горка поселок Лисий Нос деревня Яльгелево посёлок Стеклянный село Рождествено деревня Старополье посёлок Левашово деревня Сяськелево деревня Камышовка садоводческое некоммерческое товарищество Лесная Поляна деревня Хязельки поселок Жилгородок посёлок городского типа Павлово деревня Ялгино поселок Новый Учхоз городской посёлок Рощино поселок Гончарово поселок Почап посёлок Сапёрное посёлок Платформа 69-й километр поселок Каложицы деревня Фалилеево деревня Пельгора поселок городского типа Лесогорский деревня Торошковичи посёлок Белоостров посёлок Алексеевка поселок Серебрянский поселок Лукаши поселок Петровское деревня Щеглово поселок Мичуринское деревня Тарасово поселок Кингисеппский посёлок при железнодорожной станции Вещево поселок Ушаки деревня Котлы деревня Сижно деревня Торосово посёлок Форт Красная Горка поселок городского типа Токсово деревня Новолисино посёлок станции Громово деревня Глинка посёлок Мельниково поселок городского типа Назия деревня Старая Пустошь поселок Коммунары поселок Починок посёлок городского типа Вознесенье деревня Разбегаево посёлок городского типа Рябово поселок Гладкое посёлок при железнодорожной станции Приветнинское поселок Тёсово-4 посёлок Жилгородок деревня Бор посёлок Коробицыно деревня Большая Вруда деревня Курковицы посёлок Лисий Нос городской посёлок Советский посёлок Кобралово деревня Суоранда поселок Кобралово поселок городского типа Кондратьево коттеджный поселок Счастье поселок Любань деревня Реброво деревня Зимитицы деревня Тойворово поселок Семиозерье поселок Лесное поселок Совхозный поселок Усть-Луга посёлок Ленинское посёлок Суйда посёлок городского типа Форносово деревня Нижние Осельки посёлок станции Свирь поселок Перово Высоцк поселок Гарболово село Шум поселок Котельский поселок станции Лужайка деревня Большая Пустомержа поселок Красносельское деревня Вахнова Кара деревня Пижма коттеджный поселок Кивеннапа Север поселок Коробицыно поселок Ромашки посёлок Перово деревня Каськово деревня Куровицы посёлок Плоское поселок Сумино поселок городского типа Большая Ижора поселок Кирпичное деревня Ям-Тесово деревня Раздолье деревня Терпилицы посёлок Шугозеро деревня Ваганово поселок Пушное садовое товарищество Садко посёлок Усть-Ижора деревня Выскатка городской посёлок Свирьстрой поселок Громово деревня Кисельня посёлок Старая Малукса деревня Трубников Бор поселок Калитино посёлок Высокоключевой садовое товарищество Приладожский посёлок Пансионат Зелёный Бор деревня Ненимяки поселок Пансионат Зелёный Бор деревня Снегирёвка деревня Рапполово деревня Пустынка поселок Рабитицы деревня Большой Сабск деревня Русско деревня Лупполово деревня Большое Рейзино деревня Малая Романовка поселок Дружноселье поселок Пчевжа поселок Володарское деревня Нижняя коттеджный посёлок Лесное деревня Тихковицы деревня Борисова Грива посёлок Дзержинского'"
      ]
     },
     "execution_count": 14,
     "metadata": {},
     "output_type": "execute_result"
    }
   ],
   "source": [
    "lemmas = m.lemmatize(' '.join(locality_n))\n",
    "' '.join(locality_n)"
   ]
  },
  {
   "cell_type": "code",
   "execution_count": 15,
   "metadata": {},
   "outputs": [
    {
     "data": {
      "text/plain": [
       "Counter({'санкт-петербург': 1,\n",
       "         ' ': 847,\n",
       "         'поселок': 201,\n",
       "         'шушар': 1,\n",
       "         'городской': 53,\n",
       "         'янино': 2,\n",
       "         '-': 12,\n",
       "         '1': 2,\n",
       "         'парголовый': 1,\n",
       "         'муриный': 3,\n",
       "         'ломоносов': 1,\n",
       "         'сертолово': 1,\n",
       "         'петергоф': 1,\n",
       "         'пушкин': 1,\n",
       "         'деревня': 106,\n",
       "         'кудрово': 2,\n",
       "         'коммунар': 2,\n",
       "         'колпино': 1,\n",
       "         'тип': 39,\n",
       "         'красный': 5,\n",
       "         'бор': 8,\n",
       "         'гатчина': 1,\n",
       "         'федоровский': 2,\n",
       "         'выборг': 1,\n",
       "         'кронштадт': 1,\n",
       "         'кировск': 1,\n",
       "         'новый': 6,\n",
       "         'девяткино': 1,\n",
       "         'металлострой': 1,\n",
       "         'лебяжий': 2,\n",
       "         'сиверский': 1,\n",
       "         'молодцов': 1,\n",
       "         'кузьмоловский': 2,\n",
       "         'садовый': 4,\n",
       "         'товарищество': 5,\n",
       "         'ропша': 2,\n",
       "         'павловск': 1,\n",
       "         'пикколово': 1,\n",
       "         'всеволожск': 1,\n",
       "         'волхов': 1,\n",
       "         'кингисепп': 1,\n",
       "         'приозерск': 1,\n",
       "         'сестрорецк': 1,\n",
       "         'куттузить': 1,\n",
       "         'аннино': 2,\n",
       "         'ефимовский': 1,\n",
       "         'плодовый': 1,\n",
       "         'заклинья': 1,\n",
       "         'торкович': 1,\n",
       "         'первомайский': 1,\n",
       "         'село': 10,\n",
       "         'понтонный': 1,\n",
       "         'сясьстрой': 1,\n",
       "         'старый': 7,\n",
       "         'лесколов': 1,\n",
       "         'свет': 2,\n",
       "         'сланцы': 1,\n",
       "         'путиловый': 1,\n",
       "         'ивангород': 1,\n",
       "         'шлиссельбург': 1,\n",
       "         'никольское': 2,\n",
       "         'зеленогорск': 1,\n",
       "         'сосновый': 2,\n",
       "         'оржица': 1,\n",
       "         'кальтино': 1,\n",
       "         'романовка': 2,\n",
       "         'бугор': 2,\n",
       "         'рощино': 2,\n",
       "         'кириши': 1,\n",
       "         'луг': 3,\n",
       "         'волосово': 1,\n",
       "         'отрадный': 1,\n",
       "         'павлово': 3,\n",
       "         'оредеж': 1,\n",
       "         'копорье': 1,\n",
       "         'молодежный': 1,\n",
       "         'тихвин': 1,\n",
       "         'победа': 2,\n",
       "         'нурм': 1,\n",
       "         'синявина': 1,\n",
       "         'тосно': 1,\n",
       "         'стрельна': 1,\n",
       "         'бокситогорск': 1,\n",
       "         'александровский': 1,\n",
       "         'лопухинка': 1,\n",
       "         'пикалево': 1,\n",
       "         'терволов': 2,\n",
       "         'советский': 2,\n",
       "         'подпорожье': 1,\n",
       "         'петровский': 2,\n",
       "         'токсово': 2,\n",
       "         'сельцо': 1,\n",
       "         'вырица': 2,\n",
       "         'кипень': 1,\n",
       "         'келози': 1,\n",
       "         'вартемяга': 1,\n",
       "         'тельман': 2,\n",
       "         'севастьяново': 1,\n",
       "         'большой': 7,\n",
       "         'ижора': 3,\n",
       "         'агалатово': 1,\n",
       "         'новогорелово': 1,\n",
       "         'лесогорский': 2,\n",
       "         'лаголовый': 1,\n",
       "         'цвелодубово': 1,\n",
       "         'рахья': 2,\n",
       "         'белогорка': 1,\n",
       "         'заводской': 1,\n",
       "         'новоселье': 1,\n",
       "         'колпана': 2,\n",
       "         'горбунок': 1,\n",
       "         'батовый': 1,\n",
       "         'заневка': 1,\n",
       "         'иссад': 1,\n",
       "         'приморск': 1,\n",
       "         'мистолово': 1,\n",
       "         'ладога': 2,\n",
       "         'зимитиц': 2,\n",
       "         'барышево': 1,\n",
       "         'разметелево': 1,\n",
       "         'имя': 3,\n",
       "         'свердлов': 2,\n",
       "         'пеник': 1,\n",
       "         'рябово': 3,\n",
       "         'пудомяга': 1,\n",
       "         'станция': 8,\n",
       "         'корневый': 1,\n",
       "         'низиный': 1,\n",
       "         'бегуница': 2,\n",
       "         'поляна': 3,\n",
       "         'мга': 2,\n",
       "         'елизаветин': 1,\n",
       "         'кузнечный': 1,\n",
       "         'колтуша': 1,\n",
       "         'запорожский': 1,\n",
       "         'рощин': 1,\n",
       "         'гостилица': 1,\n",
       "         'малый': 4,\n",
       "         'карлино': 1,\n",
       "         'мичуринский': 2,\n",
       "         'морозов': 1,\n",
       "         'песочный': 1,\n",
       "         'аро': 1,\n",
       "         'ильичев': 2,\n",
       "         'тайцы': 1,\n",
       "         'верево': 1,\n",
       "         'извар': 1,\n",
       "         'вещево': 2,\n",
       "         'паша': 1,\n",
       "         'калитин': 1,\n",
       "         'ульяновка': 1,\n",
       "         'чудской': 1,\n",
       "         'дубровка': 1,\n",
       "         'мина': 1,\n",
       "         'войсковица': 1,\n",
       "         'коркино': 1,\n",
       "         'приладожский': 2,\n",
       "         'щегловый': 2,\n",
       "         'гаврилов': 2,\n",
       "         'лодейный': 1,\n",
       "         'поле': 1,\n",
       "         'рабитиц': 2,\n",
       "         'никольский': 1,\n",
       "         'кузьмоловый': 1,\n",
       "         'петро': 1,\n",
       "         'славянка': 1,\n",
       "         'назия': 2,\n",
       "         'репино': 1,\n",
       "         'угловый': 1,\n",
       "         'малукс': 2,\n",
       "         'меньковый': 1,\n",
       "         'саперный': 2,\n",
       "         'семрино': 1,\n",
       "         'глажево': 1,\n",
       "         'кобринский': 1,\n",
       "         'гарболовый': 2,\n",
       "         'юкка': 1,\n",
       "         'приветнинский': 2,\n",
       "         'мануйловый': 1,\n",
       "         'пчев': 1,\n",
       "         'цвылево': 1,\n",
       "         'мельниково': 2,\n",
       "         'пудость': 1,\n",
       "         'усть': 3,\n",
       "         'светогорск': 1,\n",
       "         'любань': 2,\n",
       "         'селезневый': 1,\n",
       "         'каменногорск': 1,\n",
       "         'кривко': 1,\n",
       "         'глебычевый': 1,\n",
       "         'парица': 1,\n",
       "         'жилпоселок': 1,\n",
       "         'войскоровый': 1,\n",
       "         'стеклянный': 2,\n",
       "         'важин': 1,\n",
       "         'мыза': 1,\n",
       "         'ивановка': 1,\n",
       "         'русский': 1,\n",
       "         'высоцкий': 1,\n",
       "         'форносовый': 2,\n",
       "         'житковый': 1,\n",
       "         'виллози': 1,\n",
       "         'ламповый': 1,\n",
       "         'шпаньковый': 1,\n",
       "         'лаврик': 1,\n",
       "         'сумино': 2,\n",
       "         'возрождение': 2,\n",
       "         'старосиверский': 1,\n",
       "         'кикерино': 1,\n",
       "         'хинколово': 1,\n",
       "         'пригородный': 1,\n",
       "         'торфяной': 1,\n",
       "         'будогощь': 1,\n",
       "         'суходолье': 1,\n",
       "         'долина': 1,\n",
       "         'хапо': 1,\n",
       "         'Ое': 1,\n",
       "         'дружный': 1,\n",
       "         'горка': 2,\n",
       "         'лисий': 2,\n",
       "         'нос': 2,\n",
       "         'яльгелевый': 1,\n",
       "         'рождествено': 1,\n",
       "         'старополье': 1,\n",
       "         'левашово': 1,\n",
       "         'сяськелевый': 1,\n",
       "         'камышовка': 1,\n",
       "         'садоводческий': 1,\n",
       "         'некоммерческий': 1,\n",
       "         'лесной': 3,\n",
       "         'хязелька': 1,\n",
       "         'жилгородка': 2,\n",
       "         'ялгино': 1,\n",
       "         'учхоз': 1,\n",
       "         'гончарово': 1,\n",
       "         'почап': 1,\n",
       "         'платформа': 1,\n",
       "         '69': 1,\n",
       "         'й': 1,\n",
       "         'километр': 1,\n",
       "         'каложица': 1,\n",
       "         'фалилеев': 1,\n",
       "         'пельгора': 1,\n",
       "         'торошкович': 1,\n",
       "         'белоостров': 1,\n",
       "         'алексеевка': 1,\n",
       "         'серебрянский': 1,\n",
       "         'лукаша': 1,\n",
       "         'тарасовый': 1,\n",
       "         'кингисеппский': 1,\n",
       "         'при': 2,\n",
       "         'железнодорожный': 2,\n",
       "         'ушак': 1,\n",
       "         'котел': 1,\n",
       "         'сижно': 1,\n",
       "         'торосовый': 1,\n",
       "         'форт': 1,\n",
       "         'новолисиный': 1,\n",
       "         'громовый': 2,\n",
       "         'глинка': 1,\n",
       "         'пустошь': 1,\n",
       "         'починок': 1,\n",
       "         'вознесение': 1,\n",
       "         'разбегаево': 1,\n",
       "         'гладкий': 1,\n",
       "         'тесовый': 2,\n",
       "         '4': 1,\n",
       "         'коробицын': 1,\n",
       "         'вруд': 1,\n",
       "         'курковица': 1,\n",
       "         'кобраловый': 2,\n",
       "         'суоранд': 1,\n",
       "         'кондратьево': 1,\n",
       "         'коттеджный': 3,\n",
       "         'счастие': 1,\n",
       "         'ребровый': 1,\n",
       "         'тойворовый': 1,\n",
       "         'семиозерье': 1,\n",
       "         'совхозный': 1,\n",
       "         'ленинский': 1,\n",
       "         'суйда': 1,\n",
       "         'нижний': 2,\n",
       "         'оселек': 1,\n",
       "         'свирь': 1,\n",
       "         'перово': 2,\n",
       "         'высоцк': 1,\n",
       "         'шум': 1,\n",
       "         'котельский': 1,\n",
       "         'лужайка': 1,\n",
       "         'пустомерж': 1,\n",
       "         'красносельский': 1,\n",
       "         'вахнов': 1,\n",
       "         'кара': 1,\n",
       "         'пижма': 1,\n",
       "         'кивеннап': 1,\n",
       "         'север': 1,\n",
       "         'коробицыно': 1,\n",
       "         'ромашка': 1,\n",
       "         'каськовый': 1,\n",
       "         'куровица': 1,\n",
       "         'плоский': 1,\n",
       "         'кирпичный': 1,\n",
       "         'яма': 1,\n",
       "         'раздолье': 1,\n",
       "         'терпилица': 1,\n",
       "         'шугозеро': 1,\n",
       "         'ваганово': 1,\n",
       "         'пушной': 1,\n",
       "         'садко': 1,\n",
       "         'выскатка': 1,\n",
       "         'свирьстрой': 1,\n",
       "         'кисельня': 1,\n",
       "         'трубник': 1,\n",
       "         'калитино': 1,\n",
       "         'высокоключевой': 1,\n",
       "         'пансионат': 2,\n",
       "         'зеленый': 2,\n",
       "         'ненимяка': 1,\n",
       "         'снегиревка': 1,\n",
       "         'рапполовый': 1,\n",
       "         'пустынка': 1,\n",
       "         'сабск': 1,\n",
       "         'русско': 1,\n",
       "         'лупполовый': 1,\n",
       "         'рейзино': 1,\n",
       "         'дружноселье': 1,\n",
       "         'пчевжа': 1,\n",
       "         'володарское': 1,\n",
       "         'тихковица': 1,\n",
       "         'борисов': 1,\n",
       "         'грива': 1,\n",
       "         'дзержинский': 1,\n",
       "         '\\n': 1})"
      ]
     },
     "execution_count": 15,
     "metadata": {},
     "output_type": "execute_result"
    }
   ],
   "source": [
    "from collections import Counter\n",
    "Counter(lemmas)"
   ]
  },
  {
   "cell_type": "markdown",
   "metadata": {},
   "source": [
    "Проверим несколько первых повторяющихся лемм - 'янино': 2, 'муриный': 3, 'кудрово': 2, 'коммунар': 2."
   ]
  },
  {
   "cell_type": "code",
   "execution_count": 16,
   "metadata": {},
   "outputs": [
    {
     "data": {
      "text/plain": [
       "array(['городской посёлок Янино-1', 'городской поселок Янино-1'],\n",
       "      dtype=object)"
      ]
     },
     "execution_count": 16,
     "metadata": {},
     "output_type": "execute_result"
    }
   ],
   "source": [
    "df[df['locality_name'].str.contains(r'Янино')]['locality_name'].unique()"
   ]
  },
  {
   "cell_type": "code",
   "execution_count": 17,
   "metadata": {},
   "outputs": [
    {
     "data": {
      "text/plain": [
       "array(['деревня Кудрово', 'Кудрово'], dtype=object)"
      ]
     },
     "execution_count": 17,
     "metadata": {},
     "output_type": "execute_result"
    }
   ],
   "source": [
    "df[df['locality_name'].str.contains(r'Кудрово')]['locality_name'].unique()"
   ]
  },
  {
   "cell_type": "code",
   "execution_count": 18,
   "metadata": {},
   "outputs": [
    {
     "data": {
      "text/plain": [
       "array(['посёлок Мурино', 'поселок Мурино', 'Мурино'], dtype=object)"
      ]
     },
     "execution_count": 18,
     "metadata": {},
     "output_type": "execute_result"
    }
   ],
   "source": [
    "df[df['locality_name'].str.contains(r'Мурино')]['locality_name'].unique()"
   ]
  },
  {
   "cell_type": "code",
   "execution_count": 19,
   "metadata": {},
   "outputs": [
    {
     "data": {
      "text/plain": [
       "array(['Коммунар', 'поселок Коммунары'], dtype=object)"
      ]
     },
     "execution_count": 19,
     "metadata": {},
     "output_type": "execute_result"
    }
   ],
   "source": [
    "df[df['locality_name'].str.contains(r'Коммунар')]['locality_name'].unique()"
   ]
  },
  {
   "cell_type": "markdown",
   "metadata": {},
   "source": [
    "Проблема разных наименований скорее всего связана с использованием разных версий справочников населенных пунктов. Вопрос использования одного справочника с версионностью необходимо рассмотреть с командой разработки."
   ]
  },
  {
   "cell_type": "markdown",
   "metadata": {},
   "source": [
    "Проверим ниличие полных дубликатов."
   ]
  },
  {
   "cell_type": "code",
   "execution_count": 20,
   "metadata": {},
   "outputs": [
    {
     "data": {
      "text/plain": [
       "0"
      ]
     },
     "execution_count": 20,
     "metadata": {},
     "output_type": "execute_result"
    }
   ],
   "source": [
    "df.duplicated().sum()"
   ]
  },
  {
   "cell_type": "markdown",
   "metadata": {},
   "source": [
    "### Вывод"
   ]
  },
  {
   "cell_type": "markdown",
   "metadata": {},
   "source": [
    "Сделали предположение о появлении дубликатов в столбце *locality_name*. Используем его при исследовательском анализе данных."
   ]
  },
  {
   "cell_type": "markdown",
   "metadata": {},
   "source": [
    "#### Замена типа данных"
   ]
  },
  {
   "cell_type": "markdown",
   "metadata": {},
   "source": [
    "В Шаге 1 выделены следующие столбцы для изменения типа данных на целочисленный:  \n",
    "* floors_total,   \n",
    "* balcony, \n",
    "* parks_around3000, \n",
    "* ponds_around3000,  \n",
    "* last_price, \n",
    "* airports_nearest, \n",
    "* cityCenters_nearest, \n",
    "* parks_nearest."
   ]
  },
  {
   "cell_type": "markdown",
   "metadata": {},
   "source": [
    "Изменим тип данных в столбцах без пропусков c вещественного на целочисленный. Воспользуемся методом astype(), который переводит значения в нужный тип. Проверим полученный результат, вызвав метод info()."
   ]
  },
  {
   "cell_type": "code",
   "execution_count": 21,
   "metadata": {},
   "outputs": [
    {
     "name": "stdout",
     "output_type": "stream",
     "text": [
      "<class 'pandas.core.frame.DataFrame'>\n",
      "RangeIndex: 23650 entries, 0 to 23649\n",
      "Data columns (total 22 columns):\n",
      "total_images            23650 non-null int64\n",
      "last_price              23650 non-null int64\n",
      "total_area              23650 non-null float64\n",
      "first_day_exposition    23650 non-null object\n",
      "rooms                   23650 non-null int64\n",
      "ceiling_height          23573 non-null float64\n",
      "floors_total            23565 non-null float64\n",
      "living_area             21752 non-null float64\n",
      "floor                   23650 non-null int64\n",
      "is_apartment            2760 non-null object\n",
      "studio                  23650 non-null bool\n",
      "open_plan               23650 non-null bool\n",
      "kitchen_area            21381 non-null float64\n",
      "balcony                 23650 non-null int64\n",
      "locality_name           23650 non-null object\n",
      "airports_nearest        18116 non-null float64\n",
      "cityCenters_nearest     18139 non-null float64\n",
      "parks_around3000        18140 non-null float64\n",
      "parks_nearest           8064 non-null float64\n",
      "ponds_around3000        18140 non-null float64\n",
      "ponds_nearest           9085 non-null float64\n",
      "days_exposition         20470 non-null float64\n",
      "dtypes: bool(2), float64(12), int64(5), object(3)\n",
      "memory usage: 3.7+ MB\n"
     ]
    }
   ],
   "source": [
    "df['balcony'] = df['balcony'].astype('int')\n",
    "df['last_price'] = df['last_price'].astype('int')\n",
    "df.info()"
   ]
  },
  {
   "cell_type": "markdown",
   "metadata": {},
   "source": [
    "Для удобства расчетов переведем цену квартиры в миллионы."
   ]
  },
  {
   "cell_type": "code",
   "execution_count": 22,
   "metadata": {},
   "outputs": [
    {
     "data": {
      "text/html": [
       "<div>\n",
       "<style scoped>\n",
       "    .dataframe tbody tr th:only-of-type {\n",
       "        vertical-align: middle;\n",
       "    }\n",
       "\n",
       "    .dataframe tbody tr th {\n",
       "        vertical-align: top;\n",
       "    }\n",
       "\n",
       "    .dataframe thead th {\n",
       "        text-align: right;\n",
       "    }\n",
       "</style>\n",
       "<table border=\"1\" class=\"dataframe\">\n",
       "  <thead>\n",
       "    <tr style=\"text-align: right;\">\n",
       "      <th></th>\n",
       "      <th>total_images</th>\n",
       "      <th>last_price</th>\n",
       "      <th>total_area</th>\n",
       "      <th>first_day_exposition</th>\n",
       "      <th>rooms</th>\n",
       "      <th>ceiling_height</th>\n",
       "      <th>floors_total</th>\n",
       "      <th>living_area</th>\n",
       "      <th>floor</th>\n",
       "      <th>is_apartment</th>\n",
       "      <th>...</th>\n",
       "      <th>kitchen_area</th>\n",
       "      <th>balcony</th>\n",
       "      <th>locality_name</th>\n",
       "      <th>airports_nearest</th>\n",
       "      <th>cityCenters_nearest</th>\n",
       "      <th>parks_around3000</th>\n",
       "      <th>parks_nearest</th>\n",
       "      <th>ponds_around3000</th>\n",
       "      <th>ponds_nearest</th>\n",
       "      <th>days_exposition</th>\n",
       "    </tr>\n",
       "  </thead>\n",
       "  <tbody>\n",
       "    <tr>\n",
       "      <td>0</td>\n",
       "      <td>20</td>\n",
       "      <td>13.000</td>\n",
       "      <td>108.0</td>\n",
       "      <td>2019-03-07T00:00:00</td>\n",
       "      <td>3</td>\n",
       "      <td>2.700000</td>\n",
       "      <td>16.0</td>\n",
       "      <td>51.0</td>\n",
       "      <td>8</td>\n",
       "      <td>NaN</td>\n",
       "      <td>...</td>\n",
       "      <td>25.0</td>\n",
       "      <td>0</td>\n",
       "      <td>Санкт-Петербург</td>\n",
       "      <td>18863.0</td>\n",
       "      <td>16028.0</td>\n",
       "      <td>1.0</td>\n",
       "      <td>482.0</td>\n",
       "      <td>2.0</td>\n",
       "      <td>755.0</td>\n",
       "      <td>NaN</td>\n",
       "    </tr>\n",
       "    <tr>\n",
       "      <td>1</td>\n",
       "      <td>7</td>\n",
       "      <td>3.350</td>\n",
       "      <td>40.4</td>\n",
       "      <td>2018-12-04T00:00:00</td>\n",
       "      <td>1</td>\n",
       "      <td>2.782385</td>\n",
       "      <td>11.0</td>\n",
       "      <td>18.6</td>\n",
       "      <td>1</td>\n",
       "      <td>NaN</td>\n",
       "      <td>...</td>\n",
       "      <td>11.0</td>\n",
       "      <td>2</td>\n",
       "      <td>посёлок Шушары</td>\n",
       "      <td>12817.0</td>\n",
       "      <td>18603.0</td>\n",
       "      <td>0.0</td>\n",
       "      <td>NaN</td>\n",
       "      <td>0.0</td>\n",
       "      <td>NaN</td>\n",
       "      <td>81.0</td>\n",
       "    </tr>\n",
       "    <tr>\n",
       "      <td>2</td>\n",
       "      <td>10</td>\n",
       "      <td>5.196</td>\n",
       "      <td>56.0</td>\n",
       "      <td>2015-08-20T00:00:00</td>\n",
       "      <td>2</td>\n",
       "      <td>2.696740</td>\n",
       "      <td>5.0</td>\n",
       "      <td>34.3</td>\n",
       "      <td>4</td>\n",
       "      <td>NaN</td>\n",
       "      <td>...</td>\n",
       "      <td>8.3</td>\n",
       "      <td>0</td>\n",
       "      <td>Санкт-Петербург</td>\n",
       "      <td>21741.0</td>\n",
       "      <td>13933.0</td>\n",
       "      <td>1.0</td>\n",
       "      <td>90.0</td>\n",
       "      <td>2.0</td>\n",
       "      <td>574.0</td>\n",
       "      <td>558.0</td>\n",
       "    </tr>\n",
       "    <tr>\n",
       "      <td>3</td>\n",
       "      <td>0</td>\n",
       "      <td>64.900</td>\n",
       "      <td>159.0</td>\n",
       "      <td>2015-07-24T00:00:00</td>\n",
       "      <td>3</td>\n",
       "      <td>2.640235</td>\n",
       "      <td>14.0</td>\n",
       "      <td>NaN</td>\n",
       "      <td>9</td>\n",
       "      <td>NaN</td>\n",
       "      <td>...</td>\n",
       "      <td>NaN</td>\n",
       "      <td>0</td>\n",
       "      <td>Санкт-Петербург</td>\n",
       "      <td>28098.0</td>\n",
       "      <td>6800.0</td>\n",
       "      <td>2.0</td>\n",
       "      <td>84.0</td>\n",
       "      <td>3.0</td>\n",
       "      <td>234.0</td>\n",
       "      <td>424.0</td>\n",
       "    </tr>\n",
       "    <tr>\n",
       "      <td>4</td>\n",
       "      <td>2</td>\n",
       "      <td>10.000</td>\n",
       "      <td>100.0</td>\n",
       "      <td>2018-06-19T00:00:00</td>\n",
       "      <td>2</td>\n",
       "      <td>3.030000</td>\n",
       "      <td>14.0</td>\n",
       "      <td>32.0</td>\n",
       "      <td>13</td>\n",
       "      <td>NaN</td>\n",
       "      <td>...</td>\n",
       "      <td>41.0</td>\n",
       "      <td>0</td>\n",
       "      <td>Санкт-Петербург</td>\n",
       "      <td>31856.0</td>\n",
       "      <td>8098.0</td>\n",
       "      <td>2.0</td>\n",
       "      <td>112.0</td>\n",
       "      <td>1.0</td>\n",
       "      <td>48.0</td>\n",
       "      <td>121.0</td>\n",
       "    </tr>\n",
       "  </tbody>\n",
       "</table>\n",
       "<p>5 rows × 22 columns</p>\n",
       "</div>"
      ],
      "text/plain": [
       "   total_images  last_price  total_area first_day_exposition  rooms  \\\n",
       "0            20      13.000       108.0  2019-03-07T00:00:00      3   \n",
       "1             7       3.350        40.4  2018-12-04T00:00:00      1   \n",
       "2            10       5.196        56.0  2015-08-20T00:00:00      2   \n",
       "3             0      64.900       159.0  2015-07-24T00:00:00      3   \n",
       "4             2      10.000       100.0  2018-06-19T00:00:00      2   \n",
       "\n",
       "   ceiling_height  floors_total  living_area  floor is_apartment  ...  \\\n",
       "0        2.700000          16.0         51.0      8          NaN  ...   \n",
       "1        2.782385          11.0         18.6      1          NaN  ...   \n",
       "2        2.696740           5.0         34.3      4          NaN  ...   \n",
       "3        2.640235          14.0          NaN      9          NaN  ...   \n",
       "4        3.030000          14.0         32.0     13          NaN  ...   \n",
       "\n",
       "   kitchen_area  balcony    locality_name  airports_nearest  \\\n",
       "0          25.0        0  Санкт-Петербург           18863.0   \n",
       "1          11.0        2   посёлок Шушары           12817.0   \n",
       "2           8.3        0  Санкт-Петербург           21741.0   \n",
       "3           NaN        0  Санкт-Петербург           28098.0   \n",
       "4          41.0        0  Санкт-Петербург           31856.0   \n",
       "\n",
       "  cityCenters_nearest  parks_around3000  parks_nearest  ponds_around3000  \\\n",
       "0             16028.0               1.0          482.0               2.0   \n",
       "1             18603.0               0.0            NaN               0.0   \n",
       "2             13933.0               1.0           90.0               2.0   \n",
       "3              6800.0               2.0           84.0               3.0   \n",
       "4              8098.0               2.0          112.0               1.0   \n",
       "\n",
       "   ponds_nearest  days_exposition  \n",
       "0          755.0              NaN  \n",
       "1            NaN             81.0  \n",
       "2          574.0            558.0  \n",
       "3          234.0            424.0  \n",
       "4           48.0            121.0  \n",
       "\n",
       "[5 rows x 22 columns]"
      ]
     },
     "execution_count": 22,
     "metadata": {},
     "output_type": "execute_result"
    }
   ],
   "source": [
    "df['last_price'] = df['last_price'] / 1000000\n",
    "df.head()"
   ]
  },
  {
   "cell_type": "markdown",
   "metadata": {},
   "source": [
    "Переведем в формат даты данные столбца *first_day_exposition*."
   ]
  },
  {
   "cell_type": "code",
   "execution_count": 23,
   "metadata": {},
   "outputs": [
    {
     "name": "stdout",
     "output_type": "stream",
     "text": [
      "<class 'pandas.core.frame.DataFrame'>\n",
      "RangeIndex: 23650 entries, 0 to 23649\n",
      "Data columns (total 22 columns):\n",
      "total_images            23650 non-null int64\n",
      "last_price              23650 non-null float64\n",
      "total_area              23650 non-null float64\n",
      "first_day_exposition    23650 non-null datetime64[ns]\n",
      "rooms                   23650 non-null int64\n",
      "ceiling_height          23573 non-null float64\n",
      "floors_total            23565 non-null float64\n",
      "living_area             21752 non-null float64\n",
      "floor                   23650 non-null int64\n",
      "is_apartment            2760 non-null object\n",
      "studio                  23650 non-null bool\n",
      "open_plan               23650 non-null bool\n",
      "kitchen_area            21381 non-null float64\n",
      "balcony                 23650 non-null int64\n",
      "locality_name           23650 non-null object\n",
      "airports_nearest        18116 non-null float64\n",
      "cityCenters_nearest     18139 non-null float64\n",
      "parks_around3000        18140 non-null float64\n",
      "parks_nearest           8064 non-null float64\n",
      "ponds_around3000        18140 non-null float64\n",
      "ponds_nearest           9085 non-null float64\n",
      "days_exposition         20470 non-null float64\n",
      "dtypes: bool(2), datetime64[ns](1), float64(13), int64(4), object(2)\n",
      "memory usage: 3.7+ MB\n"
     ]
    }
   ],
   "source": [
    "df['first_day_exposition'] = pd.to_datetime(df['first_day_exposition'], format='%Y-%m-%dT%H:%M:%S')\n",
    "df.info()"
   ]
  },
  {
   "cell_type": "markdown",
   "metadata": {},
   "source": [
    "### Вывод"
   ]
  },
  {
   "cell_type": "markdown",
   "metadata": {},
   "source": [
    "Заменили тип данных с вещественного на целочисленный в столбцах *balcony* и *last_price*.  \n",
    "Перевели цены на квартиры в миллионы.  \n",
    "Перевели значения в столбце *first_day_exposition* в формат даты."
   ]
  },
  {
   "cell_type": "markdown",
   "metadata": {},
   "source": [
    "### Шаг 3. Посчитайте и добавьте в таблицу"
   ]
  },
  {
   "cell_type": "markdown",
   "metadata": {},
   "source": [
    "#### Цена квадратного метра"
   ]
  },
  {
   "cell_type": "code",
   "execution_count": 24,
   "metadata": {},
   "outputs": [
    {
     "data": {
      "text/html": [
       "<div>\n",
       "<style scoped>\n",
       "    .dataframe tbody tr th:only-of-type {\n",
       "        vertical-align: middle;\n",
       "    }\n",
       "\n",
       "    .dataframe tbody tr th {\n",
       "        vertical-align: top;\n",
       "    }\n",
       "\n",
       "    .dataframe thead th {\n",
       "        text-align: right;\n",
       "    }\n",
       "</style>\n",
       "<table border=\"1\" class=\"dataframe\">\n",
       "  <thead>\n",
       "    <tr style=\"text-align: right;\">\n",
       "      <th></th>\n",
       "      <th>total_images</th>\n",
       "      <th>last_price</th>\n",
       "      <th>total_area</th>\n",
       "      <th>first_day_exposition</th>\n",
       "      <th>rooms</th>\n",
       "      <th>ceiling_height</th>\n",
       "      <th>floors_total</th>\n",
       "      <th>living_area</th>\n",
       "      <th>floor</th>\n",
       "      <th>is_apartment</th>\n",
       "      <th>...</th>\n",
       "      <th>balcony</th>\n",
       "      <th>locality_name</th>\n",
       "      <th>airports_nearest</th>\n",
       "      <th>cityCenters_nearest</th>\n",
       "      <th>parks_around3000</th>\n",
       "      <th>parks_nearest</th>\n",
       "      <th>ponds_around3000</th>\n",
       "      <th>ponds_nearest</th>\n",
       "      <th>days_exposition</th>\n",
       "      <th>price</th>\n",
       "    </tr>\n",
       "  </thead>\n",
       "  <tbody>\n",
       "    <tr>\n",
       "      <td>0</td>\n",
       "      <td>20</td>\n",
       "      <td>13.000</td>\n",
       "      <td>108.0</td>\n",
       "      <td>2019-03-07</td>\n",
       "      <td>3</td>\n",
       "      <td>2.700000</td>\n",
       "      <td>16.0</td>\n",
       "      <td>51.0</td>\n",
       "      <td>8</td>\n",
       "      <td>NaN</td>\n",
       "      <td>...</td>\n",
       "      <td>0</td>\n",
       "      <td>Санкт-Петербург</td>\n",
       "      <td>18863.0</td>\n",
       "      <td>16028.0</td>\n",
       "      <td>1.0</td>\n",
       "      <td>482.0</td>\n",
       "      <td>2.0</td>\n",
       "      <td>755.0</td>\n",
       "      <td>NaN</td>\n",
       "      <td>120370</td>\n",
       "    </tr>\n",
       "    <tr>\n",
       "      <td>1</td>\n",
       "      <td>7</td>\n",
       "      <td>3.350</td>\n",
       "      <td>40.4</td>\n",
       "      <td>2018-12-04</td>\n",
       "      <td>1</td>\n",
       "      <td>2.782385</td>\n",
       "      <td>11.0</td>\n",
       "      <td>18.6</td>\n",
       "      <td>1</td>\n",
       "      <td>NaN</td>\n",
       "      <td>...</td>\n",
       "      <td>2</td>\n",
       "      <td>посёлок Шушары</td>\n",
       "      <td>12817.0</td>\n",
       "      <td>18603.0</td>\n",
       "      <td>0.0</td>\n",
       "      <td>NaN</td>\n",
       "      <td>0.0</td>\n",
       "      <td>NaN</td>\n",
       "      <td>81.0</td>\n",
       "      <td>82920</td>\n",
       "    </tr>\n",
       "    <tr>\n",
       "      <td>2</td>\n",
       "      <td>10</td>\n",
       "      <td>5.196</td>\n",
       "      <td>56.0</td>\n",
       "      <td>2015-08-20</td>\n",
       "      <td>2</td>\n",
       "      <td>2.696740</td>\n",
       "      <td>5.0</td>\n",
       "      <td>34.3</td>\n",
       "      <td>4</td>\n",
       "      <td>NaN</td>\n",
       "      <td>...</td>\n",
       "      <td>0</td>\n",
       "      <td>Санкт-Петербург</td>\n",
       "      <td>21741.0</td>\n",
       "      <td>13933.0</td>\n",
       "      <td>1.0</td>\n",
       "      <td>90.0</td>\n",
       "      <td>2.0</td>\n",
       "      <td>574.0</td>\n",
       "      <td>558.0</td>\n",
       "      <td>92785</td>\n",
       "    </tr>\n",
       "    <tr>\n",
       "      <td>3</td>\n",
       "      <td>0</td>\n",
       "      <td>64.900</td>\n",
       "      <td>159.0</td>\n",
       "      <td>2015-07-24</td>\n",
       "      <td>3</td>\n",
       "      <td>2.640235</td>\n",
       "      <td>14.0</td>\n",
       "      <td>NaN</td>\n",
       "      <td>9</td>\n",
       "      <td>NaN</td>\n",
       "      <td>...</td>\n",
       "      <td>0</td>\n",
       "      <td>Санкт-Петербург</td>\n",
       "      <td>28098.0</td>\n",
       "      <td>6800.0</td>\n",
       "      <td>2.0</td>\n",
       "      <td>84.0</td>\n",
       "      <td>3.0</td>\n",
       "      <td>234.0</td>\n",
       "      <td>424.0</td>\n",
       "      <td>408176</td>\n",
       "    </tr>\n",
       "    <tr>\n",
       "      <td>4</td>\n",
       "      <td>2</td>\n",
       "      <td>10.000</td>\n",
       "      <td>100.0</td>\n",
       "      <td>2018-06-19</td>\n",
       "      <td>2</td>\n",
       "      <td>3.030000</td>\n",
       "      <td>14.0</td>\n",
       "      <td>32.0</td>\n",
       "      <td>13</td>\n",
       "      <td>NaN</td>\n",
       "      <td>...</td>\n",
       "      <td>0</td>\n",
       "      <td>Санкт-Петербург</td>\n",
       "      <td>31856.0</td>\n",
       "      <td>8098.0</td>\n",
       "      <td>2.0</td>\n",
       "      <td>112.0</td>\n",
       "      <td>1.0</td>\n",
       "      <td>48.0</td>\n",
       "      <td>121.0</td>\n",
       "      <td>100000</td>\n",
       "    </tr>\n",
       "  </tbody>\n",
       "</table>\n",
       "<p>5 rows × 23 columns</p>\n",
       "</div>"
      ],
      "text/plain": [
       "   total_images  last_price  total_area first_day_exposition  rooms  \\\n",
       "0            20      13.000       108.0           2019-03-07      3   \n",
       "1             7       3.350        40.4           2018-12-04      1   \n",
       "2            10       5.196        56.0           2015-08-20      2   \n",
       "3             0      64.900       159.0           2015-07-24      3   \n",
       "4             2      10.000       100.0           2018-06-19      2   \n",
       "\n",
       "   ceiling_height  floors_total  living_area  floor is_apartment  ...  \\\n",
       "0        2.700000          16.0         51.0      8          NaN  ...   \n",
       "1        2.782385          11.0         18.6      1          NaN  ...   \n",
       "2        2.696740           5.0         34.3      4          NaN  ...   \n",
       "3        2.640235          14.0          NaN      9          NaN  ...   \n",
       "4        3.030000          14.0         32.0     13          NaN  ...   \n",
       "\n",
       "   balcony    locality_name  airports_nearest  cityCenters_nearest  \\\n",
       "0        0  Санкт-Петербург           18863.0              16028.0   \n",
       "1        2   посёлок Шушары           12817.0              18603.0   \n",
       "2        0  Санкт-Петербург           21741.0              13933.0   \n",
       "3        0  Санкт-Петербург           28098.0               6800.0   \n",
       "4        0  Санкт-Петербург           31856.0               8098.0   \n",
       "\n",
       "  parks_around3000  parks_nearest  ponds_around3000  ponds_nearest  \\\n",
       "0              1.0          482.0               2.0          755.0   \n",
       "1              0.0            NaN               0.0            NaN   \n",
       "2              1.0           90.0               2.0          574.0   \n",
       "3              2.0           84.0               3.0          234.0   \n",
       "4              2.0          112.0               1.0           48.0   \n",
       "\n",
       "   days_exposition   price  \n",
       "0              NaN  120370  \n",
       "1             81.0   82920  \n",
       "2            558.0   92785  \n",
       "3            424.0  408176  \n",
       "4            121.0  100000  \n",
       "\n",
       "[5 rows x 23 columns]"
      ]
     },
     "execution_count": 24,
     "metadata": {},
     "output_type": "execute_result"
    }
   ],
   "source": [
    "df['price'] = df['last_price'] / df['total_area'] * 1000000\n",
    "df['price'] = df['price'].astype('int')\n",
    "df.head()"
   ]
  },
  {
   "cell_type": "markdown",
   "metadata": {},
   "source": [
    "#### День недели, месяц и год публикации"
   ]
  },
  {
   "cell_type": "code",
   "execution_count": 25,
   "metadata": {},
   "outputs": [
    {
     "data": {
      "text/html": [
       "<div>\n",
       "<style scoped>\n",
       "    .dataframe tbody tr th:only-of-type {\n",
       "        vertical-align: middle;\n",
       "    }\n",
       "\n",
       "    .dataframe tbody tr th {\n",
       "        vertical-align: top;\n",
       "    }\n",
       "\n",
       "    .dataframe thead th {\n",
       "        text-align: right;\n",
       "    }\n",
       "</style>\n",
       "<table border=\"1\" class=\"dataframe\">\n",
       "  <thead>\n",
       "    <tr style=\"text-align: right;\">\n",
       "      <th></th>\n",
       "      <th>total_images</th>\n",
       "      <th>last_price</th>\n",
       "      <th>total_area</th>\n",
       "      <th>first_day_exposition</th>\n",
       "      <th>rooms</th>\n",
       "      <th>ceiling_height</th>\n",
       "      <th>floors_total</th>\n",
       "      <th>living_area</th>\n",
       "      <th>floor</th>\n",
       "      <th>is_apartment</th>\n",
       "      <th>...</th>\n",
       "      <th>cityCenters_nearest</th>\n",
       "      <th>parks_around3000</th>\n",
       "      <th>parks_nearest</th>\n",
       "      <th>ponds_around3000</th>\n",
       "      <th>ponds_nearest</th>\n",
       "      <th>days_exposition</th>\n",
       "      <th>price</th>\n",
       "      <th>weekday</th>\n",
       "      <th>month</th>\n",
       "      <th>year</th>\n",
       "    </tr>\n",
       "  </thead>\n",
       "  <tbody>\n",
       "    <tr>\n",
       "      <td>0</td>\n",
       "      <td>20</td>\n",
       "      <td>13.000</td>\n",
       "      <td>108.0</td>\n",
       "      <td>2019-03-07</td>\n",
       "      <td>3</td>\n",
       "      <td>2.700000</td>\n",
       "      <td>16.0</td>\n",
       "      <td>51.0</td>\n",
       "      <td>8</td>\n",
       "      <td>NaN</td>\n",
       "      <td>...</td>\n",
       "      <td>16028.0</td>\n",
       "      <td>1.0</td>\n",
       "      <td>482.0</td>\n",
       "      <td>2.0</td>\n",
       "      <td>755.0</td>\n",
       "      <td>NaN</td>\n",
       "      <td>120370</td>\n",
       "      <td>3</td>\n",
       "      <td>3</td>\n",
       "      <td>2019</td>\n",
       "    </tr>\n",
       "    <tr>\n",
       "      <td>1</td>\n",
       "      <td>7</td>\n",
       "      <td>3.350</td>\n",
       "      <td>40.4</td>\n",
       "      <td>2018-12-04</td>\n",
       "      <td>1</td>\n",
       "      <td>2.782385</td>\n",
       "      <td>11.0</td>\n",
       "      <td>18.6</td>\n",
       "      <td>1</td>\n",
       "      <td>NaN</td>\n",
       "      <td>...</td>\n",
       "      <td>18603.0</td>\n",
       "      <td>0.0</td>\n",
       "      <td>NaN</td>\n",
       "      <td>0.0</td>\n",
       "      <td>NaN</td>\n",
       "      <td>81.0</td>\n",
       "      <td>82920</td>\n",
       "      <td>1</td>\n",
       "      <td>12</td>\n",
       "      <td>2018</td>\n",
       "    </tr>\n",
       "    <tr>\n",
       "      <td>2</td>\n",
       "      <td>10</td>\n",
       "      <td>5.196</td>\n",
       "      <td>56.0</td>\n",
       "      <td>2015-08-20</td>\n",
       "      <td>2</td>\n",
       "      <td>2.696740</td>\n",
       "      <td>5.0</td>\n",
       "      <td>34.3</td>\n",
       "      <td>4</td>\n",
       "      <td>NaN</td>\n",
       "      <td>...</td>\n",
       "      <td>13933.0</td>\n",
       "      <td>1.0</td>\n",
       "      <td>90.0</td>\n",
       "      <td>2.0</td>\n",
       "      <td>574.0</td>\n",
       "      <td>558.0</td>\n",
       "      <td>92785</td>\n",
       "      <td>3</td>\n",
       "      <td>8</td>\n",
       "      <td>2015</td>\n",
       "    </tr>\n",
       "    <tr>\n",
       "      <td>3</td>\n",
       "      <td>0</td>\n",
       "      <td>64.900</td>\n",
       "      <td>159.0</td>\n",
       "      <td>2015-07-24</td>\n",
       "      <td>3</td>\n",
       "      <td>2.640235</td>\n",
       "      <td>14.0</td>\n",
       "      <td>NaN</td>\n",
       "      <td>9</td>\n",
       "      <td>NaN</td>\n",
       "      <td>...</td>\n",
       "      <td>6800.0</td>\n",
       "      <td>2.0</td>\n",
       "      <td>84.0</td>\n",
       "      <td>3.0</td>\n",
       "      <td>234.0</td>\n",
       "      <td>424.0</td>\n",
       "      <td>408176</td>\n",
       "      <td>4</td>\n",
       "      <td>7</td>\n",
       "      <td>2015</td>\n",
       "    </tr>\n",
       "    <tr>\n",
       "      <td>4</td>\n",
       "      <td>2</td>\n",
       "      <td>10.000</td>\n",
       "      <td>100.0</td>\n",
       "      <td>2018-06-19</td>\n",
       "      <td>2</td>\n",
       "      <td>3.030000</td>\n",
       "      <td>14.0</td>\n",
       "      <td>32.0</td>\n",
       "      <td>13</td>\n",
       "      <td>NaN</td>\n",
       "      <td>...</td>\n",
       "      <td>8098.0</td>\n",
       "      <td>2.0</td>\n",
       "      <td>112.0</td>\n",
       "      <td>1.0</td>\n",
       "      <td>48.0</td>\n",
       "      <td>121.0</td>\n",
       "      <td>100000</td>\n",
       "      <td>1</td>\n",
       "      <td>6</td>\n",
       "      <td>2018</td>\n",
       "    </tr>\n",
       "  </tbody>\n",
       "</table>\n",
       "<p>5 rows × 26 columns</p>\n",
       "</div>"
      ],
      "text/plain": [
       "   total_images  last_price  total_area first_day_exposition  rooms  \\\n",
       "0            20      13.000       108.0           2019-03-07      3   \n",
       "1             7       3.350        40.4           2018-12-04      1   \n",
       "2            10       5.196        56.0           2015-08-20      2   \n",
       "3             0      64.900       159.0           2015-07-24      3   \n",
       "4             2      10.000       100.0           2018-06-19      2   \n",
       "\n",
       "   ceiling_height  floors_total  living_area  floor is_apartment  ...  \\\n",
       "0        2.700000          16.0         51.0      8          NaN  ...   \n",
       "1        2.782385          11.0         18.6      1          NaN  ...   \n",
       "2        2.696740           5.0         34.3      4          NaN  ...   \n",
       "3        2.640235          14.0          NaN      9          NaN  ...   \n",
       "4        3.030000          14.0         32.0     13          NaN  ...   \n",
       "\n",
       "   cityCenters_nearest  parks_around3000  parks_nearest  ponds_around3000  \\\n",
       "0              16028.0               1.0          482.0               2.0   \n",
       "1              18603.0               0.0            NaN               0.0   \n",
       "2              13933.0               1.0           90.0               2.0   \n",
       "3               6800.0               2.0           84.0               3.0   \n",
       "4               8098.0               2.0          112.0               1.0   \n",
       "\n",
       "  ponds_nearest  days_exposition   price  weekday  month  year  \n",
       "0         755.0              NaN  120370        3      3  2019  \n",
       "1           NaN             81.0   82920        1     12  2018  \n",
       "2         574.0            558.0   92785        3      8  2015  \n",
       "3         234.0            424.0  408176        4      7  2015  \n",
       "4          48.0            121.0  100000        1      6  2018  \n",
       "\n",
       "[5 rows x 26 columns]"
      ]
     },
     "execution_count": 25,
     "metadata": {},
     "output_type": "execute_result"
    }
   ],
   "source": [
    "df['weekday'] = df['first_day_exposition'].dt.weekday\n",
    "df['month'] = df['first_day_exposition'].dt.month\n",
    "df['year'] = df['first_day_exposition'].dt.year\n",
    "df.head()"
   ]
  },
  {
   "cell_type": "markdown",
   "metadata": {},
   "source": [
    "#### Этаж квартиры: первый, последний, другой"
   ]
  },
  {
   "cell_type": "code",
   "execution_count": 26,
   "metadata": {},
   "outputs": [],
   "source": [
    "def get_floor_group(row):\n",
    "    if row['floor'] == 1:\n",
    "        return 'первый'\n",
    "    if row['floor'] == row['floors_total']:\n",
    "        return 'последний'\n",
    "    return 'другой'"
   ]
  },
  {
   "cell_type": "code",
   "execution_count": 27,
   "metadata": {},
   "outputs": [
    {
     "data": {
      "text/html": [
       "<div>\n",
       "<style scoped>\n",
       "    .dataframe tbody tr th:only-of-type {\n",
       "        vertical-align: middle;\n",
       "    }\n",
       "\n",
       "    .dataframe tbody tr th {\n",
       "        vertical-align: top;\n",
       "    }\n",
       "\n",
       "    .dataframe thead th {\n",
       "        text-align: right;\n",
       "    }\n",
       "</style>\n",
       "<table border=\"1\" class=\"dataframe\">\n",
       "  <thead>\n",
       "    <tr style=\"text-align: right;\">\n",
       "      <th></th>\n",
       "      <th>total_images</th>\n",
       "      <th>last_price</th>\n",
       "      <th>total_area</th>\n",
       "      <th>first_day_exposition</th>\n",
       "      <th>rooms</th>\n",
       "      <th>ceiling_height</th>\n",
       "      <th>floors_total</th>\n",
       "      <th>living_area</th>\n",
       "      <th>floor</th>\n",
       "      <th>is_apartment</th>\n",
       "      <th>...</th>\n",
       "      <th>parks_around3000</th>\n",
       "      <th>parks_nearest</th>\n",
       "      <th>ponds_around3000</th>\n",
       "      <th>ponds_nearest</th>\n",
       "      <th>days_exposition</th>\n",
       "      <th>price</th>\n",
       "      <th>weekday</th>\n",
       "      <th>month</th>\n",
       "      <th>year</th>\n",
       "      <th>floor_group</th>\n",
       "    </tr>\n",
       "  </thead>\n",
       "  <tbody>\n",
       "    <tr>\n",
       "      <td>0</td>\n",
       "      <td>20</td>\n",
       "      <td>13.000</td>\n",
       "      <td>108.0</td>\n",
       "      <td>2019-03-07</td>\n",
       "      <td>3</td>\n",
       "      <td>2.700000</td>\n",
       "      <td>16.0</td>\n",
       "      <td>51.0</td>\n",
       "      <td>8</td>\n",
       "      <td>NaN</td>\n",
       "      <td>...</td>\n",
       "      <td>1.0</td>\n",
       "      <td>482.0</td>\n",
       "      <td>2.0</td>\n",
       "      <td>755.0</td>\n",
       "      <td>NaN</td>\n",
       "      <td>120370</td>\n",
       "      <td>3</td>\n",
       "      <td>3</td>\n",
       "      <td>2019</td>\n",
       "      <td>другой</td>\n",
       "    </tr>\n",
       "    <tr>\n",
       "      <td>1</td>\n",
       "      <td>7</td>\n",
       "      <td>3.350</td>\n",
       "      <td>40.4</td>\n",
       "      <td>2018-12-04</td>\n",
       "      <td>1</td>\n",
       "      <td>2.782385</td>\n",
       "      <td>11.0</td>\n",
       "      <td>18.6</td>\n",
       "      <td>1</td>\n",
       "      <td>NaN</td>\n",
       "      <td>...</td>\n",
       "      <td>0.0</td>\n",
       "      <td>NaN</td>\n",
       "      <td>0.0</td>\n",
       "      <td>NaN</td>\n",
       "      <td>81.0</td>\n",
       "      <td>82920</td>\n",
       "      <td>1</td>\n",
       "      <td>12</td>\n",
       "      <td>2018</td>\n",
       "      <td>первый</td>\n",
       "    </tr>\n",
       "    <tr>\n",
       "      <td>2</td>\n",
       "      <td>10</td>\n",
       "      <td>5.196</td>\n",
       "      <td>56.0</td>\n",
       "      <td>2015-08-20</td>\n",
       "      <td>2</td>\n",
       "      <td>2.696740</td>\n",
       "      <td>5.0</td>\n",
       "      <td>34.3</td>\n",
       "      <td>4</td>\n",
       "      <td>NaN</td>\n",
       "      <td>...</td>\n",
       "      <td>1.0</td>\n",
       "      <td>90.0</td>\n",
       "      <td>2.0</td>\n",
       "      <td>574.0</td>\n",
       "      <td>558.0</td>\n",
       "      <td>92785</td>\n",
       "      <td>3</td>\n",
       "      <td>8</td>\n",
       "      <td>2015</td>\n",
       "      <td>другой</td>\n",
       "    </tr>\n",
       "    <tr>\n",
       "      <td>3</td>\n",
       "      <td>0</td>\n",
       "      <td>64.900</td>\n",
       "      <td>159.0</td>\n",
       "      <td>2015-07-24</td>\n",
       "      <td>3</td>\n",
       "      <td>2.640235</td>\n",
       "      <td>14.0</td>\n",
       "      <td>NaN</td>\n",
       "      <td>9</td>\n",
       "      <td>NaN</td>\n",
       "      <td>...</td>\n",
       "      <td>2.0</td>\n",
       "      <td>84.0</td>\n",
       "      <td>3.0</td>\n",
       "      <td>234.0</td>\n",
       "      <td>424.0</td>\n",
       "      <td>408176</td>\n",
       "      <td>4</td>\n",
       "      <td>7</td>\n",
       "      <td>2015</td>\n",
       "      <td>другой</td>\n",
       "    </tr>\n",
       "    <tr>\n",
       "      <td>4</td>\n",
       "      <td>2</td>\n",
       "      <td>10.000</td>\n",
       "      <td>100.0</td>\n",
       "      <td>2018-06-19</td>\n",
       "      <td>2</td>\n",
       "      <td>3.030000</td>\n",
       "      <td>14.0</td>\n",
       "      <td>32.0</td>\n",
       "      <td>13</td>\n",
       "      <td>NaN</td>\n",
       "      <td>...</td>\n",
       "      <td>2.0</td>\n",
       "      <td>112.0</td>\n",
       "      <td>1.0</td>\n",
       "      <td>48.0</td>\n",
       "      <td>121.0</td>\n",
       "      <td>100000</td>\n",
       "      <td>1</td>\n",
       "      <td>6</td>\n",
       "      <td>2018</td>\n",
       "      <td>другой</td>\n",
       "    </tr>\n",
       "  </tbody>\n",
       "</table>\n",
       "<p>5 rows × 27 columns</p>\n",
       "</div>"
      ],
      "text/plain": [
       "   total_images  last_price  total_area first_day_exposition  rooms  \\\n",
       "0            20      13.000       108.0           2019-03-07      3   \n",
       "1             7       3.350        40.4           2018-12-04      1   \n",
       "2            10       5.196        56.0           2015-08-20      2   \n",
       "3             0      64.900       159.0           2015-07-24      3   \n",
       "4             2      10.000       100.0           2018-06-19      2   \n",
       "\n",
       "   ceiling_height  floors_total  living_area  floor is_apartment  ...  \\\n",
       "0        2.700000          16.0         51.0      8          NaN  ...   \n",
       "1        2.782385          11.0         18.6      1          NaN  ...   \n",
       "2        2.696740           5.0         34.3      4          NaN  ...   \n",
       "3        2.640235          14.0          NaN      9          NaN  ...   \n",
       "4        3.030000          14.0         32.0     13          NaN  ...   \n",
       "\n",
       "   parks_around3000  parks_nearest  ponds_around3000  ponds_nearest  \\\n",
       "0               1.0          482.0               2.0          755.0   \n",
       "1               0.0            NaN               0.0            NaN   \n",
       "2               1.0           90.0               2.0          574.0   \n",
       "3               2.0           84.0               3.0          234.0   \n",
       "4               2.0          112.0               1.0           48.0   \n",
       "\n",
       "  days_exposition   price  weekday  month  year  floor_group  \n",
       "0             NaN  120370        3      3  2019       другой  \n",
       "1            81.0   82920        1     12  2018       первый  \n",
       "2           558.0   92785        3      8  2015       другой  \n",
       "3           424.0  408176        4      7  2015       другой  \n",
       "4           121.0  100000        1      6  2018       другой  \n",
       "\n",
       "[5 rows x 27 columns]"
      ]
     },
     "execution_count": 27,
     "metadata": {},
     "output_type": "execute_result"
    }
   ],
   "source": [
    "df['floor_group'] = df.apply(lambda row: get_floor_group(row), axis=1)\n",
    "df.head()"
   ]
  },
  {
   "cell_type": "markdown",
   "metadata": {},
   "source": [
    "#### Cоотношение жилой и общей площади, а также отношение площади кухни к общей"
   ]
  },
  {
   "cell_type": "code",
   "execution_count": 28,
   "metadata": {},
   "outputs": [
    {
     "data": {
      "text/html": [
       "<div>\n",
       "<style scoped>\n",
       "    .dataframe tbody tr th:only-of-type {\n",
       "        vertical-align: middle;\n",
       "    }\n",
       "\n",
       "    .dataframe tbody tr th {\n",
       "        vertical-align: top;\n",
       "    }\n",
       "\n",
       "    .dataframe thead th {\n",
       "        text-align: right;\n",
       "    }\n",
       "</style>\n",
       "<table border=\"1\" class=\"dataframe\">\n",
       "  <thead>\n",
       "    <tr style=\"text-align: right;\">\n",
       "      <th></th>\n",
       "      <th>total_images</th>\n",
       "      <th>last_price</th>\n",
       "      <th>total_area</th>\n",
       "      <th>first_day_exposition</th>\n",
       "      <th>rooms</th>\n",
       "      <th>ceiling_height</th>\n",
       "      <th>floors_total</th>\n",
       "      <th>living_area</th>\n",
       "      <th>floor</th>\n",
       "      <th>is_apartment</th>\n",
       "      <th>...</th>\n",
       "      <th>ponds_around3000</th>\n",
       "      <th>ponds_nearest</th>\n",
       "      <th>days_exposition</th>\n",
       "      <th>price</th>\n",
       "      <th>weekday</th>\n",
       "      <th>month</th>\n",
       "      <th>year</th>\n",
       "      <th>floor_group</th>\n",
       "      <th>living_area_rate</th>\n",
       "      <th>kitchen_area_rate</th>\n",
       "    </tr>\n",
       "  </thead>\n",
       "  <tbody>\n",
       "    <tr>\n",
       "      <td>0</td>\n",
       "      <td>20</td>\n",
       "      <td>13.000</td>\n",
       "      <td>108.0</td>\n",
       "      <td>2019-03-07</td>\n",
       "      <td>3</td>\n",
       "      <td>2.700000</td>\n",
       "      <td>16.0</td>\n",
       "      <td>51.0</td>\n",
       "      <td>8</td>\n",
       "      <td>NaN</td>\n",
       "      <td>...</td>\n",
       "      <td>2.0</td>\n",
       "      <td>755.0</td>\n",
       "      <td>NaN</td>\n",
       "      <td>120370</td>\n",
       "      <td>3</td>\n",
       "      <td>3</td>\n",
       "      <td>2019</td>\n",
       "      <td>другой</td>\n",
       "      <td>0.472222</td>\n",
       "      <td>0.231481</td>\n",
       "    </tr>\n",
       "    <tr>\n",
       "      <td>1</td>\n",
       "      <td>7</td>\n",
       "      <td>3.350</td>\n",
       "      <td>40.4</td>\n",
       "      <td>2018-12-04</td>\n",
       "      <td>1</td>\n",
       "      <td>2.782385</td>\n",
       "      <td>11.0</td>\n",
       "      <td>18.6</td>\n",
       "      <td>1</td>\n",
       "      <td>NaN</td>\n",
       "      <td>...</td>\n",
       "      <td>0.0</td>\n",
       "      <td>NaN</td>\n",
       "      <td>81.0</td>\n",
       "      <td>82920</td>\n",
       "      <td>1</td>\n",
       "      <td>12</td>\n",
       "      <td>2018</td>\n",
       "      <td>первый</td>\n",
       "      <td>0.460396</td>\n",
       "      <td>0.272277</td>\n",
       "    </tr>\n",
       "    <tr>\n",
       "      <td>2</td>\n",
       "      <td>10</td>\n",
       "      <td>5.196</td>\n",
       "      <td>56.0</td>\n",
       "      <td>2015-08-20</td>\n",
       "      <td>2</td>\n",
       "      <td>2.696740</td>\n",
       "      <td>5.0</td>\n",
       "      <td>34.3</td>\n",
       "      <td>4</td>\n",
       "      <td>NaN</td>\n",
       "      <td>...</td>\n",
       "      <td>2.0</td>\n",
       "      <td>574.0</td>\n",
       "      <td>558.0</td>\n",
       "      <td>92785</td>\n",
       "      <td>3</td>\n",
       "      <td>8</td>\n",
       "      <td>2015</td>\n",
       "      <td>другой</td>\n",
       "      <td>0.612500</td>\n",
       "      <td>0.148214</td>\n",
       "    </tr>\n",
       "    <tr>\n",
       "      <td>3</td>\n",
       "      <td>0</td>\n",
       "      <td>64.900</td>\n",
       "      <td>159.0</td>\n",
       "      <td>2015-07-24</td>\n",
       "      <td>3</td>\n",
       "      <td>2.640235</td>\n",
       "      <td>14.0</td>\n",
       "      <td>NaN</td>\n",
       "      <td>9</td>\n",
       "      <td>NaN</td>\n",
       "      <td>...</td>\n",
       "      <td>3.0</td>\n",
       "      <td>234.0</td>\n",
       "      <td>424.0</td>\n",
       "      <td>408176</td>\n",
       "      <td>4</td>\n",
       "      <td>7</td>\n",
       "      <td>2015</td>\n",
       "      <td>другой</td>\n",
       "      <td>NaN</td>\n",
       "      <td>NaN</td>\n",
       "    </tr>\n",
       "    <tr>\n",
       "      <td>4</td>\n",
       "      <td>2</td>\n",
       "      <td>10.000</td>\n",
       "      <td>100.0</td>\n",
       "      <td>2018-06-19</td>\n",
       "      <td>2</td>\n",
       "      <td>3.030000</td>\n",
       "      <td>14.0</td>\n",
       "      <td>32.0</td>\n",
       "      <td>13</td>\n",
       "      <td>NaN</td>\n",
       "      <td>...</td>\n",
       "      <td>1.0</td>\n",
       "      <td>48.0</td>\n",
       "      <td>121.0</td>\n",
       "      <td>100000</td>\n",
       "      <td>1</td>\n",
       "      <td>6</td>\n",
       "      <td>2018</td>\n",
       "      <td>другой</td>\n",
       "      <td>0.320000</td>\n",
       "      <td>0.410000</td>\n",
       "    </tr>\n",
       "  </tbody>\n",
       "</table>\n",
       "<p>5 rows × 29 columns</p>\n",
       "</div>"
      ],
      "text/plain": [
       "   total_images  last_price  total_area first_day_exposition  rooms  \\\n",
       "0            20      13.000       108.0           2019-03-07      3   \n",
       "1             7       3.350        40.4           2018-12-04      1   \n",
       "2            10       5.196        56.0           2015-08-20      2   \n",
       "3             0      64.900       159.0           2015-07-24      3   \n",
       "4             2      10.000       100.0           2018-06-19      2   \n",
       "\n",
       "   ceiling_height  floors_total  living_area  floor is_apartment  ...  \\\n",
       "0        2.700000          16.0         51.0      8          NaN  ...   \n",
       "1        2.782385          11.0         18.6      1          NaN  ...   \n",
       "2        2.696740           5.0         34.3      4          NaN  ...   \n",
       "3        2.640235          14.0          NaN      9          NaN  ...   \n",
       "4        3.030000          14.0         32.0     13          NaN  ...   \n",
       "\n",
       "   ponds_around3000  ponds_nearest  days_exposition   price weekday  month  \\\n",
       "0               2.0          755.0              NaN  120370       3      3   \n",
       "1               0.0            NaN             81.0   82920       1     12   \n",
       "2               2.0          574.0            558.0   92785       3      8   \n",
       "3               3.0          234.0            424.0  408176       4      7   \n",
       "4               1.0           48.0            121.0  100000       1      6   \n",
       "\n",
       "   year  floor_group  living_area_rate  kitchen_area_rate  \n",
       "0  2019       другой          0.472222           0.231481  \n",
       "1  2018       первый          0.460396           0.272277  \n",
       "2  2015       другой          0.612500           0.148214  \n",
       "3  2015       другой               NaN                NaN  \n",
       "4  2018       другой          0.320000           0.410000  \n",
       "\n",
       "[5 rows x 29 columns]"
      ]
     },
     "execution_count": 28,
     "metadata": {},
     "output_type": "execute_result"
    }
   ],
   "source": [
    "df['living_area_rate'] = df['living_area'] / df['total_area']\n",
    "df['kitchen_area_rate'] = df['kitchen_area'] / df['total_area']\n",
    "df.head()"
   ]
  },
  {
   "cell_type": "markdown",
   "metadata": {},
   "source": [
    "### Вывод"
   ]
  },
  {
   "cell_type": "markdown",
   "metadata": {},
   "source": [
    "Добавили в таблицу столбцы:\n",
    "* *price* - цена квадратного метра в единицах,\n",
    "* *weekday* - неделя публикации объявления,\n",
    "* *month* - месяц публикации объявления,\n",
    "* *year* - год публикации объявления,\n",
    "* *living_area_rate* - отношение жилой площади к общей, \n",
    "* *kitchen_area_rate* - отношение площади кухни к общей."
   ]
  },
  {
   "cell_type": "markdown",
   "metadata": {},
   "source": [
    "### Шаг 4. Исследовательский анализ данных"
   ]
  },
  {
   "cell_type": "markdown",
   "metadata": {},
   "source": [
    "Изучим следующие параметры: площадь, цена, число комнат, высота потолков. Построим гистограммы для каждого параметра."
   ]
  },
  {
   "cell_type": "markdown",
   "metadata": {},
   "source": [
    "**Площадь**"
   ]
  },
  {
   "cell_type": "code",
   "execution_count": 29,
   "metadata": {},
   "outputs": [
    {
     "data": {
      "text/plain": [
       "count    23650.000000\n",
       "mean        60.329069\n",
       "std         35.661808\n",
       "min         12.000000\n",
       "25%         40.000000\n",
       "50%         52.000000\n",
       "75%         69.700000\n",
       "max        900.000000\n",
       "Name: total_area, dtype: float64"
      ]
     },
     "execution_count": 29,
     "metadata": {},
     "output_type": "execute_result"
    }
   ],
   "source": [
    "df['total_area'].describe()"
   ]
  },
  {
   "cell_type": "code",
   "execution_count": 30,
   "metadata": {},
   "outputs": [
    {
     "data": {
      "image/png": "[encoded data removed]",
      "text/plain": [
       "<Figure size 1152x576 with 1 Axes>"
      ]
     },
     "metadata": {
      "needs_background": "light"
     },
     "output_type": "display_data"
    },
    {
     "data": {
      "image/png": "[encoded data removed]",
      "text/plain": [
       "<Figure size 1152x576 with 1 Axes>"
      ]
     },
     "metadata": {
      "needs_background": "light"
     },
     "output_type": "display_data"
    }
   ],
   "source": [
    "hist_info = [[100, 0, 900],\n",
    "             [10, 0, 200]]\n",
    "for row in hist_info:\n",
    "    df['total_area'].hist(bins = row[0], range = (row[1],row[2]), figsize = (16,8))\n",
    "    plt.title('Площадь, кв.м.')\n",
    "    plt.show()"
   ]
  },
  {
   "cell_type": "markdown",
   "metadata": {},
   "source": [
    "Площадь большинства квартир находится в диапазоне от 25 до 100 квадратных метров. Больше всего квартир в продаже площадью около 50 квадратных метров.  \n",
    "Значения до 20 и после 200 можно считать редкими."
   ]
  },
  {
   "cell_type": "markdown",
   "metadata": {},
   "source": [
    "**Цена**"
   ]
  },
  {
   "cell_type": "code",
   "execution_count": 31,
   "metadata": {},
   "outputs": [
    {
     "data": {
      "text/plain": [
       "count    23650.000000\n",
       "mean         6.541127\n",
       "std         10.896399\n",
       "min          0.012190\n",
       "25%          3.400000\n",
       "50%          4.650000\n",
       "75%          6.799000\n",
       "max        763.000000\n",
       "Name: last_price, dtype: float64"
      ]
     },
     "execution_count": 31,
     "metadata": {},
     "output_type": "execute_result"
    }
   ],
   "source": [
    "df['last_price'].describe()"
   ]
  },
  {
   "cell_type": "code",
   "execution_count": 32,
   "metadata": {},
   "outputs": [
    {
     "data": {
      "image/png": "[encoded data removed]",
      "text/plain": [
       "<Figure size 1152x576 with 1 Axes>"
      ]
     },
     "metadata": {
      "needs_background": "light"
     },
     "output_type": "display_data"
    },
    {
     "data": {
      "image/png": "[encoded data removed]",
      "text/plain": [
       "<Figure size 1152x576 with 1 Axes>"
      ]
     },
     "metadata": {
      "needs_background": "light"
     },
     "output_type": "display_data"
    }
   ],
   "source": [
    "hist_info = [[70, 0, 763],\n",
    "             [10, 0, 10]]\n",
    "for row in hist_info:\n",
    "    df['last_price'].hist(bins = row[0], range = (row[1],row[2]), figsize = (16,8))\n",
    "    plt.title('Цена, млн')\n",
    "    plt.show()"
   ]
  },
  {
   "cell_type": "markdown",
   "metadata": {},
   "source": [
    "Цена большинства квартир находится в диапазоне до 10 миллионов. Больше всего квартир в продаже имели цену около 4 миллионов.  \n",
    "Значения до 1 или больше 20 миллионов можно считать редкими."
   ]
  },
  {
   "cell_type": "markdown",
   "metadata": {},
   "source": [
    "**Число комнат**"
   ]
  },
  {
   "cell_type": "code",
   "execution_count": 33,
   "metadata": {},
   "outputs": [
    {
     "data": {
      "text/plain": [
       "count    23650.000000\n",
       "mean         2.070106\n",
       "std          1.078620\n",
       "min          0.000000\n",
       "25%          1.000000\n",
       "50%          2.000000\n",
       "75%          3.000000\n",
       "max         19.000000\n",
       "Name: rooms, dtype: float64"
      ]
     },
     "execution_count": 33,
     "metadata": {},
     "output_type": "execute_result"
    }
   ],
   "source": [
    "df['rooms'].describe()"
   ]
  },
  {
   "cell_type": "code",
   "execution_count": 34,
   "metadata": {},
   "outputs": [
    {
     "data": {
      "image/png": "[encoded data removed]",
      "text/plain": [
       "<Figure size 1152x576 with 1 Axes>"
      ]
     },
     "metadata": {
      "needs_background": "light"
     },
     "output_type": "display_data"
    }
   ],
   "source": [
    "df['rooms'].hist(bins=50, range = (0,20), figsize=(16,8))\n",
    "plt.title('Число комнат')\n",
    "plt.show()"
   ]
  },
  {
   "cell_type": "markdown",
   "metadata": {},
   "source": [
    "Однокомнатных и двухкомнатных квартир в продаже больше всего, чуть меньше трехкомнатных.  \n",
    "Квартиры с количеством комнат больше 7 можно считать редкими."
   ]
  },
  {
   "cell_type": "markdown",
   "metadata": {},
   "source": [
    "**Высота потолков**"
   ]
  },
  {
   "cell_type": "code",
   "execution_count": 35,
   "metadata": {},
   "outputs": [
    {
     "data": {
      "text/plain": [
       "count    23573.000000\n",
       "mean         2.751967\n",
       "std          0.991494\n",
       "min          1.000000\n",
       "25%          2.580204\n",
       "50%          2.696740\n",
       "75%          2.778731\n",
       "max        100.000000\n",
       "Name: ceiling_height, dtype: float64"
      ]
     },
     "execution_count": 35,
     "metadata": {},
     "output_type": "execute_result"
    }
   ],
   "source": [
    "df['ceiling_height'].describe()"
   ]
  },
  {
   "cell_type": "code",
   "execution_count": 36,
   "metadata": {},
   "outputs": [
    {
     "data": {
      "image/png": "[encoded data removed]",
      "text/plain": [
       "<Figure size 1152x576 with 1 Axes>"
      ]
     },
     "metadata": {
      "needs_background": "light"
     },
     "output_type": "display_data"
    }
   ],
   "source": [
    "df['ceiling_height'].hist(bins=30, range = (0,6), figsize=(16,8))\n",
    "plt.title('Высота потолков, м.')\n",
    "plt.show()"
   ]
  },
  {
   "cell_type": "markdown",
   "metadata": {},
   "source": [
    "Высота потолков большинства квартир находится в диапазоне от 2,4 до 3,4 метра.   \n",
    "Значения до 2,4 и после 3,8 можно считать редкими."
   ]
  },
  {
   "cell_type": "markdown",
   "metadata": {},
   "source": [
    "### Вывод"
   ]
  },
  {
   "cell_type": "markdown",
   "metadata": {},
   "source": [
    "Средняя квартира в продаже имеет следующие характеристики: двухкомнатная квартира площадью 53 кв.м., с высотой потолков 2,7 метров, проданная по цене 4,65 миллионов."
   ]
  },
  {
   "cell_type": "markdown",
   "metadata": {},
   "source": [
    "Изучим время продажи квартиры, построим гистограмму. Посчитаем среднее и медиану. Сколько обычно занимает продажа? Когда можно считать, что продажи прошли очень быстро, а когда необычно долго?\n"
   ]
  },
  {
   "cell_type": "code",
   "execution_count": 37,
   "metadata": {},
   "outputs": [
    {
     "data": {
      "text/plain": [
       "count    20470.000000\n",
       "mean       180.753200\n",
       "std        219.777916\n",
       "min          1.000000\n",
       "25%         45.000000\n",
       "50%         95.000000\n",
       "75%        231.000000\n",
       "max       1580.000000\n",
       "Name: days_exposition, dtype: float64"
      ]
     },
     "execution_count": 37,
     "metadata": {},
     "output_type": "execute_result"
    }
   ],
   "source": [
    "df['days_exposition'].describe()"
   ]
  },
  {
   "cell_type": "markdown",
   "metadata": {},
   "source": [
    "Среднее время продажи 180 дней намного больше медианы - 95 дней. Чтобы понять причину этого, построим гистограмму."
   ]
  },
  {
   "cell_type": "code",
   "execution_count": 38,
   "metadata": {},
   "outputs": [
    {
     "data": {
      "image/png": "[encoded data removed]",
      "text/plain": [
       "<Figure size 1152x576 with 1 Axes>"
      ]
     },
     "metadata": {
      "needs_background": "light"
     },
     "output_type": "display_data"
    },
    {
     "data": {
      "image/png": "[encoded data removed]",
      "text/plain": [
       "<Figure size 1152x576 with 1 Axes>"
      ]
     },
     "metadata": {
      "needs_background": "light"
     },
     "output_type": "display_data"
    },
    {
     "data": {
      "image/png": "[encoded data removed]",
      "text/plain": [
       "<Figure size 1152x576 with 1 Axes>"
      ]
     },
     "metadata": {
      "needs_background": "light"
     },
     "output_type": "display_data"
    }
   ],
   "source": [
    "hist_info = [[50, 0, 1580],\n",
    "             [10, 0, 50],\n",
    "             [50, 0, 500]]\n",
    "for row in hist_info:\n",
    "    df['days_exposition'].hist(bins = row[0], range = (row[1],row[2]), figsize = (16,8))\n",
    "    plt.title('Время продажи квартиры, дни')\n",
    "    plt.show()"
   ]
  },
  {
   "cell_type": "markdown",
   "metadata": {},
   "source": [
    "Гистограмма времени продаж имеет длинный хвост. Значения после 800 дней уже редки, но тянутся до 1580 дней. "
   ]
  },
  {
   "cell_type": "markdown",
   "metadata": {},
   "source": [
    "На последней гистограмме видно 2 выбивающихся значения - около 40 и 60 дней. "
   ]
  },
  {
   "cell_type": "code",
   "execution_count": 39,
   "metadata": {},
   "outputs": [
    {
     "data": {
      "image/png": "[encoded data removed]",
      "text/plain": [
       "<Figure size 432x288 with 1 Axes>"
      ]
     },
     "metadata": {
      "needs_background": "light"
     },
     "output_type": "display_data"
    }
   ],
   "source": [
    "df.boxplot('days_exposition')\n",
    "plt.show()"
   ]
  },
  {
   "cell_type": "markdown",
   "metadata": {},
   "source": [
    "### Вывод"
   ]
  },
  {
   "cell_type": "markdown",
   "metadata": {},
   "source": [
    "Чаще всего продажа квартиры занимает - 95 дней. При этом больше 500 дней будем считать необычно долгими продажами, до 5 - очень быстрыми. "
   ]
  },
  {
   "cell_type": "markdown",
   "metadata": {},
   "source": [
    "Рассмотрим выбивающиеся значениям, обнаруженные в количестве дней продажи квартиры."
   ]
  },
  {
   "cell_type": "code",
   "execution_count": 40,
   "metadata": {},
   "outputs": [
    {
     "data": {
      "text/html": [
       "<div>\n",
       "<style scoped>\n",
       "    .dataframe tbody tr th:only-of-type {\n",
       "        vertical-align: middle;\n",
       "    }\n",
       "\n",
       "    .dataframe tbody tr th {\n",
       "        vertical-align: top;\n",
       "    }\n",
       "\n",
       "    .dataframe thead th {\n",
       "        text-align: right;\n",
       "    }\n",
       "</style>\n",
       "<table border=\"1\" class=\"dataframe\">\n",
       "  <thead>\n",
       "    <tr style=\"text-align: right;\">\n",
       "      <th></th>\n",
       "      <th>last_price</th>\n",
       "    </tr>\n",
       "    <tr>\n",
       "      <th>days_exposition</th>\n",
       "      <th></th>\n",
       "    </tr>\n",
       "  </thead>\n",
       "  <tbody>\n",
       "    <tr>\n",
       "      <td>41.0</td>\n",
       "      <td>76</td>\n",
       "    </tr>\n",
       "    <tr>\n",
       "      <td>42.0</td>\n",
       "      <td>115</td>\n",
       "    </tr>\n",
       "    <tr>\n",
       "      <td>43.0</td>\n",
       "      <td>107</td>\n",
       "    </tr>\n",
       "    <tr>\n",
       "      <td>44.0</td>\n",
       "      <td>138</td>\n",
       "    </tr>\n",
       "    <tr>\n",
       "      <td>45.0</td>\n",
       "      <td>879</td>\n",
       "    </tr>\n",
       "    <tr>\n",
       "      <td>46.0</td>\n",
       "      <td>91</td>\n",
       "    </tr>\n",
       "    <tr>\n",
       "      <td>47.0</td>\n",
       "      <td>77</td>\n",
       "    </tr>\n",
       "    <tr>\n",
       "      <td>48.0</td>\n",
       "      <td>78</td>\n",
       "    </tr>\n",
       "    <tr>\n",
       "      <td>49.0</td>\n",
       "      <td>69</td>\n",
       "    </tr>\n",
       "  </tbody>\n",
       "</table>\n",
       "</div>"
      ],
      "text/plain": [
       "                 last_price\n",
       "days_exposition            \n",
       "41.0                     76\n",
       "42.0                    115\n",
       "43.0                    107\n",
       "44.0                    138\n",
       "45.0                    879\n",
       "46.0                     91\n",
       "47.0                     77\n",
       "48.0                     78\n",
       "49.0                     69"
      ]
     },
     "execution_count": 40,
     "metadata": {},
     "output_type": "execute_result"
    }
   ],
   "source": [
    "df.query('40 < days_exposition < 50').pivot_table(index='days_exposition',values='last_price', aggfunc='count')"
   ]
  },
  {
   "cell_type": "code",
   "execution_count": 41,
   "metadata": {},
   "outputs": [
    {
     "data": {
      "text/html": [
       "<div>\n",
       "<style scoped>\n",
       "    .dataframe tbody tr th:only-of-type {\n",
       "        vertical-align: middle;\n",
       "    }\n",
       "\n",
       "    .dataframe tbody tr th {\n",
       "        vertical-align: top;\n",
       "    }\n",
       "\n",
       "    .dataframe thead th {\n",
       "        text-align: right;\n",
       "    }\n",
       "</style>\n",
       "<table border=\"1\" class=\"dataframe\">\n",
       "  <thead>\n",
       "    <tr style=\"text-align: right;\">\n",
       "      <th></th>\n",
       "      <th>last_price</th>\n",
       "    </tr>\n",
       "    <tr>\n",
       "      <th>days_exposition</th>\n",
       "      <th></th>\n",
       "    </tr>\n",
       "  </thead>\n",
       "  <tbody>\n",
       "    <tr>\n",
       "      <td>51.0</td>\n",
       "      <td>52</td>\n",
       "    </tr>\n",
       "    <tr>\n",
       "      <td>52.0</td>\n",
       "      <td>84</td>\n",
       "    </tr>\n",
       "    <tr>\n",
       "      <td>53.0</td>\n",
       "      <td>81</td>\n",
       "    </tr>\n",
       "    <tr>\n",
       "      <td>54.0</td>\n",
       "      <td>110</td>\n",
       "    </tr>\n",
       "    <tr>\n",
       "      <td>55.0</td>\n",
       "      <td>75</td>\n",
       "    </tr>\n",
       "    <tr>\n",
       "      <td>56.0</td>\n",
       "      <td>86</td>\n",
       "    </tr>\n",
       "    <tr>\n",
       "      <td>57.0</td>\n",
       "      <td>74</td>\n",
       "    </tr>\n",
       "    <tr>\n",
       "      <td>58.0</td>\n",
       "      <td>72</td>\n",
       "    </tr>\n",
       "    <tr>\n",
       "      <td>59.0</td>\n",
       "      <td>106</td>\n",
       "    </tr>\n",
       "    <tr>\n",
       "      <td>60.0</td>\n",
       "      <td>538</td>\n",
       "    </tr>\n",
       "    <tr>\n",
       "      <td>61.0</td>\n",
       "      <td>109</td>\n",
       "    </tr>\n",
       "    <tr>\n",
       "      <td>62.0</td>\n",
       "      <td>74</td>\n",
       "    </tr>\n",
       "    <tr>\n",
       "      <td>63.0</td>\n",
       "      <td>99</td>\n",
       "    </tr>\n",
       "    <tr>\n",
       "      <td>64.0</td>\n",
       "      <td>88</td>\n",
       "    </tr>\n",
       "    <tr>\n",
       "      <td>65.0</td>\n",
       "      <td>73</td>\n",
       "    </tr>\n",
       "    <tr>\n",
       "      <td>66.0</td>\n",
       "      <td>71</td>\n",
       "    </tr>\n",
       "    <tr>\n",
       "      <td>67.0</td>\n",
       "      <td>93</td>\n",
       "    </tr>\n",
       "    <tr>\n",
       "      <td>68.0</td>\n",
       "      <td>73</td>\n",
       "    </tr>\n",
       "    <tr>\n",
       "      <td>69.0</td>\n",
       "      <td>68</td>\n",
       "    </tr>\n",
       "  </tbody>\n",
       "</table>\n",
       "</div>"
      ],
      "text/plain": [
       "                 last_price\n",
       "days_exposition            \n",
       "51.0                     52\n",
       "52.0                     84\n",
       "53.0                     81\n",
       "54.0                    110\n",
       "55.0                     75\n",
       "56.0                     86\n",
       "57.0                     74\n",
       "58.0                     72\n",
       "59.0                    106\n",
       "60.0                    538\n",
       "61.0                    109\n",
       "62.0                     74\n",
       "63.0                     99\n",
       "64.0                     88\n",
       "65.0                     73\n",
       "66.0                     71\n",
       "67.0                     93\n",
       "68.0                     73\n",
       "69.0                     68"
      ]
     },
     "execution_count": 41,
     "metadata": {},
     "output_type": "execute_result"
    }
   ],
   "source": [
    "df.query('50 < days_exposition < 70').pivot_table(index='days_exposition',values='last_price', aggfunc='count')"
   ]
  },
  {
   "cell_type": "markdown",
   "metadata": {},
   "source": [
    "879 квартир было продано за 45 дней и 538 квартир за 60 дней. Уберем выбивающиеся значения из таблицы."
   ]
  },
  {
   "cell_type": "markdown",
   "metadata": {},
   "source": [
    "Редкими значениями будем считать:\n",
    "* площадь квартиры меньше 20 или больше 200,\n",
    "* цена меньше 1 или больше 20 миллионов,\n",
    "* комнат больше 7,\n",
    "* высота потолков ниже 2,4 или выше 3,8,\n",
    "* время продажи больше 800 дней."
   ]
  },
  {
   "cell_type": "code",
   "execution_count": 42,
   "metadata": {},
   "outputs": [
    {
     "name": "stdout",
     "output_type": "stream",
     "text": [
      "<class 'pandas.core.frame.DataFrame'>\n",
      "Int64Index: 18479 entries, 1 to 23648\n",
      "Data columns (total 29 columns):\n",
      "total_images            18479 non-null int64\n",
      "last_price              18479 non-null float64\n",
      "total_area              18479 non-null float64\n",
      "first_day_exposition    18479 non-null datetime64[ns]\n",
      "rooms                   18479 non-null int64\n",
      "ceiling_height          18479 non-null float64\n",
      "floors_total            18474 non-null float64\n",
      "living_area             17152 non-null float64\n",
      "floor                   18479 non-null int64\n",
      "is_apartment            2246 non-null object\n",
      "studio                  18479 non-null bool\n",
      "open_plan               18479 non-null bool\n",
      "kitchen_area            16800 non-null float64\n",
      "balcony                 18479 non-null int64\n",
      "locality_name           18479 non-null object\n",
      "airports_nearest        14225 non-null float64\n",
      "cityCenters_nearest     14241 non-null float64\n",
      "parks_around3000        14241 non-null float64\n",
      "parks_nearest           6046 non-null float64\n",
      "ponds_around3000        14241 non-null float64\n",
      "ponds_nearest           6886 non-null float64\n",
      "days_exposition         18479 non-null float64\n",
      "price                   18479 non-null int64\n",
      "weekday                 18479 non-null int64\n",
      "month                   18479 non-null int64\n",
      "year                    18479 non-null int64\n",
      "floor_group             18479 non-null object\n",
      "living_area_rate        17152 non-null float64\n",
      "kitchen_area_rate       16800 non-null float64\n",
      "dtypes: bool(2), datetime64[ns](1), float64(15), int64(8), object(3)\n",
      "memory usage: 4.0+ MB\n"
     ]
    }
   ],
   "source": [
    "good_data = df.query(\n",
    "    '20 <= total_area <= 200 and 1 <= last_price <= 20 and rooms <= 7 and 2.4 <= ceiling_height <= 3.8 and days_exposition != 45 and days_exposition != 60 and days_exposition <= 800'\n",
    ")\n",
    "good_data.info()   "
   ]
  },
  {
   "cell_type": "code",
   "execution_count": 43,
   "metadata": {},
   "outputs": [
    {
     "data": {
      "text/html": [
       "<div>\n",
       "<style scoped>\n",
       "    .dataframe tbody tr th:only-of-type {\n",
       "        vertical-align: middle;\n",
       "    }\n",
       "\n",
       "    .dataframe tbody tr th {\n",
       "        vertical-align: top;\n",
       "    }\n",
       "\n",
       "    .dataframe thead th {\n",
       "        text-align: right;\n",
       "    }\n",
       "</style>\n",
       "<table border=\"1\" class=\"dataframe\">\n",
       "  <thead>\n",
       "    <tr style=\"text-align: right;\">\n",
       "      <th></th>\n",
       "      <th>total_images</th>\n",
       "      <th>last_price</th>\n",
       "      <th>total_area</th>\n",
       "      <th>rooms</th>\n",
       "      <th>ceiling_height</th>\n",
       "      <th>floors_total</th>\n",
       "      <th>living_area</th>\n",
       "      <th>floor</th>\n",
       "      <th>kitchen_area</th>\n",
       "      <th>balcony</th>\n",
       "      <th>...</th>\n",
       "      <th>parks_nearest</th>\n",
       "      <th>ponds_around3000</th>\n",
       "      <th>ponds_nearest</th>\n",
       "      <th>days_exposition</th>\n",
       "      <th>price</th>\n",
       "      <th>weekday</th>\n",
       "      <th>month</th>\n",
       "      <th>year</th>\n",
       "      <th>living_area_rate</th>\n",
       "      <th>kitchen_area_rate</th>\n",
       "    </tr>\n",
       "  </thead>\n",
       "  <tbody>\n",
       "    <tr>\n",
       "      <td>count</td>\n",
       "      <td>18479.000000</td>\n",
       "      <td>18479.000000</td>\n",
       "      <td>18479.000000</td>\n",
       "      <td>18479.000000</td>\n",
       "      <td>18479.000000</td>\n",
       "      <td>18474.0000</td>\n",
       "      <td>17152.000000</td>\n",
       "      <td>18479.000000</td>\n",
       "      <td>16800.000000</td>\n",
       "      <td>18479.000000</td>\n",
       "      <td>...</td>\n",
       "      <td>6046.000000</td>\n",
       "      <td>14241.000000</td>\n",
       "      <td>6886.000000</td>\n",
       "      <td>18479.000000</td>\n",
       "      <td>18479.000000</td>\n",
       "      <td>18479.000000</td>\n",
       "      <td>18479.000000</td>\n",
       "      <td>18479.000000</td>\n",
       "      <td>17152.000000</td>\n",
       "      <td>16800.000000</td>\n",
       "    </tr>\n",
       "    <tr>\n",
       "      <td>mean</td>\n",
       "      <td>9.625683</td>\n",
       "      <td>5.227874</td>\n",
       "      <td>55.077746</td>\n",
       "      <td>1.954543</td>\n",
       "      <td>2.704034</td>\n",
       "      <td>10.9692</td>\n",
       "      <td>31.458242</td>\n",
       "      <td>6.007901</td>\n",
       "      <td>9.966346</td>\n",
       "      <td>0.602792</td>\n",
       "      <td>...</td>\n",
       "      <td>489.958485</td>\n",
       "      <td>0.726915</td>\n",
       "      <td>529.096137</td>\n",
       "      <td>156.686509</td>\n",
       "      <td>94371.172195</td>\n",
       "      <td>2.576600</td>\n",
       "      <td>6.595324</td>\n",
       "      <td>2017.276638</td>\n",
       "      <td>0.562093</td>\n",
       "      <td>0.190490</td>\n",
       "    </tr>\n",
       "    <tr>\n",
       "      <td>std</td>\n",
       "      <td>5.599052</td>\n",
       "      <td>2.982131</td>\n",
       "      <td>22.634951</td>\n",
       "      <td>0.949699</td>\n",
       "      <td>0.183458</td>\n",
       "      <td>6.6537</td>\n",
       "      <td>15.449187</td>\n",
       "      <td>4.945546</td>\n",
       "      <td>4.414072</td>\n",
       "      <td>0.953131</td>\n",
       "      <td>...</td>\n",
       "      <td>339.667869</td>\n",
       "      <td>0.910495</td>\n",
       "      <td>276.814129</td>\n",
       "      <td>165.346551</td>\n",
       "      <td>30727.820361</td>\n",
       "      <td>1.780785</td>\n",
       "      <td>3.473633</td>\n",
       "      <td>0.907505</td>\n",
       "      <td>0.104275</td>\n",
       "      <td>0.071703</td>\n",
       "    </tr>\n",
       "    <tr>\n",
       "      <td>min</td>\n",
       "      <td>0.000000</td>\n",
       "      <td>1.000000</td>\n",
       "      <td>20.000000</td>\n",
       "      <td>0.000000</td>\n",
       "      <td>2.400000</td>\n",
       "      <td>1.0000</td>\n",
       "      <td>2.000000</td>\n",
       "      <td>1.000000</td>\n",
       "      <td>2.000000</td>\n",
       "      <td>0.000000</td>\n",
       "      <td>...</td>\n",
       "      <td>1.000000</td>\n",
       "      <td>0.000000</td>\n",
       "      <td>13.000000</td>\n",
       "      <td>1.000000</td>\n",
       "      <td>10507.000000</td>\n",
       "      <td>0.000000</td>\n",
       "      <td>1.000000</td>\n",
       "      <td>2014.000000</td>\n",
       "      <td>0.038462</td>\n",
       "      <td>0.043524</td>\n",
       "    </tr>\n",
       "    <tr>\n",
       "      <td>25%</td>\n",
       "      <td>6.000000</td>\n",
       "      <td>3.350000</td>\n",
       "      <td>39.000000</td>\n",
       "      <td>1.000000</td>\n",
       "      <td>2.580204</td>\n",
       "      <td>5.0000</td>\n",
       "      <td>18.000000</td>\n",
       "      <td>2.000000</td>\n",
       "      <td>7.000000</td>\n",
       "      <td>0.000000</td>\n",
       "      <td>...</td>\n",
       "      <td>287.000000</td>\n",
       "      <td>0.000000</td>\n",
       "      <td>311.000000</td>\n",
       "      <td>42.000000</td>\n",
       "      <td>76213.500000</td>\n",
       "      <td>1.000000</td>\n",
       "      <td>3.000000</td>\n",
       "      <td>2017.000000</td>\n",
       "      <td>0.491228</td>\n",
       "      <td>0.136364</td>\n",
       "    </tr>\n",
       "    <tr>\n",
       "      <td>50%</td>\n",
       "      <td>9.000000</td>\n",
       "      <td>4.400000</td>\n",
       "      <td>49.700000</td>\n",
       "      <td>2.000000</td>\n",
       "      <td>2.696740</td>\n",
       "      <td>9.0000</td>\n",
       "      <td>29.300000</td>\n",
       "      <td>4.000000</td>\n",
       "      <td>9.000000</td>\n",
       "      <td>0.000000</td>\n",
       "      <td>...</td>\n",
       "      <td>455.000000</td>\n",
       "      <td>0.000000</td>\n",
       "      <td>517.000000</td>\n",
       "      <td>94.000000</td>\n",
       "      <td>93333.000000</td>\n",
       "      <td>3.000000</td>\n",
       "      <td>7.000000</td>\n",
       "      <td>2017.000000</td>\n",
       "      <td>0.564627</td>\n",
       "      <td>0.176471</td>\n",
       "    </tr>\n",
       "    <tr>\n",
       "      <td>75%</td>\n",
       "      <td>14.000000</td>\n",
       "      <td>6.200000</td>\n",
       "      <td>65.000000</td>\n",
       "      <td>3.000000</td>\n",
       "      <td>2.750000</td>\n",
       "      <td>16.0000</td>\n",
       "      <td>40.000000</td>\n",
       "      <td>8.000000</td>\n",
       "      <td>11.302500</td>\n",
       "      <td>1.000000</td>\n",
       "      <td>...</td>\n",
       "      <td>613.000000</td>\n",
       "      <td>1.000000</td>\n",
       "      <td>740.000000</td>\n",
       "      <td>214.000000</td>\n",
       "      <td>110267.000000</td>\n",
       "      <td>4.000000</td>\n",
       "      <td>10.000000</td>\n",
       "      <td>2018.000000</td>\n",
       "      <td>0.634928</td>\n",
       "      <td>0.235849</td>\n",
       "    </tr>\n",
       "    <tr>\n",
       "      <td>max</td>\n",
       "      <td>50.000000</td>\n",
       "      <td>20.000000</td>\n",
       "      <td>200.000000</td>\n",
       "      <td>7.000000</td>\n",
       "      <td>3.800000</td>\n",
       "      <td>60.0000</td>\n",
       "      <td>159.600000</td>\n",
       "      <td>33.000000</td>\n",
       "      <td>64.000000</td>\n",
       "      <td>5.000000</td>\n",
       "      <td>...</td>\n",
       "      <td>3190.000000</td>\n",
       "      <td>3.000000</td>\n",
       "      <td>1344.000000</td>\n",
       "      <td>800.000000</td>\n",
       "      <td>392354.000000</td>\n",
       "      <td>6.000000</td>\n",
       "      <td>12.000000</td>\n",
       "      <td>2019.000000</td>\n",
       "      <td>1.000000</td>\n",
       "      <td>0.787879</td>\n",
       "    </tr>\n",
       "  </tbody>\n",
       "</table>\n",
       "<p>8 rows × 23 columns</p>\n",
       "</div>"
      ],
      "text/plain": [
       "       total_images    last_price    total_area         rooms  ceiling_height  \\\n",
       "count  18479.000000  18479.000000  18479.000000  18479.000000    18479.000000   \n",
       "mean       9.625683      5.227874     55.077746      1.954543        2.704034   \n",
       "std        5.599052      2.982131     22.634951      0.949699        0.183458   \n",
       "min        0.000000      1.000000     20.000000      0.000000        2.400000   \n",
       "25%        6.000000      3.350000     39.000000      1.000000        2.580204   \n",
       "50%        9.000000      4.400000     49.700000      2.000000        2.696740   \n",
       "75%       14.000000      6.200000     65.000000      3.000000        2.750000   \n",
       "max       50.000000     20.000000    200.000000      7.000000        3.800000   \n",
       "\n",
       "       floors_total   living_area         floor  kitchen_area       balcony  \\\n",
       "count    18474.0000  17152.000000  18479.000000  16800.000000  18479.000000   \n",
       "mean        10.9692     31.458242      6.007901      9.966346      0.602792   \n",
       "std          6.6537     15.449187      4.945546      4.414072      0.953131   \n",
       "min          1.0000      2.000000      1.000000      2.000000      0.000000   \n",
       "25%          5.0000     18.000000      2.000000      7.000000      0.000000   \n",
       "50%          9.0000     29.300000      4.000000      9.000000      0.000000   \n",
       "75%         16.0000     40.000000      8.000000     11.302500      1.000000   \n",
       "max         60.0000    159.600000     33.000000     64.000000      5.000000   \n",
       "\n",
       "       ...  parks_nearest  ponds_around3000  ponds_nearest  days_exposition  \\\n",
       "count  ...    6046.000000      14241.000000    6886.000000     18479.000000   \n",
       "mean   ...     489.958485          0.726915     529.096137       156.686509   \n",
       "std    ...     339.667869          0.910495     276.814129       165.346551   \n",
       "min    ...       1.000000          0.000000      13.000000         1.000000   \n",
       "25%    ...     287.000000          0.000000     311.000000        42.000000   \n",
       "50%    ...     455.000000          0.000000     517.000000        94.000000   \n",
       "75%    ...     613.000000          1.000000     740.000000       214.000000   \n",
       "max    ...    3190.000000          3.000000    1344.000000       800.000000   \n",
       "\n",
       "               price       weekday         month          year  \\\n",
       "count   18479.000000  18479.000000  18479.000000  18479.000000   \n",
       "mean    94371.172195      2.576600      6.595324   2017.276638   \n",
       "std     30727.820361      1.780785      3.473633      0.907505   \n",
       "min     10507.000000      0.000000      1.000000   2014.000000   \n",
       "25%     76213.500000      1.000000      3.000000   2017.000000   \n",
       "50%     93333.000000      3.000000      7.000000   2017.000000   \n",
       "75%    110267.000000      4.000000     10.000000   2018.000000   \n",
       "max    392354.000000      6.000000     12.000000   2019.000000   \n",
       "\n",
       "       living_area_rate  kitchen_area_rate  \n",
       "count      17152.000000       16800.000000  \n",
       "mean           0.562093           0.190490  \n",
       "std            0.104275           0.071703  \n",
       "min            0.038462           0.043524  \n",
       "25%            0.491228           0.136364  \n",
       "50%            0.564627           0.176471  \n",
       "75%            0.634928           0.235849  \n",
       "max            1.000000           0.787879  \n",
       "\n",
       "[8 rows x 23 columns]"
      ]
     },
     "execution_count": 43,
     "metadata": {},
     "output_type": "execute_result"
    }
   ],
   "source": [
    "good_data.describe()"
   ]
  },
  {
   "cell_type": "code",
   "execution_count": 44,
   "metadata": {},
   "outputs": [
    {
     "data": {
      "text/html": [
       "<div>\n",
       "<style scoped>\n",
       "    .dataframe tbody tr th:only-of-type {\n",
       "        vertical-align: middle;\n",
       "    }\n",
       "\n",
       "    .dataframe tbody tr th {\n",
       "        vertical-align: top;\n",
       "    }\n",
       "\n",
       "    .dataframe thead th {\n",
       "        text-align: right;\n",
       "    }\n",
       "</style>\n",
       "<table border=\"1\" class=\"dataframe\">\n",
       "  <thead>\n",
       "    <tr style=\"text-align: right;\">\n",
       "      <th></th>\n",
       "      <th>total_images</th>\n",
       "      <th>last_price</th>\n",
       "      <th>total_area</th>\n",
       "      <th>rooms</th>\n",
       "      <th>ceiling_height</th>\n",
       "      <th>floors_total</th>\n",
       "      <th>living_area</th>\n",
       "      <th>floor</th>\n",
       "      <th>kitchen_area</th>\n",
       "      <th>balcony</th>\n",
       "      <th>...</th>\n",
       "      <th>parks_nearest</th>\n",
       "      <th>ponds_around3000</th>\n",
       "      <th>ponds_nearest</th>\n",
       "      <th>days_exposition</th>\n",
       "      <th>price</th>\n",
       "      <th>weekday</th>\n",
       "      <th>month</th>\n",
       "      <th>year</th>\n",
       "      <th>living_area_rate</th>\n",
       "      <th>kitchen_area_rate</th>\n",
       "    </tr>\n",
       "  </thead>\n",
       "  <tbody>\n",
       "    <tr>\n",
       "      <td>count</td>\n",
       "      <td>23650.000000</td>\n",
       "      <td>23650.000000</td>\n",
       "      <td>23650.000000</td>\n",
       "      <td>23650.000000</td>\n",
       "      <td>23573.000000</td>\n",
       "      <td>23565.000000</td>\n",
       "      <td>21752.000000</td>\n",
       "      <td>23650.000000</td>\n",
       "      <td>21381.000000</td>\n",
       "      <td>23650.000000</td>\n",
       "      <td>...</td>\n",
       "      <td>8064.000000</td>\n",
       "      <td>18140.000000</td>\n",
       "      <td>9085.000000</td>\n",
       "      <td>20470.000000</td>\n",
       "      <td>2.365000e+04</td>\n",
       "      <td>23650.000000</td>\n",
       "      <td>23650.000000</td>\n",
       "      <td>23650.000000</td>\n",
       "      <td>21752.000000</td>\n",
       "      <td>21381.000000</td>\n",
       "    </tr>\n",
       "    <tr>\n",
       "      <td>mean</td>\n",
       "      <td>9.862326</td>\n",
       "      <td>6.541127</td>\n",
       "      <td>60.329069</td>\n",
       "      <td>2.070106</td>\n",
       "      <td>2.751967</td>\n",
       "      <td>10.675875</td>\n",
       "      <td>34.448356</td>\n",
       "      <td>5.893277</td>\n",
       "      <td>10.566403</td>\n",
       "      <td>0.591712</td>\n",
       "      <td>...</td>\n",
       "      <td>490.830729</td>\n",
       "      <td>0.769680</td>\n",
       "      <td>518.059879</td>\n",
       "      <td>180.753200</td>\n",
       "      <td>9.943179e+04</td>\n",
       "      <td>2.568710</td>\n",
       "      <td>6.401564</td>\n",
       "      <td>2017.370021</td>\n",
       "      <td>0.564750</td>\n",
       "      <td>0.187372</td>\n",
       "    </tr>\n",
       "    <tr>\n",
       "      <td>std</td>\n",
       "      <td>5.682278</td>\n",
       "      <td>10.896399</td>\n",
       "      <td>35.661808</td>\n",
       "      <td>1.078620</td>\n",
       "      <td>0.991494</td>\n",
       "      <td>6.594823</td>\n",
       "      <td>22.037664</td>\n",
       "      <td>4.883317</td>\n",
       "      <td>5.901753</td>\n",
       "      <td>0.959662</td>\n",
       "      <td>...</td>\n",
       "      <td>342.554386</td>\n",
       "      <td>0.937948</td>\n",
       "      <td>277.841733</td>\n",
       "      <td>219.777916</td>\n",
       "      <td>5.033794e+04</td>\n",
       "      <td>1.788808</td>\n",
       "      <td>3.491418</td>\n",
       "      <td>1.037806</td>\n",
       "      <td>0.105385</td>\n",
       "      <td>0.072972</td>\n",
       "    </tr>\n",
       "    <tr>\n",
       "      <td>min</td>\n",
       "      <td>0.000000</td>\n",
       "      <td>0.012190</td>\n",
       "      <td>12.000000</td>\n",
       "      <td>0.000000</td>\n",
       "      <td>1.000000</td>\n",
       "      <td>1.000000</td>\n",
       "      <td>2.000000</td>\n",
       "      <td>1.000000</td>\n",
       "      <td>1.300000</td>\n",
       "      <td>0.000000</td>\n",
       "      <td>...</td>\n",
       "      <td>1.000000</td>\n",
       "      <td>0.000000</td>\n",
       "      <td>13.000000</td>\n",
       "      <td>1.000000</td>\n",
       "      <td>1.110000e+02</td>\n",
       "      <td>0.000000</td>\n",
       "      <td>1.000000</td>\n",
       "      <td>2014.000000</td>\n",
       "      <td>0.021583</td>\n",
       "      <td>0.025381</td>\n",
       "    </tr>\n",
       "    <tr>\n",
       "      <td>25%</td>\n",
       "      <td>6.000000</td>\n",
       "      <td>3.400000</td>\n",
       "      <td>40.000000</td>\n",
       "      <td>1.000000</td>\n",
       "      <td>2.580204</td>\n",
       "      <td>5.000000</td>\n",
       "      <td>18.600000</td>\n",
       "      <td>2.000000</td>\n",
       "      <td>7.000000</td>\n",
       "      <td>0.000000</td>\n",
       "      <td>...</td>\n",
       "      <td>288.000000</td>\n",
       "      <td>0.000000</td>\n",
       "      <td>293.000000</td>\n",
       "      <td>45.000000</td>\n",
       "      <td>7.661425e+04</td>\n",
       "      <td>1.000000</td>\n",
       "      <td>3.000000</td>\n",
       "      <td>2017.000000</td>\n",
       "      <td>0.495157</td>\n",
       "      <td>0.133333</td>\n",
       "    </tr>\n",
       "    <tr>\n",
       "      <td>50%</td>\n",
       "      <td>9.000000</td>\n",
       "      <td>4.650000</td>\n",
       "      <td>52.000000</td>\n",
       "      <td>2.000000</td>\n",
       "      <td>2.696740</td>\n",
       "      <td>9.000000</td>\n",
       "      <td>30.000000</td>\n",
       "      <td>4.000000</td>\n",
       "      <td>9.100000</td>\n",
       "      <td>0.000000</td>\n",
       "      <td>...</td>\n",
       "      <td>454.500000</td>\n",
       "      <td>1.000000</td>\n",
       "      <td>502.000000</td>\n",
       "      <td>95.000000</td>\n",
       "      <td>9.500000e+04</td>\n",
       "      <td>3.000000</td>\n",
       "      <td>6.000000</td>\n",
       "      <td>2017.000000</td>\n",
       "      <td>0.567860</td>\n",
       "      <td>0.172414</td>\n",
       "    </tr>\n",
       "    <tr>\n",
       "      <td>75%</td>\n",
       "      <td>14.000000</td>\n",
       "      <td>6.799000</td>\n",
       "      <td>69.700000</td>\n",
       "      <td>3.000000</td>\n",
       "      <td>2.778731</td>\n",
       "      <td>16.000000</td>\n",
       "      <td>42.300000</td>\n",
       "      <td>8.000000</td>\n",
       "      <td>12.000000</td>\n",
       "      <td>1.000000</td>\n",
       "      <td>...</td>\n",
       "      <td>612.000000</td>\n",
       "      <td>1.000000</td>\n",
       "      <td>730.000000</td>\n",
       "      <td>231.000000</td>\n",
       "      <td>1.142740e+05</td>\n",
       "      <td>4.000000</td>\n",
       "      <td>10.000000</td>\n",
       "      <td>2018.000000</td>\n",
       "      <td>0.637778</td>\n",
       "      <td>0.232432</td>\n",
       "    </tr>\n",
       "    <tr>\n",
       "      <td>max</td>\n",
       "      <td>50.000000</td>\n",
       "      <td>763.000000</td>\n",
       "      <td>900.000000</td>\n",
       "      <td>19.000000</td>\n",
       "      <td>100.000000</td>\n",
       "      <td>60.000000</td>\n",
       "      <td>409.700000</td>\n",
       "      <td>33.000000</td>\n",
       "      <td>112.000000</td>\n",
       "      <td>5.000000</td>\n",
       "      <td>...</td>\n",
       "      <td>3190.000000</td>\n",
       "      <td>3.000000</td>\n",
       "      <td>1344.000000</td>\n",
       "      <td>1580.000000</td>\n",
       "      <td>1.907500e+06</td>\n",
       "      <td>6.000000</td>\n",
       "      <td>12.000000</td>\n",
       "      <td>2019.000000</td>\n",
       "      <td>1.000000</td>\n",
       "      <td>0.787879</td>\n",
       "    </tr>\n",
       "  </tbody>\n",
       "</table>\n",
       "<p>8 rows × 23 columns</p>\n",
       "</div>"
      ],
      "text/plain": [
       "       total_images    last_price    total_area         rooms  ceiling_height  \\\n",
       "count  23650.000000  23650.000000  23650.000000  23650.000000    23573.000000   \n",
       "mean       9.862326      6.541127     60.329069      2.070106        2.751967   \n",
       "std        5.682278     10.896399     35.661808      1.078620        0.991494   \n",
       "min        0.000000      0.012190     12.000000      0.000000        1.000000   \n",
       "25%        6.000000      3.400000     40.000000      1.000000        2.580204   \n",
       "50%        9.000000      4.650000     52.000000      2.000000        2.696740   \n",
       "75%       14.000000      6.799000     69.700000      3.000000        2.778731   \n",
       "max       50.000000    763.000000    900.000000     19.000000      100.000000   \n",
       "\n",
       "       floors_total   living_area         floor  kitchen_area       balcony  \\\n",
       "count  23565.000000  21752.000000  23650.000000  21381.000000  23650.000000   \n",
       "mean      10.675875     34.448356      5.893277     10.566403      0.591712   \n",
       "std        6.594823     22.037664      4.883317      5.901753      0.959662   \n",
       "min        1.000000      2.000000      1.000000      1.300000      0.000000   \n",
       "25%        5.000000     18.600000      2.000000      7.000000      0.000000   \n",
       "50%        9.000000     30.000000      4.000000      9.100000      0.000000   \n",
       "75%       16.000000     42.300000      8.000000     12.000000      1.000000   \n",
       "max       60.000000    409.700000     33.000000    112.000000      5.000000   \n",
       "\n",
       "       ...  parks_nearest  ponds_around3000  ponds_nearest  days_exposition  \\\n",
       "count  ...    8064.000000      18140.000000    9085.000000     20470.000000   \n",
       "mean   ...     490.830729          0.769680     518.059879       180.753200   \n",
       "std    ...     342.554386          0.937948     277.841733       219.777916   \n",
       "min    ...       1.000000          0.000000      13.000000         1.000000   \n",
       "25%    ...     288.000000          0.000000     293.000000        45.000000   \n",
       "50%    ...     454.500000          1.000000     502.000000        95.000000   \n",
       "75%    ...     612.000000          1.000000     730.000000       231.000000   \n",
       "max    ...    3190.000000          3.000000    1344.000000      1580.000000   \n",
       "\n",
       "              price       weekday         month          year  \\\n",
       "count  2.365000e+04  23650.000000  23650.000000  23650.000000   \n",
       "mean   9.943179e+04      2.568710      6.401564   2017.370021   \n",
       "std    5.033794e+04      1.788808      3.491418      1.037806   \n",
       "min    1.110000e+02      0.000000      1.000000   2014.000000   \n",
       "25%    7.661425e+04      1.000000      3.000000   2017.000000   \n",
       "50%    9.500000e+04      3.000000      6.000000   2017.000000   \n",
       "75%    1.142740e+05      4.000000     10.000000   2018.000000   \n",
       "max    1.907500e+06      6.000000     12.000000   2019.000000   \n",
       "\n",
       "       living_area_rate  kitchen_area_rate  \n",
       "count      21752.000000       21381.000000  \n",
       "mean           0.564750           0.187372  \n",
       "std            0.105385           0.072972  \n",
       "min            0.021583           0.025381  \n",
       "25%            0.495157           0.133333  \n",
       "50%            0.567860           0.172414  \n",
       "75%            0.637778           0.232432  \n",
       "max            1.000000           0.787879  \n",
       "\n",
       "[8 rows x 23 columns]"
      ]
     },
     "execution_count": 44,
     "metadata": {},
     "output_type": "execute_result"
    }
   ],
   "source": [
    "df.describe()"
   ]
  },
  {
   "cell_type": "markdown",
   "metadata": {},
   "source": [
    "### Вывод"
   ]
  },
  {
   "cell_type": "markdown",
   "metadata": {},
   "source": [
    "Из таблицы убраны редкие и выбивающиеся значения: осталось 78% данных. При этом медианные значения изменились не намного. Например, медиана цены квартиры упала с 4,65 до 4,4, медиана площади - с 52 до 49,7."
   ]
  },
  {
   "cell_type": "markdown",
   "metadata": {},
   "source": [
    "#### Какие факторы больше всего влияют на стоимость квартиры? "
   ]
  },
  {
   "cell_type": "markdown",
   "metadata": {},
   "source": [
    "Изучим зависит ли стоимость квартиры от площади, числа комнат, удалённости от центра."
   ]
  },
  {
   "cell_type": "code",
   "execution_count": 45,
   "metadata": {},
   "outputs": [
    {
     "data": {
      "image/png": "[encoded data removed]",
      "text/plain": [
       "<Figure size 720x720 with 16 Axes>"
      ]
     },
     "metadata": {
      "needs_background": "light"
     },
     "output_type": "display_data"
    }
   ],
   "source": [
    "pd.plotting.scatter_matrix(good_data[['last_price', 'total_area', 'rooms', 'cityCenters_nearest']], figsize=(10, 10))\n",
    "plt.show()"
   ]
  },
  {
   "cell_type": "code",
   "execution_count": 46,
   "metadata": {},
   "outputs": [
    {
     "data": {
      "text/html": [
       "<div>\n",
       "<style scoped>\n",
       "    .dataframe tbody tr th:only-of-type {\n",
       "        vertical-align: middle;\n",
       "    }\n",
       "\n",
       "    .dataframe tbody tr th {\n",
       "        vertical-align: top;\n",
       "    }\n",
       "\n",
       "    .dataframe thead th {\n",
       "        text-align: right;\n",
       "    }\n",
       "</style>\n",
       "<table border=\"1\" class=\"dataframe\">\n",
       "  <thead>\n",
       "    <tr style=\"text-align: right;\">\n",
       "      <th></th>\n",
       "      <th>last_price</th>\n",
       "    </tr>\n",
       "  </thead>\n",
       "  <tbody>\n",
       "    <tr>\n",
       "      <td>last_price</td>\n",
       "      <td>1.000000</td>\n",
       "    </tr>\n",
       "    <tr>\n",
       "      <td>total_area</td>\n",
       "      <td>0.773726</td>\n",
       "    </tr>\n",
       "    <tr>\n",
       "      <td>rooms</td>\n",
       "      <td>0.508017</td>\n",
       "    </tr>\n",
       "    <tr>\n",
       "      <td>cityCenters_nearest</td>\n",
       "      <td>-0.357083</td>\n",
       "    </tr>\n",
       "  </tbody>\n",
       "</table>\n",
       "</div>"
      ],
      "text/plain": [
       "                     last_price\n",
       "last_price             1.000000\n",
       "total_area             0.773726\n",
       "rooms                  0.508017\n",
       "cityCenters_nearest   -0.357083"
      ]
     },
     "execution_count": 46,
     "metadata": {},
     "output_type": "execute_result"
    }
   ],
   "source": [
    "good_data[['last_price', 'total_area', 'rooms', 'cityCenters_nearest']].corr()[['last_price']]"
   ]
  },
  {
   "cell_type": "markdown",
   "metadata": {},
   "source": [
    "Самая сильная взаимосвязь между ценой и площадью квартиры: коэффициент корреляции 0,77. С ростом количества комнат растет и стоимость квартиры - коэффициент корреляции 0,5. Чем дальше квартира от центра, тем меньше ее стоимость: коэффициент корреляции -0,36.\n",
    "Рассмотрим влияние факторов на цену квадратного метра квартиры."
   ]
  },
  {
   "cell_type": "code",
   "execution_count": 47,
   "metadata": {},
   "outputs": [
    {
     "data": {
      "text/html": [
       "<div>\n",
       "<style scoped>\n",
       "    .dataframe tbody tr th:only-of-type {\n",
       "        vertical-align: middle;\n",
       "    }\n",
       "\n",
       "    .dataframe tbody tr th {\n",
       "        vertical-align: top;\n",
       "    }\n",
       "\n",
       "    .dataframe thead th {\n",
       "        text-align: right;\n",
       "    }\n",
       "</style>\n",
       "<table border=\"1\" class=\"dataframe\">\n",
       "  <thead>\n",
       "    <tr style=\"text-align: right;\">\n",
       "      <th></th>\n",
       "      <th>price</th>\n",
       "    </tr>\n",
       "  </thead>\n",
       "  <tbody>\n",
       "    <tr>\n",
       "      <td>price</td>\n",
       "      <td>1.000000</td>\n",
       "    </tr>\n",
       "    <tr>\n",
       "      <td>total_area</td>\n",
       "      <td>0.043276</td>\n",
       "    </tr>\n",
       "    <tr>\n",
       "      <td>rooms</td>\n",
       "      <td>-0.142185</td>\n",
       "    </tr>\n",
       "    <tr>\n",
       "      <td>cityCenters_nearest</td>\n",
       "      <td>-0.396847</td>\n",
       "    </tr>\n",
       "  </tbody>\n",
       "</table>\n",
       "</div>"
      ],
      "text/plain": [
       "                        price\n",
       "price                1.000000\n",
       "total_area           0.043276\n",
       "rooms               -0.142185\n",
       "cityCenters_nearest -0.396847"
      ]
     },
     "execution_count": 47,
     "metadata": {},
     "output_type": "execute_result"
    }
   ],
   "source": [
    "good_data[['price', 'total_area', 'rooms', 'cityCenters_nearest']].corr()[['price']]"
   ]
  },
  {
   "cell_type": "markdown",
   "metadata": {},
   "source": [
    "На цену квадратного метра общая площадь и количество комнат практически не влияют. Зато удаленность от центра по прежнему влияет на цену: коэффициент корреляции -0,4."
   ]
  },
  {
   "cell_type": "markdown",
   "metadata": {},
   "source": [
    "Изучим зависимость цены от того, на каком этаже расположена квартира: первом, последнем или другом."
   ]
  },
  {
   "cell_type": "code",
   "execution_count": 48,
   "metadata": {},
   "outputs": [
    {
     "data": {
      "text/html": [
       "<div>\n",
       "<style scoped>\n",
       "    .dataframe tbody tr th:only-of-type {\n",
       "        vertical-align: middle;\n",
       "    }\n",
       "\n",
       "    .dataframe tbody tr th {\n",
       "        vertical-align: top;\n",
       "    }\n",
       "\n",
       "    .dataframe thead th {\n",
       "        text-align: right;\n",
       "    }\n",
       "</style>\n",
       "<table border=\"1\" class=\"dataframe\">\n",
       "  <thead>\n",
       "    <tr style=\"text-align: right;\">\n",
       "      <th></th>\n",
       "      <th>mean</th>\n",
       "      <th>median</th>\n",
       "      <th>count</th>\n",
       "    </tr>\n",
       "    <tr>\n",
       "      <th>floor_group</th>\n",
       "      <th></th>\n",
       "      <th></th>\n",
       "      <th></th>\n",
       "    </tr>\n",
       "  </thead>\n",
       "  <tbody>\n",
       "    <tr>\n",
       "      <td>другой</td>\n",
       "      <td>97844.779206</td>\n",
       "      <td>96363.0</td>\n",
       "      <td>13773</td>\n",
       "    </tr>\n",
       "    <tr>\n",
       "      <td>первый</td>\n",
       "      <td>80366.902428</td>\n",
       "      <td>80448.5</td>\n",
       "      <td>2224</td>\n",
       "    </tr>\n",
       "    <tr>\n",
       "      <td>последний</td>\n",
       "      <td>87644.140210</td>\n",
       "      <td>87111.0</td>\n",
       "      <td>2482</td>\n",
       "    </tr>\n",
       "  </tbody>\n",
       "</table>\n",
       "</div>"
      ],
      "text/plain": [
       "                     mean   median  count\n",
       "floor_group                              \n",
       "другой       97844.779206  96363.0  13773\n",
       "первый       80366.902428  80448.5   2224\n",
       "последний    87644.140210  87111.0   2482"
      ]
     },
     "execution_count": 48,
     "metadata": {},
     "output_type": "execute_result"
    }
   ],
   "source": [
    "good_data.groupby(['floor_group'])['price'].agg(['mean','median', 'count'])"
   ]
  },
  {
   "cell_type": "code",
   "execution_count": 49,
   "metadata": {},
   "outputs": [
    {
     "data": {
      "image/png": "[encoded data removed]",
      "text/plain": [
       "<Figure size 720x360 with 1 Axes>"
      ]
     },
     "metadata": {
      "needs_background": "light"
     },
     "output_type": "display_data"
    }
   ],
   "source": [
    "good_data.groupby(['floor_group'])['price'].agg('mean').plot(kind='bar',grid=True,figsize=(10,5))\n",
    "plt.show()"
   ]
  },
  {
   "cell_type": "markdown",
   "metadata": {},
   "source": [
    "Квартиры на первом этаже самые дешевые: средняя цена квадратного метра - 80367, на втором месте по стоимости - квартиры на последнем этаже - 87644. Средняя стоимость квадратного метра остальных квартир - 97845."
   ]
  },
  {
   "cell_type": "markdown",
   "metadata": {},
   "source": [
    "Изучим зависимость от даты размещения: дня недели, месяца и года."
   ]
  },
  {
   "cell_type": "code",
   "execution_count": 50,
   "metadata": {},
   "outputs": [
    {
     "data": {
      "image/png": "[encoded data removed]",
      "text/plain": [
       "<Figure size 720x720 with 16 Axes>"
      ]
     },
     "metadata": {
      "needs_background": "light"
     },
     "output_type": "display_data"
    }
   ],
   "source": [
    "pd.plotting.scatter_matrix(good_data[['price', 'weekday', 'month', 'year']], figsize=(10, 10))\n",
    "plt.show()"
   ]
  },
  {
   "cell_type": "code",
   "execution_count": 51,
   "metadata": {},
   "outputs": [
    {
     "data": {
      "text/html": [
       "<div>\n",
       "<style scoped>\n",
       "    .dataframe tbody tr th:only-of-type {\n",
       "        vertical-align: middle;\n",
       "    }\n",
       "\n",
       "    .dataframe tbody tr th {\n",
       "        vertical-align: top;\n",
       "    }\n",
       "\n",
       "    .dataframe thead th {\n",
       "        text-align: right;\n",
       "    }\n",
       "</style>\n",
       "<table border=\"1\" class=\"dataframe\">\n",
       "  <thead>\n",
       "    <tr style=\"text-align: right;\">\n",
       "      <th></th>\n",
       "      <th>price</th>\n",
       "    </tr>\n",
       "  </thead>\n",
       "  <tbody>\n",
       "    <tr>\n",
       "      <td>price</td>\n",
       "      <td>1.000000</td>\n",
       "    </tr>\n",
       "    <tr>\n",
       "      <td>weekday</td>\n",
       "      <td>-0.005210</td>\n",
       "    </tr>\n",
       "    <tr>\n",
       "      <td>month</td>\n",
       "      <td>0.003349</td>\n",
       "    </tr>\n",
       "    <tr>\n",
       "      <td>year</td>\n",
       "      <td>0.059820</td>\n",
       "    </tr>\n",
       "  </tbody>\n",
       "</table>\n",
       "</div>"
      ],
      "text/plain": [
       "            price\n",
       "price    1.000000\n",
       "weekday -0.005210\n",
       "month    0.003349\n",
       "year     0.059820"
      ]
     },
     "execution_count": 51,
     "metadata": {},
     "output_type": "execute_result"
    }
   ],
   "source": [
    "good_data[['price', 'weekday', 'month', 'year']].corr()[['price']]"
   ]
  },
  {
   "cell_type": "markdown",
   "metadata": {},
   "source": [
    "На графике зависимости цены от года размещения объявления можно заметить, что диапазон цен на квартиры увеличивался с 2014 по 2017 год, но с 2018 начал уменьшаться. Хотя зависимость цена квартиры от даты размещения объявления о продаже очень слабая."
   ]
  },
  {
   "cell_type": "markdown",
   "metadata": {},
   "source": [
    "### Вывод"
   ]
  },
  {
   "cell_type": "markdown",
   "metadata": {},
   "source": [
    "Чем больше площадь квартиры или количество комнат (что также подразумевает увеличение площади), тем естественно выше стоимость квартиры.  \n",
    "На стоимость квадратного метра больше всего влияет удаленность от центра города и то, на каком этаже расположена квартира: первом, последнем или другом."
   ]
  },
  {
   "cell_type": "markdown",
   "metadata": {},
   "source": [
    "#### 10 населённых пунктов с наибольшим числом объявлений"
   ]
  },
  {
   "cell_type": "markdown",
   "metadata": {},
   "source": [
    "Найдем 10 населённых пунктов с наибольшим числом объявлений."
   ]
  },
  {
   "cell_type": "code",
   "execution_count": 52,
   "metadata": {},
   "outputs": [
    {
     "data": {
      "text/html": [
       "<div>\n",
       "<style scoped>\n",
       "    .dataframe tbody tr th:only-of-type {\n",
       "        vertical-align: middle;\n",
       "    }\n",
       "\n",
       "    .dataframe tbody tr th {\n",
       "        vertical-align: top;\n",
       "    }\n",
       "\n",
       "    .dataframe thead th {\n",
       "        text-align: right;\n",
       "    }\n",
       "</style>\n",
       "<table border=\"1\" class=\"dataframe\">\n",
       "  <thead>\n",
       "    <tr style=\"text-align: right;\">\n",
       "      <th></th>\n",
       "      <th>locality_name</th>\n",
       "      <th>total_images</th>\n",
       "    </tr>\n",
       "  </thead>\n",
       "  <tbody>\n",
       "    <tr>\n",
       "      <td>32</td>\n",
       "      <td>Санкт-Петербург</td>\n",
       "      <td>12189</td>\n",
       "    </tr>\n",
       "    <tr>\n",
       "      <td>235</td>\n",
       "      <td>посёлок Мурино</td>\n",
       "      <td>490</td>\n",
       "    </tr>\n",
       "    <tr>\n",
       "      <td>265</td>\n",
       "      <td>посёлок Шушары</td>\n",
       "      <td>388</td>\n",
       "    </tr>\n",
       "    <tr>\n",
       "      <td>3</td>\n",
       "      <td>Всеволожск</td>\n",
       "      <td>320</td>\n",
       "    </tr>\n",
       "    <tr>\n",
       "      <td>13</td>\n",
       "      <td>Колпино</td>\n",
       "      <td>296</td>\n",
       "    </tr>\n",
       "    <tr>\n",
       "      <td>239</td>\n",
       "      <td>посёлок Парголово</td>\n",
       "      <td>284</td>\n",
       "    </tr>\n",
       "    <tr>\n",
       "      <td>31</td>\n",
       "      <td>Пушкин</td>\n",
       "      <td>279</td>\n",
       "    </tr>\n",
       "    <tr>\n",
       "      <td>82</td>\n",
       "      <td>деревня Кудрово</td>\n",
       "      <td>278</td>\n",
       "    </tr>\n",
       "    <tr>\n",
       "      <td>6</td>\n",
       "      <td>Гатчина</td>\n",
       "      <td>250</td>\n",
       "    </tr>\n",
       "    <tr>\n",
       "      <td>4</td>\n",
       "      <td>Выборг</td>\n",
       "      <td>190</td>\n",
       "    </tr>\n",
       "  </tbody>\n",
       "</table>\n",
       "</div>"
      ],
      "text/plain": [
       "         locality_name  total_images\n",
       "32     Санкт-Петербург         12189\n",
       "235     посёлок Мурино           490\n",
       "265     посёлок Шушары           388\n",
       "3           Всеволожск           320\n",
       "13             Колпино           296\n",
       "239  посёлок Парголово           284\n",
       "31              Пушкин           279\n",
       "82     деревня Кудрово           278\n",
       "6              Гатчина           250\n",
       "4               Выборг           190"
      ]
     },
     "execution_count": 52,
     "metadata": {},
     "output_type": "execute_result"
    }
   ],
   "source": [
    "top_locations = good_data.pivot_table(index='locality_name', values='total_images', aggfunc='count').reset_index().sort_values('total_images', ascending=False).head(10)\n",
    "top_locations"
   ]
  },
  {
   "cell_type": "code",
   "execution_count": 53,
   "metadata": {},
   "outputs": [
    {
     "data": {
      "text/html": [
       "<div>\n",
       "<style scoped>\n",
       "    .dataframe tbody tr th:only-of-type {\n",
       "        vertical-align: middle;\n",
       "    }\n",
       "\n",
       "    .dataframe tbody tr th {\n",
       "        vertical-align: top;\n",
       "    }\n",
       "\n",
       "    .dataframe thead th {\n",
       "        text-align: right;\n",
       "    }\n",
       "</style>\n",
       "<table border=\"1\" class=\"dataframe\">\n",
       "  <thead>\n",
       "    <tr style=\"text-align: right;\">\n",
       "      <th></th>\n",
       "      <th>locality_name</th>\n",
       "      <th>count</th>\n",
       "    </tr>\n",
       "  </thead>\n",
       "  <tbody>\n",
       "    <tr>\n",
       "      <td>32</td>\n",
       "      <td>Санкт-Петербург</td>\n",
       "      <td>12189</td>\n",
       "    </tr>\n",
       "    <tr>\n",
       "      <td>235</td>\n",
       "      <td>посёлок Мурино</td>\n",
       "      <td>490</td>\n",
       "    </tr>\n",
       "    <tr>\n",
       "      <td>265</td>\n",
       "      <td>посёлок Шушары</td>\n",
       "      <td>388</td>\n",
       "    </tr>\n",
       "    <tr>\n",
       "      <td>3</td>\n",
       "      <td>Всеволожск</td>\n",
       "      <td>320</td>\n",
       "    </tr>\n",
       "    <tr>\n",
       "      <td>13</td>\n",
       "      <td>Колпино</td>\n",
       "      <td>296</td>\n",
       "    </tr>\n",
       "    <tr>\n",
       "      <td>239</td>\n",
       "      <td>посёлок Парголово</td>\n",
       "      <td>284</td>\n",
       "    </tr>\n",
       "    <tr>\n",
       "      <td>31</td>\n",
       "      <td>Пушкин</td>\n",
       "      <td>279</td>\n",
       "    </tr>\n",
       "    <tr>\n",
       "      <td>82</td>\n",
       "      <td>деревня Кудрово</td>\n",
       "      <td>278</td>\n",
       "    </tr>\n",
       "    <tr>\n",
       "      <td>6</td>\n",
       "      <td>Гатчина</td>\n",
       "      <td>250</td>\n",
       "    </tr>\n",
       "    <tr>\n",
       "      <td>4</td>\n",
       "      <td>Выборг</td>\n",
       "      <td>190</td>\n",
       "    </tr>\n",
       "  </tbody>\n",
       "</table>\n",
       "</div>"
      ],
      "text/plain": [
       "         locality_name  count\n",
       "32     Санкт-Петербург  12189\n",
       "235     посёлок Мурино    490\n",
       "265     посёлок Шушары    388\n",
       "3           Всеволожск    320\n",
       "13             Колпино    296\n",
       "239  посёлок Парголово    284\n",
       "31              Пушкин    279\n",
       "82     деревня Кудрово    278\n",
       "6              Гатчина    250\n",
       "4               Выборг    190"
      ]
     },
     "execution_count": 53,
     "metadata": {},
     "output_type": "execute_result"
    }
   ],
   "source": [
    "top_locations.columns = ['locality_name', 'count']\n",
    "top_locations"
   ]
  },
  {
   "cell_type": "markdown",
   "metadata": {},
   "source": [
    "Т.к. одни и те же населенные пункты могут иметь разные названия, определим, можно ли считать этот топ-10 пригодным для анализа, вычислив, сколько объявлений относятся к топ-10 населенных пунктов."
   ]
  },
  {
   "cell_type": "code",
   "execution_count": 54,
   "metadata": {},
   "outputs": [
    {
     "data": {
      "text/plain": [
       "80.97840792250663"
      ]
     },
     "execution_count": 54,
     "metadata": {},
     "output_type": "execute_result"
    }
   ],
   "source": [
    "top_locations['count'].sum() * 100 /len(good_data)"
   ]
  },
  {
   "cell_type": "markdown",
   "metadata": {},
   "source": [
    "Больше 80% объявлений относятся к топ-10. Будем считать, что наличие разных названий мало повлияло на самые крупные населенные пункты по количеству объявлений о продаже квартиры."
   ]
  },
  {
   "cell_type": "markdown",
   "metadata": {},
   "source": [
    "Вычислим среднюю цену квадратного метра в топ-10 населенных пунктах."
   ]
  },
  {
   "cell_type": "code",
   "execution_count": 55,
   "metadata": {},
   "outputs": [
    {
     "data": {
      "text/html": [
       "<div>\n",
       "<style scoped>\n",
       "    .dataframe tbody tr th:only-of-type {\n",
       "        vertical-align: middle;\n",
       "    }\n",
       "\n",
       "    .dataframe tbody tr th {\n",
       "        vertical-align: top;\n",
       "    }\n",
       "\n",
       "    .dataframe thead th {\n",
       "        text-align: right;\n",
       "    }\n",
       "</style>\n",
       "<table border=\"1\" class=\"dataframe\">\n",
       "  <thead>\n",
       "    <tr style=\"text-align: right;\">\n",
       "      <th></th>\n",
       "      <th>locality_name</th>\n",
       "      <th>price</th>\n",
       "    </tr>\n",
       "  </thead>\n",
       "  <tbody>\n",
       "    <tr>\n",
       "      <td>0</td>\n",
       "      <td>Бокситогорск</td>\n",
       "      <td>19230.000000</td>\n",
       "    </tr>\n",
       "    <tr>\n",
       "      <td>1</td>\n",
       "      <td>Волосово</td>\n",
       "      <td>39851.206897</td>\n",
       "    </tr>\n",
       "    <tr>\n",
       "      <td>2</td>\n",
       "      <td>Волхов</td>\n",
       "      <td>35023.402439</td>\n",
       "    </tr>\n",
       "    <tr>\n",
       "      <td>3</td>\n",
       "      <td>Всеволожск</td>\n",
       "      <td>66596.850000</td>\n",
       "    </tr>\n",
       "    <tr>\n",
       "      <td>4</td>\n",
       "      <td>Выборг</td>\n",
       "      <td>57463.989474</td>\n",
       "    </tr>\n",
       "    <tr>\n",
       "      <td>...</td>\n",
       "      <td>...</td>\n",
       "      <td>...</td>\n",
       "    </tr>\n",
       "    <tr>\n",
       "      <td>293</td>\n",
       "      <td>село Путилово</td>\n",
       "      <td>39921.500000</td>\n",
       "    </tr>\n",
       "    <tr>\n",
       "      <td>294</td>\n",
       "      <td>село Рождествено</td>\n",
       "      <td>34553.500000</td>\n",
       "    </tr>\n",
       "    <tr>\n",
       "      <td>295</td>\n",
       "      <td>село Русско-Высоцкое</td>\n",
       "      <td>52758.875000</td>\n",
       "    </tr>\n",
       "    <tr>\n",
       "      <td>296</td>\n",
       "      <td>село Старая Ладога</td>\n",
       "      <td>32727.000000</td>\n",
       "    </tr>\n",
       "    <tr>\n",
       "      <td>297</td>\n",
       "      <td>село Шум</td>\n",
       "      <td>33898.000000</td>\n",
       "    </tr>\n",
       "  </tbody>\n",
       "</table>\n",
       "<p>298 rows × 2 columns</p>\n",
       "</div>"
      ],
      "text/plain": [
       "            locality_name         price\n",
       "0            Бокситогорск  19230.000000\n",
       "1                Волосово  39851.206897\n",
       "2                  Волхов  35023.402439\n",
       "3              Всеволожск  66596.850000\n",
       "4                  Выборг  57463.989474\n",
       "..                    ...           ...\n",
       "293         село Путилово  39921.500000\n",
       "294      село Рождествено  34553.500000\n",
       "295  село Русско-Высоцкое  52758.875000\n",
       "296    село Старая Ладога  32727.000000\n",
       "297              село Шум  33898.000000\n",
       "\n",
       "[298 rows x 2 columns]"
      ]
     },
     "execution_count": 55,
     "metadata": {},
     "output_type": "execute_result"
    }
   ],
   "source": [
    "mean_price_per_meter = good_data.pivot_table(index='locality_name', values='price').reset_index()\n",
    "mean_price_per_meter"
   ]
  },
  {
   "cell_type": "code",
   "execution_count": 56,
   "metadata": {},
   "outputs": [
    {
     "data": {
      "text/html": [
       "<div>\n",
       "<style scoped>\n",
       "    .dataframe tbody tr th:only-of-type {\n",
       "        vertical-align: middle;\n",
       "    }\n",
       "\n",
       "    .dataframe tbody tr th {\n",
       "        vertical-align: top;\n",
       "    }\n",
       "\n",
       "    .dataframe thead th {\n",
       "        text-align: right;\n",
       "    }\n",
       "</style>\n",
       "<table border=\"1\" class=\"dataframe\">\n",
       "  <thead>\n",
       "    <tr style=\"text-align: right;\">\n",
       "      <th></th>\n",
       "      <th>locality_name</th>\n",
       "      <th>count</th>\n",
       "      <th>price</th>\n",
       "    </tr>\n",
       "  </thead>\n",
       "  <tbody>\n",
       "    <tr>\n",
       "      <td>0</td>\n",
       "      <td>Санкт-Петербург</td>\n",
       "      <td>12189</td>\n",
       "      <td>106903.417672</td>\n",
       "    </tr>\n",
       "    <tr>\n",
       "      <td>1</td>\n",
       "      <td>посёлок Мурино</td>\n",
       "      <td>490</td>\n",
       "      <td>85767.161224</td>\n",
       "    </tr>\n",
       "    <tr>\n",
       "      <td>2</td>\n",
       "      <td>посёлок Шушары</td>\n",
       "      <td>388</td>\n",
       "      <td>77760.958763</td>\n",
       "    </tr>\n",
       "    <tr>\n",
       "      <td>3</td>\n",
       "      <td>Всеволожск</td>\n",
       "      <td>320</td>\n",
       "      <td>66596.850000</td>\n",
       "    </tr>\n",
       "    <tr>\n",
       "      <td>4</td>\n",
       "      <td>Колпино</td>\n",
       "      <td>296</td>\n",
       "      <td>74747.648649</td>\n",
       "    </tr>\n",
       "    <tr>\n",
       "      <td>5</td>\n",
       "      <td>посёлок Парголово</td>\n",
       "      <td>284</td>\n",
       "      <td>89584.112676</td>\n",
       "    </tr>\n",
       "    <tr>\n",
       "      <td>6</td>\n",
       "      <td>Пушкин</td>\n",
       "      <td>279</td>\n",
       "      <td>100469.623656</td>\n",
       "    </tr>\n",
       "    <tr>\n",
       "      <td>7</td>\n",
       "      <td>деревня Кудрово</td>\n",
       "      <td>278</td>\n",
       "      <td>92470.625899</td>\n",
       "    </tr>\n",
       "    <tr>\n",
       "      <td>8</td>\n",
       "      <td>Гатчина</td>\n",
       "      <td>250</td>\n",
       "      <td>68208.808000</td>\n",
       "    </tr>\n",
       "    <tr>\n",
       "      <td>9</td>\n",
       "      <td>Выборг</td>\n",
       "      <td>190</td>\n",
       "      <td>57463.989474</td>\n",
       "    </tr>\n",
       "  </tbody>\n",
       "</table>\n",
       "</div>"
      ],
      "text/plain": [
       "       locality_name  count          price\n",
       "0    Санкт-Петербург  12189  106903.417672\n",
       "1     посёлок Мурино    490   85767.161224\n",
       "2     посёлок Шушары    388   77760.958763\n",
       "3         Всеволожск    320   66596.850000\n",
       "4            Колпино    296   74747.648649\n",
       "5  посёлок Парголово    284   89584.112676\n",
       "6             Пушкин    279  100469.623656\n",
       "7    деревня Кудрово    278   92470.625899\n",
       "8            Гатчина    250   68208.808000\n",
       "9             Выборг    190   57463.989474"
      ]
     },
     "execution_count": 56,
     "metadata": {},
     "output_type": "execute_result"
    }
   ],
   "source": [
    "top_locations_price = top_locations.merge(mean_price_per_meter, on='locality_name')\n",
    "top_locations_price"
   ]
  },
  {
   "cell_type": "markdown",
   "metadata": {},
   "source": [
    "Выделим среди них населённые пункты с самой высокой и низкой стоимостью жилья."
   ]
  },
  {
   "cell_type": "code",
   "execution_count": 57,
   "metadata": {},
   "outputs": [
    {
     "data": {
      "text/plain": [
       "['Санкт-Петербург',\n",
       " 'посёлок Мурино',\n",
       " 'посёлок Шушары',\n",
       " 'Всеволожск',\n",
       " 'Колпино',\n",
       " 'посёлок Парголово',\n",
       " 'Пушкин',\n",
       " 'деревня Кудрово',\n",
       " 'Гатчина',\n",
       " 'Выборг']"
      ]
     },
     "execution_count": 57,
     "metadata": {},
     "output_type": "execute_result"
    }
   ],
   "source": [
    "locations = top_locations_price['locality_name'].tolist()\n",
    "locations"
   ]
  },
  {
   "cell_type": "markdown",
   "metadata": {},
   "source": [
    "Определим населенные пункты с самой низкой стоимостью жилья."
   ]
  },
  {
   "cell_type": "code",
   "execution_count": 58,
   "metadata": {},
   "outputs": [
    {
     "data": {
      "text/html": [
       "<div>\n",
       "<style scoped>\n",
       "    .dataframe tbody tr th:only-of-type {\n",
       "        vertical-align: middle;\n",
       "    }\n",
       "\n",
       "    .dataframe tbody tr th {\n",
       "        vertical-align: top;\n",
       "    }\n",
       "\n",
       "    .dataframe thead th {\n",
       "        text-align: right;\n",
       "    }\n",
       "</style>\n",
       "<table border=\"1\" class=\"dataframe\">\n",
       "  <thead>\n",
       "    <tr style=\"text-align: right;\">\n",
       "      <th></th>\n",
       "      <th>locality_name</th>\n",
       "      <th>price</th>\n",
       "    </tr>\n",
       "  </thead>\n",
       "  <tbody>\n",
       "    <tr>\n",
       "      <td>23428</td>\n",
       "      <td>Гатчина</td>\n",
       "      <td>10507</td>\n",
       "    </tr>\n",
       "    <tr>\n",
       "      <td>17722</td>\n",
       "      <td>Санкт-Петербург</td>\n",
       "      <td>15345</td>\n",
       "    </tr>\n",
       "    <tr>\n",
       "      <td>19917</td>\n",
       "      <td>Санкт-Петербург</td>\n",
       "      <td>15861</td>\n",
       "    </tr>\n",
       "    <tr>\n",
       "      <td>21295</td>\n",
       "      <td>Санкт-Петербург</td>\n",
       "      <td>16842</td>\n",
       "    </tr>\n",
       "    <tr>\n",
       "      <td>23345</td>\n",
       "      <td>Санкт-Петербург</td>\n",
       "      <td>17391</td>\n",
       "    </tr>\n",
       "  </tbody>\n",
       "</table>\n",
       "</div>"
      ],
      "text/plain": [
       "         locality_name  price\n",
       "23428          Гатчина  10507\n",
       "17722  Санкт-Петербург  15345\n",
       "19917  Санкт-Петербург  15861\n",
       "21295  Санкт-Петербург  16842\n",
       "23345  Санкт-Петербург  17391"
      ]
     },
     "execution_count": 58,
     "metadata": {},
     "output_type": "execute_result"
    }
   ],
   "source": [
    "good_data.query('locality_name in @locations').sort_values(by = 'price').head()[['locality_name', 'price']]"
   ]
  },
  {
   "cell_type": "markdown",
   "metadata": {},
   "source": [
    "Определим населенные пункты с самой высокой стоимостью жилья."
   ]
  },
  {
   "cell_type": "code",
   "execution_count": 59,
   "metadata": {},
   "outputs": [
    {
     "data": {
      "text/html": [
       "<div>\n",
       "<style scoped>\n",
       "    .dataframe tbody tr th:only-of-type {\n",
       "        vertical-align: middle;\n",
       "    }\n",
       "\n",
       "    .dataframe tbody tr th {\n",
       "        vertical-align: top;\n",
       "    }\n",
       "\n",
       "    .dataframe thead th {\n",
       "        text-align: right;\n",
       "    }\n",
       "</style>\n",
       "<table border=\"1\" class=\"dataframe\">\n",
       "  <thead>\n",
       "    <tr style=\"text-align: right;\">\n",
       "      <th></th>\n",
       "      <th>locality_name</th>\n",
       "      <th>price</th>\n",
       "    </tr>\n",
       "  </thead>\n",
       "  <tbody>\n",
       "    <tr>\n",
       "      <td>9678</td>\n",
       "      <td>Санкт-Петербург</td>\n",
       "      <td>392354</td>\n",
       "    </tr>\n",
       "    <tr>\n",
       "      <td>14716</td>\n",
       "      <td>Санкт-Петербург</td>\n",
       "      <td>387096</td>\n",
       "    </tr>\n",
       "    <tr>\n",
       "      <td>4705</td>\n",
       "      <td>Санкт-Петербург</td>\n",
       "      <td>355555</td>\n",
       "    </tr>\n",
       "    <tr>\n",
       "      <td>8697</td>\n",
       "      <td>Санкт-Петербург</td>\n",
       "      <td>350070</td>\n",
       "    </tr>\n",
       "    <tr>\n",
       "      <td>1242</td>\n",
       "      <td>Санкт-Петербург</td>\n",
       "      <td>324727</td>\n",
       "    </tr>\n",
       "  </tbody>\n",
       "</table>\n",
       "</div>"
      ],
      "text/plain": [
       "         locality_name   price\n",
       "9678   Санкт-Петербург  392354\n",
       "14716  Санкт-Петербург  387096\n",
       "4705   Санкт-Петербург  355555\n",
       "8697   Санкт-Петербург  350070\n",
       "1242   Санкт-Петербург  324727"
      ]
     },
     "execution_count": 59,
     "metadata": {},
     "output_type": "execute_result"
    }
   ],
   "source": [
    "good_data.query('locality_name in @locations').sort_values(by = 'price', ascending = False).head()[['locality_name', 'price']]"
   ]
  },
  {
   "cell_type": "markdown",
   "metadata": {},
   "source": [
    "### Вывод"
   ]
  },
  {
   "cell_type": "markdown",
   "metadata": {},
   "source": [
    "Самое большое количество объявлений и самая большая средняя стоимость квадратного метра относится к Санкт-Петербургу. Здесь же располагаются самые дорогие и одни из самых дешевых квартир. Это говорит об очень широком диапазоне цен в данном городе, который зависит от удаленности квартиры от центра города. Определим и изучим подробнее центральную зону.  \n",
    "Среди топ-10 населенных пунктов по количеству объявлений самая дешевая квартира располагается в Гатчине.  \n",
    "На втором месте по количеству объявлений - поселок Мурино. Второе место по средней стоимости квадратного метра принадлежит городу Пушкин."
   ]
  },
  {
   "cell_type": "markdown",
   "metadata": {},
   "source": [
    "#### Как цена зависит от удалённости от центра?"
   ]
  },
  {
   "cell_type": "markdown",
   "metadata": {},
   "source": [
    "Выделим квартиры в Санкт-Петербурге."
   ]
  },
  {
   "cell_type": "code",
   "execution_count": 60,
   "metadata": {},
   "outputs": [
    {
     "name": "stdout",
     "output_type": "stream",
     "text": [
      "<class 'pandas.core.frame.DataFrame'>\n",
      "Int64Index: 12189 entries, 2 to 23648\n",
      "Data columns (total 29 columns):\n",
      "total_images            12189 non-null int64\n",
      "last_price              12189 non-null float64\n",
      "total_area              12189 non-null float64\n",
      "first_day_exposition    12189 non-null datetime64[ns]\n",
      "rooms                   12189 non-null int64\n",
      "ceiling_height          12189 non-null float64\n",
      "floors_total            12185 non-null float64\n",
      "living_area             11434 non-null float64\n",
      "floor                   12189 non-null int64\n",
      "is_apartment            1478 non-null object\n",
      "studio                  12189 non-null bool\n",
      "open_plan               12189 non-null bool\n",
      "kitchen_area            11221 non-null float64\n",
      "balcony                 12189 non-null int64\n",
      "locality_name           12189 non-null object\n",
      "airports_nearest        12158 non-null float64\n",
      "cityCenters_nearest     12174 non-null float64\n",
      "parks_around3000        12174 non-null float64\n",
      "parks_nearest           5398 non-null float64\n",
      "ponds_around3000        12174 non-null float64\n",
      "ponds_nearest           5967 non-null float64\n",
      "days_exposition         12189 non-null float64\n",
      "price                   12189 non-null int64\n",
      "weekday                 12189 non-null int64\n",
      "month                   12189 non-null int64\n",
      "year                    12189 non-null int64\n",
      "floor_group             12189 non-null object\n",
      "living_area_rate        11434 non-null float64\n",
      "kitchen_area_rate       11221 non-null float64\n",
      "dtypes: bool(2), datetime64[ns](1), float64(15), int64(8), object(3)\n",
      "memory usage: 2.6+ MB\n"
     ]
    }
   ],
   "source": [
    "spb_data = good_data.query('locality_name == \"Санкт-Петербург\"')\n",
    "spb_data.info()"
   ]
  },
  {
   "cell_type": "markdown",
   "metadata": {},
   "source": [
    "Удалим строки с неизвестными значениями до центра города."
   ]
  },
  {
   "cell_type": "code",
   "execution_count": 61,
   "metadata": {},
   "outputs": [
    {
     "name": "stdout",
     "output_type": "stream",
     "text": [
      "<class 'pandas.core.frame.DataFrame'>\n",
      "Int64Index: 12174 entries, 2 to 23648\n",
      "Data columns (total 29 columns):\n",
      "total_images            12174 non-null int64\n",
      "last_price              12174 non-null float64\n",
      "total_area              12174 non-null float64\n",
      "first_day_exposition    12174 non-null datetime64[ns]\n",
      "rooms                   12174 non-null int64\n",
      "ceiling_height          12174 non-null float64\n",
      "floors_total            12170 non-null float64\n",
      "living_area             11419 non-null float64\n",
      "floor                   12174 non-null int64\n",
      "is_apartment            1476 non-null object\n",
      "studio                  12174 non-null bool\n",
      "open_plan               12174 non-null bool\n",
      "kitchen_area            11206 non-null float64\n",
      "balcony                 12174 non-null int64\n",
      "locality_name           12174 non-null object\n",
      "airports_nearest        12158 non-null float64\n",
      "cityCenters_nearest     12174 non-null float64\n",
      "parks_around3000        12174 non-null float64\n",
      "parks_nearest           5398 non-null float64\n",
      "ponds_around3000        12174 non-null float64\n",
      "ponds_nearest           5967 non-null float64\n",
      "days_exposition         12174 non-null float64\n",
      "price                   12174 non-null int64\n",
      "weekday                 12174 non-null int64\n",
      "month                   12174 non-null int64\n",
      "year                    12174 non-null int64\n",
      "floor_group             12174 non-null object\n",
      "living_area_rate        11419 non-null float64\n",
      "kitchen_area_rate       11206 non-null float64\n",
      "dtypes: bool(2), datetime64[ns](1), float64(15), int64(8), object(3)\n",
      "memory usage: 2.6+ MB\n"
     ]
    }
   ],
   "source": [
    "spb_data = spb_data.dropna(subset=['cityCenters_nearest'])\n",
    "spb_data.info()"
   ]
  },
  {
   "cell_type": "markdown",
   "metadata": {},
   "source": [
    "Создадим столбец с расстоянием до центра в километрах: округлите до целых значений."
   ]
  },
  {
   "cell_type": "code",
   "execution_count": 62,
   "metadata": {},
   "outputs": [
    {
     "data": {
      "text/html": [
       "<div>\n",
       "<style scoped>\n",
       "    .dataframe tbody tr th:only-of-type {\n",
       "        vertical-align: middle;\n",
       "    }\n",
       "\n",
       "    .dataframe tbody tr th {\n",
       "        vertical-align: top;\n",
       "    }\n",
       "\n",
       "    .dataframe thead th {\n",
       "        text-align: right;\n",
       "    }\n",
       "</style>\n",
       "<table border=\"1\" class=\"dataframe\">\n",
       "  <thead>\n",
       "    <tr style=\"text-align: right;\">\n",
       "      <th></th>\n",
       "      <th>total_images</th>\n",
       "      <th>last_price</th>\n",
       "      <th>total_area</th>\n",
       "      <th>first_day_exposition</th>\n",
       "      <th>rooms</th>\n",
       "      <th>ceiling_height</th>\n",
       "      <th>floors_total</th>\n",
       "      <th>living_area</th>\n",
       "      <th>floor</th>\n",
       "      <th>is_apartment</th>\n",
       "      <th>...</th>\n",
       "      <th>ponds_nearest</th>\n",
       "      <th>days_exposition</th>\n",
       "      <th>price</th>\n",
       "      <th>weekday</th>\n",
       "      <th>month</th>\n",
       "      <th>year</th>\n",
       "      <th>floor_group</th>\n",
       "      <th>living_area_rate</th>\n",
       "      <th>kitchen_area_rate</th>\n",
       "      <th>cityCenters_nearest_km</th>\n",
       "    </tr>\n",
       "  </thead>\n",
       "  <tbody>\n",
       "    <tr>\n",
       "      <td>2</td>\n",
       "      <td>10</td>\n",
       "      <td>5.196</td>\n",
       "      <td>56.0</td>\n",
       "      <td>2015-08-20</td>\n",
       "      <td>2</td>\n",
       "      <td>2.696740</td>\n",
       "      <td>5.0</td>\n",
       "      <td>34.3</td>\n",
       "      <td>4</td>\n",
       "      <td>NaN</td>\n",
       "      <td>...</td>\n",
       "      <td>574.0</td>\n",
       "      <td>558.0</td>\n",
       "      <td>92785</td>\n",
       "      <td>3</td>\n",
       "      <td>8</td>\n",
       "      <td>2015</td>\n",
       "      <td>другой</td>\n",
       "      <td>0.612500</td>\n",
       "      <td>0.148214</td>\n",
       "      <td>13</td>\n",
       "    </tr>\n",
       "    <tr>\n",
       "      <td>4</td>\n",
       "      <td>2</td>\n",
       "      <td>10.000</td>\n",
       "      <td>100.0</td>\n",
       "      <td>2018-06-19</td>\n",
       "      <td>2</td>\n",
       "      <td>3.030000</td>\n",
       "      <td>14.0</td>\n",
       "      <td>32.0</td>\n",
       "      <td>13</td>\n",
       "      <td>NaN</td>\n",
       "      <td>...</td>\n",
       "      <td>48.0</td>\n",
       "      <td>121.0</td>\n",
       "      <td>100000</td>\n",
       "      <td>1</td>\n",
       "      <td>6</td>\n",
       "      <td>2018</td>\n",
       "      <td>другой</td>\n",
       "      <td>0.320000</td>\n",
       "      <td>0.410000</td>\n",
       "      <td>8</td>\n",
       "    </tr>\n",
       "    <tr>\n",
       "      <td>9</td>\n",
       "      <td>18</td>\n",
       "      <td>5.400</td>\n",
       "      <td>61.0</td>\n",
       "      <td>2017-02-26</td>\n",
       "      <td>3</td>\n",
       "      <td>2.500000</td>\n",
       "      <td>9.0</td>\n",
       "      <td>43.6</td>\n",
       "      <td>7</td>\n",
       "      <td>NaN</td>\n",
       "      <td>...</td>\n",
       "      <td>NaN</td>\n",
       "      <td>289.0</td>\n",
       "      <td>88524</td>\n",
       "      <td>6</td>\n",
       "      <td>2</td>\n",
       "      <td>2017</td>\n",
       "      <td>другой</td>\n",
       "      <td>0.714754</td>\n",
       "      <td>0.106557</td>\n",
       "      <td>15</td>\n",
       "    </tr>\n",
       "    <tr>\n",
       "      <td>10</td>\n",
       "      <td>5</td>\n",
       "      <td>5.050</td>\n",
       "      <td>39.6</td>\n",
       "      <td>2017-11-16</td>\n",
       "      <td>1</td>\n",
       "      <td>2.670000</td>\n",
       "      <td>12.0</td>\n",
       "      <td>20.3</td>\n",
       "      <td>3</td>\n",
       "      <td>NaN</td>\n",
       "      <td>...</td>\n",
       "      <td>553.0</td>\n",
       "      <td>137.0</td>\n",
       "      <td>127525</td>\n",
       "      <td>3</td>\n",
       "      <td>11</td>\n",
       "      <td>2017</td>\n",
       "      <td>другой</td>\n",
       "      <td>0.512626</td>\n",
       "      <td>0.214646</td>\n",
       "      <td>13</td>\n",
       "    </tr>\n",
       "    <tr>\n",
       "      <td>15</td>\n",
       "      <td>16</td>\n",
       "      <td>4.650</td>\n",
       "      <td>39.0</td>\n",
       "      <td>2017-11-18</td>\n",
       "      <td>1</td>\n",
       "      <td>2.640235</td>\n",
       "      <td>14.0</td>\n",
       "      <td>20.5</td>\n",
       "      <td>5</td>\n",
       "      <td>NaN</td>\n",
       "      <td>...</td>\n",
       "      <td>296.0</td>\n",
       "      <td>19.0</td>\n",
       "      <td>119230</td>\n",
       "      <td>5</td>\n",
       "      <td>11</td>\n",
       "      <td>2017</td>\n",
       "      <td>другой</td>\n",
       "      <td>0.525641</td>\n",
       "      <td>0.194872</td>\n",
       "      <td>14</td>\n",
       "    </tr>\n",
       "  </tbody>\n",
       "</table>\n",
       "<p>5 rows × 30 columns</p>\n",
       "</div>"
      ],
      "text/plain": [
       "    total_images  last_price  total_area first_day_exposition  rooms  \\\n",
       "2             10       5.196        56.0           2015-08-20      2   \n",
       "4              2      10.000       100.0           2018-06-19      2   \n",
       "9             18       5.400        61.0           2017-02-26      3   \n",
       "10             5       5.050        39.6           2017-11-16      1   \n",
       "15            16       4.650        39.0           2017-11-18      1   \n",
       "\n",
       "    ceiling_height  floors_total  living_area  floor is_apartment  ...  \\\n",
       "2         2.696740           5.0         34.3      4          NaN  ...   \n",
       "4         3.030000          14.0         32.0     13          NaN  ...   \n",
       "9         2.500000           9.0         43.6      7          NaN  ...   \n",
       "10        2.670000          12.0         20.3      3          NaN  ...   \n",
       "15        2.640235          14.0         20.5      5          NaN  ...   \n",
       "\n",
       "    ponds_nearest  days_exposition   price  weekday month  year  floor_group  \\\n",
       "2           574.0            558.0   92785        3     8  2015       другой   \n",
       "4            48.0            121.0  100000        1     6  2018       другой   \n",
       "9             NaN            289.0   88524        6     2  2017       другой   \n",
       "10          553.0            137.0  127525        3    11  2017       другой   \n",
       "15          296.0             19.0  119230        5    11  2017       другой   \n",
       "\n",
       "    living_area_rate  kitchen_area_rate  cityCenters_nearest_km  \n",
       "2           0.612500           0.148214                      13  \n",
       "4           0.320000           0.410000                       8  \n",
       "9           0.714754           0.106557                      15  \n",
       "10          0.512626           0.214646                      13  \n",
       "15          0.525641           0.194872                      14  \n",
       "\n",
       "[5 rows x 30 columns]"
      ]
     },
     "execution_count": 62,
     "metadata": {},
     "output_type": "execute_result"
    }
   ],
   "source": [
    "spb_data['cityCenters_nearest_km'] = spb_data['cityCenters_nearest'] / 1000\n",
    "spb_data['cityCenters_nearest_km'] = spb_data['cityCenters_nearest_km'].astype('int')\n",
    "spb_data.head()"
   ]
  },
  {
   "cell_type": "markdown",
   "metadata": {},
   "source": [
    "Посчитаем среднюю цену для каждого километра."
   ]
  },
  {
   "cell_type": "code",
   "execution_count": 63,
   "metadata": {},
   "outputs": [
    {
     "data": {
      "text/html": [
       "<div>\n",
       "<style scoped>\n",
       "    .dataframe tbody tr th:only-of-type {\n",
       "        vertical-align: middle;\n",
       "    }\n",
       "\n",
       "    .dataframe tbody tr th {\n",
       "        vertical-align: top;\n",
       "    }\n",
       "\n",
       "    .dataframe thead th {\n",
       "        text-align: right;\n",
       "    }\n",
       "</style>\n",
       "<table border=\"1\" class=\"dataframe\">\n",
       "  <thead>\n",
       "    <tr style=\"text-align: right;\">\n",
       "      <th></th>\n",
       "      <th>cityCenters_nearest_km</th>\n",
       "      <th>mean</th>\n",
       "      <th>count</th>\n",
       "    </tr>\n",
       "  </thead>\n",
       "  <tbody>\n",
       "    <tr>\n",
       "      <td>0</td>\n",
       "      <td>0</td>\n",
       "      <td>124148.106383</td>\n",
       "      <td>47</td>\n",
       "    </tr>\n",
       "    <tr>\n",
       "      <td>1</td>\n",
       "      <td>1</td>\n",
       "      <td>127266.850340</td>\n",
       "      <td>147</td>\n",
       "    </tr>\n",
       "    <tr>\n",
       "      <td>2</td>\n",
       "      <td>2</td>\n",
       "      <td>115200.964103</td>\n",
       "      <td>195</td>\n",
       "    </tr>\n",
       "    <tr>\n",
       "      <td>3</td>\n",
       "      <td>3</td>\n",
       "      <td>112723.409884</td>\n",
       "      <td>344</td>\n",
       "    </tr>\n",
       "    <tr>\n",
       "      <td>4</td>\n",
       "      <td>4</td>\n",
       "      <td>125550.340171</td>\n",
       "      <td>585</td>\n",
       "    </tr>\n",
       "    <tr>\n",
       "      <td>5</td>\n",
       "      <td>5</td>\n",
       "      <td>124500.627706</td>\n",
       "      <td>462</td>\n",
       "    </tr>\n",
       "    <tr>\n",
       "      <td>6</td>\n",
       "      <td>6</td>\n",
       "      <td>124363.070064</td>\n",
       "      <td>314</td>\n",
       "    </tr>\n",
       "    <tr>\n",
       "      <td>7</td>\n",
       "      <td>7</td>\n",
       "      <td>123810.816667</td>\n",
       "      <td>300</td>\n",
       "    </tr>\n",
       "    <tr>\n",
       "      <td>8</td>\n",
       "      <td>8</td>\n",
       "      <td>113895.287785</td>\n",
       "      <td>483</td>\n",
       "    </tr>\n",
       "    <tr>\n",
       "      <td>9</td>\n",
       "      <td>9</td>\n",
       "      <td>107419.418440</td>\n",
       "      <td>564</td>\n",
       "    </tr>\n",
       "    <tr>\n",
       "      <td>10</td>\n",
       "      <td>10</td>\n",
       "      <td>108229.785047</td>\n",
       "      <td>749</td>\n",
       "    </tr>\n",
       "    <tr>\n",
       "      <td>11</td>\n",
       "      <td>11</td>\n",
       "      <td>104004.270060</td>\n",
       "      <td>1159</td>\n",
       "    </tr>\n",
       "    <tr>\n",
       "      <td>12</td>\n",
       "      <td>12</td>\n",
       "      <td>106757.061574</td>\n",
       "      <td>1283</td>\n",
       "    </tr>\n",
       "    <tr>\n",
       "      <td>13</td>\n",
       "      <td>13</td>\n",
       "      <td>105134.392796</td>\n",
       "      <td>1166</td>\n",
       "    </tr>\n",
       "    <tr>\n",
       "      <td>14</td>\n",
       "      <td>14</td>\n",
       "      <td>102727.719424</td>\n",
       "      <td>1251</td>\n",
       "    </tr>\n",
       "    <tr>\n",
       "      <td>15</td>\n",
       "      <td>15</td>\n",
       "      <td>99858.176682</td>\n",
       "      <td>1115</td>\n",
       "    </tr>\n",
       "    <tr>\n",
       "      <td>16</td>\n",
       "      <td>16</td>\n",
       "      <td>98449.247059</td>\n",
       "      <td>935</td>\n",
       "    </tr>\n",
       "    <tr>\n",
       "      <td>17</td>\n",
       "      <td>17</td>\n",
       "      <td>94802.799517</td>\n",
       "      <td>414</td>\n",
       "    </tr>\n",
       "    <tr>\n",
       "      <td>18</td>\n",
       "      <td>18</td>\n",
       "      <td>93472.108108</td>\n",
       "      <td>148</td>\n",
       "    </tr>\n",
       "    <tr>\n",
       "      <td>19</td>\n",
       "      <td>19</td>\n",
       "      <td>95366.527778</td>\n",
       "      <td>72</td>\n",
       "    </tr>\n",
       "    <tr>\n",
       "      <td>20</td>\n",
       "      <td>20</td>\n",
       "      <td>103135.678571</td>\n",
       "      <td>56</td>\n",
       "    </tr>\n",
       "    <tr>\n",
       "      <td>21</td>\n",
       "      <td>21</td>\n",
       "      <td>89917.030864</td>\n",
       "      <td>162</td>\n",
       "    </tr>\n",
       "    <tr>\n",
       "      <td>22</td>\n",
       "      <td>22</td>\n",
       "      <td>85107.584158</td>\n",
       "      <td>101</td>\n",
       "    </tr>\n",
       "    <tr>\n",
       "      <td>23</td>\n",
       "      <td>23</td>\n",
       "      <td>91985.608696</td>\n",
       "      <td>23</td>\n",
       "    </tr>\n",
       "    <tr>\n",
       "      <td>24</td>\n",
       "      <td>24</td>\n",
       "      <td>83025.333333</td>\n",
       "      <td>21</td>\n",
       "    </tr>\n",
       "    <tr>\n",
       "      <td>25</td>\n",
       "      <td>25</td>\n",
       "      <td>90072.048387</td>\n",
       "      <td>62</td>\n",
       "    </tr>\n",
       "    <tr>\n",
       "      <td>26</td>\n",
       "      <td>26</td>\n",
       "      <td>75171.333333</td>\n",
       "      <td>3</td>\n",
       "    </tr>\n",
       "    <tr>\n",
       "      <td>27</td>\n",
       "      <td>27</td>\n",
       "      <td>132115.000000</td>\n",
       "      <td>2</td>\n",
       "    </tr>\n",
       "    <tr>\n",
       "      <td>28</td>\n",
       "      <td>28</td>\n",
       "      <td>82056.888889</td>\n",
       "      <td>9</td>\n",
       "    </tr>\n",
       "    <tr>\n",
       "      <td>29</td>\n",
       "      <td>29</td>\n",
       "      <td>65459.500000</td>\n",
       "      <td>2</td>\n",
       "    </tr>\n",
       "  </tbody>\n",
       "</table>\n",
       "</div>"
      ],
      "text/plain": [
       "    cityCenters_nearest_km           mean  count\n",
       "0                        0  124148.106383     47\n",
       "1                        1  127266.850340    147\n",
       "2                        2  115200.964103    195\n",
       "3                        3  112723.409884    344\n",
       "4                        4  125550.340171    585\n",
       "5                        5  124500.627706    462\n",
       "6                        6  124363.070064    314\n",
       "7                        7  123810.816667    300\n",
       "8                        8  113895.287785    483\n",
       "9                        9  107419.418440    564\n",
       "10                      10  108229.785047    749\n",
       "11                      11  104004.270060   1159\n",
       "12                      12  106757.061574   1283\n",
       "13                      13  105134.392796   1166\n",
       "14                      14  102727.719424   1251\n",
       "15                      15   99858.176682   1115\n",
       "16                      16   98449.247059    935\n",
       "17                      17   94802.799517    414\n",
       "18                      18   93472.108108    148\n",
       "19                      19   95366.527778     72\n",
       "20                      20  103135.678571     56\n",
       "21                      21   89917.030864    162\n",
       "22                      22   85107.584158    101\n",
       "23                      23   91985.608696     23\n",
       "24                      24   83025.333333     21\n",
       "25                      25   90072.048387     62\n",
       "26                      26   75171.333333      3\n",
       "27                      27  132115.000000      2\n",
       "28                      28   82056.888889      9\n",
       "29                      29   65459.500000      2"
      ]
     },
     "execution_count": 63,
     "metadata": {},
     "output_type": "execute_result"
    }
   ],
   "source": [
    "nearest_price_ratio = spb_data.groupby('cityCenters_nearest_km')['price'].agg(['mean', 'count']).reset_index()\n",
    "nearest_price_ratio"
   ]
  },
  {
   "cell_type": "markdown",
   "metadata": {},
   "source": [
    "10-16 км от центра города - зона самого большого количества объявлений о продаже квартиры."
   ]
  },
  {
   "cell_type": "markdown",
   "metadata": {},
   "source": [
    "Построим график, показывающий, как цена зависит от удалённости от центра города, и определим центральную зону."
   ]
  },
  {
   "cell_type": "code",
   "execution_count": 64,
   "metadata": {},
   "outputs": [
    {
     "data": {
      "image/png": "[encoded data removed]",
      "text/plain": [
       "<Figure size 720x576 with 1 Axes>"
      ]
     },
     "metadata": {
      "needs_background": "light"
     },
     "output_type": "display_data"
    }
   ],
   "source": [
    "nearest_price_ratio.plot(x='cityCenters_nearest_km', y='mean', style='o-', xlim=(0, 30), grid=True, figsize=(10, 8))\n",
    "plt.ylabel('Цена квадратного метра, ед.')\n",
    "plt.xlabel('Расстояние до центра, км')\n",
    "plt.title('Зависимость цены кв.м. квартиры от удаленности от центра города')\n",
    "plt.show()"
   ]
  },
  {
   "cell_type": "markdown",
   "metadata": {},
   "source": [
    "Рассмотрим выбивающиеся значения на 27 км."
   ]
  },
  {
   "cell_type": "code",
   "execution_count": 65,
   "metadata": {},
   "outputs": [
    {
     "data": {
      "text/html": [
       "<div>\n",
       "<style scoped>\n",
       "    .dataframe tbody tr th:only-of-type {\n",
       "        vertical-align: middle;\n",
       "    }\n",
       "\n",
       "    .dataframe tbody tr th {\n",
       "        vertical-align: top;\n",
       "    }\n",
       "\n",
       "    .dataframe thead th {\n",
       "        text-align: right;\n",
       "    }\n",
       "</style>\n",
       "<table border=\"1\" class=\"dataframe\">\n",
       "  <thead>\n",
       "    <tr style=\"text-align: right;\">\n",
       "      <th></th>\n",
       "      <th>total_images</th>\n",
       "      <th>last_price</th>\n",
       "      <th>total_area</th>\n",
       "      <th>first_day_exposition</th>\n",
       "      <th>rooms</th>\n",
       "      <th>ceiling_height</th>\n",
       "      <th>floors_total</th>\n",
       "      <th>living_area</th>\n",
       "      <th>floor</th>\n",
       "      <th>is_apartment</th>\n",
       "      <th>...</th>\n",
       "      <th>ponds_nearest</th>\n",
       "      <th>days_exposition</th>\n",
       "      <th>price</th>\n",
       "      <th>weekday</th>\n",
       "      <th>month</th>\n",
       "      <th>year</th>\n",
       "      <th>floor_group</th>\n",
       "      <th>living_area_rate</th>\n",
       "      <th>kitchen_area_rate</th>\n",
       "      <th>cityCenters_nearest_km</th>\n",
       "    </tr>\n",
       "  </thead>\n",
       "  <tbody>\n",
       "    <tr>\n",
       "      <td>748</td>\n",
       "      <td>13</td>\n",
       "      <td>14.35</td>\n",
       "      <td>74.0</td>\n",
       "      <td>2017-11-28</td>\n",
       "      <td>2</td>\n",
       "      <td>3.130000</td>\n",
       "      <td>5.0</td>\n",
       "      <td>30.0</td>\n",
       "      <td>3</td>\n",
       "      <td>NaN</td>\n",
       "      <td>...</td>\n",
       "      <td>NaN</td>\n",
       "      <td>128.0</td>\n",
       "      <td>193918</td>\n",
       "      <td>1</td>\n",
       "      <td>11</td>\n",
       "      <td>2017</td>\n",
       "      <td>другой</td>\n",
       "      <td>0.405405</td>\n",
       "      <td>0.337838</td>\n",
       "      <td>27</td>\n",
       "    </tr>\n",
       "    <tr>\n",
       "      <td>5951</td>\n",
       "      <td>6</td>\n",
       "      <td>2.25</td>\n",
       "      <td>32.0</td>\n",
       "      <td>2018-02-27</td>\n",
       "      <td>1</td>\n",
       "      <td>2.781148</td>\n",
       "      <td>2.0</td>\n",
       "      <td>16.5</td>\n",
       "      <td>2</td>\n",
       "      <td>NaN</td>\n",
       "      <td>...</td>\n",
       "      <td>NaN</td>\n",
       "      <td>178.0</td>\n",
       "      <td>70312</td>\n",
       "      <td>1</td>\n",
       "      <td>2</td>\n",
       "      <td>2018</td>\n",
       "      <td>последний</td>\n",
       "      <td>0.515625</td>\n",
       "      <td>0.218750</td>\n",
       "      <td>27</td>\n",
       "    </tr>\n",
       "  </tbody>\n",
       "</table>\n",
       "<p>2 rows × 30 columns</p>\n",
       "</div>"
      ],
      "text/plain": [
       "      total_images  last_price  total_area first_day_exposition  rooms  \\\n",
       "748             13       14.35        74.0           2017-11-28      2   \n",
       "5951             6        2.25        32.0           2018-02-27      1   \n",
       "\n",
       "      ceiling_height  floors_total  living_area  floor is_apartment  ...  \\\n",
       "748         3.130000           5.0         30.0      3          NaN  ...   \n",
       "5951        2.781148           2.0         16.5      2          NaN  ...   \n",
       "\n",
       "      ponds_nearest  days_exposition   price  weekday month  year  \\\n",
       "748             NaN            128.0  193918        1    11  2017   \n",
       "5951            NaN            178.0   70312        1     2  2018   \n",
       "\n",
       "      floor_group  living_area_rate  kitchen_area_rate  cityCenters_nearest_km  \n",
       "748        другой          0.405405           0.337838                      27  \n",
       "5951    последний          0.515625           0.218750                      27  \n",
       "\n",
       "[2 rows x 30 columns]"
      ]
     },
     "execution_count": 65,
     "metadata": {},
     "output_type": "execute_result"
    }
   ],
   "source": [
    "spb_data.query('cityCenters_nearest_km == 27')"
   ]
  },
  {
   "cell_type": "markdown",
   "metadata": {},
   "source": [
    "Из-за малого количества объявлений (всего 2) и наличия среди них очень дорогого жилья, на графике видно выбивающееся значение."
   ]
  },
  {
   "cell_type": "markdown",
   "metadata": {},
   "source": [
    "На графике видно сильное изменение в цене между 7 и 8 км: разница составляет почти 10 тысяч. Т.к. средняя цена 8 км выше средней цены 4 км, то ограничим им центральную зону: примем за центральную зону область в радиусе 8 км от центра города."
   ]
  },
  {
   "cell_type": "markdown",
   "metadata": {},
   "source": [
    "### Вывод"
   ]
  },
  {
   "cell_type": "markdown",
   "metadata": {},
   "source": [
    "Выделили квартиры в Санкт-Петербурге и построили график зависимости цены от удалённости квартиры от центра города. Определили центральную зону - область в радиусе 8 км от центра."
   ]
  },
  {
   "cell_type": "markdown",
   "metadata": {},
   "source": [
    "#### Анализ квартир в центре города"
   ]
  },
  {
   "cell_type": "markdown",
   "metadata": {},
   "source": [
    "Выделим сегмент квартир в центре."
   ]
  },
  {
   "cell_type": "code",
   "execution_count": 66,
   "metadata": {},
   "outputs": [
    {
     "data": {
      "text/html": [
       "<div>\n",
       "<style scoped>\n",
       "    .dataframe tbody tr th:only-of-type {\n",
       "        vertical-align: middle;\n",
       "    }\n",
       "\n",
       "    .dataframe tbody tr th {\n",
       "        vertical-align: top;\n",
       "    }\n",
       "\n",
       "    .dataframe thead th {\n",
       "        text-align: right;\n",
       "    }\n",
       "</style>\n",
       "<table border=\"1\" class=\"dataframe\">\n",
       "  <thead>\n",
       "    <tr style=\"text-align: right;\">\n",
       "      <th></th>\n",
       "      <th>total_images</th>\n",
       "      <th>last_price</th>\n",
       "      <th>total_area</th>\n",
       "      <th>first_day_exposition</th>\n",
       "      <th>rooms</th>\n",
       "      <th>ceiling_height</th>\n",
       "      <th>floors_total</th>\n",
       "      <th>living_area</th>\n",
       "      <th>floor</th>\n",
       "      <th>is_apartment</th>\n",
       "      <th>...</th>\n",
       "      <th>ponds_nearest</th>\n",
       "      <th>days_exposition</th>\n",
       "      <th>price</th>\n",
       "      <th>weekday</th>\n",
       "      <th>month</th>\n",
       "      <th>year</th>\n",
       "      <th>floor_group</th>\n",
       "      <th>living_area_rate</th>\n",
       "      <th>kitchen_area_rate</th>\n",
       "      <th>cityCenters_nearest_km</th>\n",
       "    </tr>\n",
       "  </thead>\n",
       "  <tbody>\n",
       "    <tr>\n",
       "      <td>4</td>\n",
       "      <td>2</td>\n",
       "      <td>10.00</td>\n",
       "      <td>100.0</td>\n",
       "      <td>2018-06-19</td>\n",
       "      <td>2</td>\n",
       "      <td>3.030000</td>\n",
       "      <td>14.0</td>\n",
       "      <td>32.0</td>\n",
       "      <td>13</td>\n",
       "      <td>NaN</td>\n",
       "      <td>...</td>\n",
       "      <td>48.0</td>\n",
       "      <td>121.0</td>\n",
       "      <td>100000</td>\n",
       "      <td>1</td>\n",
       "      <td>6</td>\n",
       "      <td>2018</td>\n",
       "      <td>другой</td>\n",
       "      <td>0.320000</td>\n",
       "      <td>0.410000</td>\n",
       "      <td>8</td>\n",
       "    </tr>\n",
       "    <tr>\n",
       "      <td>24</td>\n",
       "      <td>8</td>\n",
       "      <td>6.50</td>\n",
       "      <td>97.2</td>\n",
       "      <td>2015-10-31</td>\n",
       "      <td>2</td>\n",
       "      <td>2.855155</td>\n",
       "      <td>3.0</td>\n",
       "      <td>46.5</td>\n",
       "      <td>1</td>\n",
       "      <td>NaN</td>\n",
       "      <td>...</td>\n",
       "      <td>124.0</td>\n",
       "      <td>265.0</td>\n",
       "      <td>66872</td>\n",
       "      <td>5</td>\n",
       "      <td>10</td>\n",
       "      <td>2015</td>\n",
       "      <td>первый</td>\n",
       "      <td>0.478395</td>\n",
       "      <td>0.201646</td>\n",
       "      <td>2</td>\n",
       "    </tr>\n",
       "    <tr>\n",
       "      <td>35</td>\n",
       "      <td>6</td>\n",
       "      <td>15.50</td>\n",
       "      <td>149.0</td>\n",
       "      <td>2017-06-26</td>\n",
       "      <td>5</td>\n",
       "      <td>2.696740</td>\n",
       "      <td>5.0</td>\n",
       "      <td>104.0</td>\n",
       "      <td>4</td>\n",
       "      <td>NaN</td>\n",
       "      <td>...</td>\n",
       "      <td>779.0</td>\n",
       "      <td>644.0</td>\n",
       "      <td>104026</td>\n",
       "      <td>0</td>\n",
       "      <td>6</td>\n",
       "      <td>2017</td>\n",
       "      <td>другой</td>\n",
       "      <td>0.697987</td>\n",
       "      <td>0.114094</td>\n",
       "      <td>3</td>\n",
       "    </tr>\n",
       "    <tr>\n",
       "      <td>61</td>\n",
       "      <td>18</td>\n",
       "      <td>7.99</td>\n",
       "      <td>74.0</td>\n",
       "      <td>2017-08-24</td>\n",
       "      <td>2</td>\n",
       "      <td>2.927399</td>\n",
       "      <td>4.0</td>\n",
       "      <td>43.0</td>\n",
       "      <td>4</td>\n",
       "      <td>NaN</td>\n",
       "      <td>...</td>\n",
       "      <td>NaN</td>\n",
       "      <td>609.0</td>\n",
       "      <td>107972</td>\n",
       "      <td>3</td>\n",
       "      <td>8</td>\n",
       "      <td>2017</td>\n",
       "      <td>последний</td>\n",
       "      <td>0.581081</td>\n",
       "      <td>0.270270</td>\n",
       "      <td>4</td>\n",
       "    </tr>\n",
       "    <tr>\n",
       "      <td>63</td>\n",
       "      <td>2</td>\n",
       "      <td>20.00</td>\n",
       "      <td>118.0</td>\n",
       "      <td>2018-09-11</td>\n",
       "      <td>3</td>\n",
       "      <td>3.000000</td>\n",
       "      <td>9.0</td>\n",
       "      <td>68.0</td>\n",
       "      <td>7</td>\n",
       "      <td>NaN</td>\n",
       "      <td>...</td>\n",
       "      <td>779.0</td>\n",
       "      <td>37.0</td>\n",
       "      <td>169491</td>\n",
       "      <td>1</td>\n",
       "      <td>9</td>\n",
       "      <td>2018</td>\n",
       "      <td>другой</td>\n",
       "      <td>0.576271</td>\n",
       "      <td>0.135593</td>\n",
       "      <td>4</td>\n",
       "    </tr>\n",
       "  </tbody>\n",
       "</table>\n",
       "<p>5 rows × 30 columns</p>\n",
       "</div>"
      ],
      "text/plain": [
       "    total_images  last_price  total_area first_day_exposition  rooms  \\\n",
       "4              2       10.00       100.0           2018-06-19      2   \n",
       "24             8        6.50        97.2           2015-10-31      2   \n",
       "35             6       15.50       149.0           2017-06-26      5   \n",
       "61            18        7.99        74.0           2017-08-24      2   \n",
       "63             2       20.00       118.0           2018-09-11      3   \n",
       "\n",
       "    ceiling_height  floors_total  living_area  floor is_apartment  ...  \\\n",
       "4         3.030000          14.0         32.0     13          NaN  ...   \n",
       "24        2.855155           3.0         46.5      1          NaN  ...   \n",
       "35        2.696740           5.0        104.0      4          NaN  ...   \n",
       "61        2.927399           4.0         43.0      4          NaN  ...   \n",
       "63        3.000000           9.0         68.0      7          NaN  ...   \n",
       "\n",
       "    ponds_nearest  days_exposition   price  weekday month  year  floor_group  \\\n",
       "4            48.0            121.0  100000        1     6  2018       другой   \n",
       "24          124.0            265.0   66872        5    10  2015       первый   \n",
       "35          779.0            644.0  104026        0     6  2017       другой   \n",
       "61            NaN            609.0  107972        3     8  2017    последний   \n",
       "63          779.0             37.0  169491        1     9  2018       другой   \n",
       "\n",
       "    living_area_rate  kitchen_area_rate  cityCenters_nearest_km  \n",
       "4           0.320000           0.410000                       8  \n",
       "24          0.478395           0.201646                       2  \n",
       "35          0.697987           0.114094                       3  \n",
       "61          0.581081           0.270270                       4  \n",
       "63          0.576271           0.135593                       4  \n",
       "\n",
       "[5 rows x 30 columns]"
      ]
     },
     "execution_count": 66,
     "metadata": {},
     "output_type": "execute_result"
    }
   ],
   "source": [
    "center = spb_data.query('cityCenters_nearest_km < 9')\n",
    "center.head()                    "
   ]
  },
  {
   "cell_type": "markdown",
   "metadata": {},
   "source": [
    "Площадь"
   ]
  },
  {
   "cell_type": "code",
   "execution_count": 67,
   "metadata": {},
   "outputs": [
    {
     "data": {
      "text/plain": [
       "count    2877.000000\n",
       "mean       71.755242\n",
       "std        29.979343\n",
       "min        20.000000\n",
       "25%        47.800000\n",
       "50%        67.400000\n",
       "75%        88.200000\n",
       "max       197.200000\n",
       "Name: total_area, dtype: float64"
      ]
     },
     "execution_count": 67,
     "metadata": {},
     "output_type": "execute_result"
    }
   ],
   "source": [
    "center['total_area'].describe()"
   ]
  },
  {
   "cell_type": "code",
   "execution_count": 68,
   "metadata": {},
   "outputs": [
    {
     "data": {
      "text/plain": [
       "count    18479.000000\n",
       "mean        55.077746\n",
       "std         22.634951\n",
       "min         20.000000\n",
       "25%         39.000000\n",
       "50%         49.700000\n",
       "75%         65.000000\n",
       "max        200.000000\n",
       "Name: total_area, dtype: float64"
      ]
     },
     "execution_count": 68,
     "metadata": {},
     "output_type": "execute_result"
    }
   ],
   "source": [
    "good_data['total_area'].describe()"
   ]
  },
  {
   "cell_type": "code",
   "execution_count": 69,
   "metadata": {},
   "outputs": [
    {
     "data": {
      "image/png": "[encoded data removed]",
      "text/plain": [
       "<Figure size 1080x576 with 1 Axes>"
      ]
     },
     "metadata": {
      "needs_background": "light"
     },
     "output_type": "display_data"
    }
   ],
   "source": [
    "ax = good_data.plot(kind='hist', y='total_area', histtype='step', range=(0, 100), bins=25, linewidth=5, alpha=0.7, label='good_data', grid=True, legend=True, figsize=(15,8), xlim=0)\n",
    "center.plot(kind='hist', y='total_area', histtype='step', range=(0, 100), bins=25, linewidth=5, alpha=0.7, label='center',  ax=ax)\n",
    "plt.title('Площадь, кв.м.')\n",
    "plt.show()"
   ]
  },
  {
   "cell_type": "markdown",
   "metadata": {},
   "source": [
    "Средняя площадь квартиры в центре города выше, чем в целом по городу: 72 и 55 квадратных метра соответственно. В городе площадь большинства продаваемых квартир находится в диапазоне от 30 до 50 квадратных метров, для центральной же зоны нет большой разницы по площади: очень близко количество квартир площадью от 30 до 100 квадратных метра (пик около 50 кв.м. очень низкий)."
   ]
  },
  {
   "cell_type": "markdown",
   "metadata": {},
   "source": [
    "Цена квадратного метра"
   ]
  },
  {
   "cell_type": "code",
   "execution_count": 70,
   "metadata": {},
   "outputs": [
    {
     "data": {
      "text/plain": [
       "count      2877.000000\n",
       "mean     120943.740355\n",
       "std       35509.137146\n",
       "min       15345.000000\n",
       "25%       96289.000000\n",
       "50%      114337.000000\n",
       "75%      138705.000000\n",
       "max      392354.000000\n",
       "Name: price, dtype: float64"
      ]
     },
     "execution_count": 70,
     "metadata": {},
     "output_type": "execute_result"
    }
   ],
   "source": [
    "center['price'].describe()"
   ]
  },
  {
   "cell_type": "code",
   "execution_count": 71,
   "metadata": {},
   "outputs": [
    {
     "data": {
      "text/plain": [
       "count     18479.000000\n",
       "mean      94371.172195\n",
       "std       30727.820361\n",
       "min       10507.000000\n",
       "25%       76213.500000\n",
       "50%       93333.000000\n",
       "75%      110267.000000\n",
       "max      392354.000000\n",
       "Name: price, dtype: float64"
      ]
     },
     "execution_count": 71,
     "metadata": {},
     "output_type": "execute_result"
    }
   ],
   "source": [
    "good_data['price'].describe()"
   ]
  },
  {
   "cell_type": "code",
   "execution_count": 72,
   "metadata": {},
   "outputs": [
    {
     "data": {
      "image/png": "[encoded data removed]",
      "text/plain": [
       "<Figure size 1080x576 with 1 Axes>"
      ]
     },
     "metadata": {
      "needs_background": "light"
     },
     "output_type": "display_data"
    }
   ],
   "source": [
    "ax = good_data.plot(kind='hist', y='price', histtype='step', range=(0, 400000), bins=30, linewidth=5, alpha=0.7, label='good_data', grid=True, legend=True, figsize=(15,8), xlim=0)\n",
    "center.plot(kind='hist', y='price', histtype='step', range=(0, 400000), bins=30, linewidth=5, alpha=0.7, label='center',  ax=ax)\n",
    "plt.title('Цена квадратного метра')\n",
    "plt.show()"
   ]
  },
  {
   "cell_type": "markdown",
   "metadata": {},
   "source": [
    "Цена квадратного метра квартиры в центре города значительно выше, чем в целом по городу: 120944 и 94371 соответственно. На гистограмме видно, что пики обоих графиков находятся около 100000, но для центральной зоны практически нет квартир до 50000. При этом правые части гистограмм после 150000 пересекаются, т.е. большинство самых дорогих квартир находится в центре города."
   ]
  },
  {
   "cell_type": "markdown",
   "metadata": {},
   "source": [
    "Число комнат"
   ]
  },
  {
   "cell_type": "code",
   "execution_count": 73,
   "metadata": {},
   "outputs": [
    {
     "data": {
      "text/plain": [
       "count    2877.000000\n",
       "mean        2.441084\n",
       "std         1.113088\n",
       "min         0.000000\n",
       "25%         2.000000\n",
       "50%         2.000000\n",
       "75%         3.000000\n",
       "max         7.000000\n",
       "Name: rooms, dtype: float64"
      ]
     },
     "execution_count": 73,
     "metadata": {},
     "output_type": "execute_result"
    }
   ],
   "source": [
    "center['rooms'].describe()"
   ]
  },
  {
   "cell_type": "code",
   "execution_count": 74,
   "metadata": {},
   "outputs": [
    {
     "data": {
      "text/plain": [
       "count    18479.000000\n",
       "mean         1.954543\n",
       "std          0.949699\n",
       "min          0.000000\n",
       "25%          1.000000\n",
       "50%          2.000000\n",
       "75%          3.000000\n",
       "max          7.000000\n",
       "Name: rooms, dtype: float64"
      ]
     },
     "execution_count": 74,
     "metadata": {},
     "output_type": "execute_result"
    }
   ],
   "source": [
    "good_data['rooms'].describe()"
   ]
  },
  {
   "cell_type": "code",
   "execution_count": 75,
   "metadata": {},
   "outputs": [
    {
     "data": {
      "image/png": "[encoded data removed]",
      "text/plain": [
       "<Figure size 864x432 with 1 Axes>"
      ]
     },
     "metadata": {
      "needs_background": "light"
     },
     "output_type": "display_data"
    }
   ],
   "source": [
    "ax = good_data.plot(kind='hist', y='rooms', histtype='step', range=(0, 8), bins=8, linewidth=5, alpha=0.7, label='good_data', grid=True, legend=True, figsize=(12,6), xlim=0)\n",
    "center.plot(kind='hist', y='rooms', histtype='step', range=(0, 8), bins=8, linewidth=5, alpha=0.7, label='center',  ax=ax)\n",
    "plt.title('Число комнат')\n",
    "plt.show()"
   ]
  },
  {
   "cell_type": "markdown",
   "metadata": {},
   "source": [
    "Большинство квартир в центре двухкомнатные, в отличии от общегородской популярности однокомнатных квартир. При этом трехкомнатных квартир даже больше, чем однокомнатных. Большинство квартир с количеством комнат больше 5 находятся в центре города."
   ]
  },
  {
   "cell_type": "markdown",
   "metadata": {},
   "source": [
    "Высота потолков"
   ]
  },
  {
   "cell_type": "code",
   "execution_count": 76,
   "metadata": {},
   "outputs": [
    {
     "data": {
      "text/plain": [
       "count    2877.000000\n",
       "mean        2.897263\n",
       "std         0.271450\n",
       "min         2.400000\n",
       "25%         2.696740\n",
       "50%         2.840826\n",
       "75%         3.049818\n",
       "max         3.800000\n",
       "Name: ceiling_height, dtype: float64"
      ]
     },
     "execution_count": 76,
     "metadata": {},
     "output_type": "execute_result"
    }
   ],
   "source": [
    "center['ceiling_height'].describe()"
   ]
  },
  {
   "cell_type": "code",
   "execution_count": 77,
   "metadata": {},
   "outputs": [
    {
     "data": {
      "text/plain": [
       "count    18479.000000\n",
       "mean         2.704034\n",
       "std          0.183458\n",
       "min          2.400000\n",
       "25%          2.580204\n",
       "50%          2.696740\n",
       "75%          2.750000\n",
       "max          3.800000\n",
       "Name: ceiling_height, dtype: float64"
      ]
     },
     "execution_count": 77,
     "metadata": {},
     "output_type": "execute_result"
    }
   ],
   "source": [
    "good_data['ceiling_height'].describe()"
   ]
  },
  {
   "cell_type": "code",
   "execution_count": 78,
   "metadata": {},
   "outputs": [
    {
     "data": {
      "image/png": "[encoded data removed]",
      "text/plain": [
       "<Figure size 864x432 with 1 Axes>"
      ]
     },
     "metadata": {
      "needs_background": "light"
     },
     "output_type": "display_data"
    }
   ],
   "source": [
    "ax = good_data.plot(kind='hist', y='ceiling_height', histtype='step', range=(0, 4), bins=8, linewidth=5, alpha=0.7, label='good_data', grid=True, legend=True, figsize=(12,6), xlim=0)\n",
    "center.plot(kind='hist', y='ceiling_height', histtype='step', range=(0, 4), bins=8, linewidth=5, alpha=0.7, label='center',  ax=ax)\n",
    "plt.title('Высота потолков, м.')\n",
    "plt.show()"
   ]
  },
  {
   "cell_type": "markdown",
   "metadata": {},
   "source": [
    "Среднее значение высотры потолков в центре выше, чем в целом по городу: 2,9 и 2,7 соответственно. Большинство квартир с высокими потолками находятся в центре города."
   ]
  },
  {
   "cell_type": "markdown",
   "metadata": {},
   "source": [
    "Выделим факторы, которые влияют на стоимость квартиры (число комнат, этаж, удалённость от центра, дата размещения объявления)."
   ]
  },
  {
   "cell_type": "markdown",
   "metadata": {},
   "source": [
    "Число комнат"
   ]
  },
  {
   "cell_type": "code",
   "execution_count": 79,
   "metadata": {},
   "outputs": [
    {
     "data": {
      "image/png": "[encoded data removed]",
      "text/plain": [
       "<Figure size 576x432 with 2 Axes>"
      ]
     },
     "metadata": {
      "needs_background": "light"
     },
     "output_type": "display_data"
    }
   ],
   "source": [
    "good_data.plot(x='rooms', y='price', kind='hexbin', gridsize=20, figsize=(8, 6), sharex=False, grid=True)\n",
    "plt.title('Зависимость цены от числа комнат для всех населенных пунктов')\n",
    "plt.show()"
   ]
  },
  {
   "cell_type": "code",
   "execution_count": 80,
   "metadata": {},
   "outputs": [
    {
     "data": {
      "image/png": "[encoded data removed]",
      "text/plain": [
       "<Figure size 576x432 with 2 Axes>"
      ]
     },
     "metadata": {
      "needs_background": "light"
     },
     "output_type": "display_data"
    }
   ],
   "source": [
    "center.plot(x='rooms', y='price', kind='hexbin', gridsize=20, figsize=(8, 6), sharex=False, grid=True)\n",
    "plt.title('Зависимость цены от числа комнат для центальной зоны Санкт-Петербурга')\n",
    "plt.show()"
   ]
  },
  {
   "cell_type": "code",
   "execution_count": 81,
   "metadata": {},
   "outputs": [
    {
     "data": {
      "text/plain": [
       "-0.3396408946054971"
      ]
     },
     "execution_count": 81,
     "metadata": {},
     "output_type": "execute_result"
    }
   ],
   "source": [
    "center['price'].corr(center['rooms'])"
   ]
  },
  {
   "cell_type": "markdown",
   "metadata": {},
   "source": [
    "Коэффициент корреляции для количества комнат и цены для всех таблицы  -0.14, при этом в центре города он составляет -0,34. Можно говорить, что при увеличении числа комнат в квартире, находящейся в центре города, цена квадратного метра квартиры уменьшается."
   ]
  },
  {
   "cell_type": "markdown",
   "metadata": {},
   "source": [
    "Этаж"
   ]
  },
  {
   "cell_type": "code",
   "execution_count": 82,
   "metadata": {},
   "outputs": [
    {
     "data": {
      "text/html": [
       "<div>\n",
       "<style scoped>\n",
       "    .dataframe tbody tr th:only-of-type {\n",
       "        vertical-align: middle;\n",
       "    }\n",
       "\n",
       "    .dataframe tbody tr th {\n",
       "        vertical-align: top;\n",
       "    }\n",
       "\n",
       "    .dataframe thead th {\n",
       "        text-align: right;\n",
       "    }\n",
       "</style>\n",
       "<table border=\"1\" class=\"dataframe\">\n",
       "  <thead>\n",
       "    <tr style=\"text-align: right;\">\n",
       "      <th></th>\n",
       "      <th>mean</th>\n",
       "      <th>median</th>\n",
       "      <th>count</th>\n",
       "    </tr>\n",
       "    <tr>\n",
       "      <th>floor_group</th>\n",
       "      <th></th>\n",
       "      <th></th>\n",
       "      <th></th>\n",
       "    </tr>\n",
       "  </thead>\n",
       "  <tbody>\n",
       "    <tr>\n",
       "      <td>другой</td>\n",
       "      <td>97844.779206</td>\n",
       "      <td>96363.0</td>\n",
       "      <td>13773</td>\n",
       "    </tr>\n",
       "    <tr>\n",
       "      <td>первый</td>\n",
       "      <td>80366.902428</td>\n",
       "      <td>80448.5</td>\n",
       "      <td>2224</td>\n",
       "    </tr>\n",
       "    <tr>\n",
       "      <td>последний</td>\n",
       "      <td>87644.140210</td>\n",
       "      <td>87111.0</td>\n",
       "      <td>2482</td>\n",
       "    </tr>\n",
       "  </tbody>\n",
       "</table>\n",
       "</div>"
      ],
      "text/plain": [
       "                     mean   median  count\n",
       "floor_group                              \n",
       "другой       97844.779206  96363.0  13773\n",
       "первый       80366.902428  80448.5   2224\n",
       "последний    87644.140210  87111.0   2482"
      ]
     },
     "execution_count": 82,
     "metadata": {},
     "output_type": "execute_result"
    }
   ],
   "source": [
    "good_data.groupby(['floor_group'])['price'].agg(['mean','median', 'count'])"
   ]
  },
  {
   "cell_type": "code",
   "execution_count": 83,
   "metadata": {},
   "outputs": [
    {
     "data": {
      "text/html": [
       "<div>\n",
       "<style scoped>\n",
       "    .dataframe tbody tr th:only-of-type {\n",
       "        vertical-align: middle;\n",
       "    }\n",
       "\n",
       "    .dataframe tbody tr th {\n",
       "        vertical-align: top;\n",
       "    }\n",
       "\n",
       "    .dataframe thead th {\n",
       "        text-align: right;\n",
       "    }\n",
       "</style>\n",
       "<table border=\"1\" class=\"dataframe\">\n",
       "  <thead>\n",
       "    <tr style=\"text-align: right;\">\n",
       "      <th></th>\n",
       "      <th>mean</th>\n",
       "      <th>median</th>\n",
       "      <th>count</th>\n",
       "    </tr>\n",
       "    <tr>\n",
       "      <th>floor_group</th>\n",
       "      <th></th>\n",
       "      <th></th>\n",
       "      <th></th>\n",
       "    </tr>\n",
       "  </thead>\n",
       "  <tbody>\n",
       "    <tr>\n",
       "      <td>другой</td>\n",
       "      <td>123839.920735</td>\n",
       "      <td>119047</td>\n",
       "      <td>2069</td>\n",
       "    </tr>\n",
       "    <tr>\n",
       "      <td>первый</td>\n",
       "      <td>109281.272997</td>\n",
       "      <td>102500</td>\n",
       "      <td>337</td>\n",
       "    </tr>\n",
       "    <tr>\n",
       "      <td>последний</td>\n",
       "      <td>116565.936306</td>\n",
       "      <td>108436</td>\n",
       "      <td>471</td>\n",
       "    </tr>\n",
       "  </tbody>\n",
       "</table>\n",
       "</div>"
      ],
      "text/plain": [
       "                      mean  median  count\n",
       "floor_group                              \n",
       "другой       123839.920735  119047   2069\n",
       "первый       109281.272997  102500    337\n",
       "последний    116565.936306  108436    471"
      ]
     },
     "execution_count": 83,
     "metadata": {},
     "output_type": "execute_result"
    }
   ],
   "source": [
    "center.groupby(['floor_group'])['price'].agg(['mean','median', 'count'])"
   ]
  },
  {
   "cell_type": "markdown",
   "metadata": {},
   "source": [
    "Для квартир в центральной зоне также как и для всех квартир свойственно следующее: самые дешевые квартиры на первом этаже, на втором месте по цене - квартиры на последнем этаже, самые дорогие - на других этажах. "
   ]
  },
  {
   "cell_type": "markdown",
   "metadata": {},
   "source": [
    "Удалённость от центра"
   ]
  },
  {
   "cell_type": "code",
   "execution_count": 84,
   "metadata": {},
   "outputs": [
    {
     "data": {
      "text/plain": [
       "-0.026231176763780548"
      ]
     },
     "execution_count": 84,
     "metadata": {},
     "output_type": "execute_result"
    }
   ],
   "source": [
    "center['price'].corr(center['cityCenters_nearest'])"
   ]
  },
  {
   "cell_type": "code",
   "execution_count": 85,
   "metadata": {},
   "outputs": [
    {
     "data": {
      "text/plain": [
       "-0.026231176763780548"
      ]
     },
     "execution_count": 85,
     "metadata": {},
     "output_type": "execute_result"
    }
   ],
   "source": [
    "good_data['price'].corr(center['cityCenters_nearest'])"
   ]
  },
  {
   "cell_type": "markdown",
   "metadata": {},
   "source": [
    "Коэффициент корреляции удаленности от центра и цены на квадратный метр не изменился."
   ]
  },
  {
   "cell_type": "markdown",
   "metadata": {},
   "source": [
    "Дата размещения объявления"
   ]
  },
  {
   "cell_type": "code",
   "execution_count": 86,
   "metadata": {},
   "outputs": [
    {
     "data": {
      "image/png": "[encoded data removed]",
      "text/plain": [
       "<Figure size 720x720 with 16 Axes>"
      ]
     },
     "metadata": {
      "needs_background": "light"
     },
     "output_type": "display_data"
    }
   ],
   "source": [
    "pd.plotting.scatter_matrix(center[['price', 'weekday', 'month', 'year']], figsize=(10, 10))\n",
    "plt.show()"
   ]
  },
  {
   "cell_type": "code",
   "execution_count": 87,
   "metadata": {},
   "outputs": [
    {
     "data": {
      "text/html": [
       "<div>\n",
       "<style scoped>\n",
       "    .dataframe tbody tr th:only-of-type {\n",
       "        vertical-align: middle;\n",
       "    }\n",
       "\n",
       "    .dataframe tbody tr th {\n",
       "        vertical-align: top;\n",
       "    }\n",
       "\n",
       "    .dataframe thead th {\n",
       "        text-align: right;\n",
       "    }\n",
       "</style>\n",
       "<table border=\"1\" class=\"dataframe\">\n",
       "  <thead>\n",
       "    <tr style=\"text-align: right;\">\n",
       "      <th></th>\n",
       "      <th>price</th>\n",
       "    </tr>\n",
       "  </thead>\n",
       "  <tbody>\n",
       "    <tr>\n",
       "      <td>price</td>\n",
       "      <td>1.000000</td>\n",
       "    </tr>\n",
       "    <tr>\n",
       "      <td>weekday</td>\n",
       "      <td>0.007448</td>\n",
       "    </tr>\n",
       "    <tr>\n",
       "      <td>month</td>\n",
       "      <td>-0.009587</td>\n",
       "    </tr>\n",
       "    <tr>\n",
       "      <td>year</td>\n",
       "      <td>0.088403</td>\n",
       "    </tr>\n",
       "  </tbody>\n",
       "</table>\n",
       "</div>"
      ],
      "text/plain": [
       "            price\n",
       "price    1.000000\n",
       "weekday  0.007448\n",
       "month   -0.009587\n",
       "year     0.088403"
      ]
     },
     "execution_count": 87,
     "metadata": {},
     "output_type": "execute_result"
    }
   ],
   "source": [
    "center[['price', 'weekday', 'month', 'year']].corr()[['price']]"
   ]
  },
  {
   "cell_type": "markdown",
   "metadata": {},
   "source": [
    "Цена квадратного метра не зависит от даты размещения объявления."
   ]
  },
  {
   "cell_type": "markdown",
   "metadata": {},
   "source": [
    "### Вывод"
   ]
  },
  {
   "cell_type": "markdown",
   "metadata": {},
   "source": [
    "Квартиры в центре города значительно дороже и больше по площади, чем в целом по городу. Квартиры с площадью 50 кв.м. встречаются также же часто как и с 80 кв.м., чего не скажешь об общих данных: там явно распространены маленькие квартиры с площадью от 30 до 50 кв.м. По числу комнат квартиры в центре также превышают показатели общие. То же самое можно сказать о высоте потолков. К тому же большинство квартир с количеством комнат больше 5 находятся в центре города. Это может быть обусловлено особенностями застройки исторической части города: квартиры старого фонда, сталинки. К тому же жизнь в центре города всегда дороже, чем на окраине.  \n",
    "\n",
    "На стоимость квадратного метра больше всего влияет удаленность от центра города и то, на каком этаже расположена квартира: первом, последнем или другом. В отличии от общих данных, на стоимость квадратного метра влияет количество комнат: при увеличении числа комнат в квартире, находящейся в центре города, цена квадратного метра квартиры уменьшается."
   ]
  },
  {
   "cell_type": "markdown",
   "metadata": {},
   "source": [
    "### Шаг 5. Общий вывод"
   ]
  },
  {
   "cell_type": "markdown",
   "metadata": {},
   "source": [
    "Средняя квартира в продаже имеет следующие характеристики: двухкомнатная квартира площадью 53 кв.м., с высотой потолков 2,7 метров, проданная по цене 4,65 миллионов. Для центра Санкт-Петербурга средние показатели выше: двухкомнатная квартира площадью 67,4 кв.м., с высотой потолков 2,84 метров, проданная по цене 7.6 миллионов.   \n",
    "\n",
    "Чаще всего продажа квартиры занимает - 95 дней. При этом больше 500 дней - необычно долгие продажи, до 5 - очень быстрые. \n",
    "\n",
    "На стоимость квадратного метра больше всего влияет удаленность от центра города и то, на каком этаже расположена квартира: первом, последнем или другом. Чем дальше квартира от центра, тем меньше ее стоимость: коэффициент корреляции -0,36.\n",
    "Квартиры на первом этаже самые дешевые, на втором месте по стоимости - квартиры на последнем этаже, самые дорогие - на других этажах.  \n",
    "\n",
    "Самое большое количество объявлений и самая большая средняя стоимость квадратного метра относится к Санкт-Петербургу. На втором месте - город Пушкин. В Санкт-Петербурге располагаются самые дорогие и одни из самых дешевых квартир. Это говорит об очень широком диапазоне цен в данном городе, который зависит от удаленности квартиры от центра города.   \n",
    "\n",
    "Для квартир в центральной зоне также как и для всех квартир свойственно следующее: самые дешевые квартиры на первом этаже, на втором месте по цене - квартиры на последнем этаже, самые дорогие - на других этажах. Отличие составляет, то что при увеличении числа комнат в квартире, находящейся в центре города, цена квадратного метра квартиры уменьшается. Коэффициент корреляции этих значений для центра города значительнее, чем для всех населенных пунктов.\n",
    "\n",
    "Вопросы для работы в команде: возможность установления значения по умолчанию количество балконов = 0 при ручном заполнении объявления; появление пропусков в столбце *locality_name* и в столбцах, данные которых получены автоматически на основе картографических данных; решение проблемы с разными наименованиями населенных пунктов. "
   ]
  }
 ],
 "metadata": {
  "kernelspec": {
   "display_name": "Python 3",
   "language": "python",
   "name": "python3"
  },
  "language_info": {
   "codemirror_mode": {
    "name": "ipython",
    "version": 3
   },
   "file_extension": ".py",
   "mimetype": "text/x-python",
   "name": "python",
   "nbconvert_exporter": "python",
   "pygments_lexer": "ipython3",
   "version": "3.8.5"
  },
  "toc": {
   "base_numbering": 1,
   "nav_menu": {},
   "number_sections": true,
   "sideBar": true,
   "skip_h1_title": true,
   "title_cell": "Table of Contents",
   "title_sidebar": "Contents",
   "toc_cell": false,
   "toc_position": {},
   "toc_section_display": true,
   "toc_window_display": false
  }
 },
 "nbformat": 4,
 "nbformat_minor": 2
}
